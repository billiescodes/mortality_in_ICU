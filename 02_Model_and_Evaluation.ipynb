{
 "cells": [
  {
   "cell_type": "code",
   "execution_count": 1,
   "metadata": {
    "collapsed": true,
    "deletable": true,
    "editable": true
   },
   "outputs": [],
   "source": [
    "from __future__ import print_function, division"
   ]
  },
  {
   "cell_type": "code",
   "execution_count": 2,
   "metadata": {
    "collapsed": true,
    "deletable": true,
    "editable": true
   },
   "outputs": [],
   "source": [
    "\n",
    "import numpy as np\n",
    "import pandas as pd\n",
    "import matplotlib.pyplot as plt\n",
    "%matplotlib inline\n",
    "import seaborn as sns\n",
    "\n",
    "import timeit\n",
    "#from sklearn.cross_validation import train_test_split"
   ]
  },
  {
   "cell_type": "code",
   "execution_count": 3,
   "metadata": {
    "collapsed": true,
    "deletable": true,
    "editable": true
   },
   "outputs": [],
   "source": [
    "from sklearn.model_selection import train_test_split\n",
    "#from sklearn.cross_validation import train_test_split\n",
    "\n",
    "from sklearn.linear_model import LogisticRegression\n",
    "\n",
    "from sklearn.metrics import log_loss\n",
    "from sklearn.metrics import accuracy_score\n",
    "from sklearn.metrics import precision_score\n",
    "from sklearn.metrics import recall_score\n",
    "from sklearn.metrics import f1_score\n",
    "\n",
    "from sklearn.metrics import confusion_matrix"
   ]
  },
  {
   "cell_type": "markdown",
   "metadata": {
    "deletable": true,
    "editable": true
   },
   "source": [
    "# Build Models from icd9-code features created using Likelihood model\n",
    "\n",
    "\n",
    "This notebook uses the data : **data tables** : new_alive, new_icd9\n",
    "\n",
    "\n",
    "\\\\[\\frac{P(death | icd9 =x) }{P(survival | icd9 =x)} = prior* \\frac{ P(icd9 = x | death) }{P(icd9 = x | survival)} \\\\]\n",
    "\n",
    "\\\\[  = prior* \\frac{ \\frac{count Deaths}{All Deaths}} {\\frac{count Survival}{All Survival}} \\\\]\n",
    "\n"
   ]
  },
  {
   "cell_type": "code",
   "execution_count": 237,
   "metadata": {
    "collapsed": false,
    "deletable": true,
    "editable": true
   },
   "outputs": [],
   "source": [
    "# download the dataframe for modeling\n",
    "df = pd.read_csv('mimic_data/data_model1.csv')\n",
    "\n",
    "#downoald the diagnoses_key \n",
    "diagnoses_key = pd.read_csv('mimic_data/diagnoses_key.csv')"
   ]
  },
  {
   "cell_type": "code",
   "execution_count": 5,
   "metadata": {
    "collapsed": false,
    "deletable": true,
    "editable": true
   },
   "outputs": [
    {
     "data": {
      "text/html": [
       "<div>\n",
       "<style scoped>\n",
       "    .dataframe tbody tr th:only-of-type {\n",
       "        vertical-align: middle;\n",
       "    }\n",
       "\n",
       "    .dataframe tbody tr th {\n",
       "        vertical-align: top;\n",
       "    }\n",
       "\n",
       "    .dataframe thead th {\n",
       "        text-align: right;\n",
       "    }\n",
       "</style>\n",
       "<table border=\"1\" class=\"dataframe\">\n",
       "  <thead>\n",
       "    <tr style=\"text-align: right;\">\n",
       "      <th></th>\n",
       "      <th>hadm_id</th>\n",
       "      <th>subject_id</th>\n",
       "      <th>expire_flag</th>\n",
       "      <th>gender</th>\n",
       "      <th>admission_type</th>\n",
       "      <th>diagnosis</th>\n",
       "      <th>age</th>\n",
       "      <th>07031</th>\n",
       "      <th>07041</th>\n",
       "      <th>1481</th>\n",
       "      <th>...</th>\n",
       "      <th>85205</th>\n",
       "      <th>85225</th>\n",
       "      <th>9878</th>\n",
       "      <th>99685</th>\n",
       "      <th>99688</th>\n",
       "      <th>E9278</th>\n",
       "      <th>V1062</th>\n",
       "      <th>V143</th>\n",
       "      <th>V4578</th>\n",
       "      <th>V568</th>\n",
       "    </tr>\n",
       "  </thead>\n",
       "  <tbody>\n",
       "    <tr>\n",
       "      <th>0</th>\n",
       "      <td>121205</td>\n",
       "      <td>91</td>\n",
       "      <td>1</td>\n",
       "      <td>F</td>\n",
       "      <td>EMERGENCY</td>\n",
       "      <td>FEVER</td>\n",
       "      <td>81.0</td>\n",
       "      <td>0.0</td>\n",
       "      <td>0.0</td>\n",
       "      <td>0.0</td>\n",
       "      <td>...</td>\n",
       "      <td>0.0</td>\n",
       "      <td>0.0</td>\n",
       "      <td>0.0</td>\n",
       "      <td>0.0</td>\n",
       "      <td>0.0</td>\n",
       "      <td>0.0</td>\n",
       "      <td>0.0</td>\n",
       "      <td>0.0</td>\n",
       "      <td>0.0</td>\n",
       "      <td>0.0</td>\n",
       "    </tr>\n",
       "    <tr>\n",
       "      <th>1</th>\n",
       "      <td>183686</td>\n",
       "      <td>94</td>\n",
       "      <td>1</td>\n",
       "      <td>M</td>\n",
       "      <td>EMERGENCY</td>\n",
       "      <td>SEPSIS</td>\n",
       "      <td>74.0</td>\n",
       "      <td>0.0</td>\n",
       "      <td>0.0</td>\n",
       "      <td>0.0</td>\n",
       "      <td>...</td>\n",
       "      <td>0.0</td>\n",
       "      <td>0.0</td>\n",
       "      <td>0.0</td>\n",
       "      <td>0.0</td>\n",
       "      <td>0.0</td>\n",
       "      <td>0.0</td>\n",
       "      <td>0.0</td>\n",
       "      <td>0.0</td>\n",
       "      <td>0.0</td>\n",
       "      <td>0.0</td>\n",
       "    </tr>\n",
       "    <tr>\n",
       "      <th>2</th>\n",
       "      <td>140037</td>\n",
       "      <td>94</td>\n",
       "      <td>1</td>\n",
       "      <td>M</td>\n",
       "      <td>EMERGENCY</td>\n",
       "      <td>PNEUMONIA</td>\n",
       "      <td>74.0</td>\n",
       "      <td>0.0</td>\n",
       "      <td>0.0</td>\n",
       "      <td>0.0</td>\n",
       "      <td>...</td>\n",
       "      <td>0.0</td>\n",
       "      <td>0.0</td>\n",
       "      <td>0.0</td>\n",
       "      <td>0.0</td>\n",
       "      <td>0.0</td>\n",
       "      <td>0.0</td>\n",
       "      <td>0.0</td>\n",
       "      <td>0.0</td>\n",
       "      <td>0.0</td>\n",
       "      <td>0.0</td>\n",
       "    </tr>\n",
       "  </tbody>\n",
       "</table>\n",
       "<p>3 rows × 54 columns</p>\n",
       "</div>"
      ],
      "text/plain": [
       "   hadm_id  subject_id  expire_flag gender admission_type  diagnosis   age  \\\n",
       "0   121205          91            1      F      EMERGENCY      FEVER  81.0   \n",
       "1   183686          94            1      M      EMERGENCY     SEPSIS  74.0   \n",
       "2   140037          94            1      M      EMERGENCY  PNEUMONIA  74.0   \n",
       "\n",
       "   07031  07041  1481  ...   85205  85225  9878  99685  99688  E9278  V1062  \\\n",
       "0    0.0    0.0   0.0  ...     0.0    0.0   0.0    0.0    0.0    0.0    0.0   \n",
       "1    0.0    0.0   0.0  ...     0.0    0.0   0.0    0.0    0.0    0.0    0.0   \n",
       "2    0.0    0.0   0.0  ...     0.0    0.0   0.0    0.0    0.0    0.0    0.0   \n",
       "\n",
       "   V143  V4578  V568  \n",
       "0   0.0    0.0   0.0  \n",
       "1   0.0    0.0   0.0  \n",
       "2   0.0    0.0   0.0  \n",
       "\n",
       "[3 rows x 54 columns]"
      ]
     },
     "execution_count": 5,
     "metadata": {},
     "output_type": "execute_result"
    }
   ],
   "source": [
    "df[:3]"
   ]
  },
  {
   "cell_type": "code",
   "execution_count": 6,
   "metadata": {
    "collapsed": false,
    "deletable": true,
    "editable": true
   },
   "outputs": [
    {
     "data": {
      "text/plain": [
       "array(['EMERGENCY', 'ELECTIVE', 'URGENT', 'NEWBORN'], dtype=object)"
      ]
     },
     "execution_count": 6,
     "metadata": {},
     "output_type": "execute_result"
    }
   ],
   "source": [
    "df.admission_type.unique()"
   ]
  },
  {
   "cell_type": "code",
   "execution_count": 7,
   "metadata": {
    "collapsed": true,
    "deletable": true,
    "editable": true
   },
   "outputs": [],
   "source": [
    "df.dropna(inplace=True)"
   ]
  },
  {
   "cell_type": "markdown",
   "metadata": {
    "deletable": true,
    "editable": true
   },
   "source": [
    "Do I have any variables where I have not enough data points? For instance, maybe fore one or two diagnoses maybe I only have 2 cases, is that enough to establish odds of survival? \n",
    "\n",
    "- Count the number of 1's or instances/occurances, of each diagnosis\n",
    "- Count the number of rows with Expire/not flag"
   ]
  },
  {
   "cell_type": "code",
   "execution_count": 8,
   "metadata": {
    "collapsed": false,
    "deletable": true,
    "editable": true
   },
   "outputs": [],
   "source": [
    "exclude = ['hadm_id', 'subject_id', 'expire_flag', 'gender', 'admission_type',\n",
    "       'diagnosis', 'age']\n",
    "diagnosis_codes = df.columns.tolist()\n",
    "diagnosis_codes\n",
    "#diagnosis_codes.remove('hadm_id','age')\n",
    "\n",
    "diagnosis_codes = [x for x in diagnosis_codes if x not in exclude]"
   ]
  },
  {
   "cell_type": "code",
   "execution_count": 9,
   "metadata": {
    "collapsed": false,
    "deletable": true,
    "editable": true
   },
   "outputs": [
    {
     "data": {
      "text/plain": [
       "47"
      ]
     },
     "execution_count": 9,
     "metadata": {},
     "output_type": "execute_result"
    }
   ],
   "source": [
    "len(diagnosis_codes)"
   ]
  },
  {
   "cell_type": "code",
   "execution_count": 15,
   "metadata": {
    "collapsed": false,
    "deletable": true,
    "editable": true
   },
   "outputs": [
    {
     "data": {
      "text/plain": [
       "['07031', '07041']"
      ]
     },
     "execution_count": 15,
     "metadata": {},
     "output_type": "execute_result"
    }
   ],
   "source": [
    "diagnosis_codes[:2]"
   ]
  },
  {
   "cell_type": "markdown",
   "metadata": {
    "deletable": true,
    "editable": true
   },
   "source": [
    "## Understanding diagnosis codes\n",
    "There are 47 diagnosis codes, and the model is built and tested on these 47;\n",
    "\n",
    "Furthermore the counts of fatal cases are at least 11 for each of these codes; Codes with fewer than 11 cases have been exlcuded previously in the EDA notebook \n"
   ]
  },
  {
   "cell_type": "code",
   "execution_count": 56,
   "metadata": {
    "collapsed": false
   },
   "outputs": [],
   "source": [
    "#df.loc[(df['07031'].nonzero()) & \n",
    "#df.loc[(df['expire_flag']==1) ]\n",
    "\"\"\" use query: find nonzero values AND expire flag\n",
    "\"\"\"\n",
    "#df.query('expire_flag==1 and df['07031'].nonzero()')\n",
    "a = df.loc[(df['07031'].nonzero() )]#) and (df.expire_flag ==1)]\n",
    "#df.loc[(df['expire_flag']==1) ]"
   ]
  },
  {
   "cell_type": "code",
   "execution_count": 109,
   "metadata": {
    "collapsed": false
   },
   "outputs": [
    {
     "data": {
      "text/plain": [
       "1"
      ]
     },
     "execution_count": 109,
     "metadata": {},
     "output_type": "execute_result"
    }
   ],
   "source": [
    "#df.loc[(df['07031']==1.0) & (df['expire_flag']==0)]\n",
    "df.loc[(df['07031']==1.0) & (df['expire_flag']==0)]['hadm_id'].count()"
   ]
  },
  {
   "cell_type": "code",
   "execution_count": 92,
   "metadata": {
    "collapsed": false
   },
   "outputs": [],
   "source": [
    "#df.loc[(df['07031']==1.0)]\n",
    "### RETURNS: 18 rows × 54 columns"
   ]
  },
  {
   "cell_type": "code",
   "execution_count": 71,
   "metadata": {
    "collapsed": false
   },
   "outputs": [
    {
     "data": {
      "text/plain": [
       "58931"
      ]
     },
     "execution_count": 71,
     "metadata": {},
     "output_type": "execute_result"
    }
   ],
   "source": [
    "df.loc[df['07031']==0.0]['hadm_id'].count()"
   ]
  },
  {
   "cell_type": "code",
   "execution_count": 112,
   "metadata": {
    "collapsed": false,
    "deletable": true,
    "editable": true
   },
   "outputs": [],
   "source": [
    "fatal_cases = []\n",
    "nonfatal = []\n",
    "for a in diagnosis_codes:\n",
    "    # this should be JUST numer of occurances \n",
    "    # Fatal\n",
    "    count_f = df.loc[(df[a]==1.0) & (df['expire_flag']==1)]['hadm_id'].count()\n",
    "    fatal_cases.append(count_f)\n",
    "    # NONfatal\n",
    "    count_nf = df.loc[(df[a]==1.0) & (df['expire_flag']==0)]['hadm_id'].count()\n",
    "    nonfatal.append(count_nf)\n",
    " \n"
   ]
  },
  {
   "cell_type": "code",
   "execution_count": 115,
   "metadata": {
    "collapsed": false
   },
   "outputs": [],
   "source": [
    "#list(zip(fatal_cases, nonfatal))"
   ]
  },
  {
   "cell_type": "code",
   "execution_count": 116,
   "metadata": {
    "collapsed": false,
    "deletable": true,
    "editable": true
   },
   "outputs": [],
   "source": [
    "df_count = pd.DataFrame(list(zip(fatal_cases,nonfatal)),\n",
    "                        index=diagnosis_codes, columns=['count_fatal', 'nonfatal'])"
   ]
  },
  {
   "cell_type": "code",
   "execution_count": 121,
   "metadata": {
    "collapsed": false
   },
   "outputs": [
    {
     "data": {
      "text/html": [
       "<div>\n",
       "<style scoped>\n",
       "    .dataframe tbody tr th:only-of-type {\n",
       "        vertical-align: middle;\n",
       "    }\n",
       "\n",
       "    .dataframe tbody tr th {\n",
       "        vertical-align: top;\n",
       "    }\n",
       "\n",
       "    .dataframe thead th {\n",
       "        text-align: right;\n",
       "    }\n",
       "</style>\n",
       "<table border=\"1\" class=\"dataframe\">\n",
       "  <thead>\n",
       "    <tr style=\"text-align: right;\">\n",
       "      <th></th>\n",
       "      <th>count_fatal</th>\n",
       "      <th>nonfatal</th>\n",
       "    </tr>\n",
       "  </thead>\n",
       "  <tbody>\n",
       "    <tr>\n",
       "      <th>1972</th>\n",
       "      <td>275</td>\n",
       "      <td>14</td>\n",
       "    </tr>\n",
       "    <tr>\n",
       "      <th>51181</th>\n",
       "      <td>163</td>\n",
       "      <td>16</td>\n",
       "    </tr>\n",
       "    <tr>\n",
       "      <th>99685</th>\n",
       "      <td>160</td>\n",
       "      <td>24</td>\n",
       "    </tr>\n",
       "    <tr>\n",
       "      <th>1984</th>\n",
       "      <td>119</td>\n",
       "      <td>9</td>\n",
       "    </tr>\n",
       "    <tr>\n",
       "      <th>485</th>\n",
       "      <td>95</td>\n",
       "      <td>7</td>\n",
       "    </tr>\n",
       "    <tr>\n",
       "      <th>20510</th>\n",
       "      <td>90</td>\n",
       "      <td>10</td>\n",
       "    </tr>\n",
       "    <tr>\n",
       "      <th>58281</th>\n",
       "      <td>84</td>\n",
       "      <td>37</td>\n",
       "    </tr>\n",
       "    <tr>\n",
       "      <th>1971</th>\n",
       "      <td>77</td>\n",
       "      <td>5</td>\n",
       "    </tr>\n",
       "    <tr>\n",
       "      <th>85225</th>\n",
       "      <td>49</td>\n",
       "      <td>2</td>\n",
       "    </tr>\n",
       "    <tr>\n",
       "      <th>V4578</th>\n",
       "      <td>43</td>\n",
       "      <td>6</td>\n",
       "    </tr>\n",
       "    <tr>\n",
       "      <th>85205</th>\n",
       "      <td>42</td>\n",
       "      <td>3</td>\n",
       "    </tr>\n",
       "    <tr>\n",
       "      <th>37900</th>\n",
       "      <td>39</td>\n",
       "      <td>3</td>\n",
       "    </tr>\n",
       "    <tr>\n",
       "      <th>36001</th>\n",
       "      <td>37</td>\n",
       "      <td>3</td>\n",
       "    </tr>\n",
       "    <tr>\n",
       "      <th>3643</th>\n",
       "      <td>35</td>\n",
       "      <td>9</td>\n",
       "    </tr>\n",
       "    <tr>\n",
       "      <th>36400</th>\n",
       "      <td>34</td>\n",
       "      <td>1</td>\n",
       "    </tr>\n",
       "    <tr>\n",
       "      <th>36019</th>\n",
       "      <td>34</td>\n",
       "      <td>1</td>\n",
       "    </tr>\n",
       "    <tr>\n",
       "      <th>1560</th>\n",
       "      <td>32</td>\n",
       "      <td>1</td>\n",
       "    </tr>\n",
       "    <tr>\n",
       "      <th>5581</th>\n",
       "      <td>30</td>\n",
       "      <td>3</td>\n",
       "    </tr>\n",
       "    <tr>\n",
       "      <th>3581</th>\n",
       "      <td>28</td>\n",
       "      <td>2</td>\n",
       "    </tr>\n",
       "    <tr>\n",
       "      <th>07041</th>\n",
       "      <td>27</td>\n",
       "      <td>2</td>\n",
       "    </tr>\n",
       "    <tr>\n",
       "      <th>E9278</th>\n",
       "      <td>25</td>\n",
       "      <td>2</td>\n",
       "    </tr>\n",
       "    <tr>\n",
       "      <th>25023</th>\n",
       "      <td>25</td>\n",
       "      <td>2</td>\n",
       "    </tr>\n",
       "    <tr>\n",
       "      <th>37239</th>\n",
       "      <td>25</td>\n",
       "      <td>1</td>\n",
       "    </tr>\n",
       "    <tr>\n",
       "      <th>6829</th>\n",
       "      <td>25</td>\n",
       "      <td>2</td>\n",
       "    </tr>\n",
       "    <tr>\n",
       "      <th>1965</th>\n",
       "      <td>24</td>\n",
       "      <td>2</td>\n",
       "    </tr>\n",
       "    <tr>\n",
       "      <th>1519</th>\n",
       "      <td>21</td>\n",
       "      <td>2</td>\n",
       "    </tr>\n",
       "    <tr>\n",
       "      <th>27953</th>\n",
       "      <td>20</td>\n",
       "      <td>1</td>\n",
       "    </tr>\n",
       "    <tr>\n",
       "      <th>72290</th>\n",
       "      <td>18</td>\n",
       "      <td>2</td>\n",
       "    </tr>\n",
       "    <tr>\n",
       "      <th>46611</th>\n",
       "      <td>18</td>\n",
       "      <td>1</td>\n",
       "    </tr>\n",
       "    <tr>\n",
       "      <th>V1062</th>\n",
       "      <td>18</td>\n",
       "      <td>1</td>\n",
       "    </tr>\n",
       "    <tr>\n",
       "      <th>07031</th>\n",
       "      <td>17</td>\n",
       "      <td>1</td>\n",
       "    </tr>\n",
       "    <tr>\n",
       "      <th>78939</th>\n",
       "      <td>16</td>\n",
       "      <td>1</td>\n",
       "    </tr>\n",
       "    <tr>\n",
       "      <th>20030</th>\n",
       "      <td>16</td>\n",
       "      <td>1</td>\n",
       "    </tr>\n",
       "    <tr>\n",
       "      <th>73004</th>\n",
       "      <td>15</td>\n",
       "      <td>1</td>\n",
       "    </tr>\n",
       "    <tr>\n",
       "      <th>9878</th>\n",
       "      <td>14</td>\n",
       "      <td>1</td>\n",
       "    </tr>\n",
       "    <tr>\n",
       "      <th>3693</th>\n",
       "      <td>14</td>\n",
       "      <td>1</td>\n",
       "    </tr>\n",
       "    <tr>\n",
       "      <th>48801</th>\n",
       "      <td>13</td>\n",
       "      <td>1</td>\n",
       "    </tr>\n",
       "    <tr>\n",
       "      <th>4449</th>\n",
       "      <td>13</td>\n",
       "      <td>1</td>\n",
       "    </tr>\n",
       "    <tr>\n",
       "      <th>2468</th>\n",
       "      <td>13</td>\n",
       "      <td>1</td>\n",
       "    </tr>\n",
       "    <tr>\n",
       "      <th>1715</th>\n",
       "      <td>13</td>\n",
       "      <td>1</td>\n",
       "    </tr>\n",
       "    <tr>\n",
       "      <th>1530</th>\n",
       "      <td>13</td>\n",
       "      <td>1</td>\n",
       "    </tr>\n",
       "    <tr>\n",
       "      <th>V143</th>\n",
       "      <td>13</td>\n",
       "      <td>1</td>\n",
       "    </tr>\n",
       "    <tr>\n",
       "      <th>V568</th>\n",
       "      <td>13</td>\n",
       "      <td>1</td>\n",
       "    </tr>\n",
       "    <tr>\n",
       "      <th>29389</th>\n",
       "      <td>12</td>\n",
       "      <td>1</td>\n",
       "    </tr>\n",
       "    <tr>\n",
       "      <th>1910</th>\n",
       "      <td>11</td>\n",
       "      <td>1</td>\n",
       "    </tr>\n",
       "    <tr>\n",
       "      <th>99688</th>\n",
       "      <td>10</td>\n",
       "      <td>1</td>\n",
       "    </tr>\n",
       "    <tr>\n",
       "      <th>1481</th>\n",
       "      <td>10</td>\n",
       "      <td>1</td>\n",
       "    </tr>\n",
       "  </tbody>\n",
       "</table>\n",
       "</div>"
      ],
      "text/plain": [
       "       count_fatal  nonfatal\n",
       "1972           275        14\n",
       "51181          163        16\n",
       "99685          160        24\n",
       "1984           119         9\n",
       "485             95         7\n",
       "20510           90        10\n",
       "58281           84        37\n",
       "1971            77         5\n",
       "85225           49         2\n",
       "V4578           43         6\n",
       "85205           42         3\n",
       "37900           39         3\n",
       "36001           37         3\n",
       "3643            35         9\n",
       "36400           34         1\n",
       "36019           34         1\n",
       "1560            32         1\n",
       "5581            30         3\n",
       "3581            28         2\n",
       "07041           27         2\n",
       "E9278           25         2\n",
       "25023           25         2\n",
       "37239           25         1\n",
       "6829            25         2\n",
       "1965            24         2\n",
       "1519            21         2\n",
       "27953           20         1\n",
       "72290           18         2\n",
       "46611           18         1\n",
       "V1062           18         1\n",
       "07031           17         1\n",
       "78939           16         1\n",
       "20030           16         1\n",
       "73004           15         1\n",
       "9878            14         1\n",
       "3693            14         1\n",
       "48801           13         1\n",
       "4449            13         1\n",
       "2468            13         1\n",
       "1715            13         1\n",
       "1530            13         1\n",
       "V143            13         1\n",
       "V568            13         1\n",
       "29389           12         1\n",
       "1910            11         1\n",
       "99688           10         1\n",
       "1481            10         1"
      ]
     },
     "execution_count": 121,
     "metadata": {},
     "output_type": "execute_result"
    }
   ],
   "source": [
    "\"\"\"\n",
    "    print total fatal values for each diagnosis\n",
    "\"\"\"\n",
    "df_count.sort_values('count_fatal',ascending=False)"
   ]
  },
  {
   "cell_type": "code",
   "execution_count": 142,
   "metadata": {
    "collapsed": false,
    "deletable": true,
    "editable": true
   },
   "outputs": [
    {
     "data": {
      "image/png": "[encoded data removed]",
      "text/plain": [
       "<matplotlib.figure.Figure at 0x125028fd0>"
      ]
     },
     "metadata": {},
     "output_type": "display_data"
    }
   ],
   "source": [
    "plt.style.use('fivethirtyeight')\n",
    "plt.figure(figsize = (16,6))\n",
    "df_count.sort_values('count_fatal',ascending=False).count_fatal.plot(kind='bar', color='blue',alpha=0.6)\n",
    "df_count.sort_values('count_fatal',ascending=False).nonfatal.plot(kind='bar', color='red', alpha=0.8)\n",
    "plt.title('proportion of fatality (vs.not) for chosen diagnoses')\n",
    "#plt.savefig('model_diagnosis_proportion')"
   ]
  },
  {
   "cell_type": "markdown",
   "metadata": {
    "deletable": true,
    "editable": true
   },
   "source": [
    "So there is an imbalance of classes, in fact the majority of the chose diseases appear to be more deadly than survivable. \n",
    "**with 50 diseases** it appears the choice of diagnoses tends toward fatal\n",
    "\n",
    "## Admission Type:\n",
    "\n",
    "* the choice of Admission Type/Emergency and Elective has a dependency with target variable: expire_tag\n",
    "* encode Admission Type and gender into numeric types"
   ]
  },
  {
   "cell_type": "code",
   "execution_count": 143,
   "metadata": {
    "collapsed": false,
    "deletable": true,
    "editable": true
   },
   "outputs": [
    {
     "name": "stdout",
     "output_type": "stream",
     "text": [
      "['EMERGENCY' 'ELECTIVE' 'URGENT' 'NEWBORN']\n"
     ]
    }
   ],
   "source": [
    "# ############ Admission_type into categorical \n",
    "cols = ['NEWBORN', 'URGENT', 'EMERGENCY', 'ELECTIVE']\n",
    "nums = [0, 1, 2, 3 ]\n",
    "print(df.admission_type.unique())\n",
    "\n",
    "df.admission_type.replace(cols, nums, inplace=True)"
   ]
  },
  {
   "cell_type": "code",
   "execution_count": 144,
   "metadata": {
    "collapsed": false,
    "deletable": true,
    "editable": true
   },
   "outputs": [],
   "source": [
    "########### Gender ##########\n",
    "gen = [\"M\", \"F\"]\n",
    "n_g = [0,1]\n",
    "df.gender.replace(gen, n_g, inplace=True)"
   ]
  },
  {
   "cell_type": "code",
   "execution_count": null,
   "metadata": {
    "collapsed": false,
    "deletable": true,
    "editable": true
   },
   "outputs": [],
   "source": [
    "#df.info()"
   ]
  },
  {
   "cell_type": "code",
   "execution_count": 147,
   "metadata": {
    "collapsed": false,
    "deletable": true,
    "editable": true
   },
   "outputs": [],
   "source": [
    "#df"
   ]
  },
  {
   "cell_type": "code",
   "execution_count": 145,
   "metadata": {
    "collapsed": true,
    "deletable": true,
    "editable": true
   },
   "outputs": [],
   "source": [
    "\"\"\"\n",
    "    FUNCTION FOR EVALUATION \n",
    "    build pr-curve comparing ground truth with model score\n",
    "    truthvec - truth vectore\n",
    "    scorevec - score vector\n",
    "    s - type of classifier , eg. 'logistic', 'random forest' etc.\n",
    "\"\"\"\n",
    "\n",
    "def pr_curve(truthvec, scorevec, s, digit_prec=2):\n",
    "    threshvec = np.unique(np.round(scorevec,digit_prec))\n",
    "    numthresh = len(threshvec)\n",
    "    tpvec = np.zeros(numthresh)\n",
    "    fpvec = np.zeros(numthresh)\n",
    "    fnvec = np.zeros(numthresh)\n",
    "\n",
    "    for i in range(numthresh):\n",
    "        thresh = threshvec[i]\n",
    "        tpvec[i] = sum(truthvec[scorevec>=thresh])\n",
    "        fpvec[i] = sum(1-truthvec[scorevec>=thresh])\n",
    "        fnvec[i] = sum(truthvec[scorevec<thresh])\n",
    "    recallvec = tpvec/(tpvec + fnvec)\n",
    "    precisionvec = tpvec/(tpvec + fpvec)\n",
    "    plt.plot(precisionvec,recallvec, label=s)\n",
    "    plt.axis([0, 1, 0, 1])\n",
    "    plt.xlabel(\"Precision\")\n",
    "    plt.ylabel(\"Recall\")\n",
    "    plt.legend()\n",
    "    return (recallvec, precisionvec, threshvec)"
   ]
  },
  {
   "cell_type": "code",
   "execution_count": 148,
   "metadata": {
    "collapsed": false,
    "deletable": true,
    "editable": true
   },
   "outputs": [],
   "source": [
    "# exclude diagnosis from the fit\n",
    "df.columns.values\n",
    "cols = ['gender', 'admission_type',\n",
    "       'age', '07031', '07041', '1481', '1519', '1530',\n",
    "       '1560', '1715', '1910', '1965', '1971', '1972', '1984', '20030',\n",
    "       '20510', '2468', '25023', '27953', '29389', '3581', '36001',\n",
    "       '36019', '36400', '3643', '3693', '37239', '37900', '4449', '46611',\n",
    "       '485', '48801', '51181', '5581', '58281', '6829', '72290', '73004',\n",
    "       '78939', '85205', '85225', '9878', '99685', '99688', 'E9278',\n",
    "       'V1062', 'V143', 'V4578', 'V568'] # 'hadm_id', 'subject_id', 'expire_flag','diagnosis'\n",
    "\n",
    "X = df.loc[:, cols]\n",
    "y = df.loc[:,'expire_flag']"
   ]
  },
  {
   "cell_type": "markdown",
   "metadata": {
    "deletable": true,
    "editable": true
   },
   "source": [
    "# Models and variations:\n",
    "   #### 1. Logistic Model: Gender, Age, Admission type + ICD9 codes\n",
    "            - pr-curve\n",
    "            - roc-score\n",
    "            - confusion matrix\n",
    "            - classification report ( f1-score = 0.72\n",
    "   #### 2. Random Forest Classifier\n",
    "   #### 3. "
   ]
  },
  {
   "cell_type": "code",
   "execution_count": 233,
   "metadata": {
    "collapsed": false
   },
   "outputs": [
    {
     "name": "stdout",
     "output_type": "stream",
     "text": [
      "<class 'pandas.core.frame.DataFrame'>\n",
      "RangeIndex: 6984 entries, 0 to 6983\n",
      "Data columns (total 9 columns):\n",
      "icd9_code      6984 non-null object\n",
      "row_id         6984 non-null int64\n",
      "subject_id     6984 non-null int64\n",
      "hadm_id        6984 non-null int64\n",
      "seq_num        6984 non-null float64\n",
      "row_id.1       6841 non-null float64\n",
      "icd9_code.1    6841 non-null object\n",
      "short_title    6841 non-null object\n",
      "long_title     6841 non-null object\n",
      "dtypes: float64(2), int64(3), object(4)\n",
      "memory usage: 491.1+ KB\n"
     ]
    },
    {
     "data": {
      "text/plain": [
       "6984"
      ]
     },
     "execution_count": 233,
     "metadata": {},
     "output_type": "execute_result"
    }
   ],
   "source": [
    "diagnoses_key.info()\n",
    "len(diagnoses_key.icd9_code.unique())"
   ]
  },
  {
   "cell_type": "code",
   "execution_count": 369,
   "metadata": {
    "collapsed": true
   },
   "outputs": [],
   "source": [
    "\"\"\"\n",
    "    input a model instance (after the model has been trained)\n",
    "    use the .feature_importances_ attribute to extract\n",
    "    * the feature importances of the model output\n",
    "    then merges with diagnoses_key to get the text of the diagnoses icd9 code\n",
    "\"\"\"\n",
    "\n",
    "def get_feature_importances(model):\n",
    "    #convert feature variables and model \n",
    "    a = list(zip(X.columns, model.feature_importances_))\n",
    "    a.sort(key=lambda tup: tup[1])\n",
    "    \n",
    "    tmp = pd.DataFrame(a, columns=['icd9_code','importance'])\n",
    "    tmp = tmp.sort_values('importance', ascending=False)\n",
    "    model_importance = tmp.merge(diagnoses_key.drop_duplicates(), on=['icd9_code'],how='left')\n",
    "    model_importance = model_importance.rename(columns={'icd9_code':'feature'})\n",
    "    model_importance['label']= np.where(model_importance['short_title'].notnull(), \n",
    "                                        model_importance['short_title'], \n",
    "                                        model_importance['feature'] )\n",
    "\n",
    "    return model_importance"
   ]
  },
  {
   "cell_type": "code",
   "execution_count": 370,
   "metadata": {
    "collapsed": false
   },
   "outputs": [],
   "source": [
    "rnd_final = get_feature_importances(rnd)"
   ]
  },
  {
   "cell_type": "code",
   "execution_count": 371,
   "metadata": {
    "collapsed": false
   },
   "outputs": [
    {
     "data": {
      "text/html": [
       "<div>\n",
       "<style scoped>\n",
       "    .dataframe tbody tr th:only-of-type {\n",
       "        vertical-align: middle;\n",
       "    }\n",
       "\n",
       "    .dataframe tbody tr th {\n",
       "        vertical-align: top;\n",
       "    }\n",
       "\n",
       "    .dataframe thead th {\n",
       "        text-align: right;\n",
       "    }\n",
       "</style>\n",
       "<table border=\"1\" class=\"dataframe\">\n",
       "  <thead>\n",
       "    <tr style=\"text-align: right;\">\n",
       "      <th></th>\n",
       "      <th>feature</th>\n",
       "      <th>importance</th>\n",
       "      <th>short_title</th>\n",
       "      <th>long_title</th>\n",
       "      <th>label</th>\n",
       "    </tr>\n",
       "  </thead>\n",
       "  <tbody>\n",
       "    <tr>\n",
       "      <th>0</th>\n",
       "      <td>age</td>\n",
       "      <td>0.596911</td>\n",
       "      <td>NaN</td>\n",
       "      <td>NaN</td>\n",
       "      <td>age</td>\n",
       "    </tr>\n",
       "    <tr>\n",
       "      <th>1</th>\n",
       "      <td>admission_type</td>\n",
       "      <td>0.262615</td>\n",
       "      <td>NaN</td>\n",
       "      <td>NaN</td>\n",
       "      <td>admission_type</td>\n",
       "    </tr>\n",
       "    <tr>\n",
       "      <th>2</th>\n",
       "      <td>1972</td>\n",
       "      <td>0.022018</td>\n",
       "      <td>Second malig neo pleura</td>\n",
       "      <td>Secondary malignant neoplasm of pleura</td>\n",
       "      <td>Second malig neo pleura</td>\n",
       "    </tr>\n",
       "    <tr>\n",
       "      <th>3</th>\n",
       "      <td>99685</td>\n",
       "      <td>0.015606</td>\n",
       "      <td>Compl marrow transplant</td>\n",
       "      <td>Complications of transplanted bone marrow</td>\n",
       "      <td>Compl marrow transplant</td>\n",
       "    </tr>\n",
       "    <tr>\n",
       "      <th>4</th>\n",
       "      <td>51181</td>\n",
       "      <td>0.010250</td>\n",
       "      <td>Malignant pleural effusn</td>\n",
       "      <td>Malignant pleural effusion</td>\n",
       "      <td>Malignant pleural effusn</td>\n",
       "    </tr>\n",
       "    <tr>\n",
       "      <th>5</th>\n",
       "      <td>1984</td>\n",
       "      <td>0.009978</td>\n",
       "      <td>Sec malig neo nerve NEC</td>\n",
       "      <td>Secondary malignant neoplasm of other parts of...</td>\n",
       "      <td>Sec malig neo nerve NEC</td>\n",
       "    </tr>\n",
       "    <tr>\n",
       "      <th>6</th>\n",
       "      <td>gender</td>\n",
       "      <td>0.007608</td>\n",
       "      <td>NaN</td>\n",
       "      <td>NaN</td>\n",
       "      <td>gender</td>\n",
       "    </tr>\n",
       "    <tr>\n",
       "      <th>7</th>\n",
       "      <td>485</td>\n",
       "      <td>0.006694</td>\n",
       "      <td>Bronchopneumonia org NOS</td>\n",
       "      <td>Bronchopneumonia, organism unspecified</td>\n",
       "      <td>Bronchopneumonia org NOS</td>\n",
       "    </tr>\n",
       "    <tr>\n",
       "      <th>8</th>\n",
       "      <td>20510</td>\n",
       "      <td>0.005289</td>\n",
       "      <td>Ch myl leuk wo achv rmsn</td>\n",
       "      <td>Chronic myeloid leukemia, without mention of h...</td>\n",
       "      <td>Ch myl leuk wo achv rmsn</td>\n",
       "    </tr>\n",
       "    <tr>\n",
       "      <th>9</th>\n",
       "      <td>1971</td>\n",
       "      <td>0.004999</td>\n",
       "      <td>Sec mal neo mediastinum</td>\n",
       "      <td>Secondary malignant neoplasm of mediastinum</td>\n",
       "      <td>Sec mal neo mediastinum</td>\n",
       "    </tr>\n",
       "  </tbody>\n",
       "</table>\n",
       "</div>"
      ],
      "text/plain": [
       "          feature  importance               short_title  \\\n",
       "0             age    0.596911                       NaN   \n",
       "1  admission_type    0.262615                       NaN   \n",
       "2            1972    0.022018   Second malig neo pleura   \n",
       "3           99685    0.015606   Compl marrow transplant   \n",
       "4           51181    0.010250  Malignant pleural effusn   \n",
       "5            1984    0.009978   Sec malig neo nerve NEC   \n",
       "6          gender    0.007608                       NaN   \n",
       "7             485    0.006694  Bronchopneumonia org NOS   \n",
       "8           20510    0.005289  Ch myl leuk wo achv rmsn   \n",
       "9            1971    0.004999   Sec mal neo mediastinum   \n",
       "\n",
       "                                          long_title                     label  \n",
       "0                                                NaN                       age  \n",
       "1                                                NaN            admission_type  \n",
       "2             Secondary malignant neoplasm of pleura   Second malig neo pleura  \n",
       "3          Complications of transplanted bone marrow   Compl marrow transplant  \n",
       "4                         Malignant pleural effusion  Malignant pleural effusn  \n",
       "5  Secondary malignant neoplasm of other parts of...   Sec malig neo nerve NEC  \n",
       "6                                                NaN                    gender  \n",
       "7             Bronchopneumonia, organism unspecified  Bronchopneumonia org NOS  \n",
       "8  Chronic myeloid leukemia, without mention of h...  Ch myl leuk wo achv rmsn  \n",
       "9        Secondary malignant neoplasm of mediastinum   Sec mal neo mediastinum  "
      ]
     },
     "execution_count": 371,
     "metadata": {},
     "output_type": "execute_result"
    }
   ],
   "source": [
    "rnd_final[:10]"
   ]
  },
  {
   "cell_type": "code",
   "execution_count": 175,
   "metadata": {
    "collapsed": true,
    "deletable": true,
    "editable": true
   },
   "outputs": [],
   "source": [
    "X_train, X_test, y_train, y_test = train_test_split(X,y,test_size=0.3, random_state=4444 )"
   ]
  },
  {
   "cell_type": "code",
   "execution_count": 176,
   "metadata": {
    "collapsed": false,
    "deletable": true,
    "editable": true
   },
   "outputs": [
    {
     "data": {
      "text/plain": [
       "LogisticRegression(C=1.0, class_weight=None, dual=False, fit_intercept=True,\n",
       "          intercept_scaling=1, max_iter=100, multi_class='ovr', n_jobs=1,\n",
       "          penalty='l2', random_state=None, solver='liblinear', tol=0.0001,\n",
       "          verbose=0, warm_start=False)"
      ]
     },
     "execution_count": 176,
     "metadata": {},
     "output_type": "execute_result"
    }
   ],
   "source": [
    "\"\"\"\n",
    "    make an instance of a Logistic Regression Model \n",
    "\"\"\"\n",
    "\n",
    "lr_model = LogisticRegression()\n",
    "lr_model.fit(X_train, y_train)"
   ]
  },
  {
   "cell_type": "code",
   "execution_count": 177,
   "metadata": {
    "collapsed": false,
    "deletable": true,
    "editable": true
   },
   "outputs": [],
   "source": [
    "y_pred_lr = lr_model.fit(X_train, y_train).predict_proba(X_test)"
   ]
  },
  {
   "cell_type": "code",
   "execution_count": null,
   "metadata": {
    "collapsed": true,
    "deletable": true,
    "editable": true
   },
   "outputs": [],
   "source": []
  },
  {
   "cell_type": "code",
   "execution_count": 178,
   "metadata": {
    "collapsed": false,
    "deletable": true,
    "editable": true
   },
   "outputs": [],
   "source": [
    "lr_vec = y_pred_lr[:,1]"
   ]
  },
  {
   "cell_type": "code",
   "execution_count": 179,
   "metadata": {
    "collapsed": false,
    "deletable": true,
    "editable": true
   },
   "outputs": [
    {
     "data": {
      "text/plain": [
       "\"\\n    ValueError: Can't handle mix of binary and continuous-multioutput\\n\""
      ]
     },
     "execution_count": 179,
     "metadata": {},
     "output_type": "execute_result"
    }
   ],
   "source": [
    "\"\"\"\n",
    "    ValueError: Can't handle mix of binary and continuous-multioutput\n",
    "\"\"\"\n",
    "#accuracy_score(y_test, y_pred_lr, normalize=True)"
   ]
  },
  {
   "cell_type": "code",
   "execution_count": 180,
   "metadata": {
    "collapsed": false,
    "deletable": true,
    "editable": true
   },
   "outputs": [
    {
     "data": {
      "text/plain": [
       "0.7851077779047417"
      ]
     },
     "execution_count": 180,
     "metadata": {},
     "output_type": "execute_result"
    }
   ],
   "source": [
    "from sklearn.metrics import roc_auc_score\n",
    "roc_auc_score(y_test,lr_vec)\n"
   ]
  },
  {
   "cell_type": "code",
   "execution_count": 181,
   "metadata": {
    "collapsed": false,
    "deletable": true,
    "editable": true
   },
   "outputs": [
    {
     "name": "stderr",
     "output_type": "stream",
     "text": [
      "/Users/billierolih/anaconda/lib/python2.7/site-packages/pandas/core/computation/check.py:17: UserWarning: The installed version of numexpr 2.4.3 is not supported in pandas and will be not be used\n",
      "The minimum supported version is 2.4.6\n",
      "\n",
      "  ver=ver, min_ver=_MIN_NUMEXPR_VERSION), UserWarning)\n",
      "/Users/billierolih/anaconda/lib/python2.7/site-packages/ipykernel/__main__.py:22: RuntimeWarning: invalid value encountered in true_divide\n"
     ]
    },
    {
     "data": {
      "image/png": "[encoded data removed]",
      "text/plain": [
       "<matplotlib.figure.Figure at 0x15bdff0d0>"
      ]
     },
     "metadata": {},
     "output_type": "display_data"
    }
   ],
   "source": [
    "pr_curve(y_test, lr_vec,'logistic');"
   ]
  },
  {
   "cell_type": "markdown",
   "metadata": {
    "deletable": true,
    "editable": true
   },
   "source": [
    "## Evaluation\n",
    "prediction = predicts the outcome vectors \n",
    "\n",
    "### Confusion matrix "
   ]
  },
  {
   "cell_type": "code",
   "execution_count": 182,
   "metadata": {
    "collapsed": false,
    "deletable": true,
    "editable": true
   },
   "outputs": [],
   "source": [
    "# for confusion matrix use method .predict, to get the predicted label, not probability\n",
    "prediction = lr_model.fit(X_train, y_train).predict(X_test)\n",
    "accuracy = accuracy_score(y_test, prediction, normalize=True)"
   ]
  },
  {
   "cell_type": "code",
   "execution_count": 183,
   "metadata": {
    "collapsed": false,
    "deletable": true,
    "editable": true
   },
   "outputs": [
    {
     "data": {
      "text/plain": [
       "9.741654903963198"
      ]
     },
     "execution_count": 183,
     "metadata": {},
     "output_type": "execute_result"
    }
   ],
   "source": [
    "\"\"\"\n",
    "    Log-loss\n",
    "     appropriate performance measure when you're model output is the\n",
    "     probability of a binary outcome.\n",
    "     ... what is 9.74  \n",
    "\"\"\"\n",
    "log_loss(y_test, prediction) #make sure have prediction variable "
   ]
  },
  {
   "cell_type": "markdown",
   "metadata": {
    "deletable": true,
    "editable": true
   },
   "source": [
    "##### Log Loss is really high\n",
    "suggesting probably many mis-labeled data?  Log Loss higher than 1 usually indicates a very mis-labeled data set "
   ]
  },
  {
   "cell_type": "code",
   "execution_count": 184,
   "metadata": {
    "collapsed": false,
    "deletable": true,
    "editable": true
   },
   "outputs": [
    {
     "data": {
      "text/plain": [
       "array([1, 0, 0, ..., 0, 0, 0])"
      ]
     },
     "execution_count": 184,
     "metadata": {},
     "output_type": "execute_result"
    }
   ],
   "source": [
    "prediction"
   ]
  },
  {
   "cell_type": "code",
   "execution_count": 185,
   "metadata": {
    "collapsed": false,
    "deletable": true,
    "editable": true
   },
   "outputs": [
    {
     "data": {
      "text/plain": [
       "17685"
      ]
     },
     "execution_count": 185,
     "metadata": {},
     "output_type": "execute_result"
    }
   ],
   "source": [
    "prediction.size"
   ]
  },
  {
   "cell_type": "code",
   "execution_count": 187,
   "metadata": {
    "collapsed": false,
    "deletable": true,
    "editable": true
   },
   "outputs": [
    {
     "data": {
      "text/plain": [
       "array([[8759, 2189],\n",
       "       [2799, 3938]])"
      ]
     },
     "execution_count": 187,
     "metadata": {},
     "output_type": "execute_result"
    }
   ],
   "source": [
    "#imported above\n",
    "cm = confusion_matrix(y_test, prediction)\n",
    "cm"
   ]
  },
  {
   "cell_type": "code",
   "execution_count": 188,
   "metadata": {
    "collapsed": false,
    "deletable": true,
    "editable": true
   },
   "outputs": [
    {
     "name": "stdout",
     "output_type": "stream",
     "text": [
      "CPU times: user 209 ms, sys: 35.9 ms, total: 245 ms\n",
      "Wall time: 239 ms\n"
     ]
    },
    {
     "data": {
      "image/png": "[encoded data removed]",
      "text/plain": [
       "<matplotlib.figure.Figure at 0x15a7301d0>"
      ]
     },
     "metadata": {},
     "output_type": "display_data"
    }
   ],
   "source": [
    "%%time\n",
    "plt.figure(figsize=(9,9))\n",
    "sns.heatmap(cm, annot=True, fmt=\".3f\", linewidths=.5, square = True, cmap = 'Blues_r');\n",
    "plt.ylabel('Actual label');\n",
    "plt.xlabel('Predicted label');\n",
    "all_sample_title = 'Accuracy Score: {0}'.format(round(accuracy,2))\n",
    "plt.title(all_sample_title, size = 15);"
   ]
  },
  {
   "cell_type": "markdown",
   "metadata": {
    "deletable": true,
    "editable": true
   },
   "source": [
    "Model performs best in the accuracy of true positives, followed by true negatives\n",
    "\n",
    "Model has somewhat higher number of false negatives (than false positives) \n",
    "\n",
    "Model under-estimates and mis-classifies fatal cases at higher rates than non-fatal. "
   ]
  },
  {
   "cell_type": "markdown",
   "metadata": {
    "deletable": true,
    "editable": true
   },
   "source": [
    "## Classification report "
   ]
  },
  {
   "cell_type": "code",
   "execution_count": 189,
   "metadata": {
    "collapsed": false,
    "deletable": true,
    "editable": true
   },
   "outputs": [
    {
     "name": "stdout",
     "output_type": "stream",
     "text": [
      "             precision    recall  f1-score   support\n",
      "\n",
      "      fatal       0.76      0.80      0.78     10948\n",
      "  non-fatal       0.64      0.58      0.61      6737\n",
      "\n",
      "avg / total       0.71      0.72      0.72     17685\n",
      "\n"
     ]
    }
   ],
   "source": [
    "from sklearn.metrics import classification_report\n",
    "\n",
    "y_pred = prediction\n",
    "y_true = y_test\n",
    "target_names =  ['fatal', 'non-fatal']\n",
    "print(classification_report(y_true, y_pred, target_names=target_names))"
   ]
  },
  {
   "cell_type": "markdown",
   "metadata": {
    "deletable": true,
    "editable": true
   },
   "source": [
    "The model skews somewhat towards correctly classifying fatal diagnosis cases. "
   ]
  },
  {
   "cell_type": "code",
   "execution_count": null,
   "metadata": {
    "collapsed": true,
    "deletable": true,
    "editable": true
   },
   "outputs": [],
   "source": []
  },
  {
   "cell_type": "markdown",
   "metadata": {
    "deletable": true,
    "editable": true
   },
   "source": [
    "# Evaluation by Cross-validation\n",
    "\n",
    "Cross-validation should allow us to increase the accuracy, in this case f1-score of our model. "
   ]
  },
  {
   "cell_type": "code",
   "execution_count": 283,
   "metadata": {
    "collapsed": false,
    "deletable": true,
    "editable": true
   },
   "outputs": [],
   "source": [
    "from sklearn.cross_validation import cross_val_score\n",
    "from sklearn.model_selection import StratifiedKFold\n",
    "\n",
    "## us lr_model above\n",
    "lr_model = LogisticRegression()"
   ]
  },
  {
   "cell_type": "code",
   "execution_count": 285,
   "metadata": {
    "collapsed": false,
    "deletable": true,
    "editable": true
   },
   "outputs": [
    {
     "name": "stdout",
     "output_type": "stream",
     "text": [
      "[0.73592266 0.75457938 0.742324   0.74198473 0.75182358 0.72044105\n",
      " 0.68549618 0.64709874 0.66610112 0.66423482]\n",
      "Logistic Regression Classifier takes 22.112942934 sec) \n"
     ]
    }
   ],
   "source": [
    "### %%timeit Results: 1 loop, best of 3: 23.4 s per loop\n",
    "start = timeit.default_timer()\n",
    "\"\"\"\n",
    "    try starting out with cv = 5 folds\n",
    "    For integer/None inputs, if the estimator is a classifier\n",
    "    and y is either binary or multiclass, StratifiedKFold is used\n",
    "\"\"\"\n",
    "#scores = cross_val_score(lr_model, X, y, cv=10)\n",
    "scores = cross_val_score(LogisticRegression(solver='newton-cg'), X, y, cv=10)\n",
    "#scores = cross_val_score(LogisticRegression(), X, y, cv=10)\n",
    "\n",
    "print(scores)\n",
    "elapsed = timeit.default_timer() - start\n",
    "print (\"Logistic Regression Classifier takes {} sec) \".format(elapsed))"
   ]
  },
  {
   "cell_type": "markdown",
   "metadata": {
    "deletable": true,
    "editable": true
   },
   "source": [
    "appears to be somewhat of an improvement"
   ]
  },
  {
   "cell_type": "code",
   "execution_count": null,
   "metadata": {
    "collapsed": false,
    "deletable": true,
    "editable": true
   },
   "outputs": [],
   "source": []
  },
  {
   "cell_type": "code",
   "execution_count": null,
   "metadata": {
    "collapsed": true,
    "deletable": true,
    "editable": true
   },
   "outputs": [],
   "source": [
    "lr_range = \n",
    "lr_scores = []\n",
    "for _ in "
   ]
  },
  {
   "cell_type": "code",
   "execution_count": null,
   "metadata": {
    "collapsed": false,
    "deletable": true,
    "editable": true
   },
   "outputs": [],
   "source": [
    "import sklearn\n",
    "sklearn.__version__"
   ]
  },
  {
   "cell_type": "markdown",
   "metadata": {
    "deletable": true,
    "editable": true
   },
   "source": [
    "obtaining predictions from cross-validation\n",
    "http://scikit-learn.org/stable/modules/cross_validation.html#obtaining-predictions-by-cross-validation\n"
   ]
  },
  {
   "cell_type": "code",
   "execution_count": 286,
   "metadata": {
    "collapsed": false,
    "deletable": true,
    "editable": true
   },
   "outputs": [],
   "source": [
    "#from sklearn.model_selection import cross_validate\n",
    "from sklearn.cross_validation import  cross_val_predict"
   ]
  },
  {
   "cell_type": "code",
   "execution_count": 288,
   "metadata": {
    "collapsed": false,
    "deletable": true,
    "editable": true
   },
   "outputs": [],
   "source": [
    "#predicted = cross_val_predict(LogisticRegression(), X, y, cv=10)\n",
    "#print( accuracy_score(y_test, predicted)) "
   ]
  },
  {
   "cell_type": "code",
   "execution_count": null,
   "metadata": {
    "collapsed": false,
    "deletable": true,
    "editable": true
   },
   "outputs": [],
   "source": [
    "# print (accuracy_score(y, predicted) )\n",
    "#print (classification_report(y, predicted) )"
   ]
  },
  {
   "cell_type": "markdown",
   "metadata": {},
   "source": [
    "# ROC Curve with cross validation \n",
    "\n",
    "Code for ROC curve here: \n",
    "http://scikit-learn.org/stable/auto_examples/model_selection/plot_roc_crossval.html#sphx-glr-auto-examples-model-selection-plot-roc-crossval-py\n",
    "    \n",
    "and Code for feature importances :\n",
    "}http://scikit-learn.org/stable/auto_examples/model_selection/plot_roc_crossval.html#sphx-glr-auto-examples-model-selection-plot-roc-crossval-py\n",
    "    "
   ]
  },
  {
   "cell_type": "code",
   "execution_count": 306,
   "metadata": {
    "collapsed": true,
    "deletable": true,
    "editable": true
   },
   "outputs": [],
   "source": [
    "\"\"\"\n",
    "    DO NEXT: ROC curve\n",
    "    using same X and y as before teh split and a random forest classifier\n",
    "    \n",
    "    souerce: http://scikit-learn.org/stable/auto_examples/model_selection/plot_roc_crossval.html#sphx-glr-auto-examples-model-selection-plot-roc-crossval-py\n",
    "    \n",
    "\"\"\"\n",
    "from sklearn.metrics import roc_curve, auc\n",
    "from sklearn.model_selection import StratifiedKFold\n",
    "from itertools import cycle\n",
    "from scipy import interp"
   ]
  },
  {
   "cell_type": "code",
   "execution_count": 307,
   "metadata": {
    "collapsed": false,
    "deletable": true,
    "editable": true
   },
   "outputs": [],
   "source": [
    "cv = StratifiedKFold(n_splits=6)\n",
    "\n",
    "for train, test in cv.split(X, y):\n",
    "    #print (len(X[train]))\n",
    "    train_data= (X.iloc[train])\n",
    "    noncontinuous_train_index = X.index[train]\n",
    "    # Returns chose train indexs for each split print(noncontinuous_train_index)"
   ]
  },
  {
   "cell_type": "markdown",
   "metadata": {},
   "source": [
    "# Measurement times\n",
    "\n",
    "Time estimates and parameters of Random Forest,   Gradient Boosted models and **XGBoost models ** \n",
    "\n",
    " ### useful functions\n",
    "  - def **run_stratified_kfold**(classfier, class_str, num_splits):\n",
    "      - runs stratified k-fold Cross validation for ** classifier x ** \n",
    "          - I used it for Gradient boosting\n",
    "      - plots ROC curve\n",
    "      - returns Mean ROC for all k-folds\n",
    "  - \n",
    "\n",
    "\n",
    "| classifier | folds | n-estimators| n-jobs | time\n",
    "|--- | --- | : ---| : --- | ---|\n",
    "|random forest  (max_features='sqrt')  | 2 | 1000| -1 | 125 sec\n",
    "| \" | \" | \" | \"| 70 sec\n",
    "| \" | \" | \" | \"| 68 sec\n",
    "| \" | \" | \" | \"| 63.54 sec\n",
    "\n",
    "        \n",
    "\n",
    "| classifier | folds | n-estimators| max-dept | learning rate | time| MEAN-ROC |\n",
    "|--- | --- | : ---| : --- | ---| :--: |\n",
    "|Gradient boosting | 2 | 4000 | 3 | 0.003| 338 | 0.78 $\\pm$ 0.05 \n",
    "|\" | 8 | \" | \" | \" | 4052 sec | 0.78 $\\pm$ 0.06 \n",
    "\n",
    "| classifier | folds | n-estimators| max-dept | learning rate | time| MEAN-ROC |\n",
    "|--- | --- | : ---| : --- | ---| :--: |\n",
    "|XG- boosting |  |  |  | |  |?\n",
    "\n",
    "#### observations \n",
    "+ with the same max-dept/learning rate and estimator, using 8 folds over 2 does not result in higher ROC\n",
    "+ increase learning rate 10x, see if returns lower ROC ? \n",
    "+ yes, ** 8 folds** really does take an hour; dan't waste your time on it again \n"
   ]
  },
  {
   "cell_type": "code",
   "execution_count": 350,
   "metadata": {
    "collapsed": false
   },
   "outputs": [],
   "source": [
    "\"\"\" \n",
    "            utility function for running stratified kfold Models with ROC plots\n",
    "    classfier = define classifier and parameters prior to running function\n",
    "    class_str = String value of Classifier type\n",
    "                for pretty printing\n",
    "    n_splits = number of stratified kfolds\n",
    "\"\"\"\n",
    "def run_stratified_kfold(classfier, class_str, num_splits):\n",
    "    cv = StratifiedKFold(n_splits=num_splits)\n",
    "    tprs = []; aucs = [] ; mean_fpr = np.linspace(0, 1, 100)\n",
    "\n",
    "    i = 0\n",
    "    for train, test in cv.split(X, y):\n",
    "        ### CORRECTLY CALL X and y train with loc\n",
    "        probas_ = classifier.fit(X.iloc[train], y.iloc[train]).predict_proba(X.iloc[test])\n",
    "        # Compute ROC curve and area the curve\n",
    "        fpr, tpr, thresholds = roc_curve(y.iloc[test], probas_[:, 1])\n",
    "        tprs.append(interp(mean_fpr, fpr, tpr))\n",
    "        tprs[-1][0] = 0.0\n",
    "        roc_auc = auc(fpr, tpr)\n",
    "        aucs.append(roc_auc)\n",
    "        plt.plot(fpr, tpr, lw=1, alpha=0.3,\n",
    "                 label='ROC fold %d (AUC = %0.2f)' % (i, roc_auc))\n",
    "        i += 1\n",
    "        \n",
    "    plt.plot([0, 1], [0, 1], linestyle='--', lw=2, color='r',\n",
    "             label='Luck', alpha=.8)\n",
    "\n",
    "    mean_tpr = np.mean(tprs, axis=0)\n",
    "    mean_tpr[-1] = 1.0\n",
    "    mean_auc = auc(mean_fpr, mean_tpr)\n",
    "    std_auc = np.std(aucs)\n",
    "    plt.plot(mean_fpr, mean_tpr, color='b',\n",
    "             label=r'Mean ROC (AUC = %0.2f $\\pm$ %0.2f)' % (mean_auc, std_auc),\n",
    "             lw=2, alpha=.8)\n",
    "\n",
    "    std_tpr = np.std(tprs, axis=0)\n",
    "    tprs_upper = np.minimum(mean_tpr + std_tpr, 1)\n",
    "    tprs_lower = np.maximum(mean_tpr - std_tpr, 0)\n",
    "    plt.fill_between(mean_fpr, tprs_lower, tprs_upper, color='grey', alpha=.2,\n",
    "                     label=r'$\\pm$ 1 std. dev.')\n",
    "\n",
    "    plt.xlim([-0.05, 1.05])\n",
    "    plt.ylim([-0.05, 1.05])\n",
    "    plt.xlabel('False Positive Rate')\n",
    "    plt.ylabel('True Positive Rate')\n",
    "    plt.title('ROC: using {} classifier'.format(class_str))\n",
    "    plt.legend(fontsize = 12, bbox_to_anchor=(1.7,0.5))\n",
    "#     plt.savefig('{}_{}-fold'.format(class_str,num_splits))\n",
    "    plt.show()\n",
    "    \n",
    "    # #############################################################################\n",
    "    # Plot training devianc  # compute test set deviance\n",
    "#         test_score = np.zeros((params['n_estimators'],), dtype=np.float64)\n",
    "\n",
    "#     for i, y_pred in enumerate(clf.staged_predict(X_test)):\n",
    "#         test_score[i] = clf.loss_(y_test, y_pred)\n",
    "\n",
    "#     plt.figure(figsize=(12, 6))\n",
    "#     plt.subplot(1, 2, 1)\n",
    "#     plt.title('Deviance')\n",
    "#     plt.plot(np.arange(params['n_estimators']) + 1, clf.train_score_, 'b-',\n",
    "#              label='Training Set Deviance')\n",
    "#     plt.plot(np.arange(params['n_estimators']) + 1, test_score, 'r-',\n",
    "#              label='Test Set Deviance')\n",
    "#     plt.legend(loc='upper right')\n",
    "#     plt.xlabel('Boosting Iterations')\n",
    "#     plt.ylabel('Deviance')\n"
   ]
  },
  {
   "cell_type": "markdown",
   "metadata": {},
   "source": [
    "### ROC curve for Random Forest Classifier"
   ]
  },
  {
   "cell_type": "code",
   "execution_count": 351,
   "metadata": {
    "collapsed": false
   },
   "outputs": [
    {
     "data": {
      "image/png": "[encoded data removed]",
      "text/plain": [
       "<matplotlib.figure.Figure at 0x15e166150>"
      ]
     },
     "metadata": {},
     "output_type": "display_data"
    },
    {
     "name": "stdout",
     "output_type": "stream",
     "text": [
      "Random Forest Regression Classifier W/Cross        validation takes 57.69 sec) \n"
     ]
    }
   ],
   "source": [
    "classifier = RandomForestClassifier(n_estimators=1000, max_features='sqrt', n_jobs=-1)\n",
    "\n",
    "start = timeit.default_timer()\n",
    "run_stratified_kfold(classifier, \"Random Forest\", 2)\n",
    "elapsed = timeit.default_timer() - start\n",
    "print (\"Random Forest Regression Classifier W/Cross \\\n",
    "       validation takes {} sec) \".format(round(elapsed,2)) )"
   ]
  },
  {
   "cell_type": "code",
   "execution_count": null,
   "metadata": {
    "collapsed": true
   },
   "outputs": [],
   "source": []
  },
  {
   "cell_type": "markdown",
   "metadata": {},
   "source": [
    "## Gradient boosting classifier for model \n",
    "1. train model and plot Deviance/Error for paramter tuning\n",
    "2. use function __run_stratified_kfold__ to run gradient boosting\n",
    "\n",
    "#### Notes\n",
    "Several estimator/max_depth levels but classifier error does  not seem to go down ... we are overfitting "
   ]
  },
  {
   "cell_type": "code",
   "execution_count": 395,
   "metadata": {
    "collapsed": false
   },
   "outputs": [
    {
     "name": "stdout",
     "output_type": "stream",
     "text": [
      "Gradient Boosted Classifier W/Cross        validation takes 77.43 sec) \n"
     ]
    },
    {
     "data": {
      "image/png": "[encoded data removed]",
      "text/plain": [
       "<matplotlib.figure.Figure at 0x15deeb350>"
      ]
     },
     "metadata": {},
     "output_type": "display_data"
    }
   ],
   "source": [
    "start = timeit.default_timer()\n",
    "n_estimators=50\n",
    "model_gb1 = GradientBoostingClassifier(n_estimators=50,max_depth=10,learning_rate=.5)\n",
    "model_gb1.fit(X_train, y_train)\n",
    "# #############################################################################\n",
    "# Plot training deviance\n",
    "plt.style.use('classic')\n",
    "# compute test set deviance\n",
    "test_score = np.zeros((n_estimators), dtype=np.float64)\n",
    "\n",
    "for i, y_pred in enumerate(model_gb1.staged_predict(X_test)):\n",
    "    test_score[i] = model_gb1.loss_(y_test, y_pred)\n",
    "\n",
    "plt.figure(figsize=(12, 6))\n",
    "plt.subplot(1, 2, 1)\n",
    "plt.title('Deviance')\n",
    "plt.plot(np.arange(n_estimators) + 1,model_gb1.train_score_, 'b-', label='Training Set Deviance')\n",
    "plt.plot(np.arange(n_estimators) + 1, test_score, 'r-', label='Test Set Deviance')\n",
    "plt.legend(fontsize=12,loc=5) #bbox_to_anchor=(1.7,0.5) )\n",
    "plt.xlabel('Boosting Iterations'); plt.ylabel('Deviance')\n",
    "\n",
    "elapsed = timeit.default_timer() - start\n",
    "print (\"Gradient Boosted Classifier W/Cross \\\n",
    "       validation takes {} sec) \".format(round(elapsed,2)) )"
   ]
  },
  {
   "cell_type": "code",
   "execution_count": 347,
   "metadata": {
    "collapsed": false,
    "deletable": true,
    "editable": true
   },
   "outputs": [
    {
     "data": {
      "image/png": "[encoded data removed]",
      "text/plain": [
       "<matplotlib.figure.Figure at 0x188a41590>"
      ]
     },
     "metadata": {},
     "output_type": "display_data"
    },
    {
     "name": "stdout",
     "output_type": "stream",
     "text": [
      "Random Forest Regression Classifier W/Cross        validation takes 338.29 sec) \n"
     ]
    }
   ],
   "source": [
    "### run with Gradient Boost\n",
    "classifier = GradientBoostingClassifier(n_estimators=4000,max_depth=3,learning_rate=.03)\n",
    "\n",
    "start = timeit.default_timer()\n",
    "run_stratified_kfold(classifier, \"Random Forest\", 2)\n",
    "elapsed = timeit.default_timer() - start\n",
    "print (\"Random Forest Regression Classifier W/Cross \\\n",
    "       validation takes {} sec) \".format(round(elapsed,2)) )"
   ]
  },
  {
   "cell_type": "code",
   "execution_count": null,
   "metadata": {
    "collapsed": true
   },
   "outputs": [],
   "source": []
  },
  {
   "cell_type": "markdown",
   "metadata": {},
   "source": [
    "#### DO NOT RUN 8-folds repeatedly ; it takes over an hour to finish @ this learning rate\n"
   ]
  },
  {
   "cell_type": "code",
   "execution_count": 352,
   "metadata": {
    "collapsed": false
   },
   "outputs": [
    {
     "data": {
      "image/png": "[encoded data removed]",
      "text/plain": [
       "<matplotlib.figure.Figure at 0x15c9aa6d0>"
      ]
     },
     "metadata": {},
     "output_type": "display_data"
    },
    {
     "name": "stdout",
     "output_type": "stream",
     "text": [
      "Gradient Boosted Classifier W/Cross        validation takes 4052.76 sec) \n"
     ]
    }
   ],
   "source": [
    "# \"\"\" run with Gradient Boost 8 folds SAVE FIGURE\"\"\"\n",
    "\n",
    "# classifier = GradientBoostingClassifier(n_estimators=4000,max_depth=3,learning_rate=.003)\n",
    "\n",
    "# start = timeit.default_timer()\n",
    "# run_stratified_kfold(classifier, \"Gradient Boost\", 8)\n",
    "# elapsed = timeit.default_timer() - start\n",
    "# print (\"Gradient Boosted Classifier W/Cross \\\n",
    "#        validation takes {} sec) \".format(round(elapsed,2)) )"
   ]
  },
  {
   "cell_type": "code",
   "execution_count": null,
   "metadata": {
    "collapsed": true
   },
   "outputs": [],
   "source": [
    "classifier = GradientBoostingClassifier(n_estimators=4000,max_depth=3,learning_rate=.003)\n",
    "\n",
    "start = timeit.default_timer()\n",
    "run_stratified_kfold(classifier, \"Gradient Boost\", 6)\n",
    "elapsed = timeit.default_timer() - start\n",
    "print (\"Gradient Boosted Classifier W/Cross \\\n",
    "       validation takes {} sec) \".format(round(elapsed,2)) )"
   ]
  },
  {
   "cell_type": "code",
   "execution_count": 356,
   "metadata": {
    "collapsed": false
   },
   "outputs": [],
   "source": [
    "# Fit regression model\n",
    "# params = {'n_estimators': 500, 'max_depth': 4, 'min_samples_split': 2,\n",
    "#           'learning_rate': 0.01, 'loss': 'ls'}\n",
    "\n",
    "# np.arange(500)"
   ]
  },
  {
   "cell_type": "code",
   "execution_count": null,
   "metadata": {
    "collapsed": true
   },
   "outputs": [],
   "source": []
  },
  {
   "cell_type": "code",
   "execution_count": 381,
   "metadata": {
    "collapsed": false
   },
   "outputs": [
    {
     "name": "stdout",
     "output_type": "stream",
     "text": [
      "Gradient Boosted Classifier W/Cross        validation takes 178.54 sec) \n"
     ]
    },
    {
     "data": {
      "image/png": "[encoded data removed]",
      "text/plain": [
       "<matplotlib.figure.Figure at 0x159240350>"
      ]
     },
     "metadata": {},
     "output_type": "display_data"
    }
   ],
   "source": [
    "\n",
    "start = timeit.default_timer()\n",
    "n_estimators=1000\n",
    "model_gb1 = GradientBoostingClassifier(n_estimators=1000,max_depth=3,learning_rate=.00)\n",
    "model_gb1.fit(X_train, y_train)\n",
    "# #############################################################################\n",
    "# Plot training deviance\n",
    "plt.style.use('classic')\n",
    "# compute test set deviance\n",
    "test_score = np.zeros((n_estimators), dtype=np.float64)\n",
    "\n",
    "for i, y_pred in enumerate(model_gb1.staged_predict(X_test)):\n",
    "    test_score[i] = model_gb1.loss_(y_test, y_pred)\n",
    "\n",
    "plt.figure(figsize=(12, 6))\n",
    "plt.subplot(1, 2, 1)\n",
    "plt.title('Deviance')\n",
    "plt.plot(np.arange(n_estimators) + 1,model_gb1.train_score_, 'b-', label='Training Set Deviance')\n",
    "plt.plot(np.arange(n_estimators) + 1, test_score, 'r-', label='Test Set Deviance')\n",
    "plt.legend(fontsize=12, bbox_to_anchor=(1.7,0.5) )\n",
    "plt.xlabel('Boosting Iterations'); plt.ylabel('Deviance')\n",
    "\n",
    "# #############################################################################\n",
    "# Plot feature importance\n",
    "### Call helper function get_feature_importances\n",
    "# feature_importance = get_feature_importances(model_gb1) #model_gb1.feature_importances_\n",
    "# # make importances relative to max importance\n",
    "# percent_importance = 100.0 * (feature_importance.importance / feature_importance.importance.max())\n",
    "# sorted_idx = np.argsort(percent_importance)\n",
    "# labels = feature_importance.label[sorted_idx]\n",
    "\n",
    "# pos = np.arange(sorted_idx.shape[0]) + .5\n",
    "# plt.subplot(1, 2, 2)\n",
    "# plt.barh(pos, percent_importance[sorted_idx], align='center')\n",
    "# plt.yticks(pos, labels)\n",
    "# plt.xlabel('Relative Importance')\n",
    "# plt.title('Variable Importance')\n",
    "\n",
    "elapsed = timeit.default_timer() - start\n",
    "print (\"Gradient Boosted Classifier W/Cross \\\n",
    "       validation takes {} sec) \".format(round(elapsed,2)) )"
   ]
  },
  {
   "cell_type": "code",
   "execution_count": 385,
   "metadata": {
    "collapsed": false
   },
   "outputs": [
    {
     "name": "stdout",
     "output_type": "stream",
     "text": [
      "Gradient Boosted Classifier W/Cross        validation takes 155.12 sec) \n"
     ]
    },
    {
     "data": {
      "image/png": "[encoded data removed]",
      "text/plain": [
       "<matplotlib.figure.Figure at 0x15e0f69d0>"
      ]
     },
     "metadata": {},
     "output_type": "display_data"
    }
   ],
   "source": [
    "start = timeit.default_timer()\n",
    "n_estimators=1000\n",
    "model_gb1 = GradientBoostingClassifier(n_estimators=1000,max_depth=4,learning_rate=.01)\n",
    "model_gb1.fit(X_train, y_train)\n",
    "# #############################################################################\n",
    "# Plot training deviance\n",
    "plt.style.use('classic')\n",
    "# compute test set deviance\n",
    "test_score = np.zeros((n_estimators), dtype=np.float64)\n",
    "\n",
    "for i, y_pred in enumerate(model_gb1.staged_predict(X_test)):\n",
    "    test_score[i] = model_gb1.loss_(y_test, y_pred)\n",
    "\n",
    "plt.figure(figsize=(12, 6))\n",
    "plt.subplot(1, 2, 1)\n",
    "plt.title('Deviance')\n",
    "plt.plot(np.arange(n_estimators) + 1,model_gb1.train_score_, 'b-', label='Training Set Deviance')\n",
    "plt.plot(np.arange(n_estimators) + 1, test_score, 'r-', label='Test Set Deviance')\n",
    "plt.legend(fontsize=12, bbox_to_anchor=(1.7,0.5) )\n",
    "plt.xlabel('Boosting Iterations'); plt.ylabel('Deviance')\n",
    "\n",
    "elapsed = timeit.default_timer() - start\n",
    "print (\"Gradient Boosted Classifier W/Cross \\\n",
    "       validation takes {} sec) \".format(round(elapsed,2)) )"
   ]
  },
  {
   "cell_type": "code",
   "execution_count": 359,
   "metadata": {
    "collapsed": false
   },
   "outputs": [
    {
     "name": "stdout",
     "output_type": "stream",
     "text": [
      "Gradient Boosted Classifier W/Cross        validation takes 43.11 sec) \n"
     ]
    },
    {
     "data": {
      "image/png": "[encoded data removed]",
      "text/plain": [
       "<matplotlib.figure.Figure at 0x159788b50>"
      ]
     },
     "metadata": {},
     "output_type": "display_data"
    }
   ],
   "source": []
  },
  {
   "cell_type": "code",
   "execution_count": null,
   "metadata": {
    "collapsed": true
   },
   "outputs": [],
   "source": []
  },
  {
   "cell_type": "code",
   "execution_count": 289,
   "metadata": {
    "collapsed": false,
    "deletable": true,
    "editable": true
   },
   "outputs": [
    {
     "ename": "NameError",
     "evalue": "name 'rf1_pred_vec' is not defined",
     "output_type": "error",
     "traceback": [
      "\u001b[0;31m---------------------------------------------------------------------------\u001b[0m",
      "\u001b[0;31mNameError\u001b[0m                                 Traceback (most recent call last)",
      "\u001b[0;32m<ipython-input-289-b22b46e33e44>\u001b[0m in \u001b[0;36m<module>\u001b[0;34m()\u001b[0m\n\u001b[1;32m      1\u001b[0m \u001b[0;31m#random forest\u001b[0m\u001b[0;34m\u001b[0m\u001b[0;34m\u001b[0m\u001b[0m\n\u001b[1;32m      2\u001b[0m \u001b[0mplt\u001b[0m\u001b[0;34m.\u001b[0m\u001b[0mfigure\u001b[0m\u001b[0;34m(\u001b[0m\u001b[0;34m)\u001b[0m\u001b[0;34m\u001b[0m\u001b[0m\n\u001b[0;32m----> 3\u001b[0;31m \u001b[0mpr_curve\u001b[0m\u001b[0;34m(\u001b[0m\u001b[0my_test\u001b[0m\u001b[0;34m,\u001b[0m \u001b[0mrf1_pred_vec\u001b[0m\u001b[0;34m,\u001b[0m\u001b[0;34m'random forest'\u001b[0m\u001b[0;34m)\u001b[0m\u001b[0;34m\u001b[0m\u001b[0m\n\u001b[0m\u001b[1;32m      4\u001b[0m \u001b[0mpr_curve\u001b[0m\u001b[0;34m(\u001b[0m\u001b[0my_test\u001b[0m\u001b[0;34m,\u001b[0m \u001b[0mlr_vec\u001b[0m\u001b[0;34m,\u001b[0m\u001b[0;34m'logistic regression'\u001b[0m\u001b[0;34m)\u001b[0m\u001b[0;34m\u001b[0m\u001b[0m\n\u001b[1;32m      5\u001b[0m \u001b[0mgb1_pr\u001b[0m\u001b[0;34m=\u001b[0m\u001b[0mpr_curve\u001b[0m\u001b[0;34m(\u001b[0m\u001b[0my_test\u001b[0m\u001b[0;34m,\u001b[0m\u001b[0mgb1_pred_vec\u001b[0m\u001b[0;34m,\u001b[0m \u001b[0;34m'gradient boost'\u001b[0m\u001b[0;34m)\u001b[0m\u001b[0;34m\u001b[0m\u001b[0m\n",
      "\u001b[0;31mNameError\u001b[0m: name 'rf1_pred_vec' is not defined"
     ]
    },
    {
     "data": {
      "text/plain": [
       "<matplotlib.figure.Figure at 0x154f0ecd0>"
      ]
     },
     "metadata": {},
     "output_type": "display_data"
    }
   ],
   "source": [
    "#random forest\n",
    "plt.figure()\n",
    "pr_curve(y_test, rf1_pred_vec,'random forest')\n",
    "pr_curve(y_test, lr_vec,'logistic regression')\n",
    "gb1_pr=pr_curve(y_test,gb1_pred_vec, 'gradient boost')\n",
    "#plt.savefig('pr');"
   ]
  },
  {
   "cell_type": "code",
   "execution_count": null,
   "metadata": {
    "collapsed": false,
    "deletable": true,
    "editable": true
   },
   "outputs": [],
   "source": [
    "#################\n",
    "### for predict_proba, use log-loss\n",
    "\n",
    "# for col in X_train.columns:\n",
    "#     print (col)\n",
    "#     X_tr = X_train.loc[:, col].values.reshape(-1,1)\n",
    "#     X_te = X_test.loc[:,col].values.reshape(-1,1)\n",
    "#     lr_model = LogisticRegression()\n",
    "#     lr_model.fit(X_tr, y_train)\n",
    "#     y_prob_pred = lr_model.predict_proba(X_te)[:,1]\n",
    "#     print( \"log-loss\",log_loss(y_test, y_prob_pred)) "
   ]
  },
  {
   "cell_type": "markdown",
   "metadata": {
    "deletable": true,
    "editable": true
   },
   "source": [
    "# Random forest + gradient boosting\n"
   ]
  },
  {
   "cell_type": "code",
   "execution_count": 290,
   "metadata": {
    "collapsed": false,
    "deletable": true,
    "editable": true
   },
   "outputs": [],
   "source": [
    "#from sklearn.ensemble import RandomForestClassifier\n",
    "from sklearn.ensemble import RandomForestClassifier, GradientBoostingClassifier\n",
    "from sklearn.metrics import roc_auc_score, log_loss\n"
   ]
  },
  {
   "cell_type": "code",
   "execution_count": null,
   "metadata": {
    "collapsed": false,
    "deletable": true,
    "editable": true
   },
   "outputs": [],
   "source": [
    "\"\"\"\n",
    "    train Classifiers first: y_pred_RF\n",
    "\"\"\"\n",
    "# print(\"accuracy \\t\",accuracy_score(y_test, y_pred_RF, normalize=True))\n",
    "# print (\"precision \\t \", precision_score(y_test, y_pred_RF))\n",
    "# print (\"recall \\t\", recall_score(y_test, y_pred_RF))\n",
    "# print ('f1 \\t',f1_score(y_test, y_pred_RF))"
   ]
  },
  {
   "cell_type": "markdown",
   "metadata": {
    "deletable": true,
    "editable": true
   },
   "source": [
    "Notes\n",
    "+ recall is improved when max_features is increased\n",
    "+ n_estimators : does not seem to have an affect\n"
   ]
  },
  {
   "cell_type": "code",
   "execution_count": 291,
   "metadata": {
    "collapsed": false,
    "deletable": true,
    "editable": true
   },
   "outputs": [
    {
     "name": "stdout",
     "output_type": "stream",
     "text": [
      "Random Forest Classifier takes 57.0064389706 sec) \n"
     ]
    }
   ],
   "source": [
    "start = timeit.default_timer()\n",
    "rnd = RandomForestClassifier(n_estimators=1000, max_features='sqrt', n_jobs=-1)\n",
    "y_pred_RF_P = rnd.fit(X_train, y_train).predict_proba(X_test)\n",
    "elapsed = timeit.default_timer() - start\n",
    "print (\"Random Forest Classifier takes {} sec) \".format(elapsed))"
   ]
  },
  {
   "cell_type": "markdown",
   "metadata": {},
   "source": [
    "#### Top-10 Feature importances of Random Forest classifier"
   ]
  },
  {
   "cell_type": "code",
   "execution_count": 275,
   "metadata": {
    "collapsed": false
   },
   "outputs": [],
   "source": [
    "rnd_final = get_feature_importances(rnd)"
   ]
  },
  {
   "cell_type": "code",
   "execution_count": 362,
   "metadata": {
    "collapsed": false
   },
   "outputs": [
    {
     "data": {
      "text/html": [
       "<div>\n",
       "<style scoped>\n",
       "    .dataframe tbody tr th:only-of-type {\n",
       "        vertical-align: middle;\n",
       "    }\n",
       "\n",
       "    .dataframe tbody tr th {\n",
       "        vertical-align: top;\n",
       "    }\n",
       "\n",
       "    .dataframe thead th {\n",
       "        text-align: right;\n",
       "    }\n",
       "</style>\n",
       "<table border=\"1\" class=\"dataframe\">\n",
       "  <thead>\n",
       "    <tr style=\"text-align: right;\">\n",
       "      <th></th>\n",
       "      <th>feature</th>\n",
       "      <th>importance</th>\n",
       "      <th>short_title</th>\n",
       "      <th>long_title</th>\n",
       "    </tr>\n",
       "  </thead>\n",
       "  <tbody>\n",
       "    <tr>\n",
       "      <th>0</th>\n",
       "      <td>age</td>\n",
       "      <td>0.598025</td>\n",
       "      <td>NaN</td>\n",
       "      <td>NaN</td>\n",
       "    </tr>\n",
       "    <tr>\n",
       "      <th>1</th>\n",
       "      <td>admission_type</td>\n",
       "      <td>0.261654</td>\n",
       "      <td>NaN</td>\n",
       "      <td>NaN</td>\n",
       "    </tr>\n",
       "    <tr>\n",
       "      <th>2</th>\n",
       "      <td>1972</td>\n",
       "      <td>0.022091</td>\n",
       "      <td>Second malig neo pleura</td>\n",
       "      <td>Secondary malignant neoplasm of pleura</td>\n",
       "    </tr>\n",
       "    <tr>\n",
       "      <th>3</th>\n",
       "      <td>99685</td>\n",
       "      <td>0.015812</td>\n",
       "      <td>Compl marrow transplant</td>\n",
       "      <td>Complications of transplanted bone marrow</td>\n",
       "    </tr>\n",
       "    <tr>\n",
       "      <th>4</th>\n",
       "      <td>51181</td>\n",
       "      <td>0.010167</td>\n",
       "      <td>Malignant pleural effusn</td>\n",
       "      <td>Malignant pleural effusion</td>\n",
       "    </tr>\n",
       "    <tr>\n",
       "      <th>5</th>\n",
       "      <td>1984</td>\n",
       "      <td>0.009926</td>\n",
       "      <td>Sec malig neo nerve NEC</td>\n",
       "      <td>Secondary malignant neoplasm of other parts of...</td>\n",
       "    </tr>\n",
       "    <tr>\n",
       "      <th>6</th>\n",
       "      <td>gender</td>\n",
       "      <td>0.007559</td>\n",
       "      <td>NaN</td>\n",
       "      <td>NaN</td>\n",
       "    </tr>\n",
       "    <tr>\n",
       "      <th>7</th>\n",
       "      <td>485</td>\n",
       "      <td>0.006675</td>\n",
       "      <td>Bronchopneumonia org NOS</td>\n",
       "      <td>Bronchopneumonia, organism unspecified</td>\n",
       "    </tr>\n",
       "    <tr>\n",
       "      <th>8</th>\n",
       "      <td>20510</td>\n",
       "      <td>0.005248</td>\n",
       "      <td>Ch myl leuk wo achv rmsn</td>\n",
       "      <td>Chronic myeloid leukemia, without mention of h...</td>\n",
       "    </tr>\n",
       "    <tr>\n",
       "      <th>9</th>\n",
       "      <td>1971</td>\n",
       "      <td>0.004963</td>\n",
       "      <td>Sec mal neo mediastinum</td>\n",
       "      <td>Secondary malignant neoplasm of mediastinum</td>\n",
       "    </tr>\n",
       "  </tbody>\n",
       "</table>\n",
       "</div>"
      ],
      "text/plain": [
       "          feature  importance               short_title  \\\n",
       "0             age    0.598025                       NaN   \n",
       "1  admission_type    0.261654                       NaN   \n",
       "2            1972    0.022091   Second malig neo pleura   \n",
       "3           99685    0.015812   Compl marrow transplant   \n",
       "4           51181    0.010167  Malignant pleural effusn   \n",
       "5            1984    0.009926   Sec malig neo nerve NEC   \n",
       "6          gender    0.007559                       NaN   \n",
       "7             485    0.006675  Bronchopneumonia org NOS   \n",
       "8           20510    0.005248  Ch myl leuk wo achv rmsn   \n",
       "9            1971    0.004963   Sec mal neo mediastinum   \n",
       "\n",
       "                                          long_title  \n",
       "0                                                NaN  \n",
       "1                                                NaN  \n",
       "2             Secondary malignant neoplasm of pleura  \n",
       "3          Complications of transplanted bone marrow  \n",
       "4                         Malignant pleural effusion  \n",
       "5  Secondary malignant neoplasm of other parts of...  \n",
       "6                                                NaN  \n",
       "7             Bronchopneumonia, organism unspecified  \n",
       "8  Chronic myeloid leukemia, without mention of h...  \n",
       "9        Secondary malignant neoplasm of mediastinum  "
      ]
     },
     "execution_count": 362,
     "metadata": {},
     "output_type": "execute_result"
    }
   ],
   "source": [
    "\n",
    "rnd_final[:10]"
   ]
  },
  {
   "cell_type": "code",
   "execution_count": 276,
   "metadata": {
    "collapsed": false,
    "deletable": true,
    "editable": true
   },
   "outputs": [],
   "source": [
    "y_pred_RF_P = rnd.fit(X_train, y_train).predict_proba(X_test)\n",
    "\n",
    "# print(\"accuracy \\t\",accuracy_score(y_test, y_pred_RF_P, normalize=True))\n",
    "# print (\"precision \\t \", precision_score(y_test, y_pred_RF_P))\n",
    "# print (\"recall \\t\", recall_score(y_test, y_pred_RF_P))\n",
    "# print ('f1 \\t',f1_score(y_test, y_pred_RF_P))"
   ]
  },
  {
   "cell_type": "code",
   "execution_count": null,
   "metadata": {
    "collapsed": false,
    "deletable": true,
    "editable": true
   },
   "outputs": [],
   "source": [
    "y_pred_RF_P.shape"
   ]
  },
  {
   "cell_type": "code",
   "execution_count": null,
   "metadata": {
    "collapsed": true,
    "deletable": true,
    "editable": true
   },
   "outputs": [],
   "source": [
    "#second column \n",
    "rf1_pred_vec = y_pred_RF_P[:,1]"
   ]
  },
  {
   "cell_type": "code",
   "execution_count": null,
   "metadata": {
    "collapsed": false,
    "deletable": true,
    "editable": true
   },
   "outputs": [],
   "source": [
    "plt.figure()\n",
    "pr_curve(y_test, rf1_pred_vec);"
   ]
  },
  {
   "cell_type": "code",
   "execution_count": null,
   "metadata": {
    "collapsed": false,
    "deletable": true,
    "editable": true
   },
   "outputs": [],
   "source": [
    "np.mean(y_test)"
   ]
  },
  {
   "cell_type": "code",
   "execution_count": null,
   "metadata": {
    "collapsed": false,
    "deletable": true,
    "editable": true
   },
   "outputs": [],
   "source": [
    "roc_auc_score(y_test,rf1_pred_vec)"
   ]
  },
  {
   "cell_type": "markdown",
   "metadata": {
    "deletable": true,
    "editable": true
   },
   "source": [
    "a possible way of interpreting this model : \n",
    "if I want to isolate a group of patients in the ICU with 80% precision, (80 TP/ 20 FP), so that 4/5ths have high mortality (are likely to die / WILL die) for special care, I can do this with 20% recall (Meaning we will catch only 20% of all patients who will die) \n",
    "\n",
    "If we want to catch more of the total patients who will die (Higher recall) "
   ]
  },
  {
   "cell_type": "code",
   "execution_count": null,
   "metadata": {
    "collapsed": false,
    "deletable": true,
    "editable": true
   },
   "outputs": [],
   "source": [
    "model_gb1 = GradientBoostingClassifier(n_estimators=4000,max_depth=3,learning_rate=.003)\n",
    "model_gb1.fit(X_train, y_train)"
   ]
  },
  {
   "cell_type": "code",
   "execution_count": null,
   "metadata": {
    "collapsed": true,
    "deletable": true,
    "editable": true
   },
   "outputs": [],
   "source": [
    "\n",
    "# predict class labels for the test set\n",
    "gb1_pred_mat = model_gb1.predict_proba(X_test)\n",
    "gb1_pred_vec = gb1_pred_mat[:,1]"
   ]
  },
  {
   "cell_type": "code",
   "execution_count": null,
   "metadata": {
    "collapsed": false,
    "deletable": true,
    "editable": true
   },
   "outputs": [],
   "source": [
    "a = list(zip(X.columns, model_gb1.feature_importances_))"
   ]
  },
  {
   "cell_type": "code",
   "execution_count": null,
   "metadata": {
    "collapsed": false,
    "deletable": true,
    "editable": true,
    "scrolled": true
   },
   "outputs": [],
   "source": [
    "a.sort(key=lambda tup: tup[1]) \n",
    "a"
   ]
  },
  {
   "cell_type": "code",
   "execution_count": null,
   "metadata": {
    "collapsed": true,
    "deletable": true,
    "editable": true
   },
   "outputs": [],
   "source": [
    "('85225', 0.023728398524586445),\n",
    " ('58281', 0.02449622482246934),\n",
    " ('6829', 0.024804630629938505),\n",
    " ('20510', 0.025198270897120314),\n",
    " ('1971', 0.02572697097360083),\n",
    " ('07041', 0.025937043632540509),\n",
    " ('485', 0.031539383481972216),\n",
    " ('51181', 0.032793101127143578),\n",
    " ('99685', 0.03296745209222874),\n",
    " ('1984', 0.037243108801294431),\n",
    " ('1972', 0.04072702054898935),\n",
    " ('admission_type', 0.054172788832846458),\n",
    " ('age', 0.30028027265805535)]"
   ]
  },
  {
   "cell_type": "code",
   "execution_count": null,
   "metadata": {
    "collapsed": true,
    "deletable": true,
    "editable": true
   },
   "outputs": [],
   "source": [
    "age, 0.3"
   ]
  },
  {
   "cell_type": "code",
   "execution_count": null,
   "metadata": {
    "collapsed": false,
    "deletable": true,
    "editable": true
   },
   "outputs": [],
   "source": [
    "roc_auc_score(y_test,gb1_pred_vec)\n"
   ]
  },
  {
   "cell_type": "code",
   "execution_count": null,
   "metadata": {
    "collapsed": false,
    "deletable": true,
    "editable": true
   },
   "outputs": [],
   "source": [
    "gb1_pr=pr_curve(y_test,gb1_pred_vec, 'gradient boost');\n"
   ]
  },
  {
   "cell_type": "code",
   "execution_count": null,
   "metadata": {
    "collapsed": true,
    "deletable": true,
    "editable": true
   },
   "outputs": [],
   "source": []
  }
 ],
 "metadata": {
  "kernelspec": {
   "display_name": "Python 2",
   "language": "python",
   "name": "python2"
  },
  "language_info": {
   "codemirror_mode": {
    "name": "ipython",
    "version": 2
   },
   "file_extension": ".py",
   "mimetype": "text/x-python",
   "name": "python",
   "nbconvert_exporter": "python",
   "pygments_lexer": "ipython2",
   "version": "2.7.13"
  }
 },
 "nbformat": 4,
 "nbformat_minor": 2
}
