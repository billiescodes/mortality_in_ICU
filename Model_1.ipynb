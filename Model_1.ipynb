{
 "cells": [
  {
   "cell_type": "code",
   "execution_count": 1,
   "metadata": {
    "collapsed": true,
    "deletable": true,
    "editable": true
   },
   "outputs": [],
   "source": [
    "from __future__ import print_function, division"
   ]
  },
  {
   "cell_type": "code",
   "execution_count": 38,
   "metadata": {
    "collapsed": true,
    "deletable": true,
    "editable": true
   },
   "outputs": [],
   "source": [
    "\n",
    "import numpy as np\n",
    "import pandas as pd\n",
    "import matplotlib.pyplot as plt\n",
    "%matplotlib inline\n",
    "import seaborn as sns\n",
    "\n",
    "import timeit\n",
    "#from sklearn.cross_validation import train_test_split"
   ]
  },
  {
   "cell_type": "code",
   "execution_count": 48,
   "metadata": {
    "collapsed": true,
    "deletable": true,
    "editable": true
   },
   "outputs": [],
   "source": [
    "from sklearn.model_selection import train_test_split\n",
    "#from sklearn.cross_validation import train_test_split\n",
    "\n",
    "from sklearn.linear_model import LogisticRegression\n",
    "\n",
    "from sklearn.metrics import log_loss\n",
    "from sklearn.metrics import accuracy_score\n",
    "from sklearn.metrics import precision_score\n",
    "from sklearn.metrics import recall_score\n",
    "from sklearn.metrics import f1_score\n",
    "\n",
    "from sklearn.metrics import confusion_matrix"
   ]
  },
  {
   "cell_type": "markdown",
   "metadata": {
    "deletable": true,
    "editable": true
   },
   "source": [
    "# Build Models from icd9-code features created using Likelihood model\n",
    "\n",
    "\n",
    "**data tables** : new_alive, new_icd9\n",
    "\n",
    "\n",
    "\\\\[\\frac{P(death | icd9 =x) }{P(survival | icd9 =x)} = prior* \\frac{ P(icd9 = x | death) }{P(icd9 = x | survival)} \\\\]\n",
    "\n",
    "\\\\[  = prior* \\frac{ \\frac{count Deaths}{All Deaths}} {\\frac{count Survival}{All Survival}} \\\\]\n",
    "\n"
   ]
  },
  {
   "cell_type": "code",
   "execution_count": 4,
   "metadata": {
    "collapsed": false,
    "deletable": true,
    "editable": true
   },
   "outputs": [],
   "source": [
    "df = pd.read_csv('mimic_data/data_model1.csv')"
   ]
  },
  {
   "cell_type": "code",
   "execution_count": 5,
   "metadata": {
    "collapsed": false,
    "deletable": true,
    "editable": true
   },
   "outputs": [
    {
     "data": {
      "text/html": [
       "<div>\n",
       "<table border=\"1\" class=\"dataframe\">\n",
       "  <thead>\n",
       "    <tr style=\"text-align: right;\">\n",
       "      <th></th>\n",
       "      <th>hadm_id</th>\n",
       "      <th>subject_id</th>\n",
       "      <th>expire_flag</th>\n",
       "      <th>gender</th>\n",
       "      <th>admission_type</th>\n",
       "      <th>diagnosis</th>\n",
       "      <th>age</th>\n",
       "      <th>07031</th>\n",
       "      <th>07041</th>\n",
       "      <th>1481</th>\n",
       "      <th>...</th>\n",
       "      <th>85205</th>\n",
       "      <th>85225</th>\n",
       "      <th>9878</th>\n",
       "      <th>99685</th>\n",
       "      <th>99688</th>\n",
       "      <th>E9278</th>\n",
       "      <th>V1062</th>\n",
       "      <th>V143</th>\n",
       "      <th>V4578</th>\n",
       "      <th>V568</th>\n",
       "    </tr>\n",
       "  </thead>\n",
       "  <tbody>\n",
       "    <tr>\n",
       "      <th>0</th>\n",
       "      <td>121205</td>\n",
       "      <td>91</td>\n",
       "      <td>1</td>\n",
       "      <td>F</td>\n",
       "      <td>EMERGENCY</td>\n",
       "      <td>FEVER</td>\n",
       "      <td>81.0</td>\n",
       "      <td>0.0</td>\n",
       "      <td>0.0</td>\n",
       "      <td>0.0</td>\n",
       "      <td>...</td>\n",
       "      <td>0.0</td>\n",
       "      <td>0.0</td>\n",
       "      <td>0.0</td>\n",
       "      <td>0.0</td>\n",
       "      <td>0.0</td>\n",
       "      <td>0.0</td>\n",
       "      <td>0.0</td>\n",
       "      <td>0.0</td>\n",
       "      <td>0.0</td>\n",
       "      <td>0.0</td>\n",
       "    </tr>\n",
       "    <tr>\n",
       "      <th>1</th>\n",
       "      <td>183686</td>\n",
       "      <td>94</td>\n",
       "      <td>1</td>\n",
       "      <td>M</td>\n",
       "      <td>EMERGENCY</td>\n",
       "      <td>SEPSIS</td>\n",
       "      <td>74.0</td>\n",
       "      <td>0.0</td>\n",
       "      <td>0.0</td>\n",
       "      <td>0.0</td>\n",
       "      <td>...</td>\n",
       "      <td>0.0</td>\n",
       "      <td>0.0</td>\n",
       "      <td>0.0</td>\n",
       "      <td>0.0</td>\n",
       "      <td>0.0</td>\n",
       "      <td>0.0</td>\n",
       "      <td>0.0</td>\n",
       "      <td>0.0</td>\n",
       "      <td>0.0</td>\n",
       "      <td>0.0</td>\n",
       "    </tr>\n",
       "    <tr>\n",
       "      <th>2</th>\n",
       "      <td>140037</td>\n",
       "      <td>94</td>\n",
       "      <td>1</td>\n",
       "      <td>M</td>\n",
       "      <td>EMERGENCY</td>\n",
       "      <td>PNEUMONIA</td>\n",
       "      <td>74.0</td>\n",
       "      <td>0.0</td>\n",
       "      <td>0.0</td>\n",
       "      <td>0.0</td>\n",
       "      <td>...</td>\n",
       "      <td>0.0</td>\n",
       "      <td>0.0</td>\n",
       "      <td>0.0</td>\n",
       "      <td>0.0</td>\n",
       "      <td>0.0</td>\n",
       "      <td>0.0</td>\n",
       "      <td>0.0</td>\n",
       "      <td>0.0</td>\n",
       "      <td>0.0</td>\n",
       "      <td>0.0</td>\n",
       "    </tr>\n",
       "  </tbody>\n",
       "</table>\n",
       "<p>3 rows × 54 columns</p>\n",
       "</div>"
      ],
      "text/plain": [
       "   hadm_id  subject_id  expire_flag gender admission_type  diagnosis   age  \\\n",
       "0   121205          91            1      F      EMERGENCY      FEVER  81.0   \n",
       "1   183686          94            1      M      EMERGENCY     SEPSIS  74.0   \n",
       "2   140037          94            1      M      EMERGENCY  PNEUMONIA  74.0   \n",
       "\n",
       "   07031  07041  1481  ...   85205  85225  9878  99685  99688  E9278  V1062  \\\n",
       "0    0.0    0.0   0.0  ...     0.0    0.0   0.0    0.0    0.0    0.0    0.0   \n",
       "1    0.0    0.0   0.0  ...     0.0    0.0   0.0    0.0    0.0    0.0    0.0   \n",
       "2    0.0    0.0   0.0  ...     0.0    0.0   0.0    0.0    0.0    0.0    0.0   \n",
       "\n",
       "   V143  V4578  V568  \n",
       "0   0.0    0.0   0.0  \n",
       "1   0.0    0.0   0.0  \n",
       "2   0.0    0.0   0.0  \n",
       "\n",
       "[3 rows x 54 columns]"
      ]
     },
     "execution_count": 5,
     "metadata": {},
     "output_type": "execute_result"
    }
   ],
   "source": [
    "df[:3]"
   ]
  },
  {
   "cell_type": "code",
   "execution_count": 6,
   "metadata": {
    "collapsed": false,
    "deletable": true,
    "editable": true
   },
   "outputs": [
    {
     "data": {
      "text/plain": [
       "array(['EMERGENCY', 'ELECTIVE', 'URGENT', 'NEWBORN'], dtype=object)"
      ]
     },
     "execution_count": 6,
     "metadata": {},
     "output_type": "execute_result"
    }
   ],
   "source": [
    "df.admission_type.unique()"
   ]
  },
  {
   "cell_type": "code",
   "execution_count": null,
   "metadata": {
    "collapsed": true,
    "deletable": true,
    "editable": true
   },
   "outputs": [],
   "source": []
  },
  {
   "cell_type": "code",
   "execution_count": 7,
   "metadata": {
    "collapsed": false,
    "deletable": true,
    "editable": true
   },
   "outputs": [
    {
     "name": "stdout",
     "output_type": "stream",
     "text": [
      "['EMERGENCY' 'ELECTIVE' 'URGENT' 'NEWBORN']\n"
     ]
    }
   ],
   "source": [
    "# ############ Admission_type into categorical \n",
    "cols = ['NEWBORN', 'URGENT', 'EMERGENCY', 'ELECTIVE']\n",
    "nums = [0, 1, 2, 3 ]\n",
    "print(df.admission_type.unique())\n",
    "\n",
    "df.admission_type.replace(cols, nums, inplace=True)"
   ]
  },
  {
   "cell_type": "code",
   "execution_count": 8,
   "metadata": {
    "collapsed": false,
    "deletable": true,
    "editable": true
   },
   "outputs": [],
   "source": [
    "########### Gender ##########\n",
    "gen = [\"M\", \"F\"]\n",
    "n_g = [0,1]\n",
    "df.gender.replace(gen, n_g, inplace=True)"
   ]
  },
  {
   "cell_type": "code",
   "execution_count": 9,
   "metadata": {
    "collapsed": false,
    "deletable": true,
    "editable": true
   },
   "outputs": [
    {
     "name": "stdout",
     "output_type": "stream",
     "text": [
      "<class 'pandas.core.frame.DataFrame'>\n",
      "RangeIndex: 58976 entries, 0 to 58975\n",
      "Data columns (total 54 columns):\n",
      "hadm_id           58976 non-null int64\n",
      "subject_id        58976 non-null int64\n",
      "expire_flag       58976 non-null int64\n",
      "gender            58976 non-null int64\n",
      "admission_type    58976 non-null int64\n",
      "diagnosis         58951 non-null object\n",
      "age               58976 non-null float64\n",
      "07031             58973 non-null float64\n",
      "07041             58973 non-null float64\n",
      "1481              58973 non-null float64\n",
      "1519              58973 non-null float64\n",
      "1530              58973 non-null float64\n",
      "1560              58973 non-null float64\n",
      "1715              58973 non-null float64\n",
      "1910              58973 non-null float64\n",
      "1965              58973 non-null float64\n",
      "1971              58973 non-null float64\n",
      "1972              58973 non-null float64\n",
      "1984              58973 non-null float64\n",
      "20030             58973 non-null float64\n",
      "20510             58973 non-null float64\n",
      "2468              58973 non-null float64\n",
      "25023             58973 non-null float64\n",
      "27953             58973 non-null float64\n",
      "29389             58973 non-null float64\n",
      "3581              58973 non-null float64\n",
      "36001             58973 non-null float64\n",
      "36019             58973 non-null float64\n",
      "36400             58973 non-null float64\n",
      "3643              58973 non-null float64\n",
      "3693              58973 non-null float64\n",
      "37239             58973 non-null float64\n",
      "37900             58973 non-null float64\n",
      "4449              58973 non-null float64\n",
      "46611             58973 non-null float64\n",
      "485               58973 non-null float64\n",
      "48801             58973 non-null float64\n",
      "51181             58973 non-null float64\n",
      "5581              58973 non-null float64\n",
      "58281             58973 non-null float64\n",
      "6829              58973 non-null float64\n",
      "72290             58973 non-null float64\n",
      "73004             58973 non-null float64\n",
      "78939             58973 non-null float64\n",
      "85205             58973 non-null float64\n",
      "85225             58973 non-null float64\n",
      "9878              58973 non-null float64\n",
      "99685             58973 non-null float64\n",
      "99688             58973 non-null float64\n",
      "E9278             58973 non-null float64\n",
      "V1062             58973 non-null float64\n",
      "V143              58973 non-null float64\n",
      "V4578             58973 non-null float64\n",
      "V568              58973 non-null float64\n",
      "dtypes: float64(48), int64(5), object(1)\n",
      "memory usage: 24.3+ MB\n"
     ]
    }
   ],
   "source": [
    "df.info()"
   ]
  },
  {
   "cell_type": "code",
   "execution_count": 10,
   "metadata": {
    "collapsed": false,
    "deletable": true,
    "editable": true
   },
   "outputs": [],
   "source": [
    "df.dropna(inplace=True)"
   ]
  },
  {
   "cell_type": "code",
   "execution_count": 24,
   "metadata": {
    "collapsed": true,
    "deletable": true,
    "editable": true
   },
   "outputs": [],
   "source": [
    "\"\"\"\n",
    "    build pr-curve comparing ground truth with model score\n",
    "    truthvec - truth vectore\n",
    "    scorevec - score vector\n",
    "    s - type of classifier , eg. 'logistic', 'random forest' etc.\n",
    "\"\"\"\n",
    "\n",
    "def pr_curve(truthvec, scorevec, s, digit_prec=2):\n",
    "    threshvec = np.unique(np.round(scorevec,digit_prec))\n",
    "    numthresh = len(threshvec)\n",
    "    tpvec = np.zeros(numthresh)\n",
    "    fpvec = np.zeros(numthresh)\n",
    "    fnvec = np.zeros(numthresh)\n",
    "\n",
    "    for i in range(numthresh):\n",
    "        thresh = threshvec[i]\n",
    "        tpvec[i] = sum(truthvec[scorevec>=thresh])\n",
    "        fpvec[i] = sum(1-truthvec[scorevec>=thresh])\n",
    "        fnvec[i] = sum(truthvec[scorevec<thresh])\n",
    "    recallvec = tpvec/(tpvec + fnvec)\n",
    "    precisionvec = tpvec/(tpvec + fpvec)\n",
    "    plt.plot(precisionvec,recallvec, label=s)\n",
    "    plt.axis([0, 1, 0, 1])\n",
    "    plt.xlabel(\"Precision\")\n",
    "    plt.ylabel(\"Recall\")\n",
    "    plt.legend()\n",
    "    return (recallvec, precisionvec, threshvec)"
   ]
  },
  {
   "cell_type": "code",
   "execution_count": 49,
   "metadata": {
    "collapsed": false,
    "deletable": true,
    "editable": true
   },
   "outputs": [],
   "source": [
    "# exclude diagnosis from the fit\n",
    "df.columns.values\n",
    "cols = ['gender', 'admission_type',\n",
    "       'age', '07031', '07041', '1481', '1519', '1530',\n",
    "       '1560', '1715', '1910', '1965', '1971', '1972', '1984', '20030',\n",
    "       '20510', '2468', '25023', '27953', '29389', '3581', '36001',\n",
    "       '36019', '36400', '3643', '3693', '37239', '37900', '4449', '46611',\n",
    "       '485', '48801', '51181', '5581', '58281', '6829', '72290', '73004',\n",
    "       '78939', '85205', '85225', '9878', '99685', '99688', 'E9278',\n",
    "       'V1062', 'V143', 'V4578', 'V568'] # 'hadm_id', 'subject_id', 'expire_flag','diagnosis'\n",
    "\n",
    "X = df.loc[:, cols]\n",
    "y = df.loc[:,'expire_flag']"
   ]
  },
  {
   "cell_type": "markdown",
   "metadata": {
    "deletable": true,
    "editable": true
   },
   "source": [
    "# Logistic Model: Gender, Age, Admission type + ICD9 codes"
   ]
  },
  {
   "cell_type": "code",
   "execution_count": 50,
   "metadata": {
    "collapsed": true,
    "deletable": true,
    "editable": true
   },
   "outputs": [],
   "source": [
    "X_train, X_test, y_train, y_test = train_test_split(X,y,test_size=0.3, random_state=4444 )"
   ]
  },
  {
   "cell_type": "code",
   "execution_count": 51,
   "metadata": {
    "collapsed": false,
    "deletable": true,
    "editable": true
   },
   "outputs": [
    {
     "data": {
      "text/plain": [
       "LogisticRegression(C=1.0, class_weight=None, dual=False, fit_intercept=True,\n",
       "          intercept_scaling=1, max_iter=100, multi_class='ovr', n_jobs=1,\n",
       "          penalty='l2', random_state=None, solver='liblinear', tol=0.0001,\n",
       "          verbose=0, warm_start=False)"
      ]
     },
     "execution_count": 51,
     "metadata": {},
     "output_type": "execute_result"
    }
   ],
   "source": [
    "\"\"\"\n",
    "    make an instance of a Logistic Regression Model \n",
    "\"\"\"\n",
    "\n",
    "lr_model = LogisticRegression()\n",
    "lr_model.fit(X_train, y_train)"
   ]
  },
  {
   "cell_type": "code",
   "execution_count": 52,
   "metadata": {
    "collapsed": false,
    "deletable": true,
    "editable": true
   },
   "outputs": [],
   "source": [
    "y_pred_lr = lr_model.fit(X_train, y_train).predict_proba(X_test)"
   ]
  },
  {
   "cell_type": "code",
   "execution_count": null,
   "metadata": {
    "collapsed": true
   },
   "outputs": [],
   "source": []
  },
  {
   "cell_type": "code",
   "execution_count": 53,
   "metadata": {
    "collapsed": false,
    "deletable": true,
    "editable": true
   },
   "outputs": [],
   "source": [
    "lr_vec = y_pred_lr[:,1]"
   ]
  },
  {
   "cell_type": "markdown",
   "metadata": {},
   "source": [
    "### Evaluation"
   ]
  },
  {
   "cell_type": "code",
   "execution_count": 19,
   "metadata": {
    "collapsed": false,
    "deletable": true,
    "editable": true
   },
   "outputs": [
    {
     "data": {
      "text/plain": [
       "\"\\n    ValueError: Can't handle mix of binary and continuous-multioutput\\n\""
      ]
     },
     "execution_count": 19,
     "metadata": {},
     "output_type": "execute_result"
    }
   ],
   "source": [
    "\"\"\"\n",
    "    ValueError: Can't handle mix of binary and continuous-multioutput\n",
    "\"\"\"\n",
    "#accuracy_score(y_test, y_pred_lr, normalize=True)"
   ]
  },
  {
   "cell_type": "code",
   "execution_count": 30,
   "metadata": {
    "collapsed": false,
    "deletable": true,
    "editable": true
   },
   "outputs": [
    {
     "data": {
      "text/plain": [
       "0.7851114114741289"
      ]
     },
     "execution_count": 30,
     "metadata": {},
     "output_type": "execute_result"
    }
   ],
   "source": [
    "from sklearn.metrics import roc_auc_score\n",
    "roc_auc_score(y_test,lr_vec)\n"
   ]
  },
  {
   "cell_type": "code",
   "execution_count": 32,
   "metadata": {
    "collapsed": false,
    "deletable": true,
    "editable": true
   },
   "outputs": [
    {
     "data": {
      "image/png": "[encoded data removed]",
      "text/plain": [
       "<matplotlib.figure.Figure at 0x115c01a90>"
      ]
     },
     "metadata": {},
     "output_type": "display_data"
    }
   ],
   "source": [
    "pr_curve(y_test, lr_vec,'logistic');"
   ]
  },
  {
   "cell_type": "markdown",
   "metadata": {},
   "source": [
    "### Confusion matrix "
   ]
  },
  {
   "cell_type": "code",
   "execution_count": 72,
   "metadata": {
    "collapsed": false
   },
   "outputs": [],
   "source": [
    "# for confusion matrix use method .predict, to get the predicted label, not probability\n",
    "prediction = lr_model.fit(X_train, y_train).predict(X_test)\n",
    "accuracy = accuracy_score(y_test, prediction, normalize=True)"
   ]
  },
  {
   "cell_type": "code",
   "execution_count": null,
   "metadata": {
    "collapsed": true
   },
   "outputs": [],
   "source": []
  },
  {
   "cell_type": "code",
   "execution_count": 62,
   "metadata": {
    "collapsed": false
   },
   "outputs": [
    {
     "data": {
      "text/plain": [
       "array([1, 0, 0, ..., 0, 0, 0])"
      ]
     },
     "execution_count": 62,
     "metadata": {},
     "output_type": "execute_result"
    }
   ],
   "source": [
    "prediction"
   ]
  },
  {
   "cell_type": "code",
   "execution_count": 69,
   "metadata": {
    "collapsed": false
   },
   "outputs": [
    {
     "data": {
      "text/plain": [
       "17685"
      ]
     },
     "execution_count": 69,
     "metadata": {},
     "output_type": "execute_result"
    }
   ],
   "source": [
    "prediction.size"
   ]
  },
  {
   "cell_type": "code",
   "execution_count": 66,
   "metadata": {
    "collapsed": false
   },
   "outputs": [
    {
     "data": {
      "text/plain": [
       "13208    1\n",
       "24071    0\n",
       "47387    0\n",
       "Name: expire_flag, dtype: int64"
      ]
     },
     "execution_count": 66,
     "metadata": {},
     "output_type": "execute_result"
    }
   ],
   "source": [
    "y_test[:3]"
   ]
  },
  {
   "cell_type": "code",
   "execution_count": 68,
   "metadata": {
    "collapsed": false
   },
   "outputs": [
    {
     "data": {
      "text/plain": [
       "array([[8759, 2189],\n",
       "       [2799, 3938]])"
      ]
     },
     "execution_count": 68,
     "metadata": {},
     "output_type": "execute_result"
    }
   ],
   "source": [
    "#imported above\n",
    "cm = confusion_matrix(y_test, prediction)\n",
    "cm"
   ]
  },
  {
   "cell_type": "code",
   "execution_count": 74,
   "metadata": {
    "collapsed": false
   },
   "outputs": [
    {
     "data": {
      "image/png": "[encoded data removed]",
      "text/plain": [
       "<matplotlib.figure.Figure at 0x10e7f0050>"
      ]
     },
     "metadata": {},
     "output_type": "display_data"
    }
   ],
   "source": [
    "plt.figure(figsize=(9,9))\n",
    "sns.heatmap(cm, annot=True, fmt=\".3f\", linewidths=.5, square = True, cmap = 'Blues_r');\n",
    "plt.ylabel('Actual label');\n",
    "plt.xlabel('Predicted label');\n",
    "all_sample_title = 'Accuracy Score: {0}'.format(round(accuracy,2))\n",
    "plt.title(all_sample_title, size = 15);"
   ]
  },
  {
   "cell_type": "markdown",
   "metadata": {},
   "source": [
    "Model performs best in the accuracy of true positives, followed by true negatives\n",
    "\n",
    "Model has somewhat higher number of false negatives (than false positives) \n",
    "\n",
    "Model under-estimates and mis-classifies fatal cases at higher rates than non-fatal. "
   ]
  },
  {
   "cell_type": "code",
   "execution_count": 34,
   "metadata": {
    "collapsed": false,
    "deletable": true,
    "editable": true
   },
   "outputs": [],
   "source": [
    "#random forest\n",
    "plt.figure()\n",
    "pr_curve(y_test, rf1_pred_vec,'random forest')\n",
    "pr_curve(y_test, lr_vec,'logistic regression')\n",
    "gb1_pr=pr_curve(y_test,gb1_pred_vec, 'gradient boost')\n",
    "#plt.savefig('pr');"
   ]
  },
  {
   "cell_type": "code",
   "execution_count": null,
   "metadata": {
    "collapsed": false,
    "deletable": true,
    "editable": true
   },
   "outputs": [],
   "source": [
    "#################\n",
    "### for predict_proba, use log-loss\n",
    "\n",
    "# for col in X_train.columns:\n",
    "#     print (col)\n",
    "#     X_tr = X_train.loc[:, col].values.reshape(-1,1)\n",
    "#     X_te = X_test.loc[:,col].values.reshape(-1,1)\n",
    "#     lr_model = LogisticRegression()\n",
    "#     lr_model.fit(X_tr, y_train)\n",
    "#     y_prob_pred = lr_model.predict_proba(X_te)[:,1]\n",
    "#     print( \"log-loss\",log_loss(y_test, y_prob_pred)) "
   ]
  },
  {
   "cell_type": "markdown",
   "metadata": {
    "deletable": true,
    "editable": true
   },
   "source": [
    "# Random forest + gradient boosting\n"
   ]
  },
  {
   "cell_type": "code",
   "execution_count": 35,
   "metadata": {
    "collapsed": false,
    "deletable": true,
    "editable": true
   },
   "outputs": [],
   "source": [
    "#from sklearn.ensemble import RandomForestClassifier\n",
    "from sklearn.ensemble import RandomForestClassifier, GradientBoostingClassifier\n",
    "from sklearn.metrics import roc_auc_score, log_loss\n"
   ]
  },
  {
   "cell_type": "code",
   "execution_count": null,
   "metadata": {
    "collapsed": false,
    "deletable": true,
    "editable": true
   },
   "outputs": [],
   "source": [
    "\"\"\"\n",
    "    train Classifiers first: y_pred_RF\n",
    "\"\"\"\n",
    "# print(\"accuracy \\t\",accuracy_score(y_test, y_pred_RF, normalize=True))\n",
    "# print (\"precision \\t \", precision_score(y_test, y_pred_RF))\n",
    "# print (\"recall \\t\", recall_score(y_test, y_pred_RF))\n",
    "# print ('f1 \\t',f1_score(y_test, y_pred_RF))"
   ]
  },
  {
   "cell_type": "markdown",
   "metadata": {
    "deletable": true,
    "editable": true
   },
   "source": [
    "Notes\n",
    "+ recall is improved when max_features is increased\n",
    "+ n_estimators : does not seem to have an affect\n"
   ]
  },
  {
   "cell_type": "code",
   "execution_count": 39,
   "metadata": {
    "collapsed": false,
    "deletable": true,
    "editable": true
   },
   "outputs": [
    {
     "name": "stdout",
     "output_type": "stream",
     "text": [
      "Random Forest Classifier takes 42.3299849033 sec) \n"
     ]
    }
   ],
   "source": [
    "start = timeit.default_timer()\n",
    "rnd = RandomForestClassifier(n_estimators=1000, max_features='sqrt', n_jobs=-1)\n",
    "y_pred_RF_P = rnd.fit(X_train, y_train).predict_proba(X_test)\n",
    "elapsed = timeit.default_timer() - start\n",
    "print (\"Random Forest Classifier takes {} sec) \".format(elapsed))"
   ]
  },
  {
   "cell_type": "code",
   "execution_count": 40,
   "metadata": {
    "collapsed": false,
    "deletable": true,
    "editable": true
   },
   "outputs": [
    {
     "data": {
      "text/plain": [
       "array([7.58630226e-03, 2.60455394e-01, 5.99377981e-01, 8.98919833e-04,\n",
       "       3.38572339e-03, 7.09996708e-04, 1.18924504e-03, 6.60392806e-04,\n",
       "       2.59424997e-03, 8.86197382e-04, 1.18928944e-03, 2.58104220e-03,\n",
       "       4.98370125e-03, 2.19647738e-02, 9.91615939e-03, 1.46094392e-03,\n",
       "       5.31288178e-03, 6.08618870e-04, 1.71852719e-03, 9.87852538e-04,\n",
       "       1.71921792e-03, 1.79645306e-03, 8.15368387e-04, 6.89192287e-04,\n",
       "       7.98957331e-04, 7.74819071e-04, 7.34751275e-04, 1.77891936e-03,\n",
       "       9.02662913e-04, 1.16858242e-03, 1.19720010e-03, 6.66428265e-03,\n",
       "       2.48634205e-04, 1.01859886e-02, 2.96462252e-03, 3.42152439e-03,\n",
       "       2.33862097e-03, 2.13420634e-03, 1.22610158e-03, 2.43057719e-03,\n",
       "       3.24075283e-03, 3.26215103e-03, 8.50201382e-04, 1.54427028e-02,\n",
       "       1.80856474e-04, 1.58325095e-03, 2.32207776e-04, 6.93526692e-04,\n",
       "       1.28533165e-03, 7.70143584e-04])"
      ]
     },
     "execution_count": 40,
     "metadata": {},
     "output_type": "execute_result"
    }
   ],
   "source": [
    "rnd.feature_importances_"
   ]
  },
  {
   "cell_type": "code",
   "execution_count": 47,
   "metadata": {
    "collapsed": false,
    "deletable": true,
    "editable": true
   },
   "outputs": [],
   "source": [
    "y_pred_RF_P = rnd.fit(X_train, y_train).predict_proba(X_test)\n",
    "\n",
    "# print(\"accuracy \\t\",accuracy_score(y_test, y_pred_RF_P, normalize=True))\n",
    "# print (\"precision \\t \", precision_score(y_test, y_pred_RF_P))\n",
    "# print (\"recall \\t\", recall_score(y_test, y_pred_RF_P))\n",
    "# print ('f1 \\t',f1_score(y_test, y_pred_RF_P))"
   ]
  },
  {
   "cell_type": "code",
   "execution_count": 44,
   "metadata": {
    "collapsed": false,
    "deletable": true,
    "editable": true
   },
   "outputs": [
    {
     "data": {
      "text/plain": [
       "(17685, 2)"
      ]
     },
     "execution_count": 44,
     "metadata": {},
     "output_type": "execute_result"
    }
   ],
   "source": [
    "y_pred_RF_P.shape"
   ]
  },
  {
   "cell_type": "code",
   "execution_count": 43,
   "metadata": {
    "collapsed": true,
    "deletable": true,
    "editable": true
   },
   "outputs": [],
   "source": [
    "#second column \n",
    "rf1_pred_vec = y_pred_RF_P[:,1]"
   ]
  },
  {
   "cell_type": "code",
   "execution_count": 45,
   "metadata": {
    "collapsed": false,
    "deletable": true,
    "editable": true
   },
   "outputs": [
    {
     "ename": "TypeError",
     "evalue": "pr_curve() takes at least 3 arguments (2 given)",
     "output_type": "error",
     "traceback": [
      "\u001b[0;31m---------------------------------------------------------------------------\u001b[0m",
      "\u001b[0;31mTypeError\u001b[0m                                 Traceback (most recent call last)",
      "\u001b[0;32m<ipython-input-45-5f044ea5e6c1>\u001b[0m in \u001b[0;36m<module>\u001b[0;34m()\u001b[0m\n\u001b[1;32m      1\u001b[0m \u001b[0mplt\u001b[0m\u001b[0;34m.\u001b[0m\u001b[0mfigure\u001b[0m\u001b[0;34m(\u001b[0m\u001b[0;34m)\u001b[0m\u001b[0;34m\u001b[0m\u001b[0m\n\u001b[0;32m----> 2\u001b[0;31m \u001b[0mpr_curve\u001b[0m\u001b[0;34m(\u001b[0m\u001b[0my_test\u001b[0m\u001b[0;34m,\u001b[0m \u001b[0mrf1_pred_vec\u001b[0m\u001b[0;34m)\u001b[0m\u001b[0;34m;\u001b[0m\u001b[0;34m\u001b[0m\u001b[0m\n\u001b[0m",
      "\u001b[0;31mTypeError\u001b[0m: pr_curve() takes at least 3 arguments (2 given)"
     ]
    },
    {
     "data": {
      "text/plain": [
       "<matplotlib.figure.Figure at 0x115ed0450>"
      ]
     },
     "metadata": {},
     "output_type": "display_data"
    }
   ],
   "source": [
    "plt.figure()\n",
    "pr_curve(y_test, rf1_pred_vec);"
   ]
  },
  {
   "cell_type": "code",
   "execution_count": null,
   "metadata": {
    "collapsed": false,
    "deletable": true,
    "editable": true
   },
   "outputs": [],
   "source": [
    "np.mean(y_test)"
   ]
  },
  {
   "cell_type": "code",
   "execution_count": null,
   "metadata": {
    "collapsed": false,
    "deletable": true,
    "editable": true
   },
   "outputs": [],
   "source": [
    "roc_auc_score(y_test,rf1_pred_vec)"
   ]
  },
  {
   "cell_type": "markdown",
   "metadata": {
    "deletable": true,
    "editable": true
   },
   "source": [
    "a possible way of interpreting this model : \n",
    "if I want to isolate a group of patients in the ICU with 80% precision, (80 TP/ 20 FP), so that 4/5ths have high mortality (are likely to die / WILL die) for special care, I can do this with 20% recall (Meaning we will catch only 20% of all patients who will die) \n",
    "\n",
    "If we want to catch more of the total patients who will die (Higher recall) "
   ]
  },
  {
   "cell_type": "code",
   "execution_count": null,
   "metadata": {
    "collapsed": false,
    "deletable": true,
    "editable": true
   },
   "outputs": [],
   "source": [
    "model_gb1 = GradientBoostingClassifier(n_estimators=4000,max_depth=3,learning_rate=.003)\n",
    "model_gb1.fit(X_train, y_train)"
   ]
  },
  {
   "cell_type": "code",
   "execution_count": null,
   "metadata": {
    "collapsed": true,
    "deletable": true,
    "editable": true
   },
   "outputs": [],
   "source": [
    "\n",
    "# predict class labels for the test set\n",
    "gb1_pred_mat = model_gb1.predict_proba(X_test)\n",
    "gb1_pred_vec = gb1_pred_mat[:,1]"
   ]
  },
  {
   "cell_type": "code",
   "execution_count": null,
   "metadata": {
    "collapsed": false,
    "deletable": true,
    "editable": true
   },
   "outputs": [],
   "source": [
    "a = list(zip(X.columns, model_gb1.feature_importances_))"
   ]
  },
  {
   "cell_type": "code",
   "execution_count": null,
   "metadata": {
    "collapsed": false,
    "deletable": true,
    "editable": true,
    "scrolled": true
   },
   "outputs": [],
   "source": [
    "a.sort(key=lambda tup: tup[1]) \n",
    "a"
   ]
  },
  {
   "cell_type": "code",
   "execution_count": null,
   "metadata": {
    "collapsed": true,
    "deletable": true,
    "editable": true
   },
   "outputs": [],
   "source": [
    "('85225', 0.023728398524586445),\n",
    " ('58281', 0.02449622482246934),\n",
    " ('6829', 0.024804630629938505),\n",
    " ('20510', 0.025198270897120314),\n",
    " ('1971', 0.02572697097360083),\n",
    " ('07041', 0.025937043632540509),\n",
    " ('485', 0.031539383481972216),\n",
    " ('51181', 0.032793101127143578),\n",
    " ('99685', 0.03296745209222874),\n",
    " ('1984', 0.037243108801294431),\n",
    " ('1972', 0.04072702054898935),\n",
    " ('admission_type', 0.054172788832846458),\n",
    " ('age', 0.30028027265805535)]"
   ]
  },
  {
   "cell_type": "code",
   "execution_count": null,
   "metadata": {
    "collapsed": true,
    "deletable": true,
    "editable": true
   },
   "outputs": [],
   "source": [
    "age, 0.3"
   ]
  },
  {
   "cell_type": "code",
   "execution_count": null,
   "metadata": {
    "collapsed": false,
    "deletable": true,
    "editable": true
   },
   "outputs": [],
   "source": [
    "roc_auc_score(y_test,gb1_pred_vec)\n"
   ]
  },
  {
   "cell_type": "code",
   "execution_count": null,
   "metadata": {
    "collapsed": false,
    "deletable": true,
    "editable": true
   },
   "outputs": [],
   "source": [
    "gb1_pr=pr_curve(y_test,gb1_pred_vec, 'gradient boost');\n"
   ]
  },
  {
   "cell_type": "code",
   "execution_count": null,
   "metadata": {
    "collapsed": true,
    "deletable": true,
    "editable": true
   },
   "outputs": [],
   "source": []
  }
 ],
 "metadata": {
  "kernelspec": {
   "display_name": "Python 2",
   "language": "python",
   "name": "python2"
  },
  "language_info": {
   "codemirror_mode": {
    "name": "ipython",
    "version": 2
   },
   "file_extension": ".py",
   "mimetype": "text/x-python",
   "name": "python",
   "nbconvert_exporter": "python",
   "pygments_lexer": "ipython2",
   "version": "2.7.13"
  }
 },
 "nbformat": 4,
 "nbformat_minor": 2
}
