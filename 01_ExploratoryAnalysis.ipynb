{
 "cells": [
  {
   "cell_type": "markdown",
   "metadata": {
    "deletable": true,
    "editable": true
   },
   "source": [
    "\n",
    "# EDA and preparing the data \n",
    "\n",
    "This notebook includes some important data exploration, groupings and breakdowns of different features, relvant visualizations and some statistics. Furthermore it builds the dataframe that is used in the model notebook(s) which includes the Naive Bayes calculation.\n",
    "\n",
    "### Including:\n",
    " 1. Most Common Diagnoses Fatal v. Non Fatal\n",
    " 1. * Using Naive Bayes to find diseases that are good features *\n",
    "  \n",
    "    \\\\[\\frac{P( Death  |  icd9=x) }{P( Survival | icd9 x)} \\\\]\n",
    "    \n",
    " 1. Combination of Patients and Admissions table\n",
    " 1. First Model: Gender and Age Logistic Regression\n",
    " 1. Create DataFrame with icd9- as features\n",
    " 1. (optional) if you wanna look at ethnicity\n",
    " \n",
    "#### terms in data tables \n",
    "\n",
    "* hadm_id    = hospital admission id (one patient could map to several) \n",
    "* subject_id = personal id (unique to patient)\n",
    "* seq_num    = sequential number of diagnosis ( 1 being most serious/reason for coming in)  \n"
   ]
  },
  {
   "cell_type": "code",
   "execution_count": 1,
   "metadata": {
    "collapsed": true,
    "deletable": true,
    "editable": true
   },
   "outputs": [],
   "source": [
    "from __future__ import print_function, division"
   ]
  },
  {
   "cell_type": "code",
   "execution_count": 2,
   "metadata": {
    "collapsed": true,
    "deletable": true,
    "editable": true
   },
   "outputs": [],
   "source": [
    "import numpy as np\n",
    "import pandas as pd\n",
    "import matplotlib.pyplot as plt\n",
    "%matplotlib inline\n",
    "import seaborn as sns"
   ]
  },
  {
   "cell_type": "code",
   "execution_count": 3,
   "metadata": {
    "collapsed": true,
    "deletable": true,
    "editable": true
   },
   "outputs": [],
   "source": [
    "from sklearn.model_selection import train_test_split\n",
    "from sklearn.linear_model import LogisticRegression\n",
    "\n",
    "from sklearn.metrics import log_loss\n",
    "from sklearn.metrics import accuracy_score\n",
    "from sklearn.metrics import precision_score\n",
    "from sklearn.metrics import recall_score\n",
    "from sklearn.metrics import f1_score"
   ]
  },
  {
   "cell_type": "code",
   "execution_count": 4,
   "metadata": {
    "collapsed": false,
    "deletable": true,
    "editable": true
   },
   "outputs": [],
   "source": [
    "####import all the previously assembled data \n",
    "\n",
    "# general dataframe with more info: time, gender, language etc\n",
    "data = pd.read_csv(\"mimic_data/admit_1.csv\")\n",
    "### dataframe containing all diagnosis codes for hospital visits tagged: expired/fatal \n",
    "df_expired = pd.read_csv(\"mimic_data/icd9_expire1.csv\")\n",
    "\n",
    "# dataframe containing all diagnosis codes for hospital visits tagged: survived\n",
    "df_alive = pd.read_csv(\"mimic_data/icd9_expire0.csv\")\n",
    "\n",
    "# dataframe containing all diagnoses (short & long) for all hospital visits\n",
    "diagnoses = pd.read_csv(\"mimic_data/diagnoses.csv\")\n",
    "\n",
    "# DICTIONARY of DIAGNOSES (procedures);  only 3882 rows \n",
    "procedures = pd.read_csv(\"mimic_data/procedures.csv\")"
   ]
  },
  {
   "cell_type": "markdown",
   "metadata": {},
   "source": [
    "* df_alive - every single icd9 code for every single hospital visit  -- survived\n",
    "* df_expired - every single icd9 code for every single hospital visit -- fatal"
   ]
  },
  {
   "cell_type": "code",
   "execution_count": 5,
   "metadata": {
    "collapsed": false
   },
   "outputs": [
    {
     "data": {
      "text/html": [
       "<div>\n",
       "<table border=\"1\" class=\"dataframe\">\n",
       "  <thead>\n",
       "    <tr style=\"text-align: right;\">\n",
       "      <th></th>\n",
       "      <th>subject_id</th>\n",
       "      <th>gender</th>\n",
       "      <th>dob</th>\n",
       "      <th>dod</th>\n",
       "      <th>expire_flag</th>\n",
       "      <th>row_id</th>\n",
       "      <th>subject_id.1</th>\n",
       "      <th>hadm_id</th>\n",
       "      <th>admittime</th>\n",
       "      <th>dischtime</th>\n",
       "      <th>...</th>\n",
       "      <th>language</th>\n",
       "      <th>religion</th>\n",
       "      <th>marital_status</th>\n",
       "      <th>ethnicity</th>\n",
       "      <th>edregtime</th>\n",
       "      <th>edouttime</th>\n",
       "      <th>diagnosis</th>\n",
       "      <th>hospital_expire_flag</th>\n",
       "      <th>has_ioevents_data</th>\n",
       "      <th>has_chartevents_data</th>\n",
       "    </tr>\n",
       "  </thead>\n",
       "  <tbody>\n",
       "    <tr>\n",
       "      <th>0</th>\n",
       "      <td>30</td>\n",
       "      <td>M</td>\n",
       "      <td>1872-10-14 00:00:00</td>\n",
       "      <td>NaN</td>\n",
       "      <td>0</td>\n",
       "      <td>29</td>\n",
       "      <td>30</td>\n",
       "      <td>104557</td>\n",
       "      <td>2172-10-14 14:17:00</td>\n",
       "      <td>2172-10-19 14:37:00</td>\n",
       "      <td>...</td>\n",
       "      <td>NaN</td>\n",
       "      <td>CATHOLIC</td>\n",
       "      <td>MARRIED</td>\n",
       "      <td>UNKNOWN/NOT SPECIFIED</td>\n",
       "      <td>NaN</td>\n",
       "      <td>NaN</td>\n",
       "      <td>UNSTABLE ANGINA\\CATH</td>\n",
       "      <td>0</td>\n",
       "      <td>1</td>\n",
       "      <td>1</td>\n",
       "    </tr>\n",
       "    <tr>\n",
       "      <th>1</th>\n",
       "      <td>8402</td>\n",
       "      <td>M</td>\n",
       "      <td>2105-06-24 00:00:00</td>\n",
       "      <td>NaN</td>\n",
       "      <td>0</td>\n",
       "      <td>10260</td>\n",
       "      <td>8402</td>\n",
       "      <td>177676</td>\n",
       "      <td>2167-07-31 09:26:00</td>\n",
       "      <td>2167-08-07 14:36:00</td>\n",
       "      <td>...</td>\n",
       "      <td>NaN</td>\n",
       "      <td>CATHOLIC</td>\n",
       "      <td>MARRIED</td>\n",
       "      <td>WHITE</td>\n",
       "      <td>NaN</td>\n",
       "      <td>NaN</td>\n",
       "      <td>CHEST PAIN\\CATH</td>\n",
       "      <td>0</td>\n",
       "      <td>1</td>\n",
       "      <td>1</td>\n",
       "    </tr>\n",
       "  </tbody>\n",
       "</table>\n",
       "<p>2 rows × 25 columns</p>\n",
       "</div>"
      ],
      "text/plain": [
       "   subject_id gender                  dob  dod  expire_flag  row_id  \\\n",
       "0          30      M  1872-10-14 00:00:00  NaN            0      29   \n",
       "1        8402      M  2105-06-24 00:00:00  NaN            0   10260   \n",
       "\n",
       "   subject_id.1  hadm_id            admittime            dischtime  \\\n",
       "0            30   104557  2172-10-14 14:17:00  2172-10-19 14:37:00   \n",
       "1          8402   177676  2167-07-31 09:26:00  2167-08-07 14:36:00   \n",
       "\n",
       "          ...          language  religion marital_status  \\\n",
       "0         ...               NaN  CATHOLIC        MARRIED   \n",
       "1         ...               NaN  CATHOLIC        MARRIED   \n",
       "\n",
       "               ethnicity edregtime edouttime             diagnosis  \\\n",
       "0  UNKNOWN/NOT SPECIFIED       NaN       NaN  UNSTABLE ANGINA\\CATH   \n",
       "1                  WHITE       NaN       NaN       CHEST PAIN\\CATH   \n",
       "\n",
       "  hospital_expire_flag has_ioevents_data has_chartevents_data  \n",
       "0                    0                 1                    1  \n",
       "1                    0                 1                    1  \n",
       "\n",
       "[2 rows x 25 columns]"
      ]
     },
     "execution_count": 5,
     "metadata": {},
     "output_type": "execute_result"
    }
   ],
   "source": [
    "data[:2]"
   ]
  },
  {
   "cell_type": "code",
   "execution_count": 6,
   "metadata": {
    "collapsed": false
   },
   "outputs": [
    {
     "data": {
      "text/html": [
       "<div>\n",
       "<table border=\"1\" class=\"dataframe\">\n",
       "  <thead>\n",
       "    <tr style=\"text-align: right;\">\n",
       "      <th></th>\n",
       "      <th>hadm_id</th>\n",
       "      <th>subject_id</th>\n",
       "      <th>expire_flag</th>\n",
       "      <th>icd9_code</th>\n",
       "    </tr>\n",
       "  </thead>\n",
       "  <tbody>\n",
       "    <tr>\n",
       "      <th>0</th>\n",
       "      <td>121205</td>\n",
       "      <td>91</td>\n",
       "      <td>1</td>\n",
       "      <td>20008</td>\n",
       "    </tr>\n",
       "    <tr>\n",
       "      <th>1</th>\n",
       "      <td>121205</td>\n",
       "      <td>91</td>\n",
       "      <td>1</td>\n",
       "      <td>2765</td>\n",
       "    </tr>\n",
       "  </tbody>\n",
       "</table>\n",
       "</div>"
      ],
      "text/plain": [
       "   hadm_id  subject_id  expire_flag icd9_code\n",
       "0   121205          91            1     20008\n",
       "1   121205          91            1      2765"
      ]
     },
     "execution_count": 6,
     "metadata": {},
     "output_type": "execute_result"
    }
   ],
   "source": [
    "df_expired[:2]"
   ]
  },
  {
   "cell_type": "code",
   "execution_count": 7,
   "metadata": {
    "collapsed": false,
    "deletable": true,
    "editable": true
   },
   "outputs": [
    {
     "data": {
      "text/html": [
       "<div>\n",
       "<table border=\"1\" class=\"dataframe\">\n",
       "  <thead>\n",
       "    <tr style=\"text-align: right;\">\n",
       "      <th></th>\n",
       "      <th>hadm_id</th>\n",
       "      <th>subject_id</th>\n",
       "      <th>expire_flag</th>\n",
       "      <th>icd9_code</th>\n",
       "    </tr>\n",
       "  </thead>\n",
       "  <tbody>\n",
       "    <tr>\n",
       "      <th>0</th>\n",
       "      <td>163353</td>\n",
       "      <td>2</td>\n",
       "      <td>0</td>\n",
       "      <td>V3001</td>\n",
       "    </tr>\n",
       "    <tr>\n",
       "      <th>1</th>\n",
       "      <td>163353</td>\n",
       "      <td>2</td>\n",
       "      <td>0</td>\n",
       "      <td>V053</td>\n",
       "    </tr>\n",
       "    <tr>\n",
       "      <th>2</th>\n",
       "      <td>163353</td>\n",
       "      <td>2</td>\n",
       "      <td>0</td>\n",
       "      <td>V290</td>\n",
       "    </tr>\n",
       "  </tbody>\n",
       "</table>\n",
       "</div>"
      ],
      "text/plain": [
       "   hadm_id  subject_id  expire_flag icd9_code\n",
       "0   163353           2            0     V3001\n",
       "1   163353           2            0      V053\n",
       "2   163353           2            0      V290"
      ]
     },
     "execution_count": 7,
     "metadata": {},
     "output_type": "execute_result"
    }
   ],
   "source": [
    "df_alive[:3]"
   ]
  },
  {
   "cell_type": "code",
   "execution_count": 8,
   "metadata": {
    "collapsed": false,
    "deletable": true,
    "editable": true
   },
   "outputs": [
    {
     "data": {
      "text/html": [
       "<div>\n",
       "<table border=\"1\" class=\"dataframe\">\n",
       "  <thead>\n",
       "    <tr style=\"text-align: right;\">\n",
       "      <th></th>\n",
       "      <th>row_id</th>\n",
       "      <th>subject_id</th>\n",
       "      <th>hadm_id</th>\n",
       "      <th>seq_num</th>\n",
       "      <th>icd9_code</th>\n",
       "      <th>row_id.1</th>\n",
       "      <th>icd9_code.1</th>\n",
       "      <th>short_title</th>\n",
       "      <th>long_title</th>\n",
       "    </tr>\n",
       "  </thead>\n",
       "  <tbody>\n",
       "    <tr>\n",
       "      <th>0</th>\n",
       "      <td>243</td>\n",
       "      <td>34</td>\n",
       "      <td>115799</td>\n",
       "      <td>8.0</td>\n",
       "      <td>E8790</td>\n",
       "      <td>13429.0</td>\n",
       "      <td>E8790</td>\n",
       "      <td>Abn react-cardiac cath</td>\n",
       "      <td>Cardiac catheterization as the cause of abnorm...</td>\n",
       "    </tr>\n",
       "    <tr>\n",
       "      <th>1</th>\n",
       "      <td>244</td>\n",
       "      <td>34</td>\n",
       "      <td>144319</td>\n",
       "      <td>1.0</td>\n",
       "      <td>42789</td>\n",
       "      <td>4471.0</td>\n",
       "      <td>42789</td>\n",
       "      <td>Cardiac dysrhythmias NEC</td>\n",
       "      <td>Other specified cardiac dysrhythmias</td>\n",
       "    </tr>\n",
       "  </tbody>\n",
       "</table>\n",
       "</div>"
      ],
      "text/plain": [
       "   row_id  subject_id  hadm_id  seq_num icd9_code  row_id.1 icd9_code.1  \\\n",
       "0     243          34   115799      8.0     E8790   13429.0       E8790   \n",
       "1     244          34   144319      1.0     42789    4471.0       42789   \n",
       "\n",
       "                short_title                                         long_title  \n",
       "0    Abn react-cardiac cath  Cardiac catheterization as the cause of abnorm...  \n",
       "1  Cardiac dysrhythmias NEC               Other specified cardiac dysrhythmias  "
      ]
     },
     "execution_count": 8,
     "metadata": {},
     "output_type": "execute_result"
    }
   ],
   "source": [
    "diagnoses[:2]"
   ]
  },
  {
   "cell_type": "code",
   "execution_count": 9,
   "metadata": {
    "collapsed": false
   },
   "outputs": [
    {
     "data": {
      "text/html": [
       "<div>\n",
       "<table border=\"1\" class=\"dataframe\">\n",
       "  <thead>\n",
       "    <tr style=\"text-align: right;\">\n",
       "      <th></th>\n",
       "      <th>row_id</th>\n",
       "      <th>icd9_code</th>\n",
       "      <th>short_title</th>\n",
       "      <th>long_title</th>\n",
       "    </tr>\n",
       "  </thead>\n",
       "  <tbody>\n",
       "    <tr>\n",
       "      <th>0</th>\n",
       "      <td>86</td>\n",
       "      <td>64</td>\n",
       "      <td>Perc ins extracran stent</td>\n",
       "      <td>Percutaneous insertion of other extracranial a...</td>\n",
       "    </tr>\n",
       "    <tr>\n",
       "      <th>1</th>\n",
       "      <td>87</td>\n",
       "      <td>65</td>\n",
       "      <td>Perc ins intracran stent</td>\n",
       "      <td>Percutaneous insertion of intracranial vascula...</td>\n",
       "    </tr>\n",
       "    <tr>\n",
       "      <th>2</th>\n",
       "      <td>88</td>\n",
       "      <td>66</td>\n",
       "      <td>PTCA</td>\n",
       "      <td>Percutaneous transluminal coronary angioplasty...</td>\n",
       "    </tr>\n",
       "  </tbody>\n",
       "</table>\n",
       "</div>"
      ],
      "text/plain": [
       "   row_id  icd9_code               short_title  \\\n",
       "0      86         64  Perc ins extracran stent   \n",
       "1      87         65  Perc ins intracran stent   \n",
       "2      88         66                      PTCA   \n",
       "\n",
       "                                          long_title  \n",
       "0  Percutaneous insertion of other extracranial a...  \n",
       "1  Percutaneous insertion of intracranial vascula...  \n",
       "2  Percutaneous transluminal coronary angioplasty...  "
      ]
     },
     "execution_count": 9,
     "metadata": {},
     "output_type": "execute_result"
    }
   ],
   "source": [
    "procedures[:3]"
   ]
  },
  {
   "cell_type": "code",
   "execution_count": 14,
   "metadata": {
    "collapsed": false
   },
   "outputs": [],
   "source": [
    "#diagnoses.groupby('hadm_id').count()"
   ]
  },
  {
   "cell_type": "markdown",
   "metadata": {
    "deletable": true,
    "editable": true
   },
   "source": [
    " # Part 1:  Answering a few basic stats\n",
    "\n",
    "#### regarding data frames\n",
    "\n",
    "the goal is to obtain a dataframe of admissions with both expired flag [ survived/expired ] and also obtain an idea of what are the most common icd9 codes\n",
    "\n",
    "+ ** admit_1.csv ** used to get # admissions + expire_flag\n",
    "+ ** icd9_expire.csv ** to find the most common icd9 codes\n",
    "\n",
    "** ** ** \n",
    "    ** # How many unique codes for fatal cases?  4824\n",
    "    ** #How many unique codes for survived cases? 6423\n",
    "    **"
   ]
  },
  {
   "cell_type": "code",
   "execution_count": 16,
   "metadata": {
    "collapsed": false,
    "deletable": true,
    "editable": true
   },
   "outputs": [
    {
     "data": {
      "text/plain": [
       "4824"
      ]
     },
     "execution_count": 16,
     "metadata": {},
     "output_type": "execute_result"
    }
   ],
   "source": [
    "# How many unique codes for fatal cases? \n",
    "len(df_expired.icd9_code.unique())"
   ]
  },
  {
   "cell_type": "code",
   "execution_count": 18,
   "metadata": {
    "collapsed": false,
    "deletable": true,
    "editable": true
   },
   "outputs": [
    {
     "data": {
      "text/plain": [
       "6423"
      ]
     },
     "execution_count": 18,
     "metadata": {},
     "output_type": "execute_result"
    }
   ],
   "source": [
    "#How many unique codes for survived cases? \n",
    "len(df_alive.icd9_code.unique())"
   ]
  },
  {
   "cell_type": "code",
   "execution_count": 20,
   "metadata": {
    "collapsed": false,
    "deletable": true,
    "editable": true
   },
   "outputs": [
    {
     "name": "stdout",
     "output_type": "stream",
     "text": [
      "<class 'pandas.core.frame.DataFrame'>\n",
      "RangeIndex: 651047 entries, 0 to 651046\n",
      "Data columns (total 9 columns):\n",
      "row_id         651047 non-null int64\n",
      "subject_id     651047 non-null int64\n",
      "hadm_id        651047 non-null int64\n",
      "seq_num        651000 non-null float64\n",
      "icd9_code      651000 non-null object\n",
      "row_id.1       634709 non-null float64\n",
      "icd9_code.1    634709 non-null object\n",
      "short_title    634709 non-null object\n",
      "long_title     634709 non-null object\n",
      "dtypes: float64(2), int64(3), object(4)\n",
      "memory usage: 44.7+ MB\n"
     ]
    },
    {
     "data": {
      "text/plain": [
       "6985"
      ]
     },
     "execution_count": 20,
     "metadata": {},
     "output_type": "execute_result"
    }
   ],
   "source": [
    "# info on the data types in diagnoses\n",
    "diagnoses.info()\n",
    "# How many unique codes present in diagnoses? \n",
    "len(diagnoses.icd9_code.unique())"
   ]
  },
  {
   "cell_type": "code",
   "execution_count": 21,
   "metadata": {
    "collapsed": false,
    "deletable": true,
    "editable": true
   },
   "outputs": [
    {
     "name": "stdout",
     "output_type": "stream",
     "text": [
      "<class 'pandas.core.frame.DataFrame'>\n",
      "RangeIndex: 719641 entries, 0 to 719640\n",
      "Data columns (total 4 columns):\n",
      "hadm_id        719641 non-null int64\n",
      "subject_id     719641 non-null int64\n",
      "expire_flag    719641 non-null int64\n",
      "icd9_code      719552 non-null object\n",
      "dtypes: int64(3), object(1)\n",
      "memory usage: 22.0+ MB\n"
     ]
    }
   ],
   "source": [
    "df_expired.info()"
   ]
  },
  {
   "cell_type": "code",
   "execution_count": null,
   "metadata": {
    "collapsed": false,
    "deletable": true,
    "editable": true
   },
   "outputs": [],
   "source": [
    "data.head(2)"
   ]
  },
  {
   "cell_type": "code",
   "execution_count": null,
   "metadata": {
    "collapsed": false,
    "deletable": true,
    "editable": true
   },
   "outputs": [],
   "source": [
    "######### ADD AGE \n",
    "# Age, the -285 is over 90\n",
    "# ('<m8[Y]') is a dtype, that rounds up the years\n",
    "\n",
    "data['age'] = (pd.to_datetime(data.admittime) - pd.to_datetime(data.dob )\n",
    "              ).astype('<m8[Y]')\n",
    "\n",
    "#### SET ALL GREATER THAN 90 AGES TO 90\n",
    "data.loc[ (data.age < 0),'age']  = 90.0"
   ]
  },
  {
   "cell_type": "code",
   "execution_count": null,
   "metadata": {
    "collapsed": false,
    "deletable": true,
    "editable": true
   },
   "outputs": [],
   "source": [
    "data['year']=  pd.DatetimeIndex(data['dob']).year"
   ]
  },
  {
   "cell_type": "code",
   "execution_count": null,
   "metadata": {
    "collapsed": false,
    "deletable": true,
    "editable": true
   },
   "outputs": [],
   "source": [
    "#data[data['year'] > 2016].count()"
   ]
  },
  {
   "cell_type": "code",
   "execution_count": null,
   "metadata": {
    "collapsed": false,
    "deletable": true,
    "editable": true
   },
   "outputs": [],
   "source": [
    "#pd.to_datetime(data.dob)\n",
    "#.apply(lambda x: x.strftime('%B-%Y'))  #.astype('<m8[Y]')"
   ]
  },
  {
   "cell_type": "code",
   "execution_count": null,
   "metadata": {
    "collapsed": false,
    "deletable": true,
    "editable": true
   },
   "outputs": [],
   "source": [
    "#df_fit = data.loc[:, ['subject_id','gender','age','admission_type', 'expire_flag']]\n",
    "data.columns"
   ]
  },
  {
   "cell_type": "markdown",
   "metadata": {
    "deletable": true,
    "editable": true
   },
   "source": [
    "## Histograms "
   ]
  },
  {
   "cell_type": "code",
   "execution_count": null,
   "metadata": {
    "collapsed": false,
    "deletable": true,
    "editable": true
   },
   "outputs": [],
   "source": [
    "#data.loc[(data['expire_flag']==0), 'age']\n",
    "data[data['age']<10.0]"
   ]
  },
  {
   "cell_type": "code",
   "execution_count": null,
   "metadata": {
    "collapsed": false,
    "deletable": true,
    "editable": true
   },
   "outputs": [],
   "source": [
    "fatal_series = data.loc[(data['expire_flag']==1),'age' ]\n",
    "fatal_series = new_series[new_series>10]\n",
    "\n",
    "survive_series = data.loc[(data['expire_flag']==0),'age' ]\n",
    "survive_series = new_series[new_series>10]"
   ]
  },
  {
   "cell_type": "code",
   "execution_count": null,
   "metadata": {
    "collapsed": false,
    "deletable": true,
    "editable": true
   },
   "outputs": [],
   "source": [
    "#fig, ax = plt.subplots(2,1, figsize=(8,4))\n",
    "plt.figure(figsize = (4,4))\n",
    "\n",
    "plt.hist(survive_series, bins=20,color='purple', alpha=0.5, label='survived')\n",
    "plt.hist(fatal_series, bins=30,alpha=0.5, label = 'fatal')\n",
    "\n",
    "\n",
    "plt.title('Distribution of age', fontsize=14)\n",
    "plt.legend()\n",
    "plt.xlabel('Age of patient')\n",
    "plt.ylabel('Number of cases')\n",
    "plt.savefig('Age_dist')"
   ]
  },
  {
   "cell_type": "code",
   "execution_count": null,
   "metadata": {
    "collapsed": false,
    "deletable": true,
    "editable": true
   },
   "outputs": [],
   "source": [
    "# 0-M, 1-F\n",
    "g_0 = data.loc[(data['expire_flag']==0),'gender' ].value_counts() # survived M/F\n",
    "g_1 = data.loc[(data['expire_flag']==1),'gender' ].value_counts() # fatal M/F\n",
    "\n",
    "plt.figure(figsize = (4,4))\n",
    "x = np.arange(0,2)\n",
    "wid = 0.5\n",
    "\n",
    "plt.bar(x+0.2, g_0, wid, alpha=0.6,color='grey', label='Male')\n",
    "plt.bar(x+ 0.4, g_1, wid,alpha=0.6, label = 'Female', color='green')\n",
    "plt.xticks(x+0.5, ['Survived', 'Fatal'])\n",
    "plt.title('Mortality Ratios in ICU: gender', fontsize=14)\n",
    "plt.tight_layout() \n",
    "plt.savefig('gender')\n",
    "plt.legend();"
   ]
  },
  {
   "cell_type": "code",
   "execution_count": null,
   "metadata": {
    "collapsed": false,
    "deletable": true,
    "editable": true
   },
   "outputs": [],
   "source": [
    "# ############ Admission_type into categorical \n",
    "cols_a = ['NEWBORN', 'URGENT', 'EMERGENCY', 'ELECTIVE']\n",
    "nums_a = [0, 1, 2, 3 ]\n",
    "print(data.admission_type.unique())\n",
    "print(cols_a)\n",
    "\n",
    "# data.admission_type.replace(cols_a, nums_a, inplace=True)\n",
    "# adm_alive = data.loc[(data['expire_flag']==0),'admission_type' ]\n",
    "# adm_fatal = data.loc[(data['expire_flag']==1),'admission_type' ]"
   ]
  },
  {
   "cell_type": "code",
   "execution_count": null,
   "metadata": {
    "collapsed": false,
    "deletable": true,
    "editable": true
   },
   "outputs": [],
   "source": [
    "fig, ax = plt.subplots(1,3, figsize = (13,4))\n",
    "\n",
    "x = np.arange(0,4)\n",
    "wid = 0.5\n",
    "ax[0].bar(x+0.2, adm_alive.value_counts().sort_index(ascending=False), wid, alpha=0.6,color='grey', label='survived')\n",
    "#adm_alive.value_counts().sort_index(ascending=False).plot.barh()\n",
    "ax[0].set_xticks(x+0.5)\n",
    "ax[0].set_xticklabels(['URGENT', 'EMERGENCY', 'ELECTIVE','NEWBORN'])\n",
    "ax[0].bar(x+ 0.4, adm_fatal.value_counts().sort_index(ascending=False), wid,alpha=0.6,  color='green', label='fatal')\n",
    "ax[0].legend()\n",
    "ax[0].set_title('Mortality Distribution: Admission Type', fontsize=14)\n",
    "\n",
    "\n",
    "\n",
    "ax[1].hist(survive_series, bins=20,color='purple', alpha=0.5, label='survived')\n",
    "ax[1].hist(fatal_series, bins=30,alpha=0.5, label = 'fatal')\n",
    "\n",
    "ax[1].set_title('Distribution of age', fontsize=14)\n",
    "ax[1].legend()\n",
    "ax[1].set_xlabel('Age of patient')\n",
    "#ax[1].set_ylabel('Number of cases')\n",
    "\n",
    "\n",
    "x1 = np.arange(0,2)\n",
    "wid1 = 0.5\n",
    "\n",
    "ax[2].bar(x1+0.2, g_0, wid1, alpha=0.6,color='grey', label='Male')\n",
    "ax[2].bar(x1+ 0.4, g_1, wid1,alpha=0.6, label = 'Female')\n",
    "ax[2].set_xticks(x1+0.5)\n",
    "ax[2].set_xticklabels(['Survived', 'Fatal'])\n",
    "ax[2].set_title('Mortality Distribution: Gender', fontsize=14)\n",
    "ax[2].legend()\n",
    "\n",
    "plt.tight_layout() \n",
    "#plt.savefig('ALL_Distributions')\n",
    "\n",
    "#plt.savefig('Age_dist')"
   ]
  },
  {
   "cell_type": "code",
   "execution_count": null,
   "metadata": {
    "collapsed": false,
    "deletable": true,
    "editable": true
   },
   "outputs": [],
   "source": [
    "adm_fatal.value_counts().sort_index(ascending=False)"
   ]
  },
  {
   "cell_type": "code",
   "execution_count": null,
   "metadata": {
    "collapsed": false,
    "deletable": true,
    "editable": true
   },
   "outputs": [],
   "source": [
    "plt.figure(figsize = (4,4))\n",
    "x = np.arange(0,4)\n",
    "wid = 0.5\n",
    "\n",
    "plt.bar(x+0.2, adm_alive.value_counts().sort_index(ascending=False), wid, alpha=0.6,color='grey', label='survived')\n",
    "#adm_alive.value_counts().sort_index(ascending=False).plot.barh()\n",
    "plt.xticks(x+0.5, cols_a)\n",
    "plt.bar(x+ 0.4, adm_fatal.value_counts().sort_index(ascending=False), wid,alpha=0.6,  color='green', label='fatal')"
   ]
  },
  {
   "cell_type": "code",
   "execution_count": null,
   "metadata": {
    "collapsed": false,
    "deletable": true,
    "editable": true
   },
   "outputs": [],
   "source": [
    "adm_alive.value_counts().sort_index(ascending=False)"
   ]
  },
  {
   "cell_type": "code",
   "execution_count": null,
   "metadata": {
    "collapsed": true,
    "deletable": true,
    "editable": true
   },
   "outputs": [],
   "source": [
    "########### Gender ##########\n",
    "gen = [\"M\", \"F\"]\n",
    "n_g = [0,1]\n",
    "data.gender.replace(gen, n_g, inplace=True)"
   ]
  },
  {
   "cell_type": "code",
   "execution_count": null,
   "metadata": {
    "collapsed": false,
    "deletable": true,
    "editable": true
   },
   "outputs": [],
   "source": [
    "## interrupted, the rugplot takes a while\n",
    "x_0 =data.loc[(data['expire_flag']==0),'age' ]\n",
    "x_1 = data.loc[(data['expire_flag']==1),'age' ]\n",
    "\n",
    "sns.distplot(x_0, kde=False, rug=True)"
   ]
  },
  {
   "cell_type": "code",
   "execution_count": null,
   "metadata": {
    "collapsed": true,
    "deletable": true,
    "editable": true
   },
   "outputs": [],
   "source": [
    "\n",
    "x = np.arange(10)\n",
    "wid = 0.4\n",
    "\n",
    "plt.bar(0.5+x, tmp_fatal.num_expire_flags, wid, label='fatal admission')\n",
    "plt.xticks(x, cols, rotation=35, fontsize=14)"
   ]
  },
  {
   "cell_type": "code",
   "execution_count": null,
   "metadata": {
    "collapsed": false,
    "deletable": true,
    "editable": true
   },
   "outputs": [],
   "source": [
    "data[:3]"
   ]
  },
  {
   "cell_type": "code",
   "execution_count": null,
   "metadata": {
    "collapsed": false,
    "deletable": true,
    "editable": true
   },
   "outputs": [],
   "source": [
    "# more men admitted to ICU\n",
    "print(g_0)\n",
    "print(g_1)\n",
    "print (\"men \" ,20600 +  12350)\n",
    "print (\"women \" , 15790 +  10236)"
   ]
  },
  {
   "cell_type": "code",
   "execution_count": null,
   "metadata": {
    "collapsed": true,
    "deletable": true,
    "editable": true
   },
   "outputs": [],
   "source": []
  },
  {
   "cell_type": "code",
   "execution_count": null,
   "metadata": {
    "collapsed": true,
    "deletable": true,
    "editable": true
   },
   "outputs": [],
   "source": []
  },
  {
   "cell_type": "code",
   "execution_count": null,
   "metadata": {
    "collapsed": true,
    "deletable": true,
    "editable": true
   },
   "outputs": [],
   "source": []
  },
  {
   "cell_type": "markdown",
   "metadata": {
    "deletable": true,
    "editable": true
   },
   "source": [
    "## Most common icd9 codes fatal/survival; Data Frames\n"
   ]
  },
  {
   "cell_type": "code",
   "execution_count": null,
   "metadata": {
    "collapsed": false,
    "deletable": true,
    "editable": true
   },
   "outputs": [],
   "source": [
    "df_expired[:3]"
   ]
  },
  {
   "cell_type": "code",
   "execution_count": null,
   "metadata": {
    "collapsed": false,
    "deletable": true,
    "editable": true
   },
   "outputs": [],
   "source": [
    "# the most common icd9_code\n",
    "new_icd9 = (df_expired.groupby('icd9_code')\n",
    " .count()\n",
    ".reset_index().sort_values('expire_flag', ascending=False))\n",
    "\n",
    "new_icd9.rename(columns={'expire_flag':'num_expire_flags'}, inplace=True)"
   ]
  },
  {
   "cell_type": "code",
   "execution_count": null,
   "metadata": {
    "collapsed": false,
    "deletable": true,
    "editable": true
   },
   "outputs": [],
   "source": [
    "## 10 most common codes; but what are they? \n",
    "new_icd9_smaller = new_icd9.iloc[:50,:]\n",
    "#[['icd9_code']][:20]"
   ]
  },
  {
   "cell_type": "code",
   "execution_count": null,
   "metadata": {
    "collapsed": false,
    "deletable": true,
    "editable": true
   },
   "outputs": [],
   "source": [
    "len(new_icd9_smaller)\n",
    "new_icd9_smaller[:3]\n",
    "### remove hadm_id and subject_id (these are aggregates anyway)\n",
    "new_icd9_smaller.drop(['hadm_id', 'subject_id'], axis=1, inplace=True)"
   ]
  },
  {
   "cell_type": "code",
   "execution_count": null,
   "metadata": {
    "collapsed": false,
    "deletable": true,
    "editable": true
   },
   "outputs": [],
   "source": [
    "new_icd9_smaller[:3]"
   ]
  },
  {
   "cell_type": "markdown",
   "metadata": {
    "deletable": true,
    "editable": true
   },
   "source": [
    "### Join common icd9_codes to DIAGNOSES\n",
    "-- find what the 50 most common DIAGNOSES\n",
    "-- do an inner join, keep only rows preset\n",
    "    - merge left on id9 code ( smaller, larger)\n",
    "\n",
    "#### SEQ_NUM is from DIAGNOSES\n",
    "-- SEQ_NUM provides the order in which the ICD diagnoses relate to the patient. ICD diagnoses are ordered by priority - and the order does have an impact on the reimbursement for treatment.\n",
    "\n"
   ]
  },
  {
   "cell_type": "code",
   "execution_count": null,
   "metadata": {
    "collapsed": false,
    "deletable": true,
    "editable": true
   },
   "outputs": [],
   "source": [
    "# diagnoses.drop(['icd9_code.1', 'row_id.1'], axis=1, inplace=True)\n",
    "# diagnoses.drop(['hadm_id', 'subject_id'], axis=1, inplace=True)\n",
    "diagnoses.drop(['seq_num', 'row_id'], axis=1, inplace=True)"
   ]
  },
  {
   "cell_type": "code",
   "execution_count": null,
   "metadata": {
    "collapsed": false,
    "deletable": true,
    "editable": true
   },
   "outputs": [],
   "source": [
    "## THE 10 most common diagnoses (irrespective of Expire_Flag)\n",
    "diagnoses['short_title'].value_counts()[:10]"
   ]
  },
  {
   "cell_type": "code",
   "execution_count": null,
   "metadata": {
    "collapsed": false,
    "deletable": true,
    "editable": true
   },
   "outputs": [],
   "source": [
    "diagnoses[:2]"
   ]
  },
  {
   "cell_type": "code",
   "execution_count": null,
   "metadata": {
    "collapsed": false,
    "deletable": true,
    "editable": true
   },
   "outputs": [],
   "source": [
    "merged_MOSTCOMMONicd9 = pd.merge(new_icd9_smaller, diagnoses, how='left',on='icd9_code')"
   ]
  },
  {
   "cell_type": "code",
   "execution_count": null,
   "metadata": {
    "collapsed": false,
    "deletable": true,
    "editable": true
   },
   "outputs": [],
   "source": [
    "merged_MOSTCOMMONicd9[:2]"
   ]
  },
  {
   "cell_type": "markdown",
   "metadata": {
    "deletable": true,
    "editable": true
   },
   "source": [
    "# Table of most common Diagnoses (long-title) ; Fatal"
   ]
  },
  {
   "cell_type": "code",
   "execution_count": null,
   "metadata": {
    "collapsed": false,
    "deletable": true,
    "editable": true
   },
   "outputs": [],
   "source": [
    "tmp_fatal = (merged_MOSTCOMMONicd9.\n",
    "groupby('icd9_code')\n",
    " .first()\n",
    " .reset_index().sort_values('num_expire_flags', ascending=False))[:10]"
   ]
  },
  {
   "cell_type": "code",
   "execution_count": null,
   "metadata": {
    "collapsed": false,
    "deletable": true,
    "editable": true
   },
   "outputs": [],
   "source": [
    "cols1 = ['Congestive heart failure','Hypertension' ,'Atrial fibrillation','Kidney failure', 'Coronary artery disease',\n",
    "       'Respiratory failure', 'Diabetes', 'Urinary tract infection', 'Pneumonia','Airway obstruction']\n",
    "mylist = pd.Series(cols1)\n",
    "mylist.values\n",
    "tmp_fatal['common'] = mylist.values"
   ]
  },
  {
   "cell_type": "code",
   "execution_count": null,
   "metadata": {
    "collapsed": false,
    "deletable": true,
    "editable": true
   },
   "outputs": [],
   "source": [
    "tmp_fatal"
   ]
  },
  {
   "cell_type": "code",
   "execution_count": null,
   "metadata": {
    "collapsed": false,
    "deletable": true,
    "editable": true
   },
   "outputs": [],
   "source": [
    "tmp_fatal.long_title.values"
   ]
  },
  {
   "cell_type": "code",
   "execution_count": null,
   "metadata": {
    "collapsed": false,
    "deletable": true,
    "editable": true
   },
   "outputs": [],
   "source": [
    "tmp_alive.long_title.values"
   ]
  },
  {
   "cell_type": "code",
   "execution_count": null,
   "metadata": {
    "collapsed": false,
    "deletable": true,
    "editable": true
   },
   "outputs": [],
   "source": [
    "plt.figure(figsize = (6,6))\n",
    "x = np.arange(10)\n",
    "wid = 0.4\n",
    "\n",
    "plt.barh(0.5+x, tmp_fatal.num_expire_flags, wid, label='fatal admission')\n",
    "plt.yticks(x+0.6, cols1, fontsize=14)\n",
    "plt.legend()\n",
    "plt.tight_layout()  \n",
    "plt.savefig('fatal_diagnoses',DPI=600);"
   ]
  },
  {
   "cell_type": "code",
   "execution_count": null,
   "metadata": {
    "collapsed": false,
    "deletable": true,
    "editable": true
   },
   "outputs": [],
   "source": [
    "plt.figure(figsize = (10,5))\n",
    "x = np.arange(10)\n",
    "wid = 0.4\n",
    "\n",
    "plt.bar(0.5+x, tmp_fatal.num_expire_flags, wid, label='fatal admission')\n",
    "plt.xticks(x, cols1, rotation=35, fontsize=14)\n",
    "plt.legend()\n",
    "plt.tight_layout()  \n",
    "plt.savefig('fatal_diagnoses',DPI=600);"
   ]
  },
  {
   "cell_type": "code",
   "execution_count": null,
   "metadata": {
    "collapsed": true,
    "deletable": true,
    "editable": true
   },
   "outputs": [],
   "source": []
  },
  {
   "cell_type": "code",
   "execution_count": null,
   "metadata": {
    "collapsed": false,
    "deletable": true,
    "editable": true
   },
   "outputs": [],
   "source": [
    "plt.figure(figsize = (10,5))\n",
    "x = np.arange(10)\n",
    "wid = 0.4\n",
    "\n",
    "plt.bar(0.5+x, tmp_alive.num_alive_flags, wid, color='purple', label='survived admission')\n",
    "plt.xticks(x, cols2, rotation=35, fontsize=14)\n",
    "plt.legend()\n",
    "plt.tight_layout() \n",
    "plt.savefig('survived_diagnosis');"
   ]
  },
  {
   "cell_type": "code",
   "execution_count": null,
   "metadata": {
    "collapsed": true,
    "deletable": true,
    "editable": true
   },
   "outputs": [],
   "source": []
  },
  {
   "cell_type": "markdown",
   "metadata": {
    "deletable": true,
    "editable": true
   },
   "source": [
    "# Table of most common Diagnoses (long-title) ; NON-Fatal\n",
    "+ first obtain a dataset icd9_expire0a.csv\""
   ]
  },
  {
   "cell_type": "code",
   "execution_count": null,
   "metadata": {
    "collapsed": false,
    "deletable": true,
    "editable": true
   },
   "outputs": [],
   "source": [
    "#df_alive\n",
    "new_alive = (df_alive.groupby('icd9_code')\n",
    " .count()\n",
    ".reset_index().sort_values('expire_flag', ascending=False))\n",
    "\n",
    "new_alive.rename(columns={'expire_flag':'num_alive_flags'}, inplace=True)\n",
    "### remove hadm_id and subject_id (these are aggregates anyway)\n",
    "new_alive.drop(['hadm_id', 'subject_id'], axis=1, inplace=True)\n",
    "##\n",
    "new_alive_smaller = new_alive.iloc[:50,:]"
   ]
  },
  {
   "cell_type": "code",
   "execution_count": null,
   "metadata": {
    "collapsed": false,
    "deletable": true,
    "editable": true
   },
   "outputs": [],
   "source": [
    "#new_alive_smaller\n",
    "merged_MOSTCOMMONalive = pd.merge(new_alive_smaller, diagnoses, how='left',on='icd9_code')"
   ]
  },
  {
   "cell_type": "code",
   "execution_count": null,
   "metadata": {
    "collapsed": false,
    "deletable": true,
    "editable": true
   },
   "outputs": [],
   "source": [
    "#group merged acccording to count\n",
    "tmp_alive =(merged_MOSTCOMMONalive\n",
    ".groupby('icd9_code')\n",
    ".first()\n",
    ".reset_index().sort_values('num_alive_flags', ascending=False))[:10]"
   ]
  },
  {
   "cell_type": "code",
   "execution_count": null,
   "metadata": {
    "collapsed": false,
    "deletable": true,
    "editable": true
   },
   "outputs": [],
   "source": [
    "cols2 = ['Hypertension' , 'Congestive heart failure','Coronary artery disease', 'Hyperlipidemia',\n",
    "         'Atrial fibrillation', 'Kidney failure', 'Acid Reflux', 'Diabetes', 'Anemia', \n",
    "       'Hepatitis vaccine']\n",
    "mylist2 = pd.Series(cols)\n",
    "mylist2.values\n",
    "tmp_alive['common'] = mylist2.values\n",
    "tmp_alive"
   ]
  },
  {
   "cell_type": "code",
   "execution_count": null,
   "metadata": {
    "collapsed": true,
    "deletable": true,
    "editable": true
   },
   "outputs": [],
   "source": [
    "tmp_alive[]"
   ]
  },
  {
   "cell_type": "code",
   "execution_count": null,
   "metadata": {
    "collapsed": true,
    "deletable": true,
    "editable": true
   },
   "outputs": [],
   "source": []
  },
  {
   "cell_type": "markdown",
   "metadata": {
    "deletable": true,
    "editable": true
   },
   "source": [
    "# Naive bayes: find good features from Diagnoses using Likelihood model\n",
    "\n",
    "**data tables** : new_alive, new_icd9\n",
    "\n",
    "\n",
    "\\\\[\\frac{P(death | icd9 =x) }{P(survival | icd9 =x)} = prior* \\frac{ P(icd9 = x | death) }{P(icd9 = x | survival)} \\\\]\n",
    "\n",
    "\\\\[  = prior* \\frac{ \\frac{count Deaths}{All Deaths}} {\\frac{count Survival}{All Survival}} \\\\]\n",
    "\n",
    "\n",
    "+ this second fraction I have\n",
    "+ the baseline/prior is just the ratio of total_death/total_survival"
   ]
  },
  {
   "cell_type": "code",
   "execution_count": null,
   "metadata": {
    "collapsed": true,
    "deletable": true,
    "editable": true
   },
   "outputs": [],
   "source": [
    "# finish Clean up; don't need hadm_id/subject_id here \n",
    "new_icd9.drop(['hadm_id', 'subject_id'], axis=1, inplace=True)\n"
   ]
  },
  {
   "cell_type": "code",
   "execution_count": null,
   "metadata": {
    "collapsed": false,
    "deletable": true,
    "editable": true
   },
   "outputs": [],
   "source": [
    "### use pre-merged Fatal/Alive Data frames\n",
    "print( \" Number of unique icd9 codes for Survival + Fatal admissions: \", len(new_alive), len(new_icd9))\n",
    "\n",
    "new_alive[:3]"
   ]
  },
  {
   "cell_type": "code",
   "execution_count": null,
   "metadata": {
    "collapsed": false,
    "deletable": true,
    "editable": true
   },
   "outputs": [],
   "source": [
    "new_icd9[:2]"
   ]
  },
  {
   "cell_type": "markdown",
   "metadata": {
    "deletable": true,
    "editable": true
   },
   "source": [
    "1. Number of AND type of 1cd9_code which have NO Fatal admission: \n",
    "    + merge, set as N/A for num_expire_flags in new_icd9 "
   ]
  },
  {
   "cell_type": "code",
   "execution_count": null,
   "metadata": {
    "collapsed": true,
    "deletable": true,
    "editable": true
   },
   "outputs": [],
   "source": [
    "# from Part 3 : below \n",
    "total_fatal = 22586\n",
    "total_survival =  36390"
   ]
  },
  {
   "cell_type": "code",
   "execution_count": null,
   "metadata": {
    "collapsed": false,
    "deletable": true,
    "editable": true
   },
   "outputs": [],
   "source": [
    "# merge left on new_icd9, ie. keep all of icd9\n",
    "merged_nbayes = pd.merge(new_icd9, new_alive, how='right', on='icd9_code')"
   ]
  },
  {
   "cell_type": "code",
   "execution_count": null,
   "metadata": {
    "collapsed": false,
    "deletable": true,
    "editable": true
   },
   "outputs": [],
   "source": [
    "#P_icd9_Death\n",
    "merged_nbayes['P_icd9_Survival']= merged_nbayes.num_alive_flags/total_survival\n",
    "#P_icd9_Survival\n",
    "merged_nbayes['P_icd9_Death']=merged_nbayes.num_expire_flags/total_fatal"
   ]
  },
  {
   "cell_type": "code",
   "execution_count": null,
   "metadata": {
    "collapsed": false,
    "deletable": true,
    "editable": true
   },
   "outputs": [],
   "source": [
    "merged_nbayes[:3]"
   ]
  },
  {
   "cell_type": "code",
   "execution_count": null,
   "metadata": {
    "collapsed": false,
    "deletable": true,
    "editable": true
   },
   "outputs": [],
   "source": [
    "# P(survival | icd9)\n",
    "baseline* (0.317340)"
   ]
  },
  {
   "cell_type": "code",
   "execution_count": null,
   "metadata": {
    "collapsed": false,
    "deletable": true,
    "editable": true
   },
   "outputs": [],
   "source": [
    "# P(death | icd9)\n",
    "baseline*(0.900514)"
   ]
  },
  {
   "cell_type": "markdown",
   "metadata": {
    "deletable": true,
    "editable": true
   },
   "source": [
    "## What is Ratio_Pd_Ps? + Add  Diagnoses Dictionary\n",
    "The exact question we are answering here: give icd9 = x, what are the odds of Death over Survival? "
   ]
  },
  {
   "cell_type": "code",
   "execution_count": null,
   "metadata": {
    "collapsed": false,
    "deletable": true,
    "editable": true
   },
   "outputs": [],
   "source": [
    "# Calculate Ratio_Pd_Ps: ratio of Death to Survival\n",
    "baseline = total_fatal/total_survival\n",
    "\n",
    "#Ratio_Pd_Ps\n",
    "merged_nbayes['Ratio_Pd_Ps']= baseline*merged_nbayes.P_icd9_Death/merged_nbayes.P_icd9_Survival"
   ]
  },
  {
   "cell_type": "code",
   "execution_count": null,
   "metadata": {
    "collapsed": false,
    "deletable": true,
    "editable": true
   },
   "outputs": [],
   "source": [
    "merged_nbayes[:3]"
   ]
  },
  {
   "cell_type": "code",
   "execution_count": null,
   "metadata": {
    "collapsed": false,
    "deletable": true,
    "editable": true
   },
   "outputs": [],
   "source": [
    "# some of the Lowest values (these icd9 Codes suggest that )\n",
    "merged_nbayes.sort_values('Ratio_Pd_Ps')[:10]"
   ]
  },
  {
   "cell_type": "code",
   "execution_count": null,
   "metadata": {
    "collapsed": false,
    "deletable": true,
    "editable": true
   },
   "outputs": [],
   "source": [
    "#pd.merge(new_alive_smaller, diagnoses, how='left',on='icd9_code')\n",
    "\n",
    "merged_FIN = (pd.merge(merged_nbayes, diagnoses, how='left', on='icd9_code'))"
   ]
  },
  {
   "cell_type": "code",
   "execution_count": null,
   "metadata": {
    "collapsed": false,
    "deletable": true,
    "editable": true
   },
   "outputs": [],
   "source": [
    "merged_FIN\n"
   ]
  },
  {
   "cell_type": "code",
   "execution_count": null,
   "metadata": {
    "collapsed": true,
    "deletable": true,
    "editable": true
   },
   "outputs": [],
   "source": []
  },
  {
   "cell_type": "code",
   "execution_count": null,
   "metadata": {
    "collapsed": false,
    "deletable": true,
    "editable": true
   },
   "outputs": [],
   "source": [
    "# 20 most common icd9 numbers for observed POSITIVE Survival Odds\n",
    "most_Survival = (merged_FIN\n",
    ".groupby('icd9_code')\n",
    ".first()\n",
    ".reset_index().sort_values('Ratio_Pd_Ps'))[['icd9_code','num_expire_flags','num_alive_flags','Ratio_Pd_Ps','short_title','long_title']][:15]"
   ]
  },
  {
   "cell_type": "code",
   "execution_count": null,
   "metadata": {
    "collapsed": false,
    "deletable": true,
    "editable": true
   },
   "outputs": [],
   "source": [
    "most_Survival"
   ]
  },
  {
   "cell_type": "code",
   "execution_count": null,
   "metadata": {
    "collapsed": false,
    "deletable": true,
    "editable": true
   },
   "outputs": [],
   "source": [
    "most_Death = (merged_FIN\n",
    ".groupby('icd9_code')\n",
    ".first()\n",
    ".reset_index().sort_values('Ratio_Pd_Ps', ascending=False))[['icd9_code','num_expire_flags','num_alive_flags','Ratio_Pd_Ps',\n",
    "                                                             'short_title','long_title']][:50]"
   ]
  },
  {
   "cell_type": "code",
   "execution_count": null,
   "metadata": {
    "collapsed": false,
    "deletable": true,
    "editable": true
   },
   "outputs": [],
   "source": [
    "zed = most_Death[['icd9_code','num_expire_flags', 'num_alive_flags', 'Ratio_Pd_Ps', 'long_title']]\n",
    "\n",
    "zed.loc[ze866,:]"
   ]
  },
  {
   "cell_type": "code",
   "execution_count": null,
   "metadata": {
    "collapsed": false,
    "deletable": true,
    "editable": true
   },
   "outputs": [],
   "source": [
    "zed.loc[zed['icd9_code']=='1972',:]\n",
    "zed.loc[zed['icd9_code']=='1984',:].long_title.values\n",
    "\n",
    "zed.loc[zed['icd9_code']=='99685',:]\n",
    "zed.loc[zed['icd9_code']=='51181',:]# 485\n",
    "zed.loc[zed['icd9_code']=='07041',:]"
   ]
  },
  {
   "cell_type": "code",
   "execution_count": null,
   "metadata": {
    "collapsed": false,
    "deletable": true,
    "editable": true
   },
   "outputs": [],
   "source": [
    "zed"
   ]
  },
  {
   "cell_type": "code",
   "execution_count": null,
   "metadata": {
    "collapsed": false,
    "deletable": true,
    "editable": true
   },
   "outputs": [],
   "source": [
    "zed.loc[485,:]"
   ]
  },
  {
   "cell_type": "code",
   "execution_count": null,
   "metadata": {
    "collapsed": false,
    "deletable": true,
    "editable": true
   },
   "outputs": [],
   "source": [
    "## Number of NAN flags in expire_flags\n",
    "merged_nbayes[merged_nbayes.num_expire_flags.isnull()].count()"
   ]
  },
  {
   "cell_type": "code",
   "execution_count": null,
   "metadata": {
    "collapsed": false,
    "deletable": true,
    "editable": true
   },
   "outputs": [],
   "source": [
    "# there are no icd9_codes that are automatic surivval!!\n",
    "merged_nbayes[merged_nbayes.num_alive_flags.isnull()].count()"
   ]
  },
  {
   "cell_type": "markdown",
   "metadata": {
    "deletable": true,
    "editable": true
   },
   "source": [
    "# 5 Create dataFrame with icd9 - as features\n",
    "start with Admission-Patient data called \"data"
   ]
  },
  {
   "cell_type": "code",
   "execution_count": null,
   "metadata": {
    "collapsed": false,
    "deletable": true,
    "editable": true
   },
   "outputs": [],
   "source": [
    "# drop NAN values\n",
    "most_Death = most_Death.dropna()"
   ]
  },
  {
   "cell_type": "code",
   "execution_count": null,
   "metadata": {
    "collapsed": false,
    "deletable": true,
    "editable": true
   },
   "outputs": [],
   "source": [
    "#list(most_Death.icd9_code)"
   ]
  },
  {
   "cell_type": "code",
   "execution_count": null,
   "metadata": {
    "collapsed": false,
    "deletable": true,
    "editable": true
   },
   "outputs": [],
   "source": [
    "icd9_features = most_Death.icd9_code.values"
   ]
  },
  {
   "cell_type": "code",
   "execution_count": null,
   "metadata": {
    "collapsed": false,
    "deletable": true,
    "editable": true
   },
   "outputs": [],
   "source": [
    "icd9_features"
   ]
  },
  {
   "cell_type": "code",
   "execution_count": null,
   "metadata": {
    "collapsed": false,
    "deletable": true,
    "editable": true
   },
   "outputs": [],
   "source": [
    "len(icd9_features) # 47 new features"
   ]
  },
  {
   "cell_type": "code",
   "execution_count": null,
   "metadata": {
    "collapsed": false,
    "deletable": true,
    "editable": true
   },
   "outputs": [],
   "source": [
    "######### Cleaning data \n",
    "\n",
    "# df_model = data.drop( ['hospital_expire_flag', 'has_ioevents_data', 'has_chartevents_data', u'edregtime',\n",
    "#            u'edouttime' ], axis = 1)\n",
    "# df_model = df_model.drop( [ u'insurance', u'language', u'religion', u'marital_status', u'ethnicity' ], axis = 1)\n",
    "# df_model = df_model.drop( [u'admission_location', u'discharge_location',u'admittime', u'dischtime', u'deathtime',u'row_id',], axis = 1)\n",
    "\n",
    "# df_model = df_model.drop( [ u'dob', u'dod', u'subject_id.1' ], axis = 1)\n",
    "\n",
    "df_model"
   ]
  },
  {
   "cell_type": "markdown",
   "metadata": {
    "deletable": true,
    "editable": true
   },
   "source": [
    "##### ADD ICD-9 to df_model \n",
    "+ merge df_expired onto df_model (for expire_flag=1) \n",
    "+ merge df_alive"
   ]
  },
  {
   "cell_type": "code",
   "execution_count": null,
   "metadata": {
    "collapsed": false,
    "deletable": true,
    "editable": true
   },
   "outputs": [],
   "source": [
    "##### Concatinate fatal + alive icd9-code Data Frames\n",
    "print (len(df_expired))\n",
    "print ( len(df_alive))\n",
    "\n",
    "frames = [df_expired, df_alive]\n",
    "\n",
    "result = pd.concat(frames)"
   ]
  },
  {
   "cell_type": "code",
   "execution_count": null,
   "metadata": {
    "collapsed": false,
    "deletable": true,
    "editable": true
   },
   "outputs": [],
   "source": [
    "len(df_model)"
   ]
  },
  {
   "cell_type": "code",
   "execution_count": null,
   "metadata": {
    "collapsed": false,
    "deletable": true,
    "editable": true
   },
   "outputs": [],
   "source": [
    "len(result)"
   ]
  },
  {
   "cell_type": "code",
   "execution_count": null,
   "metadata": {
    "collapsed": false,
    "deletable": true,
    "editable": true
   },
   "outputs": [],
   "source": [
    "df_model.head(2)"
   ]
  },
  {
   "cell_type": "code",
   "execution_count": null,
   "metadata": {
    "collapsed": false,
    "deletable": true,
    "editable": true
   },
   "outputs": [],
   "source": [
    "icd9_features"
   ]
  },
  {
   "cell_type": "code",
   "execution_count": null,
   "metadata": {
    "collapsed": false,
    "deletable": true,
    "editable": true
   },
   "outputs": [],
   "source": [
    "len(result)"
   ]
  },
  {
   "cell_type": "code",
   "execution_count": null,
   "metadata": {
    "collapsed": true,
    "deletable": true,
    "editable": true
   },
   "outputs": [],
   "source": [
    "# may not need this\n",
    "#codes = result.icd9_code.unique()"
   ]
  },
  {
   "cell_type": "code",
   "execution_count": null,
   "metadata": {
    "collapsed": false,
    "deletable": true,
    "editable": true
   },
   "outputs": [],
   "source": [
    "### Retain all rows in result \n",
    "result.head(5)\n",
    "#result[result.icd9_code=='27953']"
   ]
  },
  {
   "cell_type": "code",
   "execution_count": null,
   "metadata": {
    "collapsed": false,
    "deletable": true,
    "editable": true
   },
   "outputs": [],
   "source": [
    "### Retain all rows in result : left merge \n",
    "    ## there shouldn't be any hadm_id's in df_model NOT in result\n",
    "    ## if there are, not interesting, because we need icd9_codes\n",
    "    \n",
    "df_model  = pd.merge(result, df_model, how='left', on='hadm_id')"
   ]
  },
  {
   "cell_type": "code",
   "execution_count": null,
   "metadata": {
    "collapsed": true,
    "deletable": true,
    "editable": true
   },
   "outputs": [],
   "source": [
    "df_model = df_model.drop(['expire_flag_y','subject_id_y'], axis=1)"
   ]
  },
  {
   "cell_type": "code",
   "execution_count": null,
   "metadata": {
    "collapsed": false,
    "deletable": true,
    "editable": true
   },
   "outputs": [],
   "source": [
    "df_model.head()"
   ]
  },
  {
   "cell_type": "code",
   "execution_count": null,
   "metadata": {
    "collapsed": false,
    "deletable": true,
    "editable": true
   },
   "outputs": [],
   "source": [
    "icd9_features"
   ]
  },
  {
   "cell_type": "code",
   "execution_count": null,
   "metadata": {
    "collapsed": false,
    "deletable": true,
    "editable": true
   },
   "outputs": [],
   "source": [
    "############ add columns \n",
    "# for var in icd9_features:\n",
    "#     df_model[var] = 0"
   ]
  },
  {
   "cell_type": "code",
   "execution_count": null,
   "metadata": {
    "collapsed": true,
    "deletable": true,
    "editable": true
   },
   "outputs": [],
   "source": []
  },
  {
   "cell_type": "code",
   "execution_count": null,
   "metadata": {
    "collapsed": false,
    "deletable": true,
    "editable": true
   },
   "outputs": [],
   "source": [
    "### group by admissions ID, if icd9 code is \n",
    "df_model[df_model.hadm_id==100018]"
   ]
  },
  {
   "cell_type": "code",
   "execution_count": null,
   "metadata": {
    "collapsed": false,
    "deletable": true,
    "editable": true
   },
   "outputs": [],
   "source": [
    "df_model[df_model.hadm_id==121205]"
   ]
  },
  {
   "cell_type": "code",
   "execution_count": null,
   "metadata": {
    "collapsed": false,
    "deletable": true,
    "editable": true
   },
   "outputs": [],
   "source": [
    "df_model['d']=1\n",
    "df_model"
   ]
  },
  {
   "cell_type": "code",
   "execution_count": null,
   "metadata": {
    "collapsed": false,
    "deletable": true,
    "editable": true
   },
   "outputs": [],
   "source": [
    "df_tmp = (df_model.\n",
    " groupby('hadm_id')['hadm_id','subject_id_x','expire_flag_x','gender','admission_type','diagnosis','age']\n",
    " .head(1)\n",
    "  )"
   ]
  },
  {
   "cell_type": "code",
   "execution_count": null,
   "metadata": {
    "collapsed": false,
    "deletable": true,
    "editable": true
   },
   "outputs": [],
   "source": [
    "keep;"
   ]
  },
  {
   "cell_type": "code",
   "execution_count": null,
   "metadata": {
    "collapsed": false,
    "deletable": true,
    "editable": true
   },
   "outputs": [],
   "source": [
    "tmp = pd.pivot_table(df_model, values='d', index=['hadm_id','subject_id_x'], columns=['icd9_code'])"
   ]
  },
  {
   "cell_type": "code",
   "execution_count": null,
   "metadata": {
    "collapsed": false,
    "deletable": true,
    "editable": true
   },
   "outputs": [],
   "source": [
    "tmp.columns"
   ]
  },
  {
   "cell_type": "code",
   "execution_count": null,
   "metadata": {
    "collapsed": true,
    "deletable": true,
    "editable": true
   },
   "outputs": [],
   "source": [
    "tmp.columns.name = ''"
   ]
  },
  {
   "cell_type": "code",
   "execution_count": null,
   "metadata": {
    "collapsed": false,
    "deletable": true,
    "editable": true
   },
   "outputs": [],
   "source": [
    "\n",
    "tmp.reset_index(col_level=0, inplace = True)"
   ]
  },
  {
   "cell_type": "code",
   "execution_count": null,
   "metadata": {
    "collapsed": false,
    "deletable": true,
    "editable": true
   },
   "outputs": [],
   "source": [
    "tmp.head()"
   ]
  },
  {
   "cell_type": "code",
   "execution_count": null,
   "metadata": {
    "collapsed": false,
    "deletable": true,
    "editable": true
   },
   "outputs": [],
   "source": [
    "keep"
   ]
  },
  {
   "cell_type": "code",
   "execution_count": null,
   "metadata": {
    "collapsed": false,
    "deletable": true,
    "editable": true
   },
   "outputs": [],
   "source": [
    "new_keep = keep[8:].union(keep[0:2])\n",
    "#keep[0:2].union(keep[8:]keep[0:2])"
   ]
  },
  {
   "cell_type": "code",
   "execution_count": null,
   "metadata": {
    "collapsed": false,
    "deletable": true,
    "editable": true
   },
   "outputs": [],
   "source": [
    "new_keep"
   ]
  },
  {
   "cell_type": "code",
   "execution_count": null,
   "metadata": {
    "collapsed": false,
    "deletable": true,
    "editable": true
   },
   "outputs": [],
   "source": [
    "tmp.info()"
   ]
  },
  {
   "cell_type": "code",
   "execution_count": null,
   "metadata": {
    "collapsed": false,
    "deletable": true,
    "editable": true
   },
   "outputs": [],
   "source": [
    "new_tmp = tmp.loc[:,new_keep]"
   ]
  },
  {
   "cell_type": "code",
   "execution_count": null,
   "metadata": {
    "collapsed": false,
    "deletable": true,
    "editable": true
   },
   "outputs": [],
   "source": [
    "new_tmp.fillna(0, inplace=True)"
   ]
  },
  {
   "cell_type": "code",
   "execution_count": null,
   "metadata": {
    "collapsed": false,
    "deletable": true,
    "editable": true
   },
   "outputs": [],
   "source": [
    "# testing newtmp\n",
    "new_tmp[new_tmp['07031']==1]"
   ]
  },
  {
   "cell_type": "markdown",
   "metadata": {
    "deletable": true,
    "editable": true
   },
   "source": [
    "#### Merge\n",
    "\n"
   ]
  },
  {
   "cell_type": "code",
   "execution_count": null,
   "metadata": {
    "collapsed": false,
    "deletable": true,
    "editable": true
   },
   "outputs": [],
   "source": [
    "df_tmp[:2]"
   ]
  },
  {
   "cell_type": "code",
   "execution_count": null,
   "metadata": {
    "collapsed": false,
    "deletable": true,
    "editable": true
   },
   "outputs": [],
   "source": [
    "print(len(df_tmp))\n",
    "print(len(new_tmp))\n",
    "#(pd.merge(merged_nbayes, diagnoses, how='left', on='icd9_code'))"
   ]
  },
  {
   "cell_type": "code",
   "execution_count": null,
   "metadata": {
    "collapsed": false,
    "deletable": true,
    "editable": true
   },
   "outputs": [],
   "source": [
    "merged_FINAL = pd.merge(df_tmp, new_tmp, how='left', on='hadm_id')"
   ]
  },
  {
   "cell_type": "code",
   "execution_count": null,
   "metadata": {
    "collapsed": true,
    "deletable": true,
    "editable": true
   },
   "outputs": [],
   "source": [
    "merged_FINAL.drop('subject_id_x_y', axis=1, inplace=True)"
   ]
  },
  {
   "cell_type": "code",
   "execution_count": null,
   "metadata": {
    "collapsed": false,
    "deletable": true,
    "editable": true
   },
   "outputs": [],
   "source": [
    "merged_FINAL.rename(columns={'subject_id_x_x': 'subject_id','expire_flag_x':'expire_flag' },inplace=True)"
   ]
  },
  {
   "cell_type": "code",
   "execution_count": null,
   "metadata": {
    "collapsed": false,
    "deletable": true,
    "editable": true
   },
   "outputs": [],
   "source": [
    "merged_FINAL[:3]"
   ]
  },
  {
   "cell_type": "markdown",
   "metadata": {
    "deletable": true,
    "editable": true
   },
   "source": [
    "# FINAL DATAFRAME TO BE SAVED"
   ]
  },
  {
   "cell_type": "code",
   "execution_count": null,
   "metadata": {
    "collapsed": true,
    "deletable": true,
    "editable": true
   },
   "outputs": [],
   "source": [
    "merged_FINAL.to_csv('data_model1.csv', index=None)"
   ]
  },
  {
   "cell_type": "code",
   "execution_count": null,
   "metadata": {
    "collapsed": false,
    "deletable": true,
    "editable": true
   },
   "outputs": [],
   "source": [
    "tmp.info()"
   ]
  },
  {
   "cell_type": "code",
   "execution_count": null,
   "metadata": {
    "collapsed": false,
    "deletable": true,
    "editable": true
   },
   "outputs": [],
   "source": [
    "tmp"
   ]
  },
  {
   "cell_type": "code",
   "execution_count": null,
   "metadata": {
    "collapsed": false,
    "deletable": true,
    "editable": true
   },
   "outputs": [],
   "source": [
    "###### NOT USED \n",
    "# mydict={}\n",
    "# #tmp = grouped['icd9_code'].apply(lambda x: [x] )\n",
    "# #{k: g[\"value\"].tolist() for k,g in ptest.groupby(\"id\")}\n",
    "\n",
    "# mydict = {k: g[\"icd9_code\"].tolist() for k,g in df_model.groupby('hadm_id')}"
   ]
  },
  {
   "cell_type": "code",
   "execution_count": null,
   "metadata": {
    "collapsed": false,
    "deletable": true,
    "editable": true
   },
   "outputs": [],
   "source": [
    "###### NOT USED \n",
    "# #first2pairs = {k: mydict[k] for k in sorted(mydict.keys())[:1]}\n",
    "# ### Key = hadm_id\n",
    "#     # vals: icd9_code\n",
    "# first2pairs = {k: mydict[k] for k in mydict.keys()[:1]}\n",
    "# first2pairs"
   ]
  },
  {
   "cell_type": "code",
   "execution_count": null,
   "metadata": {
    "collapsed": true,
    "deletable": true,
    "editable": true
   },
   "outputs": [],
   "source": [
    "#################### remove 'icd9_code' column and group by \thadm_id get smaller dataFrame (back to 59,000)"
   ]
  },
  {
   "cell_type": "code",
   "execution_count": null,
   "metadata": {
    "collapsed": false,
    "deletable": true,
    "editable": true
   },
   "outputs": [],
   "source": [
    "# df_model = (df_model.groupby('hadm_id')\n",
    "#  .first()\n",
    "#  .reset_index())"
   ]
  },
  {
   "cell_type": "markdown",
   "metadata": {
    "deletable": true,
    "editable": true
   },
   "source": [
    "#### NOW YOU CAN DROP THE  icd9_code"
   ]
  },
  {
   "cell_type": "code",
   "execution_count": null,
   "metadata": {
    "collapsed": false,
    "deletable": true,
    "editable": true
   },
   "outputs": [],
   "source": [
    "# #### NOW YOU CAN DROP THE \n",
    "# df_model = df_model.drop(['icd9_code'], axis=1)"
   ]
  },
  {
   "cell_type": "code",
   "execution_count": null,
   "metadata": {
    "collapsed": false,
    "deletable": true,
    "editable": true
   },
   "outputs": [],
   "source": [
    "df_model.head(4)"
   ]
  },
  {
   "cell_type": "code",
   "execution_count": null,
   "metadata": {
    "collapsed": false,
    "deletable": true,
    "editable": true
   },
   "outputs": [],
   "source": [
    "#columns to keep\n",
    "keep = df_model.columns\n",
    "keep "
   ]
  },
  {
   "cell_type": "code",
   "execution_count": null,
   "metadata": {
    "collapsed": false,
    "deletable": true,
    "editable": true
   },
   "outputs": [],
   "source": [
    "# # for a in mydict[100001]:\n",
    "# #     print (a)\n",
    "# len(mydict[100018])"
   ]
  },
  {
   "cell_type": "code",
   "execution_count": null,
   "metadata": {
    "collapsed": false,
    "deletable": true,
    "editable": true
   },
   "outputs": [],
   "source": [
    "###### NOT USED \n",
    "# #key is hadm_id\n",
    "# # traverse df_model.hadm_id use key-value\n",
    "\n",
    "# for ix in range(len(df_model)):\n",
    "   \n",
    "#     key= df_model.loc[ix, 'hadm_id']\n",
    "    \n",
    "#     # traverse the array in mydict[key]\n",
    "#     for a in mydict[key]: \n",
    "#         if a in icd9_features:\n",
    "#             print(key, a)\n",
    "#             #df_model.loc[ix,a] = 1  \n",
    "    "
   ]
  },
  {
   "cell_type": "code",
   "execution_count": null,
   "metadata": {
    "collapsed": false,
    "deletable": true,
    "editable": true
   },
   "outputs": [],
   "source": [
    "df_model.info()"
   ]
  },
  {
   "cell_type": "code",
   "execution_count": null,
   "metadata": {
    "collapsed": false,
    "deletable": true,
    "editable": true
   },
   "outputs": [],
   "source": [
    "#result.loc[(result.hadm_id ==111199 )& (result.icd9_code=='485')]['expire_flag']"
   ]
  },
  {
   "cell_type": "code",
   "execution_count": null,
   "metadata": {
    "collapsed": true,
    "deletable": true,
    "editable": true
   },
   "outputs": [],
   "source": []
  },
  {
   "cell_type": "code",
   "execution_count": null,
   "metadata": {
    "collapsed": false,
    "deletable": true,
    "editable": true,
    "scrolled": true
   },
   "outputs": [],
   "source": [
    "procedures[:2]"
   ]
  },
  {
   "cell_type": "code",
   "execution_count": null,
   "metadata": {
    "collapsed": false,
    "deletable": true,
    "editable": true
   },
   "outputs": [],
   "source": [
    "# 4th \n",
    "procedures.loc[procedures['icd9_code']== \t5849]"
   ]
  },
  {
   "cell_type": "code",
   "execution_count": null,
   "metadata": {
    "collapsed": false,
    "deletable": true,
    "editable": true
   },
   "outputs": [],
   "source": [
    "pd.merge(new_icd9_smaller, procedures, how='left',on='icd9_code');"
   ]
  },
  {
   "cell_type": "code",
   "execution_count": null,
   "metadata": {
    "collapsed": true,
    "deletable": true,
    "editable": true
   },
   "outputs": [],
   "source": []
  },
  {
   "cell_type": "code",
   "execution_count": null,
   "metadata": {
    "collapsed": true,
    "deletable": true,
    "editable": true
   },
   "outputs": [],
   "source": []
  },
  {
   "cell_type": "markdown",
   "metadata": {
    "deletable": true,
    "editable": true
   },
   "source": [
    "# 3. Combination of Patients and Admissions table\n",
    "+ admissions have a: unique HADM_ID\n",
    "+ \n",
    "goals\n",
    "+ get the age of the subject at admit-time\n",
    "\n",
    "## First: get total number of Deaths and Survivals"
   ]
  },
  {
   "cell_type": "code",
   "execution_count": null,
   "metadata": {
    "collapsed": false,
    "deletable": true,
    "editable": true
   },
   "outputs": [],
   "source": [
    "## How many subject_ids? (PATIENTS total) = 46520\n",
    "print ( \"total number unique patients:  \", len(data.subject_id.unique()) )\n",
    "print ( \"total number unique admissions:  \", len(data.hadm_id.unique()) ), '\\n'\n",
    "\n",
    "\n",
    "######################## How many fatal visits? ####################################\n",
    "print ( \"total fatal hospital visits: \" , data[data.expire_flag==1]['expire_flag'].count())\n",
    "print ( \"total surviving hospital visits: \" , data[data.expire_flag==0]['expire_flag'].count()), '\\n'\n",
    "\n",
    "### How many of each Admission type fatal"
   ]
  },
  {
   "cell_type": "code",
   "execution_count": null,
   "metadata": {
    "collapsed": false,
    "deletable": true,
    "editable": true
   },
   "outputs": [],
   "source": [
    "data[data.gender.isnull()]['gender'].count()"
   ]
  },
  {
   "cell_type": "code",
   "execution_count": null,
   "metadata": {
    "collapsed": false,
    "deletable": true,
    "editable": true
   },
   "outputs": [],
   "source": [
    "data.admission_type.value_counts()"
   ]
  },
  {
   "cell_type": "code",
   "execution_count": null,
   "metadata": {
    "collapsed": false,
    "deletable": true,
    "editable": true
   },
   "outputs": [],
   "source": [
    "data[:3].expire_flag"
   ]
  },
  {
   "cell_type": "code",
   "execution_count": null,
   "metadata": {
    "collapsed": false,
    "deletable": true,
    "editable": true
   },
   "outputs": [],
   "source": [
    "admit_survival = (data.groupby(['admission_type','expire_flag'])\n",
    "['gender'].count().rename('Count')\n",
    ".reset_index())"
   ]
  },
  {
   "cell_type": "code",
   "execution_count": null,
   "metadata": {
    "collapsed": false,
    "deletable": true,
    "editable": true
   },
   "outputs": [],
   "source": [
    "admit_survival"
   ]
  },
  {
   "cell_type": "markdown",
   "metadata": {
    "deletable": true,
    "editable": true
   },
   "source": [
    "Emergency and urgent have the highest percentages of fatalities, followed by elective surgery\n",
    "Newborns are surprisingly resilient\n"
   ]
  },
  {
   "cell_type": "code",
   "execution_count": null,
   "metadata": {
    "collapsed": false,
    "deletable": true,
    "editable": true
   },
   "outputs": [],
   "source": [
    "\n",
    "print (\" elective \", 2186./(5520+2186)*100)\n",
    "print (\" emergency \", 19650./(19650+22421)*100)\n",
    "print (\" newborn \", 65./(65+7798)*100)\n",
    "print (\" urgent \", 685./(685+651)*100)"
   ]
  },
  {
   "cell_type": "markdown",
   "metadata": {
    "deletable": true,
    "editable": true
   },
   "source": [
    "Time related: \"u'edregtime', u'edouttime'\" what is this shit?\n",
    "\n",
    "Time that the patient was registered and discharged from the emergency department.\n",
    "\n",
    "##### pick the right admission time\n",
    "1. One way of doing it: Count from **when they were admitted to the emergency department ** ('edregtime', u'edouttime')\n",
    "1. OR  **when they were admitted to the hospital **  u'admittime',\n",
    "    - choose 2. right now, and come back to later if relevant"
   ]
  },
  {
   "cell_type": "code",
   "execution_count": null,
   "metadata": {
    "collapsed": false,
    "deletable": true,
    "editable": true
   },
   "outputs": [],
   "source": [
    "data.columns\n"
   ]
  },
  {
   "cell_type": "code",
   "execution_count": null,
   "metadata": {
    "collapsed": false,
    "deletable": true,
    "editable": true
   },
   "outputs": [],
   "source": [
    "df_smaller=data.loc[:, [ 'hadm_id','dob','admittime' ]]\n",
    "                    #['subject_id', u'gender', u'dob', u'dod', u'expire_flag']]"
   ]
  },
  {
   "cell_type": "code",
   "execution_count": null,
   "metadata": {
    "collapsed": false,
    "deletable": true,
    "editable": true
   },
   "outputs": [],
   "source": [
    "df_smaller[:3]"
   ]
  },
  {
   "cell_type": "code",
   "execution_count": null,
   "metadata": {
    "collapsed": false,
    "deletable": true,
    "editable": true
   },
   "outputs": [],
   "source": [
    "isinstance(df_smaller.dob,pd.DatetimeIndex)"
   ]
  },
  {
   "cell_type": "code",
   "execution_count": null,
   "metadata": {
    "collapsed": false,
    "deletable": true,
    "editable": true
   },
   "outputs": [],
   "source": [
    "isinstance(df_smaller.dob,pd.Timestamp)"
   ]
  },
  {
   "cell_type": "markdown",
   "metadata": {
    "deletable": true,
    "editable": true
   },
   "source": [
    "#it's not a timestamp, convert it to Timestamp"
   ]
  },
  {
   "cell_type": "code",
   "execution_count": null,
   "metadata": {
    "collapsed": false,
    "deletable": true,
    "editable": true
   },
   "outputs": [],
   "source": [
    "# Age, the -285 is over 90\n",
    "# ('<m8[Y]') is a dtype, that rounds up the years\n",
    "\n",
    "data['age'] = (pd.to_datetime(df_smaller.admittime) - pd.to_datetime(df_smaller.dob )\n",
    "              ).astype('<m8[Y]')"
   ]
  },
  {
   "cell_type": "code",
   "execution_count": null,
   "metadata": {
    "collapsed": false,
    "deletable": true,
    "editable": true
   },
   "outputs": [],
   "source": [
    "data['age'][:3]"
   ]
  },
  {
   "cell_type": "code",
   "execution_count": null,
   "metadata": {
    "collapsed": false,
    "deletable": true,
    "editable": true
   },
   "outputs": [],
   "source": [
    "data.age.describe()"
   ]
  },
  {
   "cell_type": "markdown",
   "metadata": {
    "deletable": true,
    "editable": true
   },
   "source": [
    "DOB is the date of birth of the given patient. Patients who are older than 89 years old at any time in the database have had their date of birth shifted to obscure their age and comply with HIPAA. \n",
    "** change all ages <0 to  90 **"
   ]
  },
  {
   "cell_type": "code",
   "execution_count": null,
   "metadata": {
    "collapsed": false,
    "deletable": true,
    "editable": true
   },
   "outputs": [],
   "source": [
    "# number o\n",
    "data.age.where(data['age']< 0).count()"
   ]
  },
  {
   "cell_type": "code",
   "execution_count": null,
   "metadata": {
    "collapsed": false,
    "deletable": true,
    "editable": true
   },
   "outputs": [],
   "source": [
    "#### SET ALL GREATER THAN 90 AGES TO 90\n",
    "data.loc[ (data.age < 0),'age']  = 90.0"
   ]
  },
  {
   "cell_type": "code",
   "execution_count": null,
   "metadata": {
    "collapsed": false,
    "deletable": true,
    "editable": true
   },
   "outputs": [],
   "source": [
    "data.age[:3]"
   ]
  },
  {
   "cell_type": "code",
   "execution_count": null,
   "metadata": {
    "collapsed": false,
    "deletable": true,
    "editable": true
   },
   "outputs": [],
   "source": [
    "#data['age'].where(data['age'] > 80 and data['age']< 90)\n",
    "\n",
    "## use .query method, it's nice\n",
    "print (\" number of people who have a DOD, of age b/w 80, and 90 \"\n",
    "       , data.query(' 80 < age <90 ' )['dod'].count())\n",
    "print (\" number of people who have a DOD, of age b/w 80, and 90 \", \n",
    "    data.query(' 80 < age <90 ' )['subject_id'].count() )"
   ]
  },
  {
   "cell_type": "code",
   "execution_count": null,
   "metadata": {
    "collapsed": true,
    "deletable": true,
    "editable": true
   },
   "outputs": [],
   "source": [
    "pd.to_datetime()"
   ]
  },
  {
   "cell_type": "markdown",
   "metadata": {
    "deletable": true,
    "editable": true
   },
   "source": [
    "## Other ideas \n",
    "+ convert all times to datetime\n",
    "+ can certain time of day classify death? \n"
   ]
  },
  {
   "cell_type": "code",
   "execution_count": null,
   "metadata": {
    "collapsed": false,
    "deletable": true,
    "editable": true
   },
   "outputs": [],
   "source": [
    "data.admission_location.unique()"
   ]
  },
  {
   "cell_type": "code",
   "execution_count": null,
   "metadata": {
    "collapsed": false,
    "deletable": true,
    "editable": true
   },
   "outputs": [],
   "source": [
    "data.columns"
   ]
  },
  {
   "cell_type": "code",
   "execution_count": null,
   "metadata": {
    "collapsed": true,
    "deletable": true,
    "editable": true
   },
   "outputs": [],
   "source": [
    "df_fit = data.loc[:, ['subject_id','gender','age','admission_type', 'expire_flag']]"
   ]
  },
  {
   "cell_type": "code",
   "execution_count": null,
   "metadata": {
    "collapsed": false,
    "deletable": true,
    "editable": true
   },
   "outputs": [],
   "source": [
    "# ############ Admission_type into categorical \n",
    "cols = ['NEWBORN', 'URGENT', 'EMERGENCY', 'ELECTIVE']\n",
    "nums = [0, 1, 2, 3 ]\n",
    "print(df_fit.admission_type.unique())\n",
    "\n",
    "df_fit.admission_type.replace(cols, nums, inplace=True)"
   ]
  },
  {
   "cell_type": "code",
   "execution_count": null,
   "metadata": {
    "collapsed": false,
    "deletable": true,
    "editable": true
   },
   "outputs": [],
   "source": [
    "########### Gender ##########\n",
    "gen = [\"M\", \"F\"]\n",
    "n_g = [0,1]\n",
    "df_fit.gender.replace(gen, n_g, inplace=True)"
   ]
  },
  {
   "cell_type": "code",
   "execution_count": null,
   "metadata": {
    "collapsed": false,
    "deletable": true,
    "editable": true
   },
   "outputs": [],
   "source": [
    "df_fit[:4]\n"
   ]
  },
  {
   "cell_type": "markdown",
   "metadata": {
    "deletable": true,
    "editable": true
   },
   "source": [
    "# First Logistic Model: Gender, Age, Admission type"
   ]
  },
  {
   "cell_type": "code",
   "execution_count": null,
   "metadata": {
    "collapsed": true,
    "deletable": true,
    "editable": true
   },
   "outputs": [],
   "source": [
    "X = df_fit.loc[:,['gender', 'age', 'admission_type']]\n",
    "\n",
    "y = df_fit.loc[:, 'expire_flag']"
   ]
  },
  {
   "cell_type": "code",
   "execution_count": null,
   "metadata": {
    "collapsed": true,
    "deletable": true,
    "editable": true
   },
   "outputs": [],
   "source": [
    "X_train, X_test, y_train, y_test = train_test_split(X,y,test_size=0.3, random_state=4444 )"
   ]
  },
  {
   "cell_type": "code",
   "execution_count": null,
   "metadata": {
    "collapsed": false,
    "deletable": true,
    "editable": true
   },
   "outputs": [],
   "source": [
    "lr_model = LogisticRegression()\n",
    "lr_model.fit(X_train, y_train)"
   ]
  },
  {
   "cell_type": "code",
   "execution_count": null,
   "metadata": {
    "collapsed": false,
    "deletable": true,
    "editable": true
   },
   "outputs": [],
   "source": [
    "\n",
    "##y_pred_1 = lr_model.predict_proba(X_test)"
   ]
  },
  {
   "cell_type": "code",
   "execution_count": null,
   "metadata": {
    "collapsed": false,
    "deletable": true,
    "editable": true
   },
   "outputs": [],
   "source": [
    " \n",
    "\n",
    "for col in X_train.columns:\n",
    "    print (col)\n",
    "    X_tr = X_train.loc[:, col].values.reshape(-1,1)\n",
    "    X_te = X_test.loc[:,col].values.reshape(-1,1)\n",
    "    lr_model = LogisticRegression()\n",
    "    lr_model.fit(X_tr, y_train)\n",
    "    y_prob_pred = lr_model.predict_proba(X_te)[:,1]\n",
    "    print( \"log-loss\",log_loss(y_test, y_prob_pred)) "
   ]
  },
  {
   "cell_type": "code",
   "execution_count": null,
   "metadata": {
    "collapsed": false,
    "deletable": true,
    "editable": true
   },
   "outputs": [],
   "source": [
    "## this is for .predict() method\n",
    "# print (\" accuracy\" , accuracy_score(y_test, y_pred_1, normalize=True))\n",
    "# print (\"precision\",precision_score(y_test, y_pred_1))\n",
    "# print (\"recall\",recall_score(y_test, y_pred_1))"
   ]
  },
  {
   "cell_type": "markdown",
   "metadata": {
    "deletable": true,
    "editable": true
   },
   "source": [
    "## Look at Admission Type"
   ]
  },
  {
   "cell_type": "code",
   "execution_count": null,
   "metadata": {
    "collapsed": true,
    "deletable": true,
    "editable": true
   },
   "outputs": [],
   "source": [
    "X_train, X_test, y_train, y_test = train_test_split(X.loc[:,'admission_type'],y,test_size=0.3, random_state=4444 )"
   ]
  },
  {
   "cell_type": "code",
   "execution_count": null,
   "metadata": {
    "collapsed": true,
    "deletable": true,
    "editable": true
   },
   "outputs": [],
   "source": [
    "lr_model_a = LogisticRegression()\n",
    "lr_model_a.fit(X_train, y_train)\n",
    "y_pred_a = lr_model_a.predict(X_test)"
   ]
  },
  {
   "cell_type": "code",
   "execution_count": null,
   "metadata": {
    "collapsed": false,
    "deletable": true,
    "editable": true
   },
   "outputs": [],
   "source": [
    "X.loc[:,'admission_type']"
   ]
  },
  {
   "cell_type": "code",
   "execution_count": null,
   "metadata": {
    "collapsed": false,
    "deletable": true,
    "editable": true
   },
   "outputs": [],
   "source": [
    "print (\" accuracy\" , accuracy_score(y_test, y_pred_a, normalize=True))\n",
    "print (\"precision\",precision_score(y_test, y_pred_a))\n",
    "print (\"recall\",recall_score(y_test, y_pred_a))"
   ]
  },
  {
   "cell_type": "code",
   "execution_count": null,
   "metadata": {
    "collapsed": true,
    "deletable": true,
    "editable": true
   },
   "outputs": [],
   "source": []
  },
  {
   "cell_type": "code",
   "execution_count": null,
   "metadata": {
    "collapsed": true,
    "deletable": true,
    "editable": true
   },
   "outputs": [],
   "source": []
  },
  {
   "cell_type": "code",
   "execution_count": null,
   "metadata": {
    "collapsed": true,
    "deletable": true,
    "editable": true
   },
   "outputs": [],
   "source": []
  },
  {
   "cell_type": "code",
   "execution_count": null,
   "metadata": {
    "collapsed": false,
    "deletable": true,
    "editable": true
   },
   "outputs": [],
   "source": [
    "X_train, X_test, y_train, y_test = train_test_split(X.loc[:,['gender']],y,test_size=0.3, random_state=4444 )"
   ]
  },
  {
   "cell_type": "code",
   "execution_count": null,
   "metadata": {
    "collapsed": false,
    "deletable": true,
    "editable": true
   },
   "outputs": [],
   "source": [
    "X_train.shape"
   ]
  },
  {
   "cell_type": "code",
   "execution_count": null,
   "metadata": {
    "collapsed": false,
    "deletable": true,
    "editable": true
   },
   "outputs": [],
   "source": [
    "y_train.shape"
   ]
  },
  {
   "cell_type": "code",
   "execution_count": null,
   "metadata": {
    "collapsed": false,
    "deletable": true,
    "editable": true
   },
   "outputs": [],
   "source": [
    "lr_modelGender = LogisticRegression()\n",
    "lr_modelGender.fit(X_train, y_train)\n",
    "y_pred_Gender = lr_modelGender.predict(X_test)"
   ]
  },
  {
   "cell_type": "code",
   "execution_count": null,
   "metadata": {
    "collapsed": false,
    "deletable": true,
    "editable": true
   },
   "outputs": [],
   "source": [
    "print (\" accuracy\" , accuracy_score(y_test,y_pred_Gender , normalize=True))\n",
    "print (\"precision\",precision_score(y_test, y_pred_Gender))\n",
    "print (\"recall\",recall_score(y_test, y_pred_Gender))"
   ]
  },
  {
   "cell_type": "markdown",
   "metadata": {
    "deletable": true,
    "editable": true
   },
   "source": [
    "Gender itself is a terrible predictor "
   ]
  },
  {
   "cell_type": "code",
   "execution_count": null,
   "metadata": {
    "collapsed": true,
    "deletable": true,
    "editable": true
   },
   "outputs": [],
   "source": []
  },
  {
   "cell_type": "markdown",
   "metadata": {
    "deletable": true,
    "editable": true
   },
   "source": [
    "### IF you wanna deal with ethnicity"
   ]
  },
  {
   "cell_type": "code",
   "execution_count": null,
   "metadata": {
    "collapsed": false,
    "deletable": true,
    "editable": true
   },
   "outputs": [],
   "source": [
    "eth = list(data.ethnicity.unique())"
   ]
  },
  {
   "cell_type": "code",
   "execution_count": null,
   "metadata": {
    "collapsed": false,
    "deletable": true,
    "editable": true
   },
   "outputs": [],
   "source": [
    "eth.sort()"
   ]
  },
  {
   "cell_type": "code",
   "execution_count": null,
   "metadata": {
    "collapsed": false,
    "deletable": true,
    "editable": true
   },
   "outputs": [],
   "source": [
    "print (len(eth))\n",
    "eth\n"
   ]
  },
  {
   "cell_type": "code",
   "execution_count": null,
   "metadata": {
    "collapsed": false,
    "deletable": true,
    "editable": true
   },
   "outputs": [],
   "source": [
    "print (data[data.ethnicity=='UNKNOWN/NOT SPECIFIED']['subject_id'].count())\n",
    "print (data[data.ethnicity=='OTHER']['subject_id'].count())\n",
    "print (data[data.ethnicity=='PATIENT DECLINED TO ANSWER']['subject_id'].count())\n"
   ]
  },
  {
   "cell_type": "code",
   "execution_count": null,
   "metadata": {
    "collapsed": true,
    "deletable": true,
    "editable": true
   },
   "outputs": [],
   "source": [
    "''' Ethnicty Dictionary\n",
    "    White (any) +Portugese = 0\n",
    "    Black (any) = 1\n",
    "    Hispanic/South American (any) + Carribbean = 2\n",
    "    Asian (any) + hawaiian (pac islander) = 3\n",
    "    Native American  = 4\n",
    "    Multi Race = 5 \n",
    "    \n",
    "'''"
   ]
  },
  {
   "cell_type": "code",
   "execution_count": null,
   "metadata": {
    "collapsed": false,
    "deletable": true,
    "editable": true
   },
   "outputs": [],
   "source": [
    "data.columns"
   ]
  },
  {
   "cell_type": "code",
   "execution_count": null,
   "metadata": {
    "collapsed": true,
    "deletable": true,
    "editable": true
   },
   "outputs": [],
   "source": []
  },
  {
   "cell_type": "code",
   "execution_count": null,
   "metadata": {
    "collapsed": false,
    "deletable": true,
    "editable": true
   },
   "outputs": [],
   "source": [
    "df_fit = data.loc[:, ['subject_id','gender','age', 'ethnicity', 'expire_flag']]"
   ]
  },
  {
   "cell_type": "code",
   "execution_count": null,
   "metadata": {
    "collapsed": false,
    "deletable": true,
    "editable": true
   },
   "outputs": [],
   "source": [
    "print(df_fit[df_fit.ethnicity.str.contains('WHITE')]['ethnicity'].unique())\n",
    "len(df_fit[df_fit.ethnicity.str.contains('WHITE')]['ethnicity'].unique())"
   ]
  },
  {
   "cell_type": "code",
   "execution_count": null,
   "metadata": {
    "collapsed": false,
    "deletable": true,
    "editable": true
   },
   "outputs": [],
   "source": [
    "(df_fit[df_fit.ethnicity.str.contains('ASIAN')]['ethnicity'].unique())\n",
    "len(df_fit[df_fit.ethnicity.str.contains('ASIAN')]['ethnicity'].unique())"
   ]
  },
  {
   "cell_type": "code",
   "execution_count": null,
   "metadata": {
    "collapsed": false,
    "deletable": true,
    "editable": true
   },
   "outputs": [],
   "source": [
    "(df_fit[df_fit.ethnicity.str.contains('HISPANIC')]['ethnicity'].unique())\n",
    "print (len((df_fit[df_fit.ethnicity.str.contains('HISPANIC')]['ethnicity'].unique())\n",
    ")) # Hispanic\n",
    "print (len((df_fit[df_fit.ethnicity.str.contains('BLACK')]['ethnicity'].unique())\n",
    ")) # Black"
   ]
  },
  {
   "cell_type": "code",
   "execution_count": null,
   "metadata": {
    "collapsed": false,
    "deletable": true,
    "editable": true
   },
   "outputs": [],
   "source": [
    "print ((df_fit[df_fit.ethnicity.str.contains('INDIAN')]['ethnicity'].unique() ))"
   ]
  },
  {
   "cell_type": "code",
   "execution_count": null,
   "metadata": {
    "collapsed": false,
    "deletable": true,
    "editable": true
   },
   "outputs": [],
   "source": [
    "print ((df_fit[df_fit.ethnicity.str.contains('AMERICAN INDIAN')]['ethnicity'].unique() ))"
   ]
  },
  {
   "cell_type": "code",
   "execution_count": null,
   "metadata": {
    "collapsed": true,
    "deletable": true,
    "editable": true
   },
   "outputs": [],
   "source": [
    "def convert_eth():\n",
    "    "
   ]
  },
  {
   "cell_type": "code",
   "execution_count": null,
   "metadata": {
    "collapsed": true,
    "deletable": true,
    "editable": true
   },
   "outputs": [],
   "source": []
  },
  {
   "cell_type": "code",
   "execution_count": null,
   "metadata": {
    "collapsed": true,
    "deletable": true,
    "editable": true
   },
   "outputs": [],
   "source": []
  },
  {
   "cell_type": "code",
   "execution_count": null,
   "metadata": {
    "collapsed": true,
    "deletable": true,
    "editable": true
   },
   "outputs": [],
   "source": []
  },
  {
   "cell_type": "code",
   "execution_count": null,
   "metadata": {
    "collapsed": true,
    "deletable": true,
    "editable": true
   },
   "outputs": [],
   "source": []
  },
  {
   "cell_type": "code",
   "execution_count": null,
   "metadata": {
    "collapsed": true,
    "deletable": true,
    "editable": true
   },
   "outputs": [],
   "source": []
  }
 ],
 "metadata": {
  "kernelspec": {
   "display_name": "Python 2",
   "language": "python",
   "name": "python2"
  },
  "language_info": {
   "codemirror_mode": {
    "name": "ipython",
    "version": 2
   },
   "file_extension": ".py",
   "mimetype": "text/x-python",
   "name": "python",
   "nbconvert_exporter": "python",
   "pygments_lexer": "ipython2",
   "version": "2.7.13"
  }
 },
 "nbformat": 4,
 "nbformat_minor": 2
}
