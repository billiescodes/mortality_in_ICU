{
 "cells": [
  {
   "cell_type": "markdown",
   "metadata": {
    "deletable": true,
    "editable": true
   },
   "source": [
    "\n",
    "# EDA and preparing the data \n",
    "\n",
    "This notebook includes some important data exploration, groupings and breakdowns of different features, relvant visualizations and some statistics. Furthermore it builds the dataframe that is used in the model notebook(s) which includes the Naive Bayes calculation.\n",
    "\n",
    "** ** \n",
    "### Includes:\n",
    " 1. Most Common Diagnoses Fatal v. Non Fatal\n",
    " 1. * Using Naive Bayes to find diseases that are good features *\n",
    "  \n",
    "    \\\\[\\frac{P( Death  |  icd9=x) }{P( Survival | icd9 x)} \\\\]\n",
    "    \n",
    " 1. Combination of Patients and Admissions table\n",
    " 1. First Model: Gender and Age Logistic Regression\n",
    " 1. Create DataFrame with icd9- as features\n",
    " 1. (optional) if you wanna look at ethnicity\n",
    " \n",
    "#### terms in data tables \n",
    "\n",
    "* hadm_id    = hospital admission id (one patient could map to several) \n",
    "* subject_id = personal id (unique to patient)\n",
    "* seq_num    = sequential number of diagnosis ( 1 being most serious/reason for coming in)  \n",
    "\n",
    "### outline\n",
    "\n",
    "1. Part 1:  Answering a few basic stats\n",
    "1. Part 2: Visualization,  Histograms \n",
    "1. Part 7 (?) First Logistic Model: Gender, Age, Admission type\n"
   ]
  },
  {
   "cell_type": "code",
   "execution_count": 1,
   "metadata": {
    "collapsed": true,
    "deletable": true,
    "editable": true
   },
   "outputs": [],
   "source": [
    "from __future__ import print_function, division"
   ]
  },
  {
   "cell_type": "code",
   "execution_count": 2,
   "metadata": {
    "collapsed": true,
    "deletable": true,
    "editable": true
   },
   "outputs": [],
   "source": [
    "import numpy as np\n",
    "import pandas as pd\n",
    "import matplotlib.pyplot as plt\n",
    "%matplotlib inline\n",
    "import seaborn as sns"
   ]
  },
  {
   "cell_type": "code",
   "execution_count": 3,
   "metadata": {
    "collapsed": true,
    "deletable": true,
    "editable": true
   },
   "outputs": [],
   "source": [
    "from sklearn.model_selection import train_test_split\n",
    "from sklearn.linear_model import LogisticRegression\n",
    "\n",
    "from sklearn.metrics import log_loss\n",
    "from sklearn.metrics import accuracy_score\n",
    "from sklearn.metrics import precision_score\n",
    "from sklearn.metrics import recall_score\n",
    "from sklearn.metrics import f1_score"
   ]
  },
  {
   "cell_type": "code",
   "execution_count": 4,
   "metadata": {
    "collapsed": false,
    "deletable": true,
    "editable": true
   },
   "outputs": [],
   "source": [
    "####import all the previously assembled data \n",
    "\n",
    "# general dataframe with more info: time, gender, language etc\n",
    "data = pd.read_csv(\"mimic_data/admit_1.csv\")\n",
    "### dataframe containing all diagnosis codes for hospital visits tagged: expired/fatal \n",
    "df_expired = pd.read_csv(\"mimic_data/icd9_expire1.csv\")\n",
    "\n",
    "# dataframe containing all diagnosis codes for hospital visits tagged: survived\n",
    "df_alive = pd.read_csv(\"mimic_data/icd9_expire0.csv\")\n",
    "\n",
    "# dataframe containing all diagnoses (short & long) for all hospital visits\n",
    "diagnoses = pd.read_csv(\"mimic_data/diagnoses.csv\")\n",
    "\n",
    "# DICTIONARY of DIAGNOSES (procedures);  only 3882 rows \n",
    "procedures = pd.read_csv(\"mimic_data/procedures.csv\")"
   ]
  },
  {
   "cell_type": "markdown",
   "metadata": {
    "deletable": true,
    "editable": true
   },
   "source": [
    "#### Data files key \n",
    "* **df_alive** - every single icd9 code for every single hospital visit  -- survived\n",
    "* **df_expired** - every single icd9 code for every single hospital visit -- fatal\n",
    "\n",
    "** Data ** contains gender, dob, (religion, ethnicity etc. other events)\n",
    "    - contains:\n",
    "        - number of unique hospital visits\n",
    "        - expire flag\n",
    "        - gender\n",
    "    - does not contain\n",
    "        - all icd9-codes per visit and seq_number (order of code importance)  \n",
    "** diagnoses **\n",
    "   - icd9- codes and seq_num for all visits "
   ]
  },
  {
   "cell_type": "code",
   "execution_count": 5,
   "metadata": {
    "collapsed": false,
    "deletable": true,
    "editable": true
   },
   "outputs": [
    {
     "data": {
      "text/html": [
       "<div>\n",
       "<style scoped>\n",
       "    .dataframe tbody tr th:only-of-type {\n",
       "        vertical-align: middle;\n",
       "    }\n",
       "\n",
       "    .dataframe tbody tr th {\n",
       "        vertical-align: top;\n",
       "    }\n",
       "\n",
       "    .dataframe thead th {\n",
       "        text-align: right;\n",
       "    }\n",
       "</style>\n",
       "<table border=\"1\" class=\"dataframe\">\n",
       "  <thead>\n",
       "    <tr style=\"text-align: right;\">\n",
       "      <th></th>\n",
       "      <th>subject_id</th>\n",
       "      <th>gender</th>\n",
       "      <th>dob</th>\n",
       "      <th>dod</th>\n",
       "      <th>expire_flag</th>\n",
       "      <th>row_id</th>\n",
       "      <th>subject_id.1</th>\n",
       "      <th>hadm_id</th>\n",
       "      <th>admittime</th>\n",
       "      <th>dischtime</th>\n",
       "      <th>...</th>\n",
       "      <th>language</th>\n",
       "      <th>religion</th>\n",
       "      <th>marital_status</th>\n",
       "      <th>ethnicity</th>\n",
       "      <th>edregtime</th>\n",
       "      <th>edouttime</th>\n",
       "      <th>diagnosis</th>\n",
       "      <th>hospital_expire_flag</th>\n",
       "      <th>has_ioevents_data</th>\n",
       "      <th>has_chartevents_data</th>\n",
       "    </tr>\n",
       "  </thead>\n",
       "  <tbody>\n",
       "    <tr>\n",
       "      <th>0</th>\n",
       "      <td>30</td>\n",
       "      <td>M</td>\n",
       "      <td>1872-10-14 00:00:00</td>\n",
       "      <td>NaN</td>\n",
       "      <td>0</td>\n",
       "      <td>29</td>\n",
       "      <td>30</td>\n",
       "      <td>104557</td>\n",
       "      <td>2172-10-14 14:17:00</td>\n",
       "      <td>2172-10-19 14:37:00</td>\n",
       "      <td>...</td>\n",
       "      <td>NaN</td>\n",
       "      <td>CATHOLIC</td>\n",
       "      <td>MARRIED</td>\n",
       "      <td>UNKNOWN/NOT SPECIFIED</td>\n",
       "      <td>NaN</td>\n",
       "      <td>NaN</td>\n",
       "      <td>UNSTABLE ANGINA\\CATH</td>\n",
       "      <td>0</td>\n",
       "      <td>1</td>\n",
       "      <td>1</td>\n",
       "    </tr>\n",
       "    <tr>\n",
       "      <th>1</th>\n",
       "      <td>8402</td>\n",
       "      <td>M</td>\n",
       "      <td>2105-06-24 00:00:00</td>\n",
       "      <td>NaN</td>\n",
       "      <td>0</td>\n",
       "      <td>10260</td>\n",
       "      <td>8402</td>\n",
       "      <td>177676</td>\n",
       "      <td>2167-07-31 09:26:00</td>\n",
       "      <td>2167-08-07 14:36:00</td>\n",
       "      <td>...</td>\n",
       "      <td>NaN</td>\n",
       "      <td>CATHOLIC</td>\n",
       "      <td>MARRIED</td>\n",
       "      <td>WHITE</td>\n",
       "      <td>NaN</td>\n",
       "      <td>NaN</td>\n",
       "      <td>CHEST PAIN\\CATH</td>\n",
       "      <td>0</td>\n",
       "      <td>1</td>\n",
       "      <td>1</td>\n",
       "    </tr>\n",
       "  </tbody>\n",
       "</table>\n",
       "<p>2 rows × 25 columns</p>\n",
       "</div>"
      ],
      "text/plain": [
       "   subject_id gender                  dob  dod  expire_flag  row_id  \\\n",
       "0          30      M  1872-10-14 00:00:00  NaN            0      29   \n",
       "1        8402      M  2105-06-24 00:00:00  NaN            0   10260   \n",
       "\n",
       "   subject_id.1  hadm_id            admittime            dischtime  \\\n",
       "0            30   104557  2172-10-14 14:17:00  2172-10-19 14:37:00   \n",
       "1          8402   177676  2167-07-31 09:26:00  2167-08-07 14:36:00   \n",
       "\n",
       "          ...          language  religion marital_status  \\\n",
       "0         ...               NaN  CATHOLIC        MARRIED   \n",
       "1         ...               NaN  CATHOLIC        MARRIED   \n",
       "\n",
       "               ethnicity edregtime edouttime             diagnosis  \\\n",
       "0  UNKNOWN/NOT SPECIFIED       NaN       NaN  UNSTABLE ANGINA\\CATH   \n",
       "1                  WHITE       NaN       NaN       CHEST PAIN\\CATH   \n",
       "\n",
       "  hospital_expire_flag has_ioevents_data has_chartevents_data  \n",
       "0                    0                 1                    1  \n",
       "1                    0                 1                    1  \n",
       "\n",
       "[2 rows x 25 columns]"
      ]
     },
     "execution_count": 5,
     "metadata": {},
     "output_type": "execute_result"
    }
   ],
   "source": [
    "data[:2]"
   ]
  },
  {
   "cell_type": "code",
   "execution_count": 6,
   "metadata": {
    "collapsed": false,
    "deletable": true,
    "editable": true
   },
   "outputs": [
    {
     "data": {
      "text/html": [
       "<div>\n",
       "<style scoped>\n",
       "    .dataframe tbody tr th:only-of-type {\n",
       "        vertical-align: middle;\n",
       "    }\n",
       "\n",
       "    .dataframe tbody tr th {\n",
       "        vertical-align: top;\n",
       "    }\n",
       "\n",
       "    .dataframe thead th {\n",
       "        text-align: right;\n",
       "    }\n",
       "</style>\n",
       "<table border=\"1\" class=\"dataframe\">\n",
       "  <thead>\n",
       "    <tr style=\"text-align: right;\">\n",
       "      <th></th>\n",
       "      <th>hadm_id</th>\n",
       "      <th>subject_id</th>\n",
       "      <th>expire_flag</th>\n",
       "      <th>icd9_code</th>\n",
       "    </tr>\n",
       "  </thead>\n",
       "  <tbody>\n",
       "    <tr>\n",
       "      <th>0</th>\n",
       "      <td>121205</td>\n",
       "      <td>91</td>\n",
       "      <td>1</td>\n",
       "      <td>20008</td>\n",
       "    </tr>\n",
       "    <tr>\n",
       "      <th>1</th>\n",
       "      <td>121205</td>\n",
       "      <td>91</td>\n",
       "      <td>1</td>\n",
       "      <td>2765</td>\n",
       "    </tr>\n",
       "  </tbody>\n",
       "</table>\n",
       "</div>"
      ],
      "text/plain": [
       "   hadm_id  subject_id  expire_flag icd9_code\n",
       "0   121205          91            1     20008\n",
       "1   121205          91            1      2765"
      ]
     },
     "execution_count": 6,
     "metadata": {},
     "output_type": "execute_result"
    }
   ],
   "source": [
    "df_expired[:2]"
   ]
  },
  {
   "cell_type": "code",
   "execution_count": 7,
   "metadata": {
    "collapsed": false,
    "deletable": true,
    "editable": true
   },
   "outputs": [
    {
     "data": {
      "text/html": [
       "<div>\n",
       "<style scoped>\n",
       "    .dataframe tbody tr th:only-of-type {\n",
       "        vertical-align: middle;\n",
       "    }\n",
       "\n",
       "    .dataframe tbody tr th {\n",
       "        vertical-align: top;\n",
       "    }\n",
       "\n",
       "    .dataframe thead th {\n",
       "        text-align: right;\n",
       "    }\n",
       "</style>\n",
       "<table border=\"1\" class=\"dataframe\">\n",
       "  <thead>\n",
       "    <tr style=\"text-align: right;\">\n",
       "      <th></th>\n",
       "      <th>hadm_id</th>\n",
       "      <th>subject_id</th>\n",
       "      <th>expire_flag</th>\n",
       "      <th>icd9_code</th>\n",
       "    </tr>\n",
       "  </thead>\n",
       "  <tbody>\n",
       "    <tr>\n",
       "      <th>0</th>\n",
       "      <td>163353</td>\n",
       "      <td>2</td>\n",
       "      <td>0</td>\n",
       "      <td>V3001</td>\n",
       "    </tr>\n",
       "    <tr>\n",
       "      <th>1</th>\n",
       "      <td>163353</td>\n",
       "      <td>2</td>\n",
       "      <td>0</td>\n",
       "      <td>V053</td>\n",
       "    </tr>\n",
       "    <tr>\n",
       "      <th>2</th>\n",
       "      <td>163353</td>\n",
       "      <td>2</td>\n",
       "      <td>0</td>\n",
       "      <td>V290</td>\n",
       "    </tr>\n",
       "  </tbody>\n",
       "</table>\n",
       "</div>"
      ],
      "text/plain": [
       "   hadm_id  subject_id  expire_flag icd9_code\n",
       "0   163353           2            0     V3001\n",
       "1   163353           2            0      V053\n",
       "2   163353           2            0      V290"
      ]
     },
     "execution_count": 7,
     "metadata": {},
     "output_type": "execute_result"
    }
   ],
   "source": [
    "df_alive[:3]"
   ]
  },
  {
   "cell_type": "code",
   "execution_count": 8,
   "metadata": {
    "collapsed": false,
    "deletable": true,
    "editable": true
   },
   "outputs": [
    {
     "data": {
      "text/html": [
       "<div>\n",
       "<style scoped>\n",
       "    .dataframe tbody tr th:only-of-type {\n",
       "        vertical-align: middle;\n",
       "    }\n",
       "\n",
       "    .dataframe tbody tr th {\n",
       "        vertical-align: top;\n",
       "    }\n",
       "\n",
       "    .dataframe thead th {\n",
       "        text-align: right;\n",
       "    }\n",
       "</style>\n",
       "<table border=\"1\" class=\"dataframe\">\n",
       "  <thead>\n",
       "    <tr style=\"text-align: right;\">\n",
       "      <th></th>\n",
       "      <th>row_id</th>\n",
       "      <th>subject_id</th>\n",
       "      <th>hadm_id</th>\n",
       "      <th>seq_num</th>\n",
       "      <th>icd9_code</th>\n",
       "      <th>row_id.1</th>\n",
       "      <th>icd9_code.1</th>\n",
       "      <th>short_title</th>\n",
       "      <th>long_title</th>\n",
       "    </tr>\n",
       "  </thead>\n",
       "  <tbody>\n",
       "    <tr>\n",
       "      <th>0</th>\n",
       "      <td>243</td>\n",
       "      <td>34</td>\n",
       "      <td>115799</td>\n",
       "      <td>8.0</td>\n",
       "      <td>E8790</td>\n",
       "      <td>13429.0</td>\n",
       "      <td>E8790</td>\n",
       "      <td>Abn react-cardiac cath</td>\n",
       "      <td>Cardiac catheterization as the cause of abnorm...</td>\n",
       "    </tr>\n",
       "    <tr>\n",
       "      <th>1</th>\n",
       "      <td>244</td>\n",
       "      <td>34</td>\n",
       "      <td>144319</td>\n",
       "      <td>1.0</td>\n",
       "      <td>42789</td>\n",
       "      <td>4471.0</td>\n",
       "      <td>42789</td>\n",
       "      <td>Cardiac dysrhythmias NEC</td>\n",
       "      <td>Other specified cardiac dysrhythmias</td>\n",
       "    </tr>\n",
       "  </tbody>\n",
       "</table>\n",
       "</div>"
      ],
      "text/plain": [
       "   row_id  subject_id  hadm_id  seq_num icd9_code  row_id.1 icd9_code.1  \\\n",
       "0     243          34   115799      8.0     E8790   13429.0       E8790   \n",
       "1     244          34   144319      1.0     42789    4471.0       42789   \n",
       "\n",
       "                short_title                                         long_title  \n",
       "0    Abn react-cardiac cath  Cardiac catheterization as the cause of abnorm...  \n",
       "1  Cardiac dysrhythmias NEC               Other specified cardiac dysrhythmias  "
      ]
     },
     "execution_count": 8,
     "metadata": {},
     "output_type": "execute_result"
    }
   ],
   "source": [
    "diagnoses[:2]"
   ]
  },
  {
   "cell_type": "code",
   "execution_count": 9,
   "metadata": {
    "collapsed": false,
    "deletable": true,
    "editable": true
   },
   "outputs": [
    {
     "data": {
      "text/html": [
       "<div>\n",
       "<style scoped>\n",
       "    .dataframe tbody tr th:only-of-type {\n",
       "        vertical-align: middle;\n",
       "    }\n",
       "\n",
       "    .dataframe tbody tr th {\n",
       "        vertical-align: top;\n",
       "    }\n",
       "\n",
       "    .dataframe thead th {\n",
       "        text-align: right;\n",
       "    }\n",
       "</style>\n",
       "<table border=\"1\" class=\"dataframe\">\n",
       "  <thead>\n",
       "    <tr style=\"text-align: right;\">\n",
       "      <th></th>\n",
       "      <th>row_id</th>\n",
       "      <th>icd9_code</th>\n",
       "      <th>short_title</th>\n",
       "      <th>long_title</th>\n",
       "    </tr>\n",
       "  </thead>\n",
       "  <tbody>\n",
       "    <tr>\n",
       "      <th>0</th>\n",
       "      <td>86</td>\n",
       "      <td>64</td>\n",
       "      <td>Perc ins extracran stent</td>\n",
       "      <td>Percutaneous insertion of other extracranial a...</td>\n",
       "    </tr>\n",
       "    <tr>\n",
       "      <th>1</th>\n",
       "      <td>87</td>\n",
       "      <td>65</td>\n",
       "      <td>Perc ins intracran stent</td>\n",
       "      <td>Percutaneous insertion of intracranial vascula...</td>\n",
       "    </tr>\n",
       "    <tr>\n",
       "      <th>2</th>\n",
       "      <td>88</td>\n",
       "      <td>66</td>\n",
       "      <td>PTCA</td>\n",
       "      <td>Percutaneous transluminal coronary angioplasty...</td>\n",
       "    </tr>\n",
       "  </tbody>\n",
       "</table>\n",
       "</div>"
      ],
      "text/plain": [
       "   row_id  icd9_code               short_title  \\\n",
       "0      86         64  Perc ins extracran stent   \n",
       "1      87         65  Perc ins intracran stent   \n",
       "2      88         66                      PTCA   \n",
       "\n",
       "                                          long_title  \n",
       "0  Percutaneous insertion of other extracranial a...  \n",
       "1  Percutaneous insertion of intracranial vascula...  \n",
       "2  Percutaneous transluminal coronary angioplasty...  "
      ]
     },
     "execution_count": 9,
     "metadata": {},
     "output_type": "execute_result"
    }
   ],
   "source": [
    "procedures[:3]"
   ]
  },
  {
   "cell_type": "code",
   "execution_count": 10,
   "metadata": {
    "collapsed": false,
    "deletable": true,
    "editable": true
   },
   "outputs": [
    {
     "name": "stdout",
     "output_type": "stream",
     "text": [
      " all hospital visits in data \t 58976\n",
      " all hospital visits in diagnoses \t 58976\n",
      " \t codes \t\n",
      "all codes in procedures  3809\n",
      "all codes in diagnoses \t 6985\n",
      "all codes in df_alive \t 6423\n",
      "all codes in df_expired  4824\n"
     ]
    }
   ],
   "source": [
    "print (\" all hospital visits in data \\t\", len(data['hadm_id'].unique()))\n",
    "print ( \" all hospital visits in diagnoses \\t\",len(diagnoses['hadm_id'].unique()))\n",
    "print ( \" \\t codes \\t\")\n",
    "print (\"all codes in procedures \" ,len(procedures['icd9_code'].unique()))\n",
    "print (\"all codes in diagnoses \\t\" ,len(diagnoses['icd9_code'].unique()))\n",
    "print (\"all codes in df_alive \\t\" ,len(df_alive['icd9_code'].unique()))\n",
    "print (\"all codes in df_expired \" ,len(df_expired['icd9_code'].unique()))"
   ]
  },
  {
   "cell_type": "code",
   "execution_count": 11,
   "metadata": {
    "collapsed": false,
    "deletable": true,
    "editable": true
   },
   "outputs": [],
   "source": [
    "## diagnoses.groupby('hadm_id').count() # returns DF with number codes per visit\n",
    "## diagnoses.groupby('')"
   ]
  },
  {
   "cell_type": "markdown",
   "metadata": {
    "deletable": true,
    "editable": true
   },
   "source": [
    " # Part 1:  Answering a few basic stats\n",
    "\n",
    "#### regarding data frames\n",
    "\n",
    "the goal is to obtain a dataframe of admissions with both expired flag [ survived/expired ] and also obtain an idea of what are the most common icd9 codes\n",
    "\n",
    "+ ** admit_1.csv ** used to get # admissions + expire_flag\n",
    "+ ** icd9_expire.csv ** to find the most common icd9 codes\n",
    "\n",
    "** ** ** \n",
    "     # How many unique codes for fatal cases?  4824\n",
    "     #How many unique codes for survived cases? 6423\n",
    "    **"
   ]
  },
  {
   "cell_type": "code",
   "execution_count": 12,
   "metadata": {
    "collapsed": false,
    "deletable": true,
    "editable": true
   },
   "outputs": [
    {
     "data": {
      "text/plain": [
       "4824"
      ]
     },
     "execution_count": 12,
     "metadata": {},
     "output_type": "execute_result"
    }
   ],
   "source": [
    "# How many unique codes for fatal cases? \n",
    "len(df_expired.icd9_code.unique())"
   ]
  },
  {
   "cell_type": "code",
   "execution_count": 13,
   "metadata": {
    "collapsed": false,
    "deletable": true,
    "editable": true
   },
   "outputs": [
    {
     "data": {
      "text/plain": [
       "6423"
      ]
     },
     "execution_count": 13,
     "metadata": {},
     "output_type": "execute_result"
    }
   ],
   "source": [
    "#How many unique codes for survived cases? \n",
    "len(df_alive.icd9_code.unique())"
   ]
  },
  {
   "cell_type": "code",
   "execution_count": 14,
   "metadata": {
    "collapsed": false,
    "deletable": true,
    "editable": true
   },
   "outputs": [
    {
     "name": "stdout",
     "output_type": "stream",
     "text": [
      "<class 'pandas.core.frame.DataFrame'>\n",
      "RangeIndex: 651047 entries, 0 to 651046\n",
      "Data columns (total 9 columns):\n",
      "row_id         651047 non-null int64\n",
      "subject_id     651047 non-null int64\n",
      "hadm_id        651047 non-null int64\n",
      "seq_num        651000 non-null float64\n",
      "icd9_code      651000 non-null object\n",
      "row_id.1       634709 non-null float64\n",
      "icd9_code.1    634709 non-null object\n",
      "short_title    634709 non-null object\n",
      "long_title     634709 non-null object\n",
      "dtypes: float64(2), int64(3), object(4)\n",
      "memory usage: 44.7+ MB\n"
     ]
    },
    {
     "data": {
      "text/plain": [
       "6985"
      ]
     },
     "execution_count": 14,
     "metadata": {},
     "output_type": "execute_result"
    }
   ],
   "source": [
    "# info on the data types in diagnoses\n",
    "diagnoses.info()\n",
    "# How many unique codes present in diagnoses? \n",
    "len(diagnoses.icd9_code.unique())"
   ]
  },
  {
   "cell_type": "code",
   "execution_count": 15,
   "metadata": {
    "collapsed": false,
    "deletable": true,
    "editable": true
   },
   "outputs": [
    {
     "name": "stdout",
     "output_type": "stream",
     "text": [
      "<class 'pandas.core.frame.DataFrame'>\n",
      "RangeIndex: 719641 entries, 0 to 719640\n",
      "Data columns (total 4 columns):\n",
      "hadm_id        719641 non-null int64\n",
      "subject_id     719641 non-null int64\n",
      "expire_flag    719641 non-null int64\n",
      "icd9_code      719552 non-null object\n",
      "dtypes: int64(3), object(1)\n",
      "memory usage: 22.0+ MB\n"
     ]
    }
   ],
   "source": [
    "df_expired.info()"
   ]
  },
  {
   "cell_type": "code",
   "execution_count": 16,
   "metadata": {
    "collapsed": false,
    "deletable": true,
    "editable": true
   },
   "outputs": [
    {
     "data": {
      "text/html": [
       "<div>\n",
       "<style scoped>\n",
       "    .dataframe tbody tr th:only-of-type {\n",
       "        vertical-align: middle;\n",
       "    }\n",
       "\n",
       "    .dataframe tbody tr th {\n",
       "        vertical-align: top;\n",
       "    }\n",
       "\n",
       "    .dataframe thead th {\n",
       "        text-align: right;\n",
       "    }\n",
       "</style>\n",
       "<table border=\"1\" class=\"dataframe\">\n",
       "  <thead>\n",
       "    <tr style=\"text-align: right;\">\n",
       "      <th></th>\n",
       "      <th>subject_id</th>\n",
       "      <th>gender</th>\n",
       "      <th>dob</th>\n",
       "      <th>dod</th>\n",
       "      <th>expire_flag</th>\n",
       "      <th>row_id</th>\n",
       "      <th>subject_id.1</th>\n",
       "      <th>hadm_id</th>\n",
       "      <th>admittime</th>\n",
       "      <th>dischtime</th>\n",
       "      <th>...</th>\n",
       "      <th>language</th>\n",
       "      <th>religion</th>\n",
       "      <th>marital_status</th>\n",
       "      <th>ethnicity</th>\n",
       "      <th>edregtime</th>\n",
       "      <th>edouttime</th>\n",
       "      <th>diagnosis</th>\n",
       "      <th>hospital_expire_flag</th>\n",
       "      <th>has_ioevents_data</th>\n",
       "      <th>has_chartevents_data</th>\n",
       "    </tr>\n",
       "  </thead>\n",
       "  <tbody>\n",
       "    <tr>\n",
       "      <th>0</th>\n",
       "      <td>30</td>\n",
       "      <td>M</td>\n",
       "      <td>1872-10-14 00:00:00</td>\n",
       "      <td>NaN</td>\n",
       "      <td>0</td>\n",
       "      <td>29</td>\n",
       "      <td>30</td>\n",
       "      <td>104557</td>\n",
       "      <td>2172-10-14 14:17:00</td>\n",
       "      <td>2172-10-19 14:37:00</td>\n",
       "      <td>...</td>\n",
       "      <td>NaN</td>\n",
       "      <td>CATHOLIC</td>\n",
       "      <td>MARRIED</td>\n",
       "      <td>UNKNOWN/NOT SPECIFIED</td>\n",
       "      <td>NaN</td>\n",
       "      <td>NaN</td>\n",
       "      <td>UNSTABLE ANGINA\\CATH</td>\n",
       "      <td>0</td>\n",
       "      <td>1</td>\n",
       "      <td>1</td>\n",
       "    </tr>\n",
       "    <tr>\n",
       "      <th>1</th>\n",
       "      <td>8402</td>\n",
       "      <td>M</td>\n",
       "      <td>2105-06-24 00:00:00</td>\n",
       "      <td>NaN</td>\n",
       "      <td>0</td>\n",
       "      <td>10260</td>\n",
       "      <td>8402</td>\n",
       "      <td>177676</td>\n",
       "      <td>2167-07-31 09:26:00</td>\n",
       "      <td>2167-08-07 14:36:00</td>\n",
       "      <td>...</td>\n",
       "      <td>NaN</td>\n",
       "      <td>CATHOLIC</td>\n",
       "      <td>MARRIED</td>\n",
       "      <td>WHITE</td>\n",
       "      <td>NaN</td>\n",
       "      <td>NaN</td>\n",
       "      <td>CHEST PAIN\\CATH</td>\n",
       "      <td>0</td>\n",
       "      <td>1</td>\n",
       "      <td>1</td>\n",
       "    </tr>\n",
       "  </tbody>\n",
       "</table>\n",
       "<p>2 rows × 25 columns</p>\n",
       "</div>"
      ],
      "text/plain": [
       "   subject_id gender                  dob  dod  expire_flag  row_id  \\\n",
       "0          30      M  1872-10-14 00:00:00  NaN            0      29   \n",
       "1        8402      M  2105-06-24 00:00:00  NaN            0   10260   \n",
       "\n",
       "   subject_id.1  hadm_id            admittime            dischtime  \\\n",
       "0            30   104557  2172-10-14 14:17:00  2172-10-19 14:37:00   \n",
       "1          8402   177676  2167-07-31 09:26:00  2167-08-07 14:36:00   \n",
       "\n",
       "          ...          language  religion marital_status  \\\n",
       "0         ...               NaN  CATHOLIC        MARRIED   \n",
       "1         ...               NaN  CATHOLIC        MARRIED   \n",
       "\n",
       "               ethnicity edregtime edouttime             diagnosis  \\\n",
       "0  UNKNOWN/NOT SPECIFIED       NaN       NaN  UNSTABLE ANGINA\\CATH   \n",
       "1                  WHITE       NaN       NaN       CHEST PAIN\\CATH   \n",
       "\n",
       "  hospital_expire_flag has_ioevents_data has_chartevents_data  \n",
       "0                    0                 1                    1  \n",
       "1                    0                 1                    1  \n",
       "\n",
       "[2 rows x 25 columns]"
      ]
     },
     "execution_count": 16,
     "metadata": {},
     "output_type": "execute_result"
    }
   ],
   "source": [
    "data.head(2)"
   ]
  },
  {
   "cell_type": "markdown",
   "metadata": {
    "deletable": true,
    "editable": true
   },
   "source": [
    "##### adjust age \n",
    "due to anonymization lots of ages are set at much smaller than 0; these are actually really old people, set all these ages to 90"
   ]
  },
  {
   "cell_type": "code",
   "execution_count": 17,
   "metadata": {
    "collapsed": false,
    "deletable": true,
    "editable": true
   },
   "outputs": [
    {
     "data": {
      "image/png": "[encoded data removed]",
      "text/plain": [
       "<matplotlib.figure.Figure at 0x1127d6c90>"
      ]
     },
     "metadata": {},
     "output_type": "display_data"
    }
   ],
   "source": [
    "######### ADD AGE \n",
    "# Age, the -285 is over 90\n",
    "# ('<m8[Y]') is a dtype, that rounds up the years\n",
    "\n",
    "data['age'] = (pd.to_datetime(data.admittime) - pd.to_datetime(data.dob )\n",
    "              ).astype('<m8[Y]')\n",
    "\n",
    "data['age'].hist(figsize=(4,4));\n",
    "\n",
    "#### SET ALL SMALLER THAN 0 AGES TO 90\n",
    "data.loc[ (data.age < 0),'age']  = 90.0"
   ]
  },
  {
   "cell_type": "code",
   "execution_count": 18,
   "metadata": {
    "collapsed": false,
    "deletable": true,
    "editable": true
   },
   "outputs": [
    {
     "data": {
      "image/png": "[encoded data removed]",
      "text/plain": [
       "<matplotlib.figure.Figure at 0x11293cfd0>"
      ]
     },
     "metadata": {},
     "output_type": "display_data"
    }
   ],
   "source": [
    "data['age'].hist(figsize=(4,4))\n",
    "plt.title('after age adjustment');"
   ]
  },
  {
   "cell_type": "code",
   "execution_count": 19,
   "metadata": {
    "collapsed": false,
    "deletable": true,
    "editable": true
   },
   "outputs": [],
   "source": [
    "# dob year\n",
    "data['year']=  pd.DatetimeIndex(data['dob']).year"
   ]
  },
  {
   "cell_type": "code",
   "execution_count": 20,
   "metadata": {
    "collapsed": false,
    "deletable": true,
    "editable": true
   },
   "outputs": [
    {
     "data": {
      "text/html": [
       "<div>\n",
       "<style scoped>\n",
       "    .dataframe tbody tr th:only-of-type {\n",
       "        vertical-align: middle;\n",
       "    }\n",
       "\n",
       "    .dataframe tbody tr th {\n",
       "        vertical-align: top;\n",
       "    }\n",
       "\n",
       "    .dataframe thead th {\n",
       "        text-align: right;\n",
       "    }\n",
       "</style>\n",
       "<table border=\"1\" class=\"dataframe\">\n",
       "  <thead>\n",
       "    <tr style=\"text-align: right;\">\n",
       "      <th></th>\n",
       "      <th>subject_id</th>\n",
       "      <th>gender</th>\n",
       "      <th>dob</th>\n",
       "      <th>dod</th>\n",
       "      <th>expire_flag</th>\n",
       "      <th>row_id</th>\n",
       "      <th>subject_id.1</th>\n",
       "      <th>hadm_id</th>\n",
       "      <th>admittime</th>\n",
       "      <th>dischtime</th>\n",
       "      <th>...</th>\n",
       "      <th>marital_status</th>\n",
       "      <th>ethnicity</th>\n",
       "      <th>edregtime</th>\n",
       "      <th>edouttime</th>\n",
       "      <th>diagnosis</th>\n",
       "      <th>hospital_expire_flag</th>\n",
       "      <th>has_ioevents_data</th>\n",
       "      <th>has_chartevents_data</th>\n",
       "      <th>age</th>\n",
       "      <th>year</th>\n",
       "    </tr>\n",
       "  </thead>\n",
       "  <tbody>\n",
       "    <tr>\n",
       "      <th>0</th>\n",
       "      <td>30</td>\n",
       "      <td>M</td>\n",
       "      <td>1872-10-14 00:00:00</td>\n",
       "      <td>NaN</td>\n",
       "      <td>0</td>\n",
       "      <td>29</td>\n",
       "      <td>30</td>\n",
       "      <td>104557</td>\n",
       "      <td>2172-10-14 14:17:00</td>\n",
       "      <td>2172-10-19 14:37:00</td>\n",
       "      <td>...</td>\n",
       "      <td>MARRIED</td>\n",
       "      <td>UNKNOWN/NOT SPECIFIED</td>\n",
       "      <td>NaN</td>\n",
       "      <td>NaN</td>\n",
       "      <td>UNSTABLE ANGINA\\CATH</td>\n",
       "      <td>0</td>\n",
       "      <td>1</td>\n",
       "      <td>1</td>\n",
       "      <td>90.0</td>\n",
       "      <td>1872</td>\n",
       "    </tr>\n",
       "    <tr>\n",
       "      <th>1</th>\n",
       "      <td>8402</td>\n",
       "      <td>M</td>\n",
       "      <td>2105-06-24 00:00:00</td>\n",
       "      <td>NaN</td>\n",
       "      <td>0</td>\n",
       "      <td>10260</td>\n",
       "      <td>8402</td>\n",
       "      <td>177676</td>\n",
       "      <td>2167-07-31 09:26:00</td>\n",
       "      <td>2167-08-07 14:36:00</td>\n",
       "      <td>...</td>\n",
       "      <td>MARRIED</td>\n",
       "      <td>WHITE</td>\n",
       "      <td>NaN</td>\n",
       "      <td>NaN</td>\n",
       "      <td>CHEST PAIN\\CATH</td>\n",
       "      <td>0</td>\n",
       "      <td>1</td>\n",
       "      <td>1</td>\n",
       "      <td>62.0</td>\n",
       "      <td>2105</td>\n",
       "    </tr>\n",
       "    <tr>\n",
       "      <th>2</th>\n",
       "      <td>146</td>\n",
       "      <td>M</td>\n",
       "      <td>2034-05-31 00:00:00</td>\n",
       "      <td>2124-12-30 00:00:00</td>\n",
       "      <td>1</td>\n",
       "      <td>196</td>\n",
       "      <td>146</td>\n",
       "      <td>190707</td>\n",
       "      <td>2119-12-19 12:15:00</td>\n",
       "      <td>2120-01-10 13:08:00</td>\n",
       "      <td>...</td>\n",
       "      <td>MARRIED</td>\n",
       "      <td>UNKNOWN/NOT SPECIFIED</td>\n",
       "      <td>NaN</td>\n",
       "      <td>NaN</td>\n",
       "      <td>CONGESTIVE HEART FAILURE\\CATH</td>\n",
       "      <td>0</td>\n",
       "      <td>1</td>\n",
       "      <td>1</td>\n",
       "      <td>85.0</td>\n",
       "      <td>2034</td>\n",
       "    </tr>\n",
       "  </tbody>\n",
       "</table>\n",
       "<p>3 rows × 27 columns</p>\n",
       "</div>"
      ],
      "text/plain": [
       "   subject_id gender                  dob                  dod  expire_flag  \\\n",
       "0          30      M  1872-10-14 00:00:00                  NaN            0   \n",
       "1        8402      M  2105-06-24 00:00:00                  NaN            0   \n",
       "2         146      M  2034-05-31 00:00:00  2124-12-30 00:00:00            1   \n",
       "\n",
       "   row_id  subject_id.1  hadm_id            admittime            dischtime  \\\n",
       "0      29            30   104557  2172-10-14 14:17:00  2172-10-19 14:37:00   \n",
       "1   10260          8402   177676  2167-07-31 09:26:00  2167-08-07 14:36:00   \n",
       "2     196           146   190707  2119-12-19 12:15:00  2120-01-10 13:08:00   \n",
       "\n",
       "   ...  marital_status              ethnicity edregtime edouttime  \\\n",
       "0  ...         MARRIED  UNKNOWN/NOT SPECIFIED       NaN       NaN   \n",
       "1  ...         MARRIED                  WHITE       NaN       NaN   \n",
       "2  ...         MARRIED  UNKNOWN/NOT SPECIFIED       NaN       NaN   \n",
       "\n",
       "                       diagnosis hospital_expire_flag has_ioevents_data  \\\n",
       "0           UNSTABLE ANGINA\\CATH                    0                 1   \n",
       "1                CHEST PAIN\\CATH                    0                 1   \n",
       "2  CONGESTIVE HEART FAILURE\\CATH                    0                 1   \n",
       "\n",
       "  has_chartevents_data   age  year  \n",
       "0                    1  90.0  1872  \n",
       "1                    1  62.0  2105  \n",
       "2                    1  85.0  2034  \n",
       "\n",
       "[3 rows x 27 columns]"
      ]
     },
     "execution_count": 20,
     "metadata": {},
     "output_type": "execute_result"
    }
   ],
   "source": [
    "data[:3]"
   ]
  },
  {
   "cell_type": "code",
   "execution_count": 21,
   "metadata": {
    "collapsed": false,
    "deletable": true,
    "editable": true
   },
   "outputs": [],
   "source": [
    "# unused\n",
    "#data[data['year'] > 2016].count()"
   ]
  },
  {
   "cell_type": "code",
   "execution_count": 22,
   "metadata": {
    "collapsed": false,
    "deletable": true,
    "editable": true
   },
   "outputs": [],
   "source": [
    "#pd.to_datetime(data.dob)\n",
    "#.apply(lambda x: x.strftime('%B-%Y'))  #.astype('<m8[Y]')"
   ]
  },
  {
   "cell_type": "code",
   "execution_count": 23,
   "metadata": {
    "collapsed": false,
    "deletable": true,
    "editable": true
   },
   "outputs": [
    {
     "data": {
      "text/plain": [
       "Index([u'subject_id', u'gender', u'dob', u'dod', u'expire_flag', u'row_id',\n",
       "       u'subject_id.1', u'hadm_id', u'admittime', u'dischtime', u'deathtime',\n",
       "       u'admission_type', u'admission_location', u'discharge_location',\n",
       "       u'insurance', u'language', u'religion', u'marital_status', u'ethnicity',\n",
       "       u'edregtime', u'edouttime', u'diagnosis', u'hospital_expire_flag',\n",
       "       u'has_ioevents_data', u'has_chartevents_data', u'age', u'year'],\n",
       "      dtype='object')"
      ]
     },
     "execution_count": 23,
     "metadata": {},
     "output_type": "execute_result"
    }
   ],
   "source": [
    "data.columns"
   ]
  },
  {
   "cell_type": "markdown",
   "metadata": {
    "deletable": true,
    "editable": true
   },
   "source": [
    "# Part2: Visualization,  Histograms \n",
    "\n",
    "breakdown data by age, gender, and the expire flag and look at what the distribution looks like \n",
    "\n",
    "    ** Number of survived/fatal cases by age\n",
    "    ** Number of survived/fatal cases by gender\n",
    "        ** CHECK MORTALITY DISTRIBUTION BY % (GENDER) "
   ]
  },
  {
   "cell_type": "code",
   "execution_count": 24,
   "metadata": {
    "collapsed": false,
    "deletable": true,
    "editable": true
   },
   "outputs": [
    {
     "data": {
      "text/html": [
       "<div>\n",
       "<style scoped>\n",
       "    .dataframe tbody tr th:only-of-type {\n",
       "        vertical-align: middle;\n",
       "    }\n",
       "\n",
       "    .dataframe tbody tr th {\n",
       "        vertical-align: top;\n",
       "    }\n",
       "\n",
       "    .dataframe thead th {\n",
       "        text-align: right;\n",
       "    }\n",
       "</style>\n",
       "<table border=\"1\" class=\"dataframe\">\n",
       "  <thead>\n",
       "    <tr style=\"text-align: right;\">\n",
       "      <th></th>\n",
       "      <th>subject_id</th>\n",
       "      <th>gender</th>\n",
       "      <th>dob</th>\n",
       "      <th>dod</th>\n",
       "      <th>expire_flag</th>\n",
       "      <th>row_id</th>\n",
       "      <th>subject_id.1</th>\n",
       "      <th>hadm_id</th>\n",
       "      <th>admittime</th>\n",
       "      <th>dischtime</th>\n",
       "      <th>...</th>\n",
       "      <th>marital_status</th>\n",
       "      <th>ethnicity</th>\n",
       "      <th>edregtime</th>\n",
       "      <th>edouttime</th>\n",
       "      <th>diagnosis</th>\n",
       "      <th>hospital_expire_flag</th>\n",
       "      <th>has_ioevents_data</th>\n",
       "      <th>has_chartevents_data</th>\n",
       "      <th>age</th>\n",
       "      <th>year</th>\n",
       "    </tr>\n",
       "  </thead>\n",
       "  <tbody>\n",
       "    <tr>\n",
       "      <th>55</th>\n",
       "      <td>16414</td>\n",
       "      <td>F</td>\n",
       "      <td>2180-02-21 00:00:00</td>\n",
       "      <td>NaN</td>\n",
       "      <td>0</td>\n",
       "      <td>20044</td>\n",
       "      <td>16414</td>\n",
       "      <td>142208</td>\n",
       "      <td>2180-03-03 12:34:00</td>\n",
       "      <td>2180-03-05 12:45:00</td>\n",
       "      <td>...</td>\n",
       "      <td>NaN</td>\n",
       "      <td>ASIAN</td>\n",
       "      <td>NaN</td>\n",
       "      <td>NaN</td>\n",
       "      <td>HYPERBILIRUBIMIA</td>\n",
       "      <td>0</td>\n",
       "      <td>1</td>\n",
       "      <td>1</td>\n",
       "      <td>0.0</td>\n",
       "      <td>2180</td>\n",
       "    </tr>\n",
       "    <tr>\n",
       "      <th>65</th>\n",
       "      <td>15593</td>\n",
       "      <td>F</td>\n",
       "      <td>2143-01-27 00:00:00</td>\n",
       "      <td>NaN</td>\n",
       "      <td>0</td>\n",
       "      <td>19041</td>\n",
       "      <td>15593</td>\n",
       "      <td>150263</td>\n",
       "      <td>2143-02-01 17:39:00</td>\n",
       "      <td>2143-02-04 13:16:00</td>\n",
       "      <td>...</td>\n",
       "      <td>NaN</td>\n",
       "      <td>WHITE</td>\n",
       "      <td>NaN</td>\n",
       "      <td>NaN</td>\n",
       "      <td>HYPERBILIRUBINEMIA</td>\n",
       "      <td>0</td>\n",
       "      <td>1</td>\n",
       "      <td>1</td>\n",
       "      <td>0.0</td>\n",
       "      <td>2143</td>\n",
       "    </tr>\n",
       "    <tr>\n",
       "      <th>153</th>\n",
       "      <td>14258</td>\n",
       "      <td>M</td>\n",
       "      <td>2136-02-03 00:00:00</td>\n",
       "      <td>NaN</td>\n",
       "      <td>0</td>\n",
       "      <td>17464</td>\n",
       "      <td>14258</td>\n",
       "      <td>109672</td>\n",
       "      <td>2136-02-03 20:37:00</td>\n",
       "      <td>2136-02-09 18:57:00</td>\n",
       "      <td>...</td>\n",
       "      <td>SINGLE</td>\n",
       "      <td>UNKNOWN/NOT SPECIFIED</td>\n",
       "      <td>NaN</td>\n",
       "      <td>NaN</td>\n",
       "      <td>PREMATURITY</td>\n",
       "      <td>0</td>\n",
       "      <td>1</td>\n",
       "      <td>1</td>\n",
       "      <td>0.0</td>\n",
       "      <td>2136</td>\n",
       "    </tr>\n",
       "  </tbody>\n",
       "</table>\n",
       "<p>3 rows × 27 columns</p>\n",
       "</div>"
      ],
      "text/plain": [
       "     subject_id gender                  dob  dod  expire_flag  row_id  \\\n",
       "55        16414      F  2180-02-21 00:00:00  NaN            0   20044   \n",
       "65        15593      F  2143-01-27 00:00:00  NaN            0   19041   \n",
       "153       14258      M  2136-02-03 00:00:00  NaN            0   17464   \n",
       "\n",
       "     subject_id.1  hadm_id            admittime            dischtime  ...   \\\n",
       "55          16414   142208  2180-03-03 12:34:00  2180-03-05 12:45:00  ...    \n",
       "65          15593   150263  2143-02-01 17:39:00  2143-02-04 13:16:00  ...    \n",
       "153         14258   109672  2136-02-03 20:37:00  2136-02-09 18:57:00  ...    \n",
       "\n",
       "    marital_status              ethnicity edregtime edouttime  \\\n",
       "55             NaN                  ASIAN       NaN       NaN   \n",
       "65             NaN                  WHITE       NaN       NaN   \n",
       "153         SINGLE  UNKNOWN/NOT SPECIFIED       NaN       NaN   \n",
       "\n",
       "              diagnosis hospital_expire_flag has_ioevents_data  \\\n",
       "55     HYPERBILIRUBIMIA                    0                 1   \n",
       "65   HYPERBILIRUBINEMIA                    0                 1   \n",
       "153         PREMATURITY                    0                 1   \n",
       "\n",
       "    has_chartevents_data  age  year  \n",
       "55                     1  0.0  2180  \n",
       "65                     1  0.0  2143  \n",
       "153                    1  0.0  2136  \n",
       "\n",
       "[3 rows x 27 columns]"
      ]
     },
     "execution_count": 24,
     "metadata": {},
     "output_type": "execute_result"
    }
   ],
   "source": [
    "#data.loc[(data['expire_flag']==0), 'age']\n",
    "data[data['age']<10.0][:3]"
   ]
  },
  {
   "cell_type": "code",
   "execution_count": 25,
   "metadata": {
    "collapsed": false,
    "deletable": true,
    "editable": true
   },
   "outputs": [],
   "source": [
    "## Create series for adolescent and adult patients (no children under 10)\n",
    "fatal_series = data.loc[(data['expire_flag']==1),'age' ]\n",
    "fatal_series = fatal_series[fatal_series>10]\n",
    "\n",
    "survive_series = data.loc[(data['expire_flag']==0),'age' ]\n",
    "survive_series = survive_series[survive_series>10]"
   ]
  },
  {
   "cell_type": "code",
   "execution_count": 26,
   "metadata": {
    "collapsed": false,
    "deletable": true,
    "editable": true
   },
   "outputs": [
    {
     "data": {
      "image/png": "[encoded data removed]",
      "text/plain": [
       "<matplotlib.figure.Figure at 0x1128eeb50>"
      ]
     },
     "metadata": {},
     "output_type": "display_data"
    }
   ],
   "source": [
    "## choose and savewhichever style works better\n",
    "#plt.style.use('bmh')\n",
    "plt.style.use('fivethirtyeight')\n",
    "plt.figure(figsize = (5,5))\n",
    "plt.hist(survive_series, bins=20, alpha=0.7, label='survived') #color='purple',\n",
    "plt.hist(fatal_series, bins=30,alpha=0.5, label = 'fatal')\n",
    "\n",
    "plt.title('Distribution of age', fontsize=14)\n",
    "plt.legend(fontsize=10)\n",
    "plt.xlabel('Age of patient')\n",
    "plt.ylabel('Number of cases');\n",
    "#plt.savefig('Age_dist')"
   ]
  },
  {
   "cell_type": "code",
   "execution_count": 27,
   "metadata": {
    "collapsed": false,
    "deletable": true,
    "editable": true
   },
   "outputs": [
    {
     "data": {
      "image/png": "[encoded data removed]",
      "text/plain": [
       "<matplotlib.figure.Figure at 0x1128eeb90>"
      ]
     },
     "metadata": {},
     "output_type": "display_data"
    }
   ],
   "source": [
    "plt.style.use('bmh')\n",
    "plt.figure(figsize = (5,5))\n",
    "plt.hist(survive_series, bins=20, alpha=0.5, label='survived') #color='purple',\n",
    "plt.hist(fatal_series, bins=30,alpha=0.5, label = 'fatal')\n",
    "plt.title('Distribution of age', fontsize=14)\n",
    "plt.legend(fontsize=12); plt.xlabel('Age of patient'); plt.ylabel('Number of cases');\n",
    "#plt.savefig('Age_dist')"
   ]
  },
  {
   "cell_type": "code",
   "execution_count": null,
   "metadata": {
    "collapsed": false,
    "deletable": true,
    "editable": true
   },
   "outputs": [],
   "source": []
  },
  {
   "cell_type": "code",
   "execution_count": 28,
   "metadata": {
    "collapsed": false,
    "deletable": true,
    "editable": true
   },
   "outputs": [
    {
     "data": {
      "image/png": "[encoded data removed]",
      "text/plain": [
       "<matplotlib.figure.Figure at 0x114c80510>"
      ]
     },
     "metadata": {},
     "output_type": "display_data"
    }
   ],
   "source": [
    "# 0-M, 1-F\n",
    "plt.style.use('fivethirtyeight')\n",
    "g_0 = data.loc[(data['expire_flag']==0),'gender' ].value_counts() # survived M/F\n",
    "g_1 = data.loc[(data['expire_flag']==1),'gender' ].value_counts() # fatal M/F\n",
    "\n",
    "plt.figure(figsize = (4,4))\n",
    "x = np.arange(0,2)\n",
    "wid = 0.4\n",
    "\n",
    "plt.bar(x+0.2, g_0, wid, alpha=0.6, label='Male',color='grey',)#  'male'\n",
    "plt.bar(x+ 0.4, g_1, wid,alpha=0.7, label = 'Female', color='chocolate') # 'female'\n",
    "plt.xticks(x+0.5, ['Survived', 'Fatal'])\n",
    "plt.title('Mortality Ratios in ICU: gender', fontsize=14)\n",
    "plt.tight_layout()  #plt.savefig('gender')\n",
    "plt.legend(fontsize=10);"
   ]
  },
  {
   "cell_type": "markdown",
   "metadata": {
    "deletable": true,
    "editable": true
   },
   "source": [
    "more males than females were admitted; Plot expire_flag (0:1) as a **percentage** of all admitted broken down by gender"
   ]
  },
  {
   "cell_type": "code",
   "execution_count": 29,
   "metadata": {
    "collapsed": false,
    "deletable": true,
    "editable": true
   },
   "outputs": [
    {
     "data": {
      "text/html": [
       "<div>\n",
       "<style scoped>\n",
       "    .dataframe tbody tr th:only-of-type {\n",
       "        vertical-align: middle;\n",
       "    }\n",
       "\n",
       "    .dataframe tbody tr th {\n",
       "        vertical-align: top;\n",
       "    }\n",
       "\n",
       "    .dataframe thead th {\n",
       "        text-align: right;\n",
       "    }\n",
       "</style>\n",
       "<table border=\"1\" class=\"dataframe\">\n",
       "  <thead>\n",
       "    <tr style=\"text-align: right;\">\n",
       "      <th></th>\n",
       "      <th>expire_flag</th>\n",
       "    </tr>\n",
       "  </thead>\n",
       "  <tbody>\n",
       "    <tr>\n",
       "      <th>0</th>\n",
       "      <td>20600</td>\n",
       "    </tr>\n",
       "    <tr>\n",
       "      <th>1</th>\n",
       "      <td>12350</td>\n",
       "    </tr>\n",
       "  </tbody>\n",
       "</table>\n",
       "</div>"
      ],
      "text/plain": [
       "   expire_flag\n",
       "0        20600\n",
       "1        12350"
      ]
     },
     "execution_count": 29,
     "metadata": {},
     "output_type": "execute_result"
    }
   ],
   "source": [
    "pd.DataFrame(data.loc[(data['gender']=='M'),'expire_flag' ].value_counts() )"
   ]
  },
  {
   "cell_type": "code",
   "execution_count": 32,
   "metadata": {
    "collapsed": false
   },
   "outputs": [],
   "source": [
    "#m_0 = m_0.rename(columns={'expire_flag':'count'}).reset_index()\n",
    "#m_0.rename(columns={'index':'expire_flag'},inplace=True)"
   ]
  },
  {
   "cell_type": "code",
   "execution_count": 31,
   "metadata": {
    "collapsed": false,
    "deletable": true,
    "editable": true
   },
   "outputs": [
    {
     "name": "stderr",
     "output_type": "stream",
     "text": [
      "/Users/billierolih/anaconda/lib/python2.7/site-packages/pandas/core/computation/check.py:17: UserWarning: The installed version of numexpr 2.4.3 is not supported in pandas and will be not be used\n",
      "The minimum supported version is 2.4.6\n",
      "\n",
      "  ver=ver, min_ver=_MIN_NUMEXPR_VERSION), UserWarning)\n"
     ]
    }
   ],
   "source": [
    "m_0 = pd.DataFrame(data.loc[(data['gender']=='M'),'expire_flag' ].value_counts()) # survived M/F\n",
    "f_0 = pd.DataFrame(data.loc[(data['gender']=='F'),'expire_flag' ].value_counts()) # fatal M/F\n",
    "\n",
    "m_0['gender'] = 'M'\n",
    "f_0['gender'] = 'F'\n",
    "m_0['expire_percent'] = (m_0['expire_flag'].div(m_0.expire_flag.sum())*100).apply(lambda x: round(x,2))\n",
    "f_0['expire_percent'] = (f_0['expire_flag'].div(f_0.expire_flag.sum())*100).apply(lambda x: round(x,2))\n",
    "# expire flag and count columns\n",
    "m_0 = m_0.rename(columns={'expire_flag':'count'}).reset_index()\n",
    "m_0.rename(columns={'index':'expire_flag'},inplace=True)\n",
    "f_0 = f_0.rename(columns={'expire_flag':'count'}).reset_index()\n",
    "f_0.rename(columns={'index':'expire_flag'},inplace=True)\n",
    "\n",
    "gender_frames = pd.concat([m_0,f_0])\n"
   ]
  },
  {
   "cell_type": "code",
   "execution_count": 36,
   "metadata": {
    "collapsed": true
   },
   "outputs": [],
   "source": [
    "expire = [\"survived\", \"fatal\"]\n",
    "n_g = ['0','1']\n",
    "gender_frames['expire_flag'] = gender_frames['expire_flag'].astype(str)\n",
    "gender_frames.expire_flag.replace(n_g,expire, inplace=True)"
   ]
  },
  {
   "cell_type": "code",
   "execution_count": 37,
   "metadata": {
    "collapsed": false,
    "deletable": true,
    "editable": true
   },
   "outputs": [
    {
     "data": {
      "text/html": [
       "<div>\n",
       "<style scoped>\n",
       "    .dataframe tbody tr th:only-of-type {\n",
       "        vertical-align: middle;\n",
       "    }\n",
       "\n",
       "    .dataframe tbody tr th {\n",
       "        vertical-align: top;\n",
       "    }\n",
       "\n",
       "    .dataframe thead th {\n",
       "        text-align: right;\n",
       "    }\n",
       "</style>\n",
       "<table border=\"1\" class=\"dataframe\">\n",
       "  <thead>\n",
       "    <tr style=\"text-align: right;\">\n",
       "      <th></th>\n",
       "      <th>expire_flag</th>\n",
       "      <th>count</th>\n",
       "      <th>gender</th>\n",
       "      <th>expire_percent</th>\n",
       "    </tr>\n",
       "  </thead>\n",
       "  <tbody>\n",
       "    <tr>\n",
       "      <th>0</th>\n",
       "      <td>survived</td>\n",
       "      <td>20600</td>\n",
       "      <td>M</td>\n",
       "      <td>62.52</td>\n",
       "    </tr>\n",
       "    <tr>\n",
       "      <th>1</th>\n",
       "      <td>fatal</td>\n",
       "      <td>12350</td>\n",
       "      <td>M</td>\n",
       "      <td>37.48</td>\n",
       "    </tr>\n",
       "    <tr>\n",
       "      <th>0</th>\n",
       "      <td>survived</td>\n",
       "      <td>15790</td>\n",
       "      <td>F</td>\n",
       "      <td>60.67</td>\n",
       "    </tr>\n",
       "    <tr>\n",
       "      <th>1</th>\n",
       "      <td>fatal</td>\n",
       "      <td>10236</td>\n",
       "      <td>F</td>\n",
       "      <td>39.33</td>\n",
       "    </tr>\n",
       "  </tbody>\n",
       "</table>\n",
       "</div>"
      ],
      "text/plain": [
       "  expire_flag  count gender  expire_percent\n",
       "0    survived  20600      M           62.52\n",
       "1       fatal  12350      M           37.48\n",
       "0    survived  15790      F           60.67\n",
       "1       fatal  10236      F           39.33"
      ]
     },
     "execution_count": 37,
     "metadata": {},
     "output_type": "execute_result"
    }
   ],
   "source": [
    "gender_frames"
   ]
  },
  {
   "cell_type": "markdown",
   "metadata": {},
   "source": [
    "#### Part 2b. :  Hospital admits more men, what is the survival rate by gender? "
   ]
  },
  {
   "cell_type": "code",
   "execution_count": 38,
   "metadata": {
    "collapsed": false
   },
   "outputs": [
    {
     "name": "stdout",
     "output_type": "stream",
     "text": [
      "<class 'pandas.core.frame.DataFrame'>\n",
      "Int64Index: 4 entries, 0 to 1\n",
      "Data columns (total 4 columns):\n",
      "expire_flag       4 non-null object\n",
      "count             4 non-null int64\n",
      "gender            4 non-null object\n",
      "expire_percent    4 non-null float64\n",
      "dtypes: float64(1), int64(1), object(2)\n",
      "memory usage: 160.0+ bytes\n"
     ]
    }
   ],
   "source": [
    "gender_frames.info()"
   ]
  },
  {
   "cell_type": "code",
   "execution_count": 64,
   "metadata": {
    "collapsed": false
   },
   "outputs": [
    {
     "data": {
      "image/png": "[encoded data removed]",
      "text/plain": [
       "<matplotlib.figure.Figure at 0x113a89a50>"
      ]
     },
     "metadata": {},
     "output_type": "display_data"
    }
   ],
   "source": [
    "plt.figure(figsize=(7,4))\n",
    "ax = sns.barplot(x=\"expire_percent\", y=\"gender\", hue=\"expire_flag\",data=gender_frames)\n",
    "ax.legend(fontsize=10, loc=4)\n",
    "ax.set_title(\"% Breakdown of survival, by gender \",fontsize = 14 )\n",
    "# ax.text (gender_frames.expire_percent)\n",
    "for p in ax.patches:\n",
    "    width = p.get_width()\n",
    "    ax.text(width - 5, #+p.get_height()/2.,\n",
    "            p.get_y()+p.get_height()/2 +0.1,\n",
    "            '{:1.2f}%'.format(width),#width/total),\n",
    "            ha=\"center\");\n",
    "#show()\n",
    "#plt.savefig('survival_by_gender');"
   ]
  },
  {
   "cell_type": "markdown",
   "metadata": {
    "collapsed": false,
    "deletable": true,
    "editable": true
   },
   "source": []
  },
  {
   "cell_type": "code",
   "execution_count": 72,
   "metadata": {
    "collapsed": false
   },
   "outputs": [
    {
     "name": "stdout",
     "output_type": "stream",
     "text": [
      " Number of male admissions  32950\n",
      " Number of female admissions  26026\n",
      " difference 6924\n",
      "% of total 11.74\n"
     ]
    }
   ],
   "source": [
    "ma = gender_frames[gender_frames.gender=='M']['count'].sum() \n",
    "fa =gender_frames[gender_frames.gender=='F']['count'].sum() \n",
    "print(\" Number of male admissions \", ma)\n",
    "print(\" Number of female admissions \",fa )\n",
    "print (\" difference\", ma - fa)\n",
    "print (\"% of total\", round((ma-fa)/(ma+fa)*100, 2))"
   ]
  },
  {
   "cell_type": "markdown",
   "metadata": {
    "deletable": true,
    "editable": true
   },
   "source": [
    "The hospital admits more men (almost 7000, about 12% more) but observes 2% higher fatalities in women.\n",
    "\n",
    "Is this statistically significant? \n",
    "\n",
    "### I think we wanna do a Chi-square test here** .\n",
    "\n",
    "**T-test** \n",
    "A t-test is a statistical test that can help us estimate whether the difference in a numerical measure between two groups is reliable. \n",
    "\n",
    "###### Chi-Test Null hypothesis\n",
    "    there is no difference in fatal cases in the categorical value \"gender\" i.e. that the observed and expected frequencies are the same."
   ]
  },
  {
   "cell_type": "code",
   "execution_count": 82,
   "metadata": {
    "collapsed": true
   },
   "outputs": [],
   "source": [
    "from scipy.stats import chi2_contingency\n",
    "from scipy.stats import chi2\n",
    "from scipy.stats import chisquare\n",
    "# interpret test-statistic\n",
    "prob = 0.95"
   ]
  },
  {
   "cell_type": "code",
   "execution_count": 84,
   "metadata": {
    "collapsed": false
   },
   "outputs": [
    {
     "data": {
      "text/html": [
       "<div>\n",
       "<style scoped>\n",
       "    .dataframe tbody tr th:only-of-type {\n",
       "        vertical-align: middle;\n",
       "    }\n",
       "\n",
       "    .dataframe tbody tr th {\n",
       "        vertical-align: top;\n",
       "    }\n",
       "\n",
       "    .dataframe thead th {\n",
       "        text-align: right;\n",
       "    }\n",
       "</style>\n",
       "<table border=\"1\" class=\"dataframe\">\n",
       "  <thead>\n",
       "    <tr style=\"text-align: right;\">\n",
       "      <th></th>\n",
       "      <th>expire_flag</th>\n",
       "      <th>count</th>\n",
       "      <th>gender</th>\n",
       "      <th>expire_percent</th>\n",
       "    </tr>\n",
       "  </thead>\n",
       "  <tbody>\n",
       "    <tr>\n",
       "      <th>0</th>\n",
       "      <td>survived</td>\n",
       "      <td>20600</td>\n",
       "      <td>M</td>\n",
       "      <td>62.52</td>\n",
       "    </tr>\n",
       "    <tr>\n",
       "      <th>1</th>\n",
       "      <td>fatal</td>\n",
       "      <td>12350</td>\n",
       "      <td>M</td>\n",
       "      <td>37.48</td>\n",
       "    </tr>\n",
       "    <tr>\n",
       "      <th>0</th>\n",
       "      <td>survived</td>\n",
       "      <td>15790</td>\n",
       "      <td>F</td>\n",
       "      <td>60.67</td>\n",
       "    </tr>\n",
       "    <tr>\n",
       "      <th>1</th>\n",
       "      <td>fatal</td>\n",
       "      <td>10236</td>\n",
       "      <td>F</td>\n",
       "      <td>39.33</td>\n",
       "    </tr>\n",
       "  </tbody>\n",
       "</table>\n",
       "</div>"
      ],
      "text/plain": [
       "  expire_flag  count gender  expire_percent\n",
       "0    survived  20600      M           62.52\n",
       "1       fatal  12350      M           37.48\n",
       "0    survived  15790      F           60.67\n",
       "1       fatal  10236      F           39.33"
      ]
     },
     "execution_count": 84,
     "metadata": {},
     "output_type": "execute_result"
    }
   ],
   "source": [
    "gender_frames"
   ]
  },
  {
   "cell_type": "markdown",
   "metadata": {},
   "source": [
    "To do a one-way chi square test on expire_flag/ Gender?? Do it on a subset of data, which includes gender, and expire flag"
   ]
  },
  {
   "cell_type": "code",
   "execution_count": 90,
   "metadata": {
    "collapsed": false
   },
   "outputs": [
    {
     "data": {
      "text/html": [
       "<div>\n",
       "<style scoped>\n",
       "    .dataframe tbody tr th:only-of-type {\n",
       "        vertical-align: middle;\n",
       "    }\n",
       "\n",
       "    .dataframe tbody tr th {\n",
       "        vertical-align: top;\n",
       "    }\n",
       "\n",
       "    .dataframe thead th {\n",
       "        text-align: right;\n",
       "    }\n",
       "</style>\n",
       "<table border=\"1\" class=\"dataframe\">\n",
       "  <thead>\n",
       "    <tr style=\"text-align: right;\">\n",
       "      <th></th>\n",
       "      <th>gender</th>\n",
       "      <th>expire_flag</th>\n",
       "    </tr>\n",
       "  </thead>\n",
       "  <tbody>\n",
       "    <tr>\n",
       "      <th>0</th>\n",
       "      <td>M</td>\n",
       "      <td>0</td>\n",
       "    </tr>\n",
       "    <tr>\n",
       "      <th>1</th>\n",
       "      <td>M</td>\n",
       "      <td>0</td>\n",
       "    </tr>\n",
       "    <tr>\n",
       "      <th>2</th>\n",
       "      <td>M</td>\n",
       "      <td>1</td>\n",
       "    </tr>\n",
       "  </tbody>\n",
       "</table>\n",
       "</div>"
      ],
      "text/plain": [
       "  gender  expire_flag\n",
       "0      M            0\n",
       "1      M            0\n",
       "2      M            1"
      ]
     },
     "execution_count": 90,
     "metadata": {},
     "output_type": "execute_result"
    }
   ],
   "source": [
    "data.loc[:,['gender', 'expire_flag']][:3]"
   ]
  },
  {
   "cell_type": "code",
   "execution_count": 93,
   "metadata": {
    "collapsed": false
   },
   "outputs": [
    {
     "data": {
      "text/plain": [
       "M    32950\n",
       "F    26026\n",
       "Name: gender, dtype: int64"
      ]
     },
     "execution_count": 93,
     "metadata": {},
     "output_type": "execute_result"
    }
   ],
   "source": [
    "data.loc[:,'gender'].value_counts()"
   ]
  },
  {
   "cell_type": "code",
   "execution_count": 94,
   "metadata": {
    "collapsed": false
   },
   "outputs": [
    {
     "data": {
      "text/plain": [
       "Power_divergenceResult(statistic=812.9031470428649, pvalue=8.447194609871837e-179)"
      ]
     },
     "execution_count": 94,
     "metadata": {},
     "output_type": "execute_result"
    }
   ],
   "source": [
    "# first let's do a one-way chi-squared test for M/F in gender_frame\n",
    "#scipy.stats.\n",
    "chisquare(data.loc[:,'gender'].value_counts())"
   ]
  },
  {
   "cell_type": "markdown",
   "metadata": {},
   "source": [
    "##### Interpretation\n",
    "The larger the statistic (the chi-squared statistic) the more difference there is from a uniform distribution. We can be sure that the genders are not all equally likely to be admitted to the hosptial \n",
    "\n",
    "Now let's find out: is there a relationship between gender and fatality? "
   ]
  },
  {
   "cell_type": "code",
   "execution_count": 96,
   "metadata": {
    "collapsed": false
   },
   "outputs": [
    {
     "data": {
      "text/html": [
       "<div>\n",
       "<style scoped>\n",
       "    .dataframe tbody tr th:only-of-type {\n",
       "        vertical-align: middle;\n",
       "    }\n",
       "\n",
       "    .dataframe tbody tr th {\n",
       "        vertical-align: top;\n",
       "    }\n",
       "\n",
       "    .dataframe thead th {\n",
       "        text-align: right;\n",
       "    }\n",
       "</style>\n",
       "<table border=\"1\" class=\"dataframe\">\n",
       "  <thead>\n",
       "    <tr style=\"text-align: right;\">\n",
       "      <th>expire_flag</th>\n",
       "      <th>0</th>\n",
       "      <th>1</th>\n",
       "    </tr>\n",
       "    <tr>\n",
       "      <th>gender</th>\n",
       "      <th></th>\n",
       "      <th></th>\n",
       "    </tr>\n",
       "  </thead>\n",
       "  <tbody>\n",
       "    <tr>\n",
       "      <th>F</th>\n",
       "      <td>15790</td>\n",
       "      <td>10236</td>\n",
       "    </tr>\n",
       "    <tr>\n",
       "      <th>M</th>\n",
       "      <td>20600</td>\n",
       "      <td>12350</td>\n",
       "    </tr>\n",
       "  </tbody>\n",
       "</table>\n",
       "</div>"
      ],
      "text/plain": [
       "expire_flag      0      1\n",
       "gender                   \n",
       "F            15790  10236\n",
       "M            20600  12350"
      ]
     },
     "execution_count": 96,
     "metadata": {},
     "output_type": "execute_result"
    }
   ],
   "source": [
    "contingency_table=pd.crosstab(data['gender'],data['expire_flag'])\n",
    "contingency_table"
   ]
  },
  {
   "cell_type": "code",
   "execution_count": 97,
   "metadata": {
    "collapsed": false
   },
   "outputs": [
    {
     "data": {
      "text/plain": [
       "(20.956179870969887,\n",
       " 4.699095218712981e-06,\n",
       " 1,\n",
       " array([[16058.83986706,  9967.16013294],\n",
       "        [20331.16013294, 12618.83986706]]))"
      ]
     },
     "execution_count": 97,
     "metadata": {},
     "output_type": "execute_result"
    }
   ],
   "source": [
    "chi2_contingency(contingency_table)"
   ]
  },
  {
   "cell_type": "markdown",
   "metadata": {},
   "source": [
    "1. Chi-squared value\n",
    "1. p-value, which is very very small here; it seems unlikely there is no connection between gender and the expire flag \n",
    "\n",
    "we ran two different tests with small p value, it seems unlikely this is random variability, and gender seems a good feature to keep "
   ]
  },
  {
   "cell_type": "code",
   "execution_count": null,
   "metadata": {
    "collapsed": true
   },
   "outputs": [],
   "source": []
  },
  {
   "cell_type": "code",
   "execution_count": null,
   "metadata": {
    "collapsed": true
   },
   "outputs": [],
   "source": []
  },
  {
   "cell_type": "code",
   "execution_count": 73,
   "metadata": {
    "collapsed": false,
    "deletable": true,
    "editable": true
   },
   "outputs": [
    {
     "name": "stdout",
     "output_type": "stream",
     "text": [
      "['URGENT' 'NEWBORN' 'EMERGENCY' 'ELECTIVE']\n",
      "['NEWBORN', 'URGENT', 'EMERGENCY', 'ELECTIVE']\n"
     ]
    }
   ],
   "source": [
    "# ############ Admission_type into categorical \n",
    "cols_a = ['NEWBORN', 'URGENT', 'EMERGENCY', 'ELECTIVE']\n",
    "nums_a = [0, 1, 2, 3 ]\n",
    "print(data.admission_type.unique())\n",
    "print(cols_a)\n",
    "\n",
    "data.admission_type.replace(cols_a, nums_a, inplace=True)\n",
    "adm_alive = data.loc[(data['expire_flag']==0),'admission_type' ]\n",
    "adm_fatal = data.loc[(data['expire_flag']==1),'admission_type' ]"
   ]
  },
  {
   "cell_type": "code",
   "execution_count": 79,
   "metadata": {
    "collapsed": false,
    "deletable": true,
    "editable": true
   },
   "outputs": [
    {
     "data": {
      "image/png": "[encoded data removed]",
      "text/plain": [
       "<matplotlib.figure.Figure at 0x116045ed0>"
      ]
     },
     "metadata": {},
     "output_type": "display_data"
    }
   ],
   "source": [
    "\"\"\"\n",
    "   combined plot \n",
    "\"\"\"\n",
    "fig, ax = plt.subplots(1,3, figsize = (13,4))\n",
    "\n",
    "x = np.arange(0,4)\n",
    "wid = 0.5\n",
    "ax[0].bar(x+0.2, adm_alive.value_counts().sort_index(ascending=False), \n",
    "          wid, alpha=0.6,color='grey', label='survived')\n",
    "#adm_alive.value_counts().sort_index(ascending=False).plot.barh()\n",
    "ax[0].set_xticks(x+0.5)\n",
    "ax[0].set_xticklabels(['URGENT', 'EMERGENCY', 'ELECTIVE','NEWBORN'],fontsize=10)\n",
    "#ax[0].set_yticklabels(fontsize=10)\n",
    "ax[0].bar(x+ 0.4, adm_fatal.value_counts().sort_index(ascending=False), \n",
    "          wid,alpha=0.6, color='coral', label='fatal')\n",
    "ax[0].legend(fontsize=10)\n",
    "ax[0].set_title('Mortality Distribution: Admission Type', fontsize=14)\n",
    "\n",
    "\n",
    "ax[1].hist(survive_series, bins=20,color='purple', alpha=0.5, label='survived')\n",
    "ax[1].hist(fatal_series, bins=30,alpha=0.5, label = 'fatal')\n",
    "\n",
    "ax[1].set_title('Distribution of age', fontsize=14)\n",
    "ax[1].legend(fontsize=10, loc=2)\n",
    "ax[1].set_xlabel('Age of patient')\n",
    "#ax[1].set_ylabel('Number of cases')\n",
    "\n",
    "x1 = np.arange(0,2)\n",
    "wid1 = 0.4\n",
    "\n",
    "ax[2].bar(x1+0.2, g_0, wid1, alpha=0.4,color='grey', label='Male')\n",
    "ax[2].bar(x1+ 0.3, g_1, wid1,alpha=0.4, label = 'Female', color='purple')\n",
    "ax[2].set_xticks(x1+0.4)\n",
    "ax[2].set_xticklabels(['Survived', 'Fatal'])\n",
    "ax[2].set_title('Mortality Distribution: Gender', fontsize=14)\n",
    "ax[2].legend(fontsize=10);\n",
    "\n",
    "plt.tight_layout() \n",
    "#plt.savefig('ALL_Distributions')\n",
    "\n",
    "#plt.savefig('Age_dist')"
   ]
  },
  {
   "cell_type": "code",
   "execution_count": null,
   "metadata": {
    "collapsed": false,
    "deletable": true,
    "editable": true
   },
   "outputs": [],
   "source": [
    "ax = sns.barplot(x=m_0.index, y='expire_percent', data=m_0)\n",
    "ax = sns.barplot(x=f_0.index, y='expire_percent', data=f_0)\n",
    "#             estimator= lambda x: sum(x==0)*100.0/len(x) )\n",
    "ax.set(ylabel=\"Percent\", xlabel='Survival')"
   ]
  },
  {
   "cell_type": "code",
   "execution_count": 80,
   "metadata": {
    "collapsed": false,
    "deletable": true,
    "editable": true
   },
   "outputs": [
    {
     "data": {
      "text/plain": [
       "3     2186\n",
       "2    19650\n",
       "1      685\n",
       "0       65\n",
       "Name: admission_type, dtype: int64"
      ]
     },
     "execution_count": 80,
     "metadata": {},
     "output_type": "execute_result"
    }
   ],
   "source": [
    "adm_fatal.value_counts().sort_index(ascending=False)"
   ]
  },
  {
   "cell_type": "code",
   "execution_count": null,
   "metadata": {
    "collapsed": false,
    "deletable": true,
    "editable": true
   },
   "outputs": [],
   "source": [
    "plt.figure(figsize = (4,4))\n",
    "x = np.arange(0,4)\n",
    "wid = 0.5\n",
    "\n",
    "plt.bar(x+0.2, adm_alive.value_counts().sort_index(ascending=False), wid, alpha=0.6,\n",
    "        color='grey', label='survived')\n",
    "plt.xticks(x+0.5, cols_a,fontsize=10)\n",
    "plt.yticks(fontsize=10)\n",
    "\n",
    "plt.bar(x+ 0.4, adm_fatal.value_counts().sort_index(ascending=False), wid,alpha=0.6,  \n",
    "        color='coral', label='fatal')"
   ]
  },
  {
   "cell_type": "code",
   "execution_count": null,
   "metadata": {
    "collapsed": false,
    "deletable": true,
    "editable": true
   },
   "outputs": [],
   "source": [
    "adm_alive.value_counts().sort_index(ascending=False)"
   ]
  },
  {
   "cell_type": "code",
   "execution_count": null,
   "metadata": {
    "collapsed": true,
    "deletable": true,
    "editable": true
   },
   "outputs": [],
   "source": [
    "########### Gender ##########\n",
    "gen = [\"M\", \"F\"]\n",
    "n_g = [0,1]\n",
    "data.gender.replace(gen, n_g, inplace=True)"
   ]
  },
  {
   "cell_type": "code",
   "execution_count": null,
   "metadata": {
    "collapsed": false,
    "deletable": true,
    "editable": true
   },
   "outputs": [],
   "source": [
    "## interrupted, the rugplot takes a while\n",
    "x_0 =data.loc[(data['expire_flag']==0),'age' ]\n",
    "x_1 = data.loc[(data['expire_flag']==1),'age' ]\n",
    "\n",
    "sns.distplot(x_0[x_0>10], kde=False, rug=True)\n",
    "sns.distplot(x_1[x_1>10], kde=False, rug=True)\n",
    "\n",
    "plt.title('Surival distribution by age',fontsize = 14);"
   ]
  },
  {
   "cell_type": "code",
   "execution_count": null,
   "metadata": {
    "collapsed": false,
    "deletable": true,
    "editable": true
   },
   "outputs": [],
   "source": [
    "\n",
    "# x = np.arange(10)\n",
    "# wid = 0.4\n",
    "\n",
    "# plt.bar(0.5+x, tmp_fatal.num_expire_flags, wid, label='fatal admission')\n",
    "# plt.xticks(x, cols, rotation=35, fontsize=14)"
   ]
  },
  {
   "cell_type": "code",
   "execution_count": null,
   "metadata": {
    "collapsed": false,
    "deletable": true,
    "editable": true
   },
   "outputs": [],
   "source": [
    "data[:3]"
   ]
  },
  {
   "cell_type": "code",
   "execution_count": null,
   "metadata": {
    "collapsed": false,
    "deletable": true,
    "editable": true
   },
   "outputs": [],
   "source": [
    "# more men admitted to ICU\n",
    "print(g_0)\n",
    "print(g_1)\n",
    "print (\"men \" ,20600 +  12350)\n",
    "print (\"women \" , 15790 +  10236)"
   ]
  },
  {
   "cell_type": "code",
   "execution_count": null,
   "metadata": {
    "collapsed": true,
    "deletable": true,
    "editable": true
   },
   "outputs": [],
   "source": []
  },
  {
   "cell_type": "code",
   "execution_count": null,
   "metadata": {
    "collapsed": true,
    "deletable": true,
    "editable": true
   },
   "outputs": [],
   "source": []
  },
  {
   "cell_type": "code",
   "execution_count": null,
   "metadata": {
    "collapsed": true,
    "deletable": true,
    "editable": true
   },
   "outputs": [],
   "source": []
  },
  {
   "cell_type": "markdown",
   "metadata": {
    "deletable": true,
    "editable": true
   },
   "source": [
    "## Most common icd9 codes fatal/survival; Data Frames\n"
   ]
  },
  {
   "cell_type": "code",
   "execution_count": null,
   "metadata": {
    "collapsed": false,
    "deletable": true,
    "editable": true
   },
   "outputs": [],
   "source": [
    "df_expired[:3]"
   ]
  },
  {
   "cell_type": "code",
   "execution_count": null,
   "metadata": {
    "collapsed": false,
    "deletable": true,
    "editable": true
   },
   "outputs": [],
   "source": [
    "# the most common icd9_code\n",
    "new_icd9 = (df_expired.groupby('icd9_code')\n",
    " .count()\n",
    ".reset_index().sort_values('expire_flag', ascending=False))\n",
    "\n",
    "new_icd9.rename(columns={'expire_flag':'num_expire_flags'}, inplace=True)"
   ]
  },
  {
   "cell_type": "code",
   "execution_count": null,
   "metadata": {
    "collapsed": false,
    "deletable": true,
    "editable": true
   },
   "outputs": [],
   "source": [
    "## 10 most common codes; but what are they? \n",
    "new_icd9_smaller = new_icd9.iloc[:50,:]\n",
    "#[['icd9_code']][:20]"
   ]
  },
  {
   "cell_type": "code",
   "execution_count": null,
   "metadata": {
    "collapsed": false,
    "deletable": true,
    "editable": true
   },
   "outputs": [],
   "source": [
    "len(new_icd9_smaller)\n",
    "new_icd9_smaller[:3]\n",
    "### remove hadm_id and subject_id (these are aggregates anyway)\n",
    "new_icd9_smaller.drop(['hadm_id', 'subject_id'], axis=1, inplace=True)"
   ]
  },
  {
   "cell_type": "code",
   "execution_count": null,
   "metadata": {
    "collapsed": false,
    "deletable": true,
    "editable": true
   },
   "outputs": [],
   "source": [
    "new_icd9_smaller[:3]"
   ]
  },
  {
   "cell_type": "markdown",
   "metadata": {
    "deletable": true,
    "editable": true
   },
   "source": [
    "### Join common icd9_codes to DIAGNOSES\n",
    "-- find what the 50 most common DIAGNOSES\n",
    "-- do an inner join, keep only rows preset\n",
    "    - merge left on id9 code ( smaller, larger)\n",
    "\n",
    "#### SEQ_NUM is from DIAGNOSES\n",
    "-- SEQ_NUM provides the order in which the ICD diagnoses relate to the patient. ICD diagnoses are ordered by priority - and the order does have an impact on the reimbursement for treatment.\n",
    "\n"
   ]
  },
  {
   "cell_type": "code",
   "execution_count": null,
   "metadata": {
    "collapsed": false,
    "deletable": true,
    "editable": true
   },
   "outputs": [],
   "source": [
    "# diagnoses.drop(['icd9_code.1', 'row_id.1'], axis=1, inplace=True)\n",
    "# diagnoses.drop(['hadm_id', 'subject_id'], axis=1, inplace=True)\n",
    "diagnoses.drop(['seq_num', 'row_id'], axis=1, inplace=True)"
   ]
  },
  {
   "cell_type": "code",
   "execution_count": null,
   "metadata": {
    "collapsed": false,
    "deletable": true,
    "editable": true
   },
   "outputs": [],
   "source": [
    "## THE 10 most common diagnoses (irrespective of Expire_Flag)\n",
    "diagnoses['short_title'].value_counts()[:10]"
   ]
  },
  {
   "cell_type": "code",
   "execution_count": null,
   "metadata": {
    "collapsed": false,
    "deletable": true,
    "editable": true
   },
   "outputs": [],
   "source": [
    "diagnoses[:2]"
   ]
  },
  {
   "cell_type": "code",
   "execution_count": null,
   "metadata": {
    "collapsed": false,
    "deletable": true,
    "editable": true
   },
   "outputs": [],
   "source": [
    "merged_MOSTCOMMONicd9 = pd.merge(new_icd9_smaller, diagnoses, how='left',on='icd9_code')"
   ]
  },
  {
   "cell_type": "code",
   "execution_count": null,
   "metadata": {
    "collapsed": false,
    "deletable": true,
    "editable": true
   },
   "outputs": [],
   "source": [
    "merged_MOSTCOMMONicd9[:2]"
   ]
  },
  {
   "cell_type": "markdown",
   "metadata": {
    "deletable": true,
    "editable": true
   },
   "source": [
    "# Table of most common Diagnoses (long-title) ; Fatal"
   ]
  },
  {
   "cell_type": "code",
   "execution_count": null,
   "metadata": {
    "collapsed": false,
    "deletable": true,
    "editable": true
   },
   "outputs": [],
   "source": [
    "tmp_fatal = (merged_MOSTCOMMONicd9.\n",
    "groupby('icd9_code')\n",
    " .first()\n",
    " .reset_index().sort_values('num_expire_flags', ascending=False))[:10]"
   ]
  },
  {
   "cell_type": "code",
   "execution_count": null,
   "metadata": {
    "collapsed": false,
    "deletable": true,
    "editable": true
   },
   "outputs": [],
   "source": [
    "cols1 = ['Congestive heart failure','Hypertension' ,'Atrial fibrillation','Kidney failure', 'Coronary artery disease',\n",
    "       'Respiratory failure', 'Diabetes', 'Urinary tract infection', 'Pneumonia','Airway obstruction']\n",
    "mylist = pd.Series(cols1)\n",
    "mylist.values\n",
    "tmp_fatal['common'] = mylist.values"
   ]
  },
  {
   "cell_type": "code",
   "execution_count": null,
   "metadata": {
    "collapsed": false,
    "deletable": true,
    "editable": true
   },
   "outputs": [],
   "source": [
    "tmp_fatal"
   ]
  },
  {
   "cell_type": "code",
   "execution_count": null,
   "metadata": {
    "collapsed": false,
    "deletable": true,
    "editable": true
   },
   "outputs": [],
   "source": [
    "tmp_fatal.long_title.values"
   ]
  },
  {
   "cell_type": "code",
   "execution_count": null,
   "metadata": {
    "collapsed": false,
    "deletable": true,
    "editable": true
   },
   "outputs": [],
   "source": [
    "tmp_alive.long_title.values"
   ]
  },
  {
   "cell_type": "code",
   "execution_count": null,
   "metadata": {
    "collapsed": false,
    "deletable": true,
    "editable": true
   },
   "outputs": [],
   "source": [
    "plt.figure(figsize = (6,6))\n",
    "x = np.arange(10)\n",
    "wid = 0.4\n",
    "\n",
    "plt.barh(0.5+x, tmp_fatal.num_expire_flags, wid, label='fatal admission')\n",
    "plt.yticks(x+0.6, cols1, fontsize=14)\n",
    "plt.legend()\n",
    "plt.tight_layout()  \n",
    "plt.savefig('fatal_diagnoses',DPI=600);"
   ]
  },
  {
   "cell_type": "code",
   "execution_count": null,
   "metadata": {
    "collapsed": false,
    "deletable": true,
    "editable": true
   },
   "outputs": [],
   "source": [
    "plt.figure(figsize = (10,5))\n",
    "x = np.arange(10)\n",
    "wid = 0.4\n",
    "\n",
    "plt.bar(0.5+x, tmp_fatal.num_expire_flags, wid, label='fatal admission')\n",
    "plt.xticks(x, cols1, rotation=35, fontsize=14)\n",
    "plt.legend()\n",
    "plt.tight_layout()  \n",
    "plt.savefig('fatal_diagnoses',DPI=600);"
   ]
  },
  {
   "cell_type": "code",
   "execution_count": null,
   "metadata": {
    "collapsed": true,
    "deletable": true,
    "editable": true
   },
   "outputs": [],
   "source": []
  },
  {
   "cell_type": "code",
   "execution_count": null,
   "metadata": {
    "collapsed": false,
    "deletable": true,
    "editable": true
   },
   "outputs": [],
   "source": [
    "plt.figure(figsize = (10,5))\n",
    "x = np.arange(10)\n",
    "wid = 0.4\n",
    "\n",
    "plt.bar(0.5+x, tmp_alive.num_alive_flags, wid, color='purple', label='survived admission')\n",
    "plt.xticks(x, cols2, rotation=35, fontsize=14)\n",
    "plt.legend()\n",
    "plt.tight_layout() \n",
    "plt.savefig('survived_diagnosis');"
   ]
  },
  {
   "cell_type": "code",
   "execution_count": null,
   "metadata": {
    "collapsed": true,
    "deletable": true,
    "editable": true
   },
   "outputs": [],
   "source": []
  },
  {
   "cell_type": "markdown",
   "metadata": {
    "deletable": true,
    "editable": true
   },
   "source": [
    "# Table of most common Diagnoses (long-title) ; NON-Fatal\n",
    "+ first obtain a dataset icd9_expire0a.csv\""
   ]
  },
  {
   "cell_type": "code",
   "execution_count": null,
   "metadata": {
    "collapsed": false,
    "deletable": true,
    "editable": true
   },
   "outputs": [],
   "source": [
    "#df_alive\n",
    "new_alive = (df_alive.groupby('icd9_code')\n",
    " .count()\n",
    ".reset_index().sort_values('expire_flag', ascending=False))\n",
    "\n",
    "new_alive.rename(columns={'expire_flag':'num_alive_flags'}, inplace=True)\n",
    "### remove hadm_id and subject_id (these are aggregates anyway)\n",
    "new_alive.drop(['hadm_id', 'subject_id'], axis=1, inplace=True)\n",
    "##\n",
    "new_alive_smaller = new_alive.iloc[:50,:]"
   ]
  },
  {
   "cell_type": "code",
   "execution_count": null,
   "metadata": {
    "collapsed": false,
    "deletable": true,
    "editable": true
   },
   "outputs": [],
   "source": [
    "#new_alive_smaller\n",
    "merged_MOSTCOMMONalive = pd.merge(new_alive_smaller, diagnoses, how='left',on='icd9_code')"
   ]
  },
  {
   "cell_type": "code",
   "execution_count": null,
   "metadata": {
    "collapsed": false,
    "deletable": true,
    "editable": true
   },
   "outputs": [],
   "source": [
    "#group merged acccording to count\n",
    "tmp_alive =(merged_MOSTCOMMONalive\n",
    ".groupby('icd9_code')\n",
    ".first()\n",
    ".reset_index().sort_values('num_alive_flags', ascending=False))[:10]"
   ]
  },
  {
   "cell_type": "code",
   "execution_count": null,
   "metadata": {
    "collapsed": false,
    "deletable": true,
    "editable": true
   },
   "outputs": [],
   "source": [
    "cols2 = ['Hypertension' , 'Congestive heart failure','Coronary artery disease', 'Hyperlipidemia',\n",
    "         'Atrial fibrillation', 'Kidney failure', 'Acid Reflux', 'Diabetes', 'Anemia', \n",
    "       'Hepatitis vaccine']\n",
    "mylist2 = pd.Series(cols)\n",
    "mylist2.values\n",
    "tmp_alive['common'] = mylist2.values\n",
    "tmp_alive"
   ]
  },
  {
   "cell_type": "code",
   "execution_count": null,
   "metadata": {
    "collapsed": true,
    "deletable": true,
    "editable": true
   },
   "outputs": [],
   "source": [
    "tmp_alive[]"
   ]
  },
  {
   "cell_type": "code",
   "execution_count": null,
   "metadata": {
    "collapsed": true,
    "deletable": true,
    "editable": true
   },
   "outputs": [],
   "source": []
  },
  {
   "cell_type": "markdown",
   "metadata": {
    "deletable": true,
    "editable": true
   },
   "source": [
    "# Naive bayes: find good features from Diagnoses using Likelihood model\n",
    "\n",
    "**data tables** : new_alive, new_icd9\n",
    "\n",
    "\n",
    "\\\\[\\frac{P(death | icd9 =x) }{P(survival | icd9 =x)} = prior* \\frac{ P(icd9 = x | death) }{P(icd9 = x | survival)} \\\\]\n",
    "\n",
    "\\\\[  = prior* \\frac{ \\frac{count Deaths}{All Deaths}} {\\frac{count Survival}{All Survival}} \\\\]\n",
    "\n",
    "\n",
    "+ this second fraction I have\n",
    "+ the baseline/prior is just the ratio of total_death/total_survival"
   ]
  },
  {
   "cell_type": "code",
   "execution_count": null,
   "metadata": {
    "collapsed": true,
    "deletable": true,
    "editable": true
   },
   "outputs": [],
   "source": [
    "# finish Clean up; don't need hadm_id/subject_id here \n",
    "new_icd9.drop(['hadm_id', 'subject_id'], axis=1, inplace=True)\n"
   ]
  },
  {
   "cell_type": "code",
   "execution_count": null,
   "metadata": {
    "collapsed": false,
    "deletable": true,
    "editable": true
   },
   "outputs": [],
   "source": [
    "### use pre-merged Fatal/Alive Data frames\n",
    "print( \" Number of unique icd9 codes for Survival + Fatal admissions: \", len(new_alive), len(new_icd9))\n",
    "\n",
    "new_alive[:3]"
   ]
  },
  {
   "cell_type": "code",
   "execution_count": null,
   "metadata": {
    "collapsed": false,
    "deletable": true,
    "editable": true
   },
   "outputs": [],
   "source": [
    "new_icd9[:2]"
   ]
  },
  {
   "cell_type": "markdown",
   "metadata": {
    "deletable": true,
    "editable": true
   },
   "source": [
    "1. Number of AND type of 1cd9_code which have NO Fatal admission: \n",
    "    + merge, set as N/A for num_expire_flags in new_icd9 "
   ]
  },
  {
   "cell_type": "code",
   "execution_count": null,
   "metadata": {
    "collapsed": true,
    "deletable": true,
    "editable": true
   },
   "outputs": [],
   "source": [
    "# from Part 3 : below \n",
    "total_fatal = 22586\n",
    "total_survival =  36390"
   ]
  },
  {
   "cell_type": "code",
   "execution_count": null,
   "metadata": {
    "collapsed": false,
    "deletable": true,
    "editable": true
   },
   "outputs": [],
   "source": [
    "# merge left on new_icd9, ie. keep all of icd9\n",
    "merged_nbayes = pd.merge(new_icd9, new_alive, how='right', on='icd9_code')"
   ]
  },
  {
   "cell_type": "code",
   "execution_count": null,
   "metadata": {
    "collapsed": false,
    "deletable": true,
    "editable": true
   },
   "outputs": [],
   "source": [
    "#P_icd9_Death\n",
    "merged_nbayes['P_icd9_Survival']= merged_nbayes.num_alive_flags/total_survival\n",
    "#P_icd9_Survival\n",
    "merged_nbayes['P_icd9_Death']=merged_nbayes.num_expire_flags/total_fatal"
   ]
  },
  {
   "cell_type": "code",
   "execution_count": null,
   "metadata": {
    "collapsed": false,
    "deletable": true,
    "editable": true
   },
   "outputs": [],
   "source": [
    "merged_nbayes[:3]"
   ]
  },
  {
   "cell_type": "code",
   "execution_count": null,
   "metadata": {
    "collapsed": false,
    "deletable": true,
    "editable": true
   },
   "outputs": [],
   "source": [
    "# P(survival | icd9)\n",
    "baseline* (0.317340)"
   ]
  },
  {
   "cell_type": "code",
   "execution_count": null,
   "metadata": {
    "collapsed": false,
    "deletable": true,
    "editable": true
   },
   "outputs": [],
   "source": [
    "# P(death | icd9)\n",
    "baseline*(0.900514)"
   ]
  },
  {
   "cell_type": "markdown",
   "metadata": {
    "deletable": true,
    "editable": true
   },
   "source": [
    "## What is Ratio_Pd_Ps? + Add  Diagnoses Dictionary\n",
    "The exact question we are answering here: give icd9 = x, what are the odds of Death over Survival? "
   ]
  },
  {
   "cell_type": "code",
   "execution_count": null,
   "metadata": {
    "collapsed": false,
    "deletable": true,
    "editable": true
   },
   "outputs": [],
   "source": [
    "# Calculate Ratio_Pd_Ps: ratio of Death to Survival\n",
    "baseline = total_fatal/total_survival\n",
    "\n",
    "#Ratio_Pd_Ps\n",
    "merged_nbayes['Ratio_Pd_Ps']= baseline*merged_nbayes.P_icd9_Death/merged_nbayes.P_icd9_Survival"
   ]
  },
  {
   "cell_type": "code",
   "execution_count": null,
   "metadata": {
    "collapsed": false,
    "deletable": true,
    "editable": true
   },
   "outputs": [],
   "source": [
    "merged_nbayes[:3]"
   ]
  },
  {
   "cell_type": "code",
   "execution_count": null,
   "metadata": {
    "collapsed": false,
    "deletable": true,
    "editable": true
   },
   "outputs": [],
   "source": [
    "# some of the Lowest values (these icd9 Codes suggest that )\n",
    "merged_nbayes.sort_values('Ratio_Pd_Ps')[:10]"
   ]
  },
  {
   "cell_type": "code",
   "execution_count": null,
   "metadata": {
    "collapsed": false,
    "deletable": true,
    "editable": true
   },
   "outputs": [],
   "source": [
    "#pd.merge(new_alive_smaller, diagnoses, how='left',on='icd9_code')\n",
    "\n",
    "merged_FIN = (pd.merge(merged_nbayes, diagnoses, how='left', on='icd9_code'))"
   ]
  },
  {
   "cell_type": "code",
   "execution_count": null,
   "metadata": {
    "collapsed": false,
    "deletable": true,
    "editable": true
   },
   "outputs": [],
   "source": [
    "merged_FIN\n"
   ]
  },
  {
   "cell_type": "code",
   "execution_count": null,
   "metadata": {
    "collapsed": true,
    "deletable": true,
    "editable": true
   },
   "outputs": [],
   "source": []
  },
  {
   "cell_type": "code",
   "execution_count": null,
   "metadata": {
    "collapsed": false,
    "deletable": true,
    "editable": true
   },
   "outputs": [],
   "source": [
    "# 20 most common icd9 numbers for observed POSITIVE Survival Odds\n",
    "most_Survival = (merged_FIN\n",
    ".groupby('icd9_code')\n",
    ".first()\n",
    ".reset_index().sort_values('Ratio_Pd_Ps'))[['icd9_code','num_expire_flags','num_alive_flags','Ratio_Pd_Ps','short_title','long_title']][:15]"
   ]
  },
  {
   "cell_type": "code",
   "execution_count": null,
   "metadata": {
    "collapsed": false,
    "deletable": true,
    "editable": true
   },
   "outputs": [],
   "source": [
    "most_Survival"
   ]
  },
  {
   "cell_type": "code",
   "execution_count": null,
   "metadata": {
    "collapsed": false,
    "deletable": true,
    "editable": true
   },
   "outputs": [],
   "source": [
    "most_Death = (merged_FIN\n",
    ".groupby('icd9_code')\n",
    ".first()\n",
    ".reset_index().sort_values('Ratio_Pd_Ps', ascending=False))[['icd9_code','num_expire_flags','num_alive_flags','Ratio_Pd_Ps',\n",
    "                                                             'short_title','long_title']][:50]"
   ]
  },
  {
   "cell_type": "code",
   "execution_count": null,
   "metadata": {
    "collapsed": false,
    "deletable": true,
    "editable": true
   },
   "outputs": [],
   "source": [
    "zed = most_Death[['icd9_code','num_expire_flags', 'num_alive_flags', 'Ratio_Pd_Ps', 'long_title']]\n",
    "\n",
    "zed.loc[ze866,:]"
   ]
  },
  {
   "cell_type": "code",
   "execution_count": null,
   "metadata": {
    "collapsed": false,
    "deletable": true,
    "editable": true
   },
   "outputs": [],
   "source": [
    "zed.loc[zed['icd9_code']=='1972',:]\n",
    "zed.loc[zed['icd9_code']=='1984',:].long_title.values\n",
    "\n",
    "zed.loc[zed['icd9_code']=='99685',:]\n",
    "zed.loc[zed['icd9_code']=='51181',:]# 485\n",
    "zed.loc[zed['icd9_code']=='07041',:]"
   ]
  },
  {
   "cell_type": "code",
   "execution_count": null,
   "metadata": {
    "collapsed": false,
    "deletable": true,
    "editable": true
   },
   "outputs": [],
   "source": [
    "zed"
   ]
  },
  {
   "cell_type": "code",
   "execution_count": null,
   "metadata": {
    "collapsed": false,
    "deletable": true,
    "editable": true
   },
   "outputs": [],
   "source": [
    "zed.loc[485,:]"
   ]
  },
  {
   "cell_type": "code",
   "execution_count": null,
   "metadata": {
    "collapsed": false,
    "deletable": true,
    "editable": true
   },
   "outputs": [],
   "source": [
    "## Number of NAN flags in expire_flags\n",
    "merged_nbayes[merged_nbayes.num_expire_flags.isnull()].count()"
   ]
  },
  {
   "cell_type": "code",
   "execution_count": null,
   "metadata": {
    "collapsed": false,
    "deletable": true,
    "editable": true
   },
   "outputs": [],
   "source": [
    "# there are no icd9_codes that are automatic surivval!!\n",
    "merged_nbayes[merged_nbayes.num_alive_flags.isnull()].count()"
   ]
  },
  {
   "cell_type": "markdown",
   "metadata": {
    "deletable": true,
    "editable": true
   },
   "source": [
    "# 5 Create dataFrame with icd9 - as features\n",
    "start with Admission-Patient data called \"data"
   ]
  },
  {
   "cell_type": "code",
   "execution_count": null,
   "metadata": {
    "collapsed": false,
    "deletable": true,
    "editable": true
   },
   "outputs": [],
   "source": [
    "# drop NAN values\n",
    "most_Death = most_Death.dropna()"
   ]
  },
  {
   "cell_type": "code",
   "execution_count": null,
   "metadata": {
    "collapsed": false,
    "deletable": true,
    "editable": true
   },
   "outputs": [],
   "source": [
    "#list(most_Death.icd9_code)"
   ]
  },
  {
   "cell_type": "code",
   "execution_count": null,
   "metadata": {
    "collapsed": false,
    "deletable": true,
    "editable": true
   },
   "outputs": [],
   "source": [
    "icd9_features = most_Death.icd9_code.values"
   ]
  },
  {
   "cell_type": "code",
   "execution_count": null,
   "metadata": {
    "collapsed": false,
    "deletable": true,
    "editable": true
   },
   "outputs": [],
   "source": [
    "icd9_features"
   ]
  },
  {
   "cell_type": "code",
   "execution_count": null,
   "metadata": {
    "collapsed": false,
    "deletable": true,
    "editable": true
   },
   "outputs": [],
   "source": [
    "len(icd9_features) # 47 new features"
   ]
  },
  {
   "cell_type": "code",
   "execution_count": null,
   "metadata": {
    "collapsed": false,
    "deletable": true,
    "editable": true
   },
   "outputs": [],
   "source": [
    "######### Cleaning data \n",
    "\n",
    "# df_model = data.drop( ['hospital_expire_flag', 'has_ioevents_data', 'has_chartevents_data', u'edregtime',\n",
    "#            u'edouttime' ], axis = 1)\n",
    "# df_model = df_model.drop( [ u'insurance', u'language', u'religion', u'marital_status', u'ethnicity' ], axis = 1)\n",
    "# df_model = df_model.drop( [u'admission_location', u'discharge_location',u'admittime', u'dischtime', u'deathtime',u'row_id',], axis = 1)\n",
    "\n",
    "# df_model = df_model.drop( [ u'dob', u'dod', u'subject_id.1' ], axis = 1)\n",
    "\n",
    "df_model"
   ]
  },
  {
   "cell_type": "markdown",
   "metadata": {
    "deletable": true,
    "editable": true
   },
   "source": [
    "##### ADD ICD-9 to df_model \n",
    "+ merge df_expired onto df_model (for expire_flag=1) \n",
    "+ merge df_alive"
   ]
  },
  {
   "cell_type": "code",
   "execution_count": null,
   "metadata": {
    "collapsed": false,
    "deletable": true,
    "editable": true
   },
   "outputs": [],
   "source": [
    "##### Concatinate fatal + alive icd9-code Data Frames\n",
    "print (len(df_expired))\n",
    "print ( len(df_alive))\n",
    "\n",
    "frames = [df_expired, df_alive]\n",
    "\n",
    "result = pd.concat(frames)"
   ]
  },
  {
   "cell_type": "code",
   "execution_count": null,
   "metadata": {
    "collapsed": false,
    "deletable": true,
    "editable": true
   },
   "outputs": [],
   "source": [
    "len(df_model)"
   ]
  },
  {
   "cell_type": "code",
   "execution_count": null,
   "metadata": {
    "collapsed": false,
    "deletable": true,
    "editable": true
   },
   "outputs": [],
   "source": [
    "len(result)"
   ]
  },
  {
   "cell_type": "code",
   "execution_count": null,
   "metadata": {
    "collapsed": false,
    "deletable": true,
    "editable": true
   },
   "outputs": [],
   "source": [
    "df_model.head(2)"
   ]
  },
  {
   "cell_type": "code",
   "execution_count": null,
   "metadata": {
    "collapsed": false,
    "deletable": true,
    "editable": true
   },
   "outputs": [],
   "source": [
    "icd9_features"
   ]
  },
  {
   "cell_type": "code",
   "execution_count": null,
   "metadata": {
    "collapsed": false,
    "deletable": true,
    "editable": true
   },
   "outputs": [],
   "source": [
    "len(result)"
   ]
  },
  {
   "cell_type": "code",
   "execution_count": null,
   "metadata": {
    "collapsed": true,
    "deletable": true,
    "editable": true
   },
   "outputs": [],
   "source": [
    "# may not need this\n",
    "#codes = result.icd9_code.unique()"
   ]
  },
  {
   "cell_type": "code",
   "execution_count": null,
   "metadata": {
    "collapsed": false,
    "deletable": true,
    "editable": true
   },
   "outputs": [],
   "source": [
    "### Retain all rows in result \n",
    "result.head(5)\n",
    "#result[result.icd9_code=='27953']"
   ]
  },
  {
   "cell_type": "code",
   "execution_count": null,
   "metadata": {
    "collapsed": false,
    "deletable": true,
    "editable": true
   },
   "outputs": [],
   "source": [
    "### Retain all rows in result : left merge \n",
    "    ## there shouldn't be any hadm_id's in df_model NOT in result\n",
    "    ## if there are, not interesting, because we need icd9_codes\n",
    "    \n",
    "df_model  = pd.merge(result, df_model, how='left', on='hadm_id')"
   ]
  },
  {
   "cell_type": "code",
   "execution_count": null,
   "metadata": {
    "collapsed": true,
    "deletable": true,
    "editable": true
   },
   "outputs": [],
   "source": [
    "df_model = df_model.drop(['expire_flag_y','subject_id_y'], axis=1)"
   ]
  },
  {
   "cell_type": "code",
   "execution_count": null,
   "metadata": {
    "collapsed": false,
    "deletable": true,
    "editable": true
   },
   "outputs": [],
   "source": [
    "df_model.head()"
   ]
  },
  {
   "cell_type": "code",
   "execution_count": null,
   "metadata": {
    "collapsed": false,
    "deletable": true,
    "editable": true
   },
   "outputs": [],
   "source": [
    "icd9_features"
   ]
  },
  {
   "cell_type": "code",
   "execution_count": null,
   "metadata": {
    "collapsed": false,
    "deletable": true,
    "editable": true
   },
   "outputs": [],
   "source": [
    "############ add columns \n",
    "# for var in icd9_features:\n",
    "#     df_model[var] = 0"
   ]
  },
  {
   "cell_type": "code",
   "execution_count": null,
   "metadata": {
    "collapsed": true,
    "deletable": true,
    "editable": true
   },
   "outputs": [],
   "source": []
  },
  {
   "cell_type": "code",
   "execution_count": null,
   "metadata": {
    "collapsed": false,
    "deletable": true,
    "editable": true
   },
   "outputs": [],
   "source": [
    "### group by admissions ID, if icd9 code is \n",
    "df_model[df_model.hadm_id==100018]"
   ]
  },
  {
   "cell_type": "code",
   "execution_count": null,
   "metadata": {
    "collapsed": false,
    "deletable": true,
    "editable": true
   },
   "outputs": [],
   "source": [
    "df_model[df_model.hadm_id==121205]"
   ]
  },
  {
   "cell_type": "code",
   "execution_count": null,
   "metadata": {
    "collapsed": false,
    "deletable": true,
    "editable": true
   },
   "outputs": [],
   "source": [
    "df_model['d']=1\n",
    "df_model"
   ]
  },
  {
   "cell_type": "code",
   "execution_count": null,
   "metadata": {
    "collapsed": false,
    "deletable": true,
    "editable": true
   },
   "outputs": [],
   "source": [
    "df_tmp = (df_model.\n",
    " groupby('hadm_id')['hadm_id','subject_id_x','expire_flag_x','gender','admission_type','diagnosis','age']\n",
    " .head(1)\n",
    "  )"
   ]
  },
  {
   "cell_type": "code",
   "execution_count": null,
   "metadata": {
    "collapsed": false,
    "deletable": true,
    "editable": true
   },
   "outputs": [],
   "source": [
    "keep;"
   ]
  },
  {
   "cell_type": "code",
   "execution_count": null,
   "metadata": {
    "collapsed": false,
    "deletable": true,
    "editable": true
   },
   "outputs": [],
   "source": [
    "tmp = pd.pivot_table(df_model, values='d', index=['hadm_id','subject_id_x'], columns=['icd9_code'])"
   ]
  },
  {
   "cell_type": "code",
   "execution_count": null,
   "metadata": {
    "collapsed": false,
    "deletable": true,
    "editable": true
   },
   "outputs": [],
   "source": [
    "tmp.columns"
   ]
  },
  {
   "cell_type": "code",
   "execution_count": null,
   "metadata": {
    "collapsed": true,
    "deletable": true,
    "editable": true
   },
   "outputs": [],
   "source": [
    "tmp.columns.name = ''"
   ]
  },
  {
   "cell_type": "code",
   "execution_count": null,
   "metadata": {
    "collapsed": false,
    "deletable": true,
    "editable": true
   },
   "outputs": [],
   "source": [
    "\n",
    "tmp.reset_index(col_level=0, inplace = True)"
   ]
  },
  {
   "cell_type": "code",
   "execution_count": null,
   "metadata": {
    "collapsed": false,
    "deletable": true,
    "editable": true
   },
   "outputs": [],
   "source": [
    "tmp.head()"
   ]
  },
  {
   "cell_type": "code",
   "execution_count": null,
   "metadata": {
    "collapsed": false,
    "deletable": true,
    "editable": true
   },
   "outputs": [],
   "source": [
    "keep"
   ]
  },
  {
   "cell_type": "code",
   "execution_count": null,
   "metadata": {
    "collapsed": false,
    "deletable": true,
    "editable": true
   },
   "outputs": [],
   "source": [
    "new_keep = keep[8:].union(keep[0:2])\n",
    "#keep[0:2].union(keep[8:]keep[0:2])"
   ]
  },
  {
   "cell_type": "code",
   "execution_count": null,
   "metadata": {
    "collapsed": false,
    "deletable": true,
    "editable": true
   },
   "outputs": [],
   "source": [
    "new_keep"
   ]
  },
  {
   "cell_type": "code",
   "execution_count": null,
   "metadata": {
    "collapsed": false,
    "deletable": true,
    "editable": true
   },
   "outputs": [],
   "source": [
    "tmp.info()"
   ]
  },
  {
   "cell_type": "code",
   "execution_count": null,
   "metadata": {
    "collapsed": false,
    "deletable": true,
    "editable": true
   },
   "outputs": [],
   "source": [
    "new_tmp = tmp.loc[:,new_keep]"
   ]
  },
  {
   "cell_type": "code",
   "execution_count": null,
   "metadata": {
    "collapsed": false,
    "deletable": true,
    "editable": true
   },
   "outputs": [],
   "source": [
    "new_tmp.fillna(0, inplace=True)"
   ]
  },
  {
   "cell_type": "code",
   "execution_count": null,
   "metadata": {
    "collapsed": false,
    "deletable": true,
    "editable": true
   },
   "outputs": [],
   "source": [
    "# testing newtmp\n",
    "new_tmp[new_tmp['07031']==1]"
   ]
  },
  {
   "cell_type": "markdown",
   "metadata": {
    "deletable": true,
    "editable": true
   },
   "source": [
    "#### Merge\n",
    "\n"
   ]
  },
  {
   "cell_type": "code",
   "execution_count": null,
   "metadata": {
    "collapsed": false,
    "deletable": true,
    "editable": true
   },
   "outputs": [],
   "source": [
    "df_tmp[:2]"
   ]
  },
  {
   "cell_type": "code",
   "execution_count": null,
   "metadata": {
    "collapsed": false,
    "deletable": true,
    "editable": true
   },
   "outputs": [],
   "source": [
    "print(len(df_tmp))\n",
    "print(len(new_tmp))\n",
    "#(pd.merge(merged_nbayes, diagnoses, how='left', on='icd9_code'))"
   ]
  },
  {
   "cell_type": "code",
   "execution_count": null,
   "metadata": {
    "collapsed": false,
    "deletable": true,
    "editable": true
   },
   "outputs": [],
   "source": [
    "merged_FINAL = pd.merge(df_tmp, new_tmp, how='left', on='hadm_id')"
   ]
  },
  {
   "cell_type": "code",
   "execution_count": null,
   "metadata": {
    "collapsed": true,
    "deletable": true,
    "editable": true
   },
   "outputs": [],
   "source": [
    "merged_FINAL.drop('subject_id_x_y', axis=1, inplace=True)"
   ]
  },
  {
   "cell_type": "code",
   "execution_count": null,
   "metadata": {
    "collapsed": false,
    "deletable": true,
    "editable": true
   },
   "outputs": [],
   "source": [
    "merged_FINAL.rename(columns={'subject_id_x_x': 'subject_id','expire_flag_x':'expire_flag' },inplace=True)"
   ]
  },
  {
   "cell_type": "code",
   "execution_count": null,
   "metadata": {
    "collapsed": false,
    "deletable": true,
    "editable": true
   },
   "outputs": [],
   "source": [
    "merged_FINAL[:3]"
   ]
  },
  {
   "cell_type": "markdown",
   "metadata": {
    "deletable": true,
    "editable": true
   },
   "source": [
    "# FINAL DATAFRAME TO BE SAVED"
   ]
  },
  {
   "cell_type": "code",
   "execution_count": null,
   "metadata": {
    "collapsed": true,
    "deletable": true,
    "editable": true
   },
   "outputs": [],
   "source": [
    "merged_FINAL.to_csv('data_model1.csv', index=None)"
   ]
  },
  {
   "cell_type": "code",
   "execution_count": null,
   "metadata": {
    "collapsed": false,
    "deletable": true,
    "editable": true
   },
   "outputs": [],
   "source": [
    "tmp.info()"
   ]
  },
  {
   "cell_type": "code",
   "execution_count": null,
   "metadata": {
    "collapsed": false,
    "deletable": true,
    "editable": true
   },
   "outputs": [],
   "source": [
    "tmp"
   ]
  },
  {
   "cell_type": "code",
   "execution_count": null,
   "metadata": {
    "collapsed": false,
    "deletable": true,
    "editable": true
   },
   "outputs": [],
   "source": [
    "###### NOT USED \n",
    "# mydict={}\n",
    "# #tmp = grouped['icd9_code'].apply(lambda x: [x] )\n",
    "# #{k: g[\"value\"].tolist() for k,g in ptest.groupby(\"id\")}\n",
    "\n",
    "# mydict = {k: g[\"icd9_code\"].tolist() for k,g in df_model.groupby('hadm_id')}"
   ]
  },
  {
   "cell_type": "code",
   "execution_count": null,
   "metadata": {
    "collapsed": false,
    "deletable": true,
    "editable": true
   },
   "outputs": [],
   "source": [
    "###### NOT USED \n",
    "# #first2pairs = {k: mydict[k] for k in sorted(mydict.keys())[:1]}\n",
    "# ### Key = hadm_id\n",
    "#     # vals: icd9_code\n",
    "# first2pairs = {k: mydict[k] for k in mydict.keys()[:1]}\n",
    "# first2pairs"
   ]
  },
  {
   "cell_type": "code",
   "execution_count": null,
   "metadata": {
    "collapsed": true,
    "deletable": true,
    "editable": true
   },
   "outputs": [],
   "source": [
    "#################### remove 'icd9_code' column and group by \thadm_id get smaller dataFrame (back to 59,000)"
   ]
  },
  {
   "cell_type": "code",
   "execution_count": null,
   "metadata": {
    "collapsed": false,
    "deletable": true,
    "editable": true
   },
   "outputs": [],
   "source": [
    "# df_model = (df_model.groupby('hadm_id')\n",
    "#  .first()\n",
    "#  .reset_index())"
   ]
  },
  {
   "cell_type": "markdown",
   "metadata": {
    "deletable": true,
    "editable": true
   },
   "source": [
    "#### NOW YOU CAN DROP THE  icd9_code"
   ]
  },
  {
   "cell_type": "code",
   "execution_count": null,
   "metadata": {
    "collapsed": false,
    "deletable": true,
    "editable": true
   },
   "outputs": [],
   "source": [
    "# #### NOW YOU CAN DROP THE \n",
    "# df_model = df_model.drop(['icd9_code'], axis=1)"
   ]
  },
  {
   "cell_type": "code",
   "execution_count": null,
   "metadata": {
    "collapsed": false,
    "deletable": true,
    "editable": true
   },
   "outputs": [],
   "source": [
    "df_model.head(4)"
   ]
  },
  {
   "cell_type": "code",
   "execution_count": null,
   "metadata": {
    "collapsed": false,
    "deletable": true,
    "editable": true
   },
   "outputs": [],
   "source": [
    "#columns to keep\n",
    "keep = df_model.columns\n",
    "keep "
   ]
  },
  {
   "cell_type": "code",
   "execution_count": null,
   "metadata": {
    "collapsed": false,
    "deletable": true,
    "editable": true
   },
   "outputs": [],
   "source": [
    "# # for a in mydict[100001]:\n",
    "# #     print (a)\n",
    "# len(mydict[100018])"
   ]
  },
  {
   "cell_type": "code",
   "execution_count": null,
   "metadata": {
    "collapsed": false,
    "deletable": true,
    "editable": true
   },
   "outputs": [],
   "source": [
    "###### NOT USED \n",
    "# #key is hadm_id\n",
    "# # traverse df_model.hadm_id use key-value\n",
    "\n",
    "# for ix in range(len(df_model)):\n",
    "   \n",
    "#     key= df_model.loc[ix, 'hadm_id']\n",
    "    \n",
    "#     # traverse the array in mydict[key]\n",
    "#     for a in mydict[key]: \n",
    "#         if a in icd9_features:\n",
    "#             print(key, a)\n",
    "#             #df_model.loc[ix,a] = 1  \n",
    "    "
   ]
  },
  {
   "cell_type": "code",
   "execution_count": null,
   "metadata": {
    "collapsed": false,
    "deletable": true,
    "editable": true
   },
   "outputs": [],
   "source": [
    "df_model.info()"
   ]
  },
  {
   "cell_type": "code",
   "execution_count": null,
   "metadata": {
    "collapsed": false,
    "deletable": true,
    "editable": true
   },
   "outputs": [],
   "source": [
    "#result.loc[(result.hadm_id ==111199 )& (result.icd9_code=='485')]['expire_flag']"
   ]
  },
  {
   "cell_type": "code",
   "execution_count": null,
   "metadata": {
    "collapsed": true,
    "deletable": true,
    "editable": true
   },
   "outputs": [],
   "source": []
  },
  {
   "cell_type": "code",
   "execution_count": null,
   "metadata": {
    "collapsed": false,
    "deletable": true,
    "editable": true,
    "scrolled": true
   },
   "outputs": [],
   "source": [
    "procedures[:2]"
   ]
  },
  {
   "cell_type": "code",
   "execution_count": null,
   "metadata": {
    "collapsed": false,
    "deletable": true,
    "editable": true
   },
   "outputs": [],
   "source": [
    "# 4th \n",
    "procedures.loc[procedures['icd9_code']== \t5849]"
   ]
  },
  {
   "cell_type": "code",
   "execution_count": null,
   "metadata": {
    "collapsed": false,
    "deletable": true,
    "editable": true
   },
   "outputs": [],
   "source": [
    "pd.merge(new_icd9_smaller, procedures, how='left',on='icd9_code');"
   ]
  },
  {
   "cell_type": "code",
   "execution_count": null,
   "metadata": {
    "collapsed": true,
    "deletable": true,
    "editable": true
   },
   "outputs": [],
   "source": []
  },
  {
   "cell_type": "code",
   "execution_count": null,
   "metadata": {
    "collapsed": true,
    "deletable": true,
    "editable": true
   },
   "outputs": [],
   "source": []
  },
  {
   "cell_type": "markdown",
   "metadata": {
    "deletable": true,
    "editable": true
   },
   "source": [
    "# 3. Combination of Patients and Admissions table\n",
    "+ admissions have a: unique HADM_ID\n",
    "+ \n",
    "goals\n",
    "+ get the age of the subject at admit-time\n",
    "\n",
    "## First: get total number of Deaths and Survivals"
   ]
  },
  {
   "cell_type": "code",
   "execution_count": null,
   "metadata": {
    "collapsed": false,
    "deletable": true,
    "editable": true
   },
   "outputs": [],
   "source": [
    "## How many subject_ids? (PATIENTS total) = 46520\n",
    "print ( \"total number unique patients:  \", len(data.subject_id.unique()) )\n",
    "print ( \"total number unique admissions:  \", len(data.hadm_id.unique()) ), '\\n'\n",
    "\n",
    "\n",
    "######################## How many fatal visits? ####################################\n",
    "print ( \"total fatal hospital visits: \" , data[data.expire_flag==1]['expire_flag'].count())\n",
    "print ( \"total surviving hospital visits: \" , data[data.expire_flag==0]['expire_flag'].count()), '\\n'\n",
    "\n",
    "### How many of each Admission type fatal"
   ]
  },
  {
   "cell_type": "code",
   "execution_count": null,
   "metadata": {
    "collapsed": false,
    "deletable": true,
    "editable": true
   },
   "outputs": [],
   "source": [
    "data[data.gender.isnull()]['gender'].count()"
   ]
  },
  {
   "cell_type": "code",
   "execution_count": null,
   "metadata": {
    "collapsed": false,
    "deletable": true,
    "editable": true
   },
   "outputs": [],
   "source": [
    "data.admission_type.value_counts()"
   ]
  },
  {
   "cell_type": "code",
   "execution_count": null,
   "metadata": {
    "collapsed": false,
    "deletable": true,
    "editable": true
   },
   "outputs": [],
   "source": [
    "data[:3].expire_flag"
   ]
  },
  {
   "cell_type": "code",
   "execution_count": null,
   "metadata": {
    "collapsed": false,
    "deletable": true,
    "editable": true
   },
   "outputs": [],
   "source": [
    "admit_survival = (data.groupby(['admission_type','expire_flag'])\n",
    "['gender'].count().rename('Count')\n",
    ".reset_index())"
   ]
  },
  {
   "cell_type": "code",
   "execution_count": null,
   "metadata": {
    "collapsed": false,
    "deletable": true,
    "editable": true
   },
   "outputs": [],
   "source": [
    "admit_survival"
   ]
  },
  {
   "cell_type": "markdown",
   "metadata": {
    "deletable": true,
    "editable": true
   },
   "source": [
    "Emergency and urgent have the highest percentages of fatalities, followed by elective surgery\n",
    "Newborns are surprisingly resilient\n"
   ]
  },
  {
   "cell_type": "code",
   "execution_count": null,
   "metadata": {
    "collapsed": false,
    "deletable": true,
    "editable": true
   },
   "outputs": [],
   "source": [
    "\n",
    "print (\" elective \", 2186./(5520+2186)*100)\n",
    "print (\" emergency \", 19650./(19650+22421)*100)\n",
    "print (\" newborn \", 65./(65+7798)*100)\n",
    "print (\" urgent \", 685./(685+651)*100)"
   ]
  },
  {
   "cell_type": "markdown",
   "metadata": {
    "deletable": true,
    "editable": true
   },
   "source": [
    "Time related: \"u'edregtime', u'edouttime'\" what is this shit?\n",
    "\n",
    "Time that the patient was registered and discharged from the emergency department.\n",
    "\n",
    "##### pick the right admission time\n",
    "1. One way of doing it: Count from **when they were admitted to the emergency department ** ('edregtime', u'edouttime')\n",
    "1. OR  **when they were admitted to the hospital **  u'admittime',\n",
    "    - choose 2. right now, and come back to later if relevant"
   ]
  },
  {
   "cell_type": "code",
   "execution_count": null,
   "metadata": {
    "collapsed": false,
    "deletable": true,
    "editable": true
   },
   "outputs": [],
   "source": [
    "data.columns\n"
   ]
  },
  {
   "cell_type": "code",
   "execution_count": null,
   "metadata": {
    "collapsed": false,
    "deletable": true,
    "editable": true
   },
   "outputs": [],
   "source": [
    "df_smaller=data.loc[:, [ 'hadm_id','dob','admittime' ]]\n",
    "                    #['subject_id', u'gender', u'dob', u'dod', u'expire_flag']]"
   ]
  },
  {
   "cell_type": "code",
   "execution_count": null,
   "metadata": {
    "collapsed": false,
    "deletable": true,
    "editable": true
   },
   "outputs": [],
   "source": [
    "df_smaller[:3]"
   ]
  },
  {
   "cell_type": "code",
   "execution_count": null,
   "metadata": {
    "collapsed": false,
    "deletable": true,
    "editable": true
   },
   "outputs": [],
   "source": [
    "isinstance(df_smaller.dob,pd.DatetimeIndex)"
   ]
  },
  {
   "cell_type": "code",
   "execution_count": null,
   "metadata": {
    "collapsed": false,
    "deletable": true,
    "editable": true
   },
   "outputs": [],
   "source": [
    "isinstance(df_smaller.dob,pd.Timestamp)"
   ]
  },
  {
   "cell_type": "markdown",
   "metadata": {
    "deletable": true,
    "editable": true
   },
   "source": [
    "#it's not a timestamp, convert it to Timestamp"
   ]
  },
  {
   "cell_type": "code",
   "execution_count": null,
   "metadata": {
    "collapsed": false,
    "deletable": true,
    "editable": true
   },
   "outputs": [],
   "source": [
    "# Age, the -285 is over 90\n",
    "# ('<m8[Y]') is a dtype, that rounds up the years\n",
    "\n",
    "data['age'] = (pd.to_datetime(df_smaller.admittime) - pd.to_datetime(df_smaller.dob )\n",
    "              ).astype('<m8[Y]')"
   ]
  },
  {
   "cell_type": "code",
   "execution_count": null,
   "metadata": {
    "collapsed": false,
    "deletable": true,
    "editable": true
   },
   "outputs": [],
   "source": [
    "data['age'][:3]"
   ]
  },
  {
   "cell_type": "code",
   "execution_count": null,
   "metadata": {
    "collapsed": false,
    "deletable": true,
    "editable": true
   },
   "outputs": [],
   "source": [
    "data.age.describe()"
   ]
  },
  {
   "cell_type": "markdown",
   "metadata": {
    "deletable": true,
    "editable": true
   },
   "source": [
    "DOB is the date of birth of the given patient. Patients who are older than 89 years old at any time in the database have had their date of birth shifted to obscure their age and comply with HIPAA. \n",
    "** change all ages <0 to  90 **"
   ]
  },
  {
   "cell_type": "code",
   "execution_count": null,
   "metadata": {
    "collapsed": false,
    "deletable": true,
    "editable": true
   },
   "outputs": [],
   "source": [
    "# number o\n",
    "data.age.where(data['age']< 0).count()"
   ]
  },
  {
   "cell_type": "code",
   "execution_count": null,
   "metadata": {
    "collapsed": false,
    "deletable": true,
    "editable": true
   },
   "outputs": [],
   "source": [
    "#### SET ALL GREATER THAN 90 AGES TO 90\n",
    "data.loc[ (data.age < 0),'age']  = 90.0"
   ]
  },
  {
   "cell_type": "code",
   "execution_count": null,
   "metadata": {
    "collapsed": false,
    "deletable": true,
    "editable": true
   },
   "outputs": [],
   "source": [
    "data.age[:3]"
   ]
  },
  {
   "cell_type": "code",
   "execution_count": null,
   "metadata": {
    "collapsed": false,
    "deletable": true,
    "editable": true
   },
   "outputs": [],
   "source": [
    "#data['age'].where(data['age'] > 80 and data['age']< 90)\n",
    "\n",
    "## use .query method, it's nice\n",
    "print (\" number of people who have a DOD, of age b/w 80, and 90 \"\n",
    "       , data.query(' 80 < age <90 ' )['dod'].count())\n",
    "print (\" number of people who have a DOD, of age b/w 80, and 90 \", \n",
    "    data.query(' 80 < age <90 ' )['subject_id'].count() )"
   ]
  },
  {
   "cell_type": "code",
   "execution_count": null,
   "metadata": {
    "collapsed": true,
    "deletable": true,
    "editable": true
   },
   "outputs": [],
   "source": [
    "pd.to_datetime()"
   ]
  },
  {
   "cell_type": "markdown",
   "metadata": {
    "deletable": true,
    "editable": true
   },
   "source": [
    "## Other ideas \n",
    "+ convert all times to datetime\n",
    "+ can certain time of day classify death? \n"
   ]
  },
  {
   "cell_type": "code",
   "execution_count": null,
   "metadata": {
    "collapsed": false,
    "deletable": true,
    "editable": true
   },
   "outputs": [],
   "source": [
    "data.admission_location.unique()"
   ]
  },
  {
   "cell_type": "code",
   "execution_count": null,
   "metadata": {
    "collapsed": false,
    "deletable": true,
    "editable": true
   },
   "outputs": [],
   "source": [
    "data.columns"
   ]
  },
  {
   "cell_type": "code",
   "execution_count": null,
   "metadata": {
    "collapsed": true,
    "deletable": true,
    "editable": true
   },
   "outputs": [],
   "source": [
    "df_fit = data.loc[:, ['subject_id','gender','age','admission_type', 'expire_flag']]"
   ]
  },
  {
   "cell_type": "code",
   "execution_count": null,
   "metadata": {
    "collapsed": false,
    "deletable": true,
    "editable": true
   },
   "outputs": [],
   "source": [
    "# ############ Admission_type into categorical \n",
    "cols = ['NEWBORN', 'URGENT', 'EMERGENCY', 'ELECTIVE']\n",
    "nums = [0, 1, 2, 3 ]\n",
    "print(df_fit.admission_type.unique())\n",
    "\n",
    "df_fit.admission_type.replace(cols, nums, inplace=True)"
   ]
  },
  {
   "cell_type": "code",
   "execution_count": null,
   "metadata": {
    "collapsed": false,
    "deletable": true,
    "editable": true
   },
   "outputs": [],
   "source": [
    "########### Gender ##########\n",
    "gen = [\"M\", \"F\"]\n",
    "n_g = [0,1]\n",
    "df_fit.gender.replace(gen, n_g, inplace=True)"
   ]
  },
  {
   "cell_type": "code",
   "execution_count": null,
   "metadata": {
    "collapsed": false,
    "deletable": true,
    "editable": true
   },
   "outputs": [],
   "source": [
    "df_fit[:4]\n"
   ]
  },
  {
   "cell_type": "markdown",
   "metadata": {
    "deletable": true,
    "editable": true
   },
   "source": [
    "# First Logistic Model: Gender, Age, Admission type"
   ]
  },
  {
   "cell_type": "code",
   "execution_count": null,
   "metadata": {
    "collapsed": true,
    "deletable": true,
    "editable": true
   },
   "outputs": [],
   "source": [
    "X = df_fit.loc[:,['gender', 'age', 'admission_type']]\n",
    "\n",
    "y = df_fit.loc[:, 'expire_flag']"
   ]
  },
  {
   "cell_type": "code",
   "execution_count": null,
   "metadata": {
    "collapsed": true,
    "deletable": true,
    "editable": true
   },
   "outputs": [],
   "source": [
    "X_train, X_test, y_train, y_test = train_test_split(X,y,test_size=0.3, random_state=4444 )"
   ]
  },
  {
   "cell_type": "code",
   "execution_count": null,
   "metadata": {
    "collapsed": false,
    "deletable": true,
    "editable": true
   },
   "outputs": [],
   "source": [
    "lr_model = LogisticRegression()\n",
    "lr_model.fit(X_train, y_train)"
   ]
  },
  {
   "cell_type": "code",
   "execution_count": null,
   "metadata": {
    "collapsed": false,
    "deletable": true,
    "editable": true
   },
   "outputs": [],
   "source": [
    "\n",
    "##y_pred_1 = lr_model.predict_proba(X_test)"
   ]
  },
  {
   "cell_type": "code",
   "execution_count": null,
   "metadata": {
    "collapsed": false,
    "deletable": true,
    "editable": true
   },
   "outputs": [],
   "source": [
    " \n",
    "\n",
    "for col in X_train.columns:\n",
    "    print (col)\n",
    "    X_tr = X_train.loc[:, col].values.reshape(-1,1)\n",
    "    X_te = X_test.loc[:,col].values.reshape(-1,1)\n",
    "    lr_model = LogisticRegression()\n",
    "    lr_model.fit(X_tr, y_train)\n",
    "    y_prob_pred = lr_model.predict_proba(X_te)[:,1]\n",
    "    print( \"log-loss\",log_loss(y_test, y_prob_pred)) "
   ]
  },
  {
   "cell_type": "code",
   "execution_count": null,
   "metadata": {
    "collapsed": false,
    "deletable": true,
    "editable": true
   },
   "outputs": [],
   "source": [
    "## this is for .predict() method\n",
    "# print (\" accuracy\" , accuracy_score(y_test, y_pred_1, normalize=True))\n",
    "# print (\"precision\",precision_score(y_test, y_pred_1))\n",
    "# print (\"recall\",recall_score(y_test, y_pred_1))"
   ]
  },
  {
   "cell_type": "markdown",
   "metadata": {
    "deletable": true,
    "editable": true
   },
   "source": [
    "## Look at Admission Type"
   ]
  },
  {
   "cell_type": "code",
   "execution_count": null,
   "metadata": {
    "collapsed": true,
    "deletable": true,
    "editable": true
   },
   "outputs": [],
   "source": [
    "X_train, X_test, y_train, y_test = train_test_split(X.loc[:,'admission_type'],y,test_size=0.3, random_state=4444 )"
   ]
  },
  {
   "cell_type": "code",
   "execution_count": null,
   "metadata": {
    "collapsed": true,
    "deletable": true,
    "editable": true
   },
   "outputs": [],
   "source": [
    "lr_model_a = LogisticRegression()\n",
    "lr_model_a.fit(X_train, y_train)\n",
    "y_pred_a = lr_model_a.predict(X_test)"
   ]
  },
  {
   "cell_type": "code",
   "execution_count": null,
   "metadata": {
    "collapsed": false,
    "deletable": true,
    "editable": true
   },
   "outputs": [],
   "source": [
    "X.loc[:,'admission_type']"
   ]
  },
  {
   "cell_type": "code",
   "execution_count": null,
   "metadata": {
    "collapsed": false,
    "deletable": true,
    "editable": true
   },
   "outputs": [],
   "source": [
    "print (\" accuracy\" , accuracy_score(y_test, y_pred_a, normalize=True))\n",
    "print (\"precision\",precision_score(y_test, y_pred_a))\n",
    "print (\"recall\",recall_score(y_test, y_pred_a))"
   ]
  },
  {
   "cell_type": "code",
   "execution_count": null,
   "metadata": {
    "collapsed": true,
    "deletable": true,
    "editable": true
   },
   "outputs": [],
   "source": []
  },
  {
   "cell_type": "code",
   "execution_count": null,
   "metadata": {
    "collapsed": true,
    "deletable": true,
    "editable": true
   },
   "outputs": [],
   "source": []
  },
  {
   "cell_type": "code",
   "execution_count": null,
   "metadata": {
    "collapsed": true,
    "deletable": true,
    "editable": true
   },
   "outputs": [],
   "source": []
  },
  {
   "cell_type": "code",
   "execution_count": null,
   "metadata": {
    "collapsed": false,
    "deletable": true,
    "editable": true
   },
   "outputs": [],
   "source": [
    "X_train, X_test, y_train, y_test = train_test_split(X.loc[:,['gender']],y,test_size=0.3, random_state=4444 )"
   ]
  },
  {
   "cell_type": "code",
   "execution_count": null,
   "metadata": {
    "collapsed": false,
    "deletable": true,
    "editable": true
   },
   "outputs": [],
   "source": [
    "X_train.shape"
   ]
  },
  {
   "cell_type": "code",
   "execution_count": null,
   "metadata": {
    "collapsed": false,
    "deletable": true,
    "editable": true
   },
   "outputs": [],
   "source": [
    "y_train.shape"
   ]
  },
  {
   "cell_type": "code",
   "execution_count": null,
   "metadata": {
    "collapsed": false,
    "deletable": true,
    "editable": true
   },
   "outputs": [],
   "source": [
    "lr_modelGender = LogisticRegression()\n",
    "lr_modelGender.fit(X_train, y_train)\n",
    "y_pred_Gender = lr_modelGender.predict(X_test)"
   ]
  },
  {
   "cell_type": "code",
   "execution_count": null,
   "metadata": {
    "collapsed": false,
    "deletable": true,
    "editable": true
   },
   "outputs": [],
   "source": [
    "print (\" accuracy\" , accuracy_score(y_test,y_pred_Gender , normalize=True))\n",
    "print (\"precision\",precision_score(y_test, y_pred_Gender))\n",
    "print (\"recall\",recall_score(y_test, y_pred_Gender))"
   ]
  },
  {
   "cell_type": "markdown",
   "metadata": {
    "deletable": true,
    "editable": true
   },
   "source": [
    "Gender itself is a terrible predictor "
   ]
  },
  {
   "cell_type": "code",
   "execution_count": null,
   "metadata": {
    "collapsed": true,
    "deletable": true,
    "editable": true
   },
   "outputs": [],
   "source": []
  },
  {
   "cell_type": "markdown",
   "metadata": {
    "deletable": true,
    "editable": true
   },
   "source": [
    "### IF you wanna deal with ethnicity"
   ]
  },
  {
   "cell_type": "code",
   "execution_count": null,
   "metadata": {
    "collapsed": false,
    "deletable": true,
    "editable": true
   },
   "outputs": [],
   "source": [
    "eth = list(data.ethnicity.unique())"
   ]
  },
  {
   "cell_type": "code",
   "execution_count": null,
   "metadata": {
    "collapsed": false,
    "deletable": true,
    "editable": true
   },
   "outputs": [],
   "source": [
    "eth.sort()"
   ]
  },
  {
   "cell_type": "code",
   "execution_count": null,
   "metadata": {
    "collapsed": false,
    "deletable": true,
    "editable": true
   },
   "outputs": [],
   "source": [
    "print (len(eth))\n",
    "eth\n"
   ]
  },
  {
   "cell_type": "code",
   "execution_count": null,
   "metadata": {
    "collapsed": false,
    "deletable": true,
    "editable": true
   },
   "outputs": [],
   "source": [
    "print (data[data.ethnicity=='UNKNOWN/NOT SPECIFIED']['subject_id'].count())\n",
    "print (data[data.ethnicity=='OTHER']['subject_id'].count())\n",
    "print (data[data.ethnicity=='PATIENT DECLINED TO ANSWER']['subject_id'].count())\n"
   ]
  },
  {
   "cell_type": "code",
   "execution_count": null,
   "metadata": {
    "collapsed": true,
    "deletable": true,
    "editable": true
   },
   "outputs": [],
   "source": [
    "''' Ethnicty Dictionary\n",
    "    White (any) +Portugese = 0\n",
    "    Black (any) = 1\n",
    "    Hispanic/South American (any) + Carribbean = 2\n",
    "    Asian (any) + hawaiian (pac islander) = 3\n",
    "    Native American  = 4\n",
    "    Multi Race = 5 \n",
    "    \n",
    "'''"
   ]
  },
  {
   "cell_type": "code",
   "execution_count": null,
   "metadata": {
    "collapsed": false,
    "deletable": true,
    "editable": true
   },
   "outputs": [],
   "source": [
    "data.columns"
   ]
  },
  {
   "cell_type": "code",
   "execution_count": null,
   "metadata": {
    "collapsed": true,
    "deletable": true,
    "editable": true
   },
   "outputs": [],
   "source": []
  },
  {
   "cell_type": "code",
   "execution_count": null,
   "metadata": {
    "collapsed": false,
    "deletable": true,
    "editable": true
   },
   "outputs": [],
   "source": [
    "df_fit = data.loc[:, ['subject_id','gender','age', 'ethnicity', 'expire_flag']]"
   ]
  },
  {
   "cell_type": "code",
   "execution_count": null,
   "metadata": {
    "collapsed": false,
    "deletable": true,
    "editable": true
   },
   "outputs": [],
   "source": [
    "print(df_fit[df_fit.ethnicity.str.contains('WHITE')]['ethnicity'].unique())\n",
    "len(df_fit[df_fit.ethnicity.str.contains('WHITE')]['ethnicity'].unique())"
   ]
  },
  {
   "cell_type": "code",
   "execution_count": null,
   "metadata": {
    "collapsed": false,
    "deletable": true,
    "editable": true
   },
   "outputs": [],
   "source": [
    "(df_fit[df_fit.ethnicity.str.contains('ASIAN')]['ethnicity'].unique())\n",
    "len(df_fit[df_fit.ethnicity.str.contains('ASIAN')]['ethnicity'].unique())"
   ]
  },
  {
   "cell_type": "code",
   "execution_count": null,
   "metadata": {
    "collapsed": false,
    "deletable": true,
    "editable": true
   },
   "outputs": [],
   "source": [
    "(df_fit[df_fit.ethnicity.str.contains('HISPANIC')]['ethnicity'].unique())\n",
    "print (len((df_fit[df_fit.ethnicity.str.contains('HISPANIC')]['ethnicity'].unique())\n",
    ")) # Hispanic\n",
    "print (len((df_fit[df_fit.ethnicity.str.contains('BLACK')]['ethnicity'].unique())\n",
    ")) # Black"
   ]
  },
  {
   "cell_type": "code",
   "execution_count": null,
   "metadata": {
    "collapsed": false,
    "deletable": true,
    "editable": true
   },
   "outputs": [],
   "source": [
    "print ((df_fit[df_fit.ethnicity.str.contains('INDIAN')]['ethnicity'].unique() ))"
   ]
  },
  {
   "cell_type": "code",
   "execution_count": null,
   "metadata": {
    "collapsed": false,
    "deletable": true,
    "editable": true
   },
   "outputs": [],
   "source": [
    "print ((df_fit[df_fit.ethnicity.str.contains('AMERICAN INDIAN')]['ethnicity'].unique() ))"
   ]
  },
  {
   "cell_type": "code",
   "execution_count": null,
   "metadata": {
    "collapsed": true,
    "deletable": true,
    "editable": true
   },
   "outputs": [],
   "source": [
    "def convert_eth():\n",
    "    "
   ]
  },
  {
   "cell_type": "code",
   "execution_count": null,
   "metadata": {
    "collapsed": true,
    "deletable": true,
    "editable": true
   },
   "outputs": [],
   "source": []
  },
  {
   "cell_type": "code",
   "execution_count": null,
   "metadata": {
    "collapsed": true,
    "deletable": true,
    "editable": true
   },
   "outputs": [],
   "source": []
  },
  {
   "cell_type": "code",
   "execution_count": null,
   "metadata": {
    "collapsed": true,
    "deletable": true,
    "editable": true
   },
   "outputs": [],
   "source": []
  },
  {
   "cell_type": "code",
   "execution_count": null,
   "metadata": {
    "collapsed": true,
    "deletable": true,
    "editable": true
   },
   "outputs": [],
   "source": []
  },
  {
   "cell_type": "code",
   "execution_count": null,
   "metadata": {
    "collapsed": true,
    "deletable": true,
    "editable": true
   },
   "outputs": [],
   "source": []
  }
 ],
 "metadata": {
  "kernelspec": {
   "display_name": "Python 2",
   "language": "python",
   "name": "python2"
  },
  "language_info": {
   "codemirror_mode": {
    "name": "ipython",
    "version": 2
   },
   "file_extension": ".py",
   "mimetype": "text/x-python",
   "name": "python",
   "nbconvert_exporter": "python",
   "pygments_lexer": "ipython2",
   "version": "2.7.13"
  }
 },
 "nbformat": 4,
 "nbformat_minor": 2
}
