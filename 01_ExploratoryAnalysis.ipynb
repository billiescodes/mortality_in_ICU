{
 "cells": [
  {
   "cell_type": "markdown",
   "metadata": {
    "deletable": true,
    "editable": true
   },
   "source": [
    "\n",
    "# EDA and preparing the data \n",
    "\n",
    "This notebook includes some important data exploration, groupings and breakdowns of different features, relvant visualizations and some statistics. Furthermore it builds the dataframe that is used in the model notebook(s) which includes the Naive Bayes calculation.\n",
    "\n",
    "** ** \n",
    "### Includes:\n",
    " 1. Most Common Diagnoses Fatal v. Non Fatal\n",
    " 1. * Using Naive Bayes to find diseases that are good features *\n",
    "  \n",
    "    \\\\[\\frac{P( Death  |  icd9=x) }{P( Survival | icd9 x)} \\\\]\n",
    "    \n",
    " 1. Combination of Patients and Admissions table\n",
    " 1. First Model: Gender and Age Logistic Regression\n",
    " 1. Create DataFrame with icd9- as features\n",
    " 1. (optional) if you wanna look at ethnicity\n",
    " \n",
    "#### terms in data tables \n",
    "\n",
    "* hadm_id    = hospital admission id (one patient could map to several) \n",
    "* subject_id = personal id (unique to patient)\n",
    "* seq_num    = sequential number of diagnosis ( 1 being most serious/reason for coming in)  \n",
    "** **\n",
    "\n",
    "   ## outline\n",
    "\n",
    "1. **Part 1**:  Answering a few basic stats\n",
    "1. **Part 2**: Visualization,  Histograms\n",
    "1. **Part 3**: Most common icd9 codes fatal/survival; Data Frames\n",
    "    1. **Part 3b**:  Table of most common Diagnoses (long-title) ; Fatal NON-Fatal\n",
    "    1. **Part 3c**:  Create a pre-bayes data for modelling\n",
    "    1. ** Part 3d**: CREATE an external test-set \n",
    "1. **Part 4**: Naive bayes;  find good features from Diagnoses using Likelihood model\n",
    "    1. **Part 4a **: Calculate Fatality\n",
    "1. **Part 5 **:  DF with icd9-codes\n",
    "    1.**Part 5a ** : pivot table \n",
    "1. Part 7 (?) First Logistic Model: Gender, Age, Admission type\n",
    "** **\n",
    "\n",
    " # Instructions for creating Modeling table: \n",
    "\n",
    "How to create a pivot table ready for modeling, ie. how to encode Diagnosis Codes \n",
    "** Logistic regression takes in only numeric values, so diagnosis codes have to be encoded in [0,1] format **\n",
    "\n",
    "\n",
    "1. **df_model** should be a DF containing: \n",
    "    1. \thadm_id\tsubject_id_x\texpire_flag_x\ticd9_code\tgender\tadmission_type\tdiagnosis\tage\n",
    "    1. ** every Row of df_model ** contains a unique icd9-code, per hospital stay\n",
    "    1. that's why it has so many rows\n",
    "    1. ** num Rows** = hospital-stays x icd9-code \n",
    "1. create a column of =1 in **df_model**\n",
    "    1. for the merge, to pass as values\n",
    "1. pivot **tmp**\n",
    "        1. tmp = pd.pivot_table(df_model, values='d', index=['hadm_id','subject_id_x'], columns=['icd9_code'])\n",
    "1. ** reset index level ** at tmp\n",
    "        1. tmp.reset_index(col_level=0, inplace = True)\n",
    "1. Merge **df_tmp** (DF with gender, admission_type, diagnosis, age, expire_flag, AND hamd_id, subject_id,) and ** tmp ** (pivot DF with hamd_id, subject_id, AND encoded icd9 codes) \n",
    "    1. on hamd_id (HOSPITAL stay)\n",
    "    1. how = left\n",
    "1. drop the extra columns \n",
    "        1. .drop('subject_id_x_y', axis=1, inplace=True)\n",
    "    \n",
    "\n"
   ]
  },
  {
   "cell_type": "code",
   "execution_count": 1,
   "metadata": {
    "collapsed": true,
    "deletable": true,
    "editable": true
   },
   "outputs": [],
   "source": [
    "from __future__ import print_function, division"
   ]
  },
  {
   "cell_type": "code",
   "execution_count": 2,
   "metadata": {
    "collapsed": true,
    "deletable": true,
    "editable": true
   },
   "outputs": [],
   "source": [
    "import numpy as np\n",
    "import pandas as pd\n",
    "import matplotlib.pyplot as plt\n",
    "%matplotlib inline\n",
    "import seaborn as sns"
   ]
  },
  {
   "cell_type": "code",
   "execution_count": 3,
   "metadata": {
    "collapsed": true,
    "deletable": true,
    "editable": true
   },
   "outputs": [],
   "source": [
    "from sklearn.model_selection import train_test_split\n",
    "from sklearn.linear_model import LogisticRegression\n",
    "\n",
    "from sklearn.metrics import log_loss\n",
    "from sklearn.metrics import accuracy_score\n",
    "from sklearn.metrics import precision_score\n",
    "from sklearn.metrics import recall_score\n",
    "from sklearn.metrics import f1_score"
   ]
  },
  {
   "cell_type": "code",
   "execution_count": 4,
   "metadata": {
    "collapsed": false,
    "deletable": true,
    "editable": true
   },
   "outputs": [],
   "source": [
    "####import all the previously assembled data \n",
    "\n",
    "# general dataframe with more info: time, gender, language etc\n",
    "data = pd.read_csv(\"mimic_data/admit_1.csv\")\n",
    "### dataframe containing all diagnosis codes for hospital visits tagged: expired/fatal \n",
    "df_expired = pd.read_csv(\"mimic_data/icd9_expire1.csv\")\n",
    "\n",
    "# dataframe containing all diagnosis codes for hospital visits tagged: survived\n",
    "df_alive = pd.read_csv(\"mimic_data/icd9_expire0.csv\")\n",
    "\n",
    "# dataframe containing all diagnoses (short & long) for all hospital visits\n",
    "diagnoses = pd.read_csv(\"mimic_data/diagnoses.csv\")\n",
    "\n",
    "# DICTIONARY of DIAGNOSES (procedures);  only 3882 rows \n",
    "procedures = pd.read_csv(\"mimic_data/procedures.csv\")"
   ]
  },
  {
   "cell_type": "markdown",
   "metadata": {
    "deletable": true,
    "editable": true
   },
   "source": [
    "#### Data files key \n",
    "* **df_alive** - every single icd9 code for every single hospital visit  -- survived\n",
    "* **df_expired** - every single icd9 code for every single hospital visit -- fatal\n",
    "\n",
    "** Data ** contains gender, dob, (religion, ethnicity etc. other events)\n",
    "    - contains:\n",
    "        - number of unique hospital visits\n",
    "        - expire flag\n",
    "        - gender\n",
    "    - does not contain\n",
    "        - all icd9-codes per visit and seq_number (order of code importance)  \n",
    "** diagnoses **\n",
    "   - icd9- codes and seq_num for all visits\n",
    "   \n",
    "##### SEQ_NUM is from DIAGNOSES\n",
    "- SEQ_NUM provides the order in which the ICD diagnoses relate to the patient. ICD diagnoses are ordered by priority - and the order does have an impact on the reimbursement for treatment.\n",
    "- this is relevant for Part 3: Most common Diagnosis\n",
    "    - and Naive Bayes"
   ]
  },
  {
   "cell_type": "code",
   "execution_count": 5,
   "metadata": {
    "collapsed": false,
    "deletable": true,
    "editable": true
   },
   "outputs": [
    {
     "data": {
      "text/html": [
       "<div>\n",
       "<style scoped>\n",
       "    .dataframe tbody tr th:only-of-type {\n",
       "        vertical-align: middle;\n",
       "    }\n",
       "\n",
       "    .dataframe tbody tr th {\n",
       "        vertical-align: top;\n",
       "    }\n",
       "\n",
       "    .dataframe thead th {\n",
       "        text-align: right;\n",
       "    }\n",
       "</style>\n",
       "<table border=\"1\" class=\"dataframe\">\n",
       "  <thead>\n",
       "    <tr style=\"text-align: right;\">\n",
       "      <th></th>\n",
       "      <th>subject_id</th>\n",
       "      <th>gender</th>\n",
       "      <th>dob</th>\n",
       "      <th>dod</th>\n",
       "      <th>expire_flag</th>\n",
       "      <th>row_id</th>\n",
       "      <th>subject_id.1</th>\n",
       "      <th>hadm_id</th>\n",
       "      <th>admittime</th>\n",
       "      <th>dischtime</th>\n",
       "      <th>...</th>\n",
       "      <th>language</th>\n",
       "      <th>religion</th>\n",
       "      <th>marital_status</th>\n",
       "      <th>ethnicity</th>\n",
       "      <th>edregtime</th>\n",
       "      <th>edouttime</th>\n",
       "      <th>diagnosis</th>\n",
       "      <th>hospital_expire_flag</th>\n",
       "      <th>has_ioevents_data</th>\n",
       "      <th>has_chartevents_data</th>\n",
       "    </tr>\n",
       "  </thead>\n",
       "  <tbody>\n",
       "    <tr>\n",
       "      <th>0</th>\n",
       "      <td>30</td>\n",
       "      <td>M</td>\n",
       "      <td>1872-10-14 00:00:00</td>\n",
       "      <td>NaN</td>\n",
       "      <td>0</td>\n",
       "      <td>29</td>\n",
       "      <td>30</td>\n",
       "      <td>104557</td>\n",
       "      <td>2172-10-14 14:17:00</td>\n",
       "      <td>2172-10-19 14:37:00</td>\n",
       "      <td>...</td>\n",
       "      <td>NaN</td>\n",
       "      <td>CATHOLIC</td>\n",
       "      <td>MARRIED</td>\n",
       "      <td>UNKNOWN/NOT SPECIFIED</td>\n",
       "      <td>NaN</td>\n",
       "      <td>NaN</td>\n",
       "      <td>UNSTABLE ANGINA\\CATH</td>\n",
       "      <td>0</td>\n",
       "      <td>1</td>\n",
       "      <td>1</td>\n",
       "    </tr>\n",
       "    <tr>\n",
       "      <th>1</th>\n",
       "      <td>8402</td>\n",
       "      <td>M</td>\n",
       "      <td>2105-06-24 00:00:00</td>\n",
       "      <td>NaN</td>\n",
       "      <td>0</td>\n",
       "      <td>10260</td>\n",
       "      <td>8402</td>\n",
       "      <td>177676</td>\n",
       "      <td>2167-07-31 09:26:00</td>\n",
       "      <td>2167-08-07 14:36:00</td>\n",
       "      <td>...</td>\n",
       "      <td>NaN</td>\n",
       "      <td>CATHOLIC</td>\n",
       "      <td>MARRIED</td>\n",
       "      <td>WHITE</td>\n",
       "      <td>NaN</td>\n",
       "      <td>NaN</td>\n",
       "      <td>CHEST PAIN\\CATH</td>\n",
       "      <td>0</td>\n",
       "      <td>1</td>\n",
       "      <td>1</td>\n",
       "    </tr>\n",
       "  </tbody>\n",
       "</table>\n",
       "<p>2 rows × 25 columns</p>\n",
       "</div>"
      ],
      "text/plain": [
       "   subject_id gender                  dob  dod  expire_flag  row_id  \\\n",
       "0          30      M  1872-10-14 00:00:00  NaN            0      29   \n",
       "1        8402      M  2105-06-24 00:00:00  NaN            0   10260   \n",
       "\n",
       "   subject_id.1  hadm_id            admittime            dischtime  \\\n",
       "0            30   104557  2172-10-14 14:17:00  2172-10-19 14:37:00   \n",
       "1          8402   177676  2167-07-31 09:26:00  2167-08-07 14:36:00   \n",
       "\n",
       "          ...          language  religion marital_status  \\\n",
       "0         ...               NaN  CATHOLIC        MARRIED   \n",
       "1         ...               NaN  CATHOLIC        MARRIED   \n",
       "\n",
       "               ethnicity edregtime edouttime             diagnosis  \\\n",
       "0  UNKNOWN/NOT SPECIFIED       NaN       NaN  UNSTABLE ANGINA\\CATH   \n",
       "1                  WHITE       NaN       NaN       CHEST PAIN\\CATH   \n",
       "\n",
       "  hospital_expire_flag has_ioevents_data has_chartevents_data  \n",
       "0                    0                 1                    1  \n",
       "1                    0                 1                    1  \n",
       "\n",
       "[2 rows x 25 columns]"
      ]
     },
     "execution_count": 5,
     "metadata": {},
     "output_type": "execute_result"
    }
   ],
   "source": [
    "data[:2]"
   ]
  },
  {
   "cell_type": "code",
   "execution_count": 6,
   "metadata": {
    "collapsed": false,
    "deletable": true,
    "editable": true
   },
   "outputs": [
    {
     "data": {
      "text/html": [
       "<div>\n",
       "<style scoped>\n",
       "    .dataframe tbody tr th:only-of-type {\n",
       "        vertical-align: middle;\n",
       "    }\n",
       "\n",
       "    .dataframe tbody tr th {\n",
       "        vertical-align: top;\n",
       "    }\n",
       "\n",
       "    .dataframe thead th {\n",
       "        text-align: right;\n",
       "    }\n",
       "</style>\n",
       "<table border=\"1\" class=\"dataframe\">\n",
       "  <thead>\n",
       "    <tr style=\"text-align: right;\">\n",
       "      <th></th>\n",
       "      <th>hadm_id</th>\n",
       "      <th>subject_id</th>\n",
       "      <th>expire_flag</th>\n",
       "      <th>icd9_code</th>\n",
       "    </tr>\n",
       "  </thead>\n",
       "  <tbody>\n",
       "    <tr>\n",
       "      <th>0</th>\n",
       "      <td>121205</td>\n",
       "      <td>91</td>\n",
       "      <td>1</td>\n",
       "      <td>20008</td>\n",
       "    </tr>\n",
       "    <tr>\n",
       "      <th>1</th>\n",
       "      <td>121205</td>\n",
       "      <td>91</td>\n",
       "      <td>1</td>\n",
       "      <td>2765</td>\n",
       "    </tr>\n",
       "  </tbody>\n",
       "</table>\n",
       "</div>"
      ],
      "text/plain": [
       "   hadm_id  subject_id  expire_flag icd9_code\n",
       "0   121205          91            1     20008\n",
       "1   121205          91            1      2765"
      ]
     },
     "execution_count": 6,
     "metadata": {},
     "output_type": "execute_result"
    }
   ],
   "source": [
    "df_expired[:2]"
   ]
  },
  {
   "cell_type": "code",
   "execution_count": 7,
   "metadata": {
    "collapsed": false,
    "deletable": true,
    "editable": true
   },
   "outputs": [
    {
     "data": {
      "text/html": [
       "<div>\n",
       "<style scoped>\n",
       "    .dataframe tbody tr th:only-of-type {\n",
       "        vertical-align: middle;\n",
       "    }\n",
       "\n",
       "    .dataframe tbody tr th {\n",
       "        vertical-align: top;\n",
       "    }\n",
       "\n",
       "    .dataframe thead th {\n",
       "        text-align: right;\n",
       "    }\n",
       "</style>\n",
       "<table border=\"1\" class=\"dataframe\">\n",
       "  <thead>\n",
       "    <tr style=\"text-align: right;\">\n",
       "      <th></th>\n",
       "      <th>hadm_id</th>\n",
       "      <th>subject_id</th>\n",
       "      <th>expire_flag</th>\n",
       "      <th>icd9_code</th>\n",
       "    </tr>\n",
       "  </thead>\n",
       "  <tbody>\n",
       "    <tr>\n",
       "      <th>0</th>\n",
       "      <td>163353</td>\n",
       "      <td>2</td>\n",
       "      <td>0</td>\n",
       "      <td>V3001</td>\n",
       "    </tr>\n",
       "    <tr>\n",
       "      <th>1</th>\n",
       "      <td>163353</td>\n",
       "      <td>2</td>\n",
       "      <td>0</td>\n",
       "      <td>V053</td>\n",
       "    </tr>\n",
       "    <tr>\n",
       "      <th>2</th>\n",
       "      <td>163353</td>\n",
       "      <td>2</td>\n",
       "      <td>0</td>\n",
       "      <td>V290</td>\n",
       "    </tr>\n",
       "  </tbody>\n",
       "</table>\n",
       "</div>"
      ],
      "text/plain": [
       "   hadm_id  subject_id  expire_flag icd9_code\n",
       "0   163353           2            0     V3001\n",
       "1   163353           2            0      V053\n",
       "2   163353           2            0      V290"
      ]
     },
     "execution_count": 7,
     "metadata": {},
     "output_type": "execute_result"
    }
   ],
   "source": [
    "df_alive[:3]"
   ]
  },
  {
   "cell_type": "code",
   "execution_count": 8,
   "metadata": {
    "collapsed": false,
    "deletable": true,
    "editable": true
   },
   "outputs": [
    {
     "data": {
      "text/html": [
       "<div>\n",
       "<style scoped>\n",
       "    .dataframe tbody tr th:only-of-type {\n",
       "        vertical-align: middle;\n",
       "    }\n",
       "\n",
       "    .dataframe tbody tr th {\n",
       "        vertical-align: top;\n",
       "    }\n",
       "\n",
       "    .dataframe thead th {\n",
       "        text-align: right;\n",
       "    }\n",
       "</style>\n",
       "<table border=\"1\" class=\"dataframe\">\n",
       "  <thead>\n",
       "    <tr style=\"text-align: right;\">\n",
       "      <th></th>\n",
       "      <th>row_id</th>\n",
       "      <th>subject_id</th>\n",
       "      <th>hadm_id</th>\n",
       "      <th>seq_num</th>\n",
       "      <th>icd9_code</th>\n",
       "      <th>row_id.1</th>\n",
       "      <th>icd9_code.1</th>\n",
       "      <th>short_title</th>\n",
       "      <th>long_title</th>\n",
       "    </tr>\n",
       "  </thead>\n",
       "  <tbody>\n",
       "    <tr>\n",
       "      <th>0</th>\n",
       "      <td>243</td>\n",
       "      <td>34</td>\n",
       "      <td>115799</td>\n",
       "      <td>8.0</td>\n",
       "      <td>E8790</td>\n",
       "      <td>13429.0</td>\n",
       "      <td>E8790</td>\n",
       "      <td>Abn react-cardiac cath</td>\n",
       "      <td>Cardiac catheterization as the cause of abnorm...</td>\n",
       "    </tr>\n",
       "    <tr>\n",
       "      <th>1</th>\n",
       "      <td>244</td>\n",
       "      <td>34</td>\n",
       "      <td>144319</td>\n",
       "      <td>1.0</td>\n",
       "      <td>42789</td>\n",
       "      <td>4471.0</td>\n",
       "      <td>42789</td>\n",
       "      <td>Cardiac dysrhythmias NEC</td>\n",
       "      <td>Other specified cardiac dysrhythmias</td>\n",
       "    </tr>\n",
       "  </tbody>\n",
       "</table>\n",
       "</div>"
      ],
      "text/plain": [
       "   row_id  subject_id  hadm_id  seq_num icd9_code  row_id.1 icd9_code.1  \\\n",
       "0     243          34   115799      8.0     E8790   13429.0       E8790   \n",
       "1     244          34   144319      1.0     42789    4471.0       42789   \n",
       "\n",
       "                short_title                                         long_title  \n",
       "0    Abn react-cardiac cath  Cardiac catheterization as the cause of abnorm...  \n",
       "1  Cardiac dysrhythmias NEC               Other specified cardiac dysrhythmias  "
      ]
     },
     "execution_count": 8,
     "metadata": {},
     "output_type": "execute_result"
    }
   ],
   "source": [
    "diagnoses[:2]"
   ]
  },
  {
   "cell_type": "code",
   "execution_count": 9,
   "metadata": {
    "collapsed": false,
    "deletable": true,
    "editable": true
   },
   "outputs": [
    {
     "data": {
      "text/html": [
       "<div>\n",
       "<style scoped>\n",
       "    .dataframe tbody tr th:only-of-type {\n",
       "        vertical-align: middle;\n",
       "    }\n",
       "\n",
       "    .dataframe tbody tr th {\n",
       "        vertical-align: top;\n",
       "    }\n",
       "\n",
       "    .dataframe thead th {\n",
       "        text-align: right;\n",
       "    }\n",
       "</style>\n",
       "<table border=\"1\" class=\"dataframe\">\n",
       "  <thead>\n",
       "    <tr style=\"text-align: right;\">\n",
       "      <th></th>\n",
       "      <th>row_id</th>\n",
       "      <th>icd9_code</th>\n",
       "      <th>short_title</th>\n",
       "      <th>long_title</th>\n",
       "    </tr>\n",
       "  </thead>\n",
       "  <tbody>\n",
       "    <tr>\n",
       "      <th>0</th>\n",
       "      <td>86</td>\n",
       "      <td>64</td>\n",
       "      <td>Perc ins extracran stent</td>\n",
       "      <td>Percutaneous insertion of other extracranial a...</td>\n",
       "    </tr>\n",
       "    <tr>\n",
       "      <th>1</th>\n",
       "      <td>87</td>\n",
       "      <td>65</td>\n",
       "      <td>Perc ins intracran stent</td>\n",
       "      <td>Percutaneous insertion of intracranial vascula...</td>\n",
       "    </tr>\n",
       "    <tr>\n",
       "      <th>2</th>\n",
       "      <td>88</td>\n",
       "      <td>66</td>\n",
       "      <td>PTCA</td>\n",
       "      <td>Percutaneous transluminal coronary angioplasty...</td>\n",
       "    </tr>\n",
       "  </tbody>\n",
       "</table>\n",
       "</div>"
      ],
      "text/plain": [
       "   row_id  icd9_code               short_title  \\\n",
       "0      86         64  Perc ins extracran stent   \n",
       "1      87         65  Perc ins intracran stent   \n",
       "2      88         66                      PTCA   \n",
       "\n",
       "                                          long_title  \n",
       "0  Percutaneous insertion of other extracranial a...  \n",
       "1  Percutaneous insertion of intracranial vascula...  \n",
       "2  Percutaneous transluminal coronary angioplasty...  "
      ]
     },
     "execution_count": 9,
     "metadata": {},
     "output_type": "execute_result"
    }
   ],
   "source": [
    "procedures[:3]"
   ]
  },
  {
   "cell_type": "code",
   "execution_count": 11,
   "metadata": {
    "collapsed": false,
    "deletable": true,
    "editable": true
   },
   "outputs": [
    {
     "name": "stdout",
     "output_type": "stream",
     "text": [
      " all hospital visits in data \t 58976\n",
      " all hospital visits in diagnoses \t 58976\n",
      " \t codes \t\n",
      "all codes in procedures  3809\n",
      "all codes in diagnoses \t 6985\n",
      "all codes in df_alive \t 6423\n",
      "all codes in df_expired  4824\n"
     ]
    }
   ],
   "source": [
    "print (\" all hospital visits in data \\t\", len(data['hadm_id'].unique()))\n",
    "print ( \" all hospital visits in diagnoses \\t\",len(diagnoses['hadm_id'].unique()))\n",
    "print ( \" \\t codes \\t\")\n",
    "print (\"all codes in procedures \" ,len(procedures['icd9_code'].unique()))\n",
    "print (\"all codes in diagnoses \\t\" ,len(diagnoses['icd9_code'].unique()))\n",
    "print (\"all codes in df_alive \\t\" ,len(df_alive['icd9_code'].unique()))\n",
    "print (\"all codes in df_expired \" ,len(df_expired['icd9_code'].unique()))"
   ]
  },
  {
   "cell_type": "markdown",
   "metadata": {
    "deletable": true,
    "editable": true
   },
   "source": [
    "# Create a table of diagnosis key:\n",
    "to be used in the model notebook"
   ]
  },
  {
   "cell_type": "code",
   "execution_count": 12,
   "metadata": {
    "collapsed": false,
    "deletable": true,
    "editable": true
   },
   "outputs": [],
   "source": [
    "colz = ['icd9_code', 'short_title', 'long_title']\n",
    "\n",
    "diagnoses_key = diagnoses.groupby('icd9_code').first().reset_index()\n",
    "\n",
    "diagnoses_key=diagnoses_key[colz]\n",
    "\n",
    "#diagnoses_key.to_csv('diagnoses_key.csv', index=None)"
   ]
  },
  {
   "cell_type": "code",
   "execution_count": 13,
   "metadata": {
    "collapsed": false,
    "deletable": true,
    "editable": true
   },
   "outputs": [],
   "source": [
    "#diagnoses_key"
   ]
  },
  {
   "cell_type": "code",
   "execution_count": 14,
   "metadata": {
    "collapsed": false,
    "deletable": true,
    "editable": true
   },
   "outputs": [
    {
     "name": "stdout",
     "output_type": "stream",
     "text": [
      "6984\n"
     ]
    },
    {
     "data": {
      "text/html": [
       "<div>\n",
       "<style scoped>\n",
       "    .dataframe tbody tr th:only-of-type {\n",
       "        vertical-align: middle;\n",
       "    }\n",
       "\n",
       "    .dataframe tbody tr th {\n",
       "        vertical-align: top;\n",
       "    }\n",
       "\n",
       "    .dataframe thead th {\n",
       "        text-align: right;\n",
       "    }\n",
       "</style>\n",
       "<table border=\"1\" class=\"dataframe\">\n",
       "  <thead>\n",
       "    <tr style=\"text-align: right;\">\n",
       "      <th></th>\n",
       "      <th>icd9_code</th>\n",
       "      <th>short_title</th>\n",
       "      <th>long_title</th>\n",
       "    </tr>\n",
       "  </thead>\n",
       "  <tbody>\n",
       "    <tr>\n",
       "      <th>6775</th>\n",
       "      <td>V4578</td>\n",
       "      <td>Acquired absence of eye</td>\n",
       "      <td>Acquired absence of organ, eye</td>\n",
       "    </tr>\n",
       "  </tbody>\n",
       "</table>\n",
       "</div>"
      ],
      "text/plain": [
       "     icd9_code              short_title                      long_title\n",
       "6775     V4578  Acquired absence of eye  Acquired absence of organ, eye"
      ]
     },
     "execution_count": 14,
     "metadata": {},
     "output_type": "execute_result"
    }
   ],
   "source": [
    "print (len(diagnoses_key))\n",
    "diagnoses_key[diagnoses_key['icd9_code']== 'V4578']"
   ]
  },
  {
   "cell_type": "code",
   "execution_count": 14,
   "metadata": {
    "collapsed": false,
    "deletable": true,
    "editable": true
   },
   "outputs": [],
   "source": [
    "## diagnoses.groupby('hadm_id').count() # returns DF with number codes per visit\n",
    "## diagnoses.groupby('')"
   ]
  },
  {
   "cell_type": "markdown",
   "metadata": {
    "deletable": true,
    "editable": true
   },
   "source": [
    " # Part 1:  Answering a few basic stats\n",
    "\n",
    "#### regarding data frames\n",
    "\n",
    "the goal is to obtain a dataframe of admissions with both expired flag [ survived/expired ] and also obtain an idea of what are the most common icd9 codes\n",
    "\n",
    "+ ** admit_1.csv ** used to get # admissions + expire_flag\n",
    "+ ** icd9_expire.csv ** to find the most common icd9 codes\n",
    "\n",
    "** ** ** \n",
    "     # How many unique codes for fatal cases?  4824\n",
    "     #How many unique codes for survived cases? 6423\n",
    "    **"
   ]
  },
  {
   "cell_type": "code",
   "execution_count": 15,
   "metadata": {
    "collapsed": false,
    "deletable": true,
    "editable": true
   },
   "outputs": [
    {
     "data": {
      "text/plain": [
       "4824"
      ]
     },
     "execution_count": 15,
     "metadata": {},
     "output_type": "execute_result"
    }
   ],
   "source": [
    "# How many unique codes for fatal cases? \n",
    "len(df_expired.icd9_code.unique())"
   ]
  },
  {
   "cell_type": "code",
   "execution_count": 16,
   "metadata": {
    "collapsed": false,
    "deletable": true,
    "editable": true
   },
   "outputs": [
    {
     "data": {
      "text/plain": [
       "6423"
      ]
     },
     "execution_count": 16,
     "metadata": {},
     "output_type": "execute_result"
    }
   ],
   "source": [
    "#How many unique codes for survived cases? \n",
    "len(df_alive.icd9_code.unique())"
   ]
  },
  {
   "cell_type": "code",
   "execution_count": 17,
   "metadata": {
    "collapsed": false,
    "deletable": true,
    "editable": true
   },
   "outputs": [
    {
     "name": "stdout",
     "output_type": "stream",
     "text": [
      "<class 'pandas.core.frame.DataFrame'>\n",
      "RangeIndex: 651047 entries, 0 to 651046\n",
      "Data columns (total 9 columns):\n",
      "row_id         651047 non-null int64\n",
      "subject_id     651047 non-null int64\n",
      "hadm_id        651047 non-null int64\n",
      "seq_num        651000 non-null float64\n",
      "icd9_code      651000 non-null object\n",
      "row_id.1       634709 non-null float64\n",
      "icd9_code.1    634709 non-null object\n",
      "short_title    634709 non-null object\n",
      "long_title     634709 non-null object\n",
      "dtypes: float64(2), int64(3), object(4)\n",
      "memory usage: 44.7+ MB\n"
     ]
    },
    {
     "data": {
      "text/plain": [
       "6985"
      ]
     },
     "execution_count": 17,
     "metadata": {},
     "output_type": "execute_result"
    }
   ],
   "source": [
    "# info on the data types in diagnoses\n",
    "diagnoses.info()\n",
    "# How many unique codes present in diagnoses? \n",
    "len(diagnoses.icd9_code.unique())"
   ]
  },
  {
   "cell_type": "code",
   "execution_count": 18,
   "metadata": {
    "collapsed": false,
    "deletable": true,
    "editable": true
   },
   "outputs": [
    {
     "name": "stdout",
     "output_type": "stream",
     "text": [
      "<class 'pandas.core.frame.DataFrame'>\n",
      "RangeIndex: 719641 entries, 0 to 719640\n",
      "Data columns (total 4 columns):\n",
      "hadm_id        719641 non-null int64\n",
      "subject_id     719641 non-null int64\n",
      "expire_flag    719641 non-null int64\n",
      "icd9_code      719552 non-null object\n",
      "dtypes: int64(3), object(1)\n",
      "memory usage: 22.0+ MB\n"
     ]
    }
   ],
   "source": [
    "df_expired.info()"
   ]
  },
  {
   "cell_type": "markdown",
   "metadata": {
    "deletable": true,
    "editable": true
   },
   "source": [
    "##### adjust age \n",
    "due to anonymization lots of ages are set at much smaller than 0; these are actually really old people, set all these ages to 90"
   ]
  },
  {
   "cell_type": "code",
   "execution_count": 19,
   "metadata": {
    "collapsed": false,
    "deletable": true,
    "editable": true
   },
   "outputs": [
    {
     "data": {
      "image/png": "[encoded data removed]",
      "text/plain": [
       "<matplotlib.figure.Figure at 0x112d45cd0>"
      ]
     },
     "metadata": {},
     "output_type": "display_data"
    }
   ],
   "source": [
    "######### ADD AGE \n",
    "# Age, the -285 is over 90\n",
    "# ('<m8[Y]') is a dtype, that rounds up the years\n",
    "\n",
    "data['age'] = (pd.to_datetime(data.admittime) - pd.to_datetime(data.dob )\n",
    "              ).astype('<m8[Y]')\n",
    "\n",
    "data['age'].hist(figsize=(4,4));\n",
    "\n",
    "#### SET ALL SMALLER THAN 0 AGES TO 90\n",
    "data.loc[ (data.age < 0),'age']  = 90.0"
   ]
  },
  {
   "cell_type": "code",
   "execution_count": 20,
   "metadata": {
    "collapsed": false,
    "deletable": true,
    "editable": true
   },
   "outputs": [
    {
     "data": {
      "image/png": "[encoded data removed]",
      "text/plain": [
       "<matplotlib.figure.Figure at 0x112ba30d0>"
      ]
     },
     "metadata": {},
     "output_type": "display_data"
    }
   ],
   "source": [
    "data['age'].hist(figsize=(4,4))\n",
    "plt.title('after age adjustment');"
   ]
  },
  {
   "cell_type": "code",
   "execution_count": 21,
   "metadata": {
    "collapsed": false,
    "deletable": true,
    "editable": true
   },
   "outputs": [],
   "source": [
    "# dob year\n",
    "data['year']=  pd.DatetimeIndex(data['dob']).year"
   ]
  },
  {
   "cell_type": "code",
   "execution_count": 22,
   "metadata": {
    "collapsed": false,
    "deletable": true,
    "editable": true
   },
   "outputs": [],
   "source": [
    "#pd.to_datetime(data.dob)\n",
    "#.apply(lambda x: x.strftime('%B-%Y'))  #.astype('<m8[Y]')"
   ]
  },
  {
   "cell_type": "code",
   "execution_count": 23,
   "metadata": {
    "collapsed": false,
    "deletable": true,
    "editable": true
   },
   "outputs": [
    {
     "data": {
      "text/plain": [
       "Index([u'subject_id', u'gender', u'dob', u'dod', u'expire_flag', u'row_id',\n",
       "       u'subject_id.1', u'hadm_id', u'admittime', u'dischtime', u'deathtime',\n",
       "       u'admission_type', u'admission_location', u'discharge_location',\n",
       "       u'insurance', u'language', u'religion', u'marital_status', u'ethnicity',\n",
       "       u'edregtime', u'edouttime', u'diagnosis', u'hospital_expire_flag',\n",
       "       u'has_ioevents_data', u'has_chartevents_data', u'age', u'year'],\n",
       "      dtype='object')"
      ]
     },
     "execution_count": 23,
     "metadata": {},
     "output_type": "execute_result"
    }
   ],
   "source": [
    "data.columns"
   ]
  },
  {
   "cell_type": "markdown",
   "metadata": {
    "deletable": true,
    "editable": true
   },
   "source": [
    "# Part2: Visualization,  Histograms \n",
    "\n",
    "breakdown data by age, gender, and the expire flag and look at what the distribution looks like \n",
    "\n",
    "    ** Number of survived/fatal cases by age\n",
    "    ** Number of survived/fatal cases by gender\n",
    "        ** CHECK MORTALITY DISTRIBUTION BY % (GENDER) "
   ]
  },
  {
   "cell_type": "code",
   "execution_count": 24,
   "metadata": {
    "collapsed": false,
    "deletable": true,
    "editable": true
   },
   "outputs": [
    {
     "data": {
      "text/html": [
       "<div>\n",
       "<style scoped>\n",
       "    .dataframe tbody tr th:only-of-type {\n",
       "        vertical-align: middle;\n",
       "    }\n",
       "\n",
       "    .dataframe tbody tr th {\n",
       "        vertical-align: top;\n",
       "    }\n",
       "\n",
       "    .dataframe thead th {\n",
       "        text-align: right;\n",
       "    }\n",
       "</style>\n",
       "<table border=\"1\" class=\"dataframe\">\n",
       "  <thead>\n",
       "    <tr style=\"text-align: right;\">\n",
       "      <th></th>\n",
       "      <th>subject_id</th>\n",
       "      <th>gender</th>\n",
       "      <th>dob</th>\n",
       "      <th>dod</th>\n",
       "      <th>expire_flag</th>\n",
       "      <th>row_id</th>\n",
       "      <th>subject_id.1</th>\n",
       "      <th>hadm_id</th>\n",
       "      <th>admittime</th>\n",
       "      <th>dischtime</th>\n",
       "      <th>...</th>\n",
       "      <th>marital_status</th>\n",
       "      <th>ethnicity</th>\n",
       "      <th>edregtime</th>\n",
       "      <th>edouttime</th>\n",
       "      <th>diagnosis</th>\n",
       "      <th>hospital_expire_flag</th>\n",
       "      <th>has_ioevents_data</th>\n",
       "      <th>has_chartevents_data</th>\n",
       "      <th>age</th>\n",
       "      <th>year</th>\n",
       "    </tr>\n",
       "  </thead>\n",
       "  <tbody>\n",
       "    <tr>\n",
       "      <th>55</th>\n",
       "      <td>16414</td>\n",
       "      <td>F</td>\n",
       "      <td>2180-02-21 00:00:00</td>\n",
       "      <td>NaN</td>\n",
       "      <td>0</td>\n",
       "      <td>20044</td>\n",
       "      <td>16414</td>\n",
       "      <td>142208</td>\n",
       "      <td>2180-03-03 12:34:00</td>\n",
       "      <td>2180-03-05 12:45:00</td>\n",
       "      <td>...</td>\n",
       "      <td>NaN</td>\n",
       "      <td>ASIAN</td>\n",
       "      <td>NaN</td>\n",
       "      <td>NaN</td>\n",
       "      <td>HYPERBILIRUBIMIA</td>\n",
       "      <td>0</td>\n",
       "      <td>1</td>\n",
       "      <td>1</td>\n",
       "      <td>0.0</td>\n",
       "      <td>2180</td>\n",
       "    </tr>\n",
       "    <tr>\n",
       "      <th>65</th>\n",
       "      <td>15593</td>\n",
       "      <td>F</td>\n",
       "      <td>2143-01-27 00:00:00</td>\n",
       "      <td>NaN</td>\n",
       "      <td>0</td>\n",
       "      <td>19041</td>\n",
       "      <td>15593</td>\n",
       "      <td>150263</td>\n",
       "      <td>2143-02-01 17:39:00</td>\n",
       "      <td>2143-02-04 13:16:00</td>\n",
       "      <td>...</td>\n",
       "      <td>NaN</td>\n",
       "      <td>WHITE</td>\n",
       "      <td>NaN</td>\n",
       "      <td>NaN</td>\n",
       "      <td>HYPERBILIRUBINEMIA</td>\n",
       "      <td>0</td>\n",
       "      <td>1</td>\n",
       "      <td>1</td>\n",
       "      <td>0.0</td>\n",
       "      <td>2143</td>\n",
       "    </tr>\n",
       "    <tr>\n",
       "      <th>153</th>\n",
       "      <td>14258</td>\n",
       "      <td>M</td>\n",
       "      <td>2136-02-03 00:00:00</td>\n",
       "      <td>NaN</td>\n",
       "      <td>0</td>\n",
       "      <td>17464</td>\n",
       "      <td>14258</td>\n",
       "      <td>109672</td>\n",
       "      <td>2136-02-03 20:37:00</td>\n",
       "      <td>2136-02-09 18:57:00</td>\n",
       "      <td>...</td>\n",
       "      <td>SINGLE</td>\n",
       "      <td>UNKNOWN/NOT SPECIFIED</td>\n",
       "      <td>NaN</td>\n",
       "      <td>NaN</td>\n",
       "      <td>PREMATURITY</td>\n",
       "      <td>0</td>\n",
       "      <td>1</td>\n",
       "      <td>1</td>\n",
       "      <td>0.0</td>\n",
       "      <td>2136</td>\n",
       "    </tr>\n",
       "  </tbody>\n",
       "</table>\n",
       "<p>3 rows × 27 columns</p>\n",
       "</div>"
      ],
      "text/plain": [
       "     subject_id gender                  dob  dod  expire_flag  row_id  \\\n",
       "55        16414      F  2180-02-21 00:00:00  NaN            0   20044   \n",
       "65        15593      F  2143-01-27 00:00:00  NaN            0   19041   \n",
       "153       14258      M  2136-02-03 00:00:00  NaN            0   17464   \n",
       "\n",
       "     subject_id.1  hadm_id            admittime            dischtime  ...   \\\n",
       "55          16414   142208  2180-03-03 12:34:00  2180-03-05 12:45:00  ...    \n",
       "65          15593   150263  2143-02-01 17:39:00  2143-02-04 13:16:00  ...    \n",
       "153         14258   109672  2136-02-03 20:37:00  2136-02-09 18:57:00  ...    \n",
       "\n",
       "    marital_status              ethnicity edregtime edouttime  \\\n",
       "55             NaN                  ASIAN       NaN       NaN   \n",
       "65             NaN                  WHITE       NaN       NaN   \n",
       "153         SINGLE  UNKNOWN/NOT SPECIFIED       NaN       NaN   \n",
       "\n",
       "              diagnosis hospital_expire_flag has_ioevents_data  \\\n",
       "55     HYPERBILIRUBIMIA                    0                 1   \n",
       "65   HYPERBILIRUBINEMIA                    0                 1   \n",
       "153         PREMATURITY                    0                 1   \n",
       "\n",
       "    has_chartevents_data  age  year  \n",
       "55                     1  0.0  2180  \n",
       "65                     1  0.0  2143  \n",
       "153                    1  0.0  2136  \n",
       "\n",
       "[3 rows x 27 columns]"
      ]
     },
     "execution_count": 24,
     "metadata": {},
     "output_type": "execute_result"
    }
   ],
   "source": [
    "#data.loc[(data['expire_flag']==0), 'age']\n",
    "data[data['age']<10.0][:3]"
   ]
  },
  {
   "cell_type": "code",
   "execution_count": 25,
   "metadata": {
    "collapsed": false,
    "deletable": true,
    "editable": true
   },
   "outputs": [],
   "source": [
    "## Create series for adolescent and adult patients (no children under 10)\n",
    "fatal_series = data.loc[(data['expire_flag']==1),'age' ]\n",
    "fatal_series = fatal_series[fatal_series>10]\n",
    "\n",
    "survive_series = data.loc[(data['expire_flag']==0),'age' ]\n",
    "survive_series = survive_series[survive_series>10]"
   ]
  },
  {
   "cell_type": "code",
   "execution_count": 26,
   "metadata": {
    "collapsed": false,
    "deletable": true,
    "editable": true
   },
   "outputs": [
    {
     "data": {
      "image/png": "[encoded data removed]",
      "text/plain": [
       "<matplotlib.figure.Figure at 0x111ed6ad0>"
      ]
     },
     "metadata": {},
     "output_type": "display_data"
    }
   ],
   "source": [
    "## choose and savewhichever style works better\n",
    "#plt.style.use('bmh')\n",
    "plt.style.use('fivethirtyeight')\n",
    "plt.figure(figsize = (5,5))\n",
    "plt.hist(survive_series, bins=20, alpha=0.7, label='survived') #color='purple',\n",
    "plt.hist(fatal_series, bins=30,alpha=0.5, label = 'fatal')\n",
    "\n",
    "plt.title('Distribution of age', fontsize=14)\n",
    "plt.legend(fontsize=10)\n",
    "plt.xlabel('Age of patient')\n",
    "plt.ylabel('Number of cases');\n",
    "#plt.savefig('Age_dist')"
   ]
  },
  {
   "cell_type": "code",
   "execution_count": 27,
   "metadata": {
    "collapsed": false,
    "deletable": true,
    "editable": true
   },
   "outputs": [
    {
     "data": {
      "image/png": "[encoded data removed]",
      "text/plain": [
       "<matplotlib.figure.Figure at 0x112bac090>"
      ]
     },
     "metadata": {},
     "output_type": "display_data"
    }
   ],
   "source": [
    "plt.style.use('bmh')\n",
    "plt.figure(figsize = (5,5))\n",
    "plt.hist(survive_series, bins=20, alpha=0.5, label='survived') #color='purple',\n",
    "plt.hist(fatal_series, bins=30,alpha=0.5, label = 'fatal')\n",
    "plt.title('Distribution of age', fontsize=14)\n",
    "plt.legend(fontsize=12); plt.xlabel('Age of patient'); plt.ylabel('Number of cases');\n",
    "#plt.savefig('Age_dist')"
   ]
  },
  {
   "cell_type": "code",
   "execution_count": null,
   "metadata": {
    "collapsed": false,
    "deletable": true,
    "editable": true
   },
   "outputs": [],
   "source": []
  },
  {
   "cell_type": "code",
   "execution_count": 28,
   "metadata": {
    "collapsed": false,
    "deletable": true,
    "editable": true
   },
   "outputs": [
    {
     "data": {
      "image/png": "[encoded data removed]",
      "text/plain": [
       "<matplotlib.figure.Figure at 0x112328750>"
      ]
     },
     "metadata": {},
     "output_type": "display_data"
    }
   ],
   "source": [
    "# 0-M, 1-F\n",
    "plt.style.use('fivethirtyeight')\n",
    "g_0 = data.loc[(data['expire_flag']==0),'gender' ].value_counts() # survived M/F\n",
    "g_1 = data.loc[(data['expire_flag']==1),'gender' ].value_counts() # fatal M/F\n",
    "\n",
    "plt.figure(figsize = (4,4))\n",
    "x = np.arange(0,2)\n",
    "wid = 0.4\n",
    "\n",
    "plt.bar(x+0.2, g_0, wid, alpha=0.6, label='Male',color='grey',)#  'male'\n",
    "plt.bar(x+ 0.4, g_1, wid,alpha=0.7, label = 'Female', color='chocolate') # 'female'\n",
    "plt.xticks(x+0.5, ['Survived', 'Fatal'])\n",
    "plt.title('Mortality Ratios in ICU: gender', fontsize=14)\n",
    "plt.tight_layout()  #plt.savefig('gender')\n",
    "plt.legend(fontsize=10);"
   ]
  },
  {
   "cell_type": "markdown",
   "metadata": {
    "deletable": true,
    "editable": true
   },
   "source": [
    "more males than females were admitted; Plot expire_flag (0:1) as a **percentage** of all admitted broken down by gender"
   ]
  },
  {
   "cell_type": "code",
   "execution_count": 29,
   "metadata": {
    "collapsed": false,
    "deletable": true,
    "editable": true
   },
   "outputs": [
    {
     "data": {
      "text/html": [
       "<div>\n",
       "<style scoped>\n",
       "    .dataframe tbody tr th:only-of-type {\n",
       "        vertical-align: middle;\n",
       "    }\n",
       "\n",
       "    .dataframe tbody tr th {\n",
       "        vertical-align: top;\n",
       "    }\n",
       "\n",
       "    .dataframe thead th {\n",
       "        text-align: right;\n",
       "    }\n",
       "</style>\n",
       "<table border=\"1\" class=\"dataframe\">\n",
       "  <thead>\n",
       "    <tr style=\"text-align: right;\">\n",
       "      <th></th>\n",
       "      <th>expire_flag</th>\n",
       "    </tr>\n",
       "  </thead>\n",
       "  <tbody>\n",
       "    <tr>\n",
       "      <th>0</th>\n",
       "      <td>20600</td>\n",
       "    </tr>\n",
       "    <tr>\n",
       "      <th>1</th>\n",
       "      <td>12350</td>\n",
       "    </tr>\n",
       "  </tbody>\n",
       "</table>\n",
       "</div>"
      ],
      "text/plain": [
       "   expire_flag\n",
       "0        20600\n",
       "1        12350"
      ]
     },
     "execution_count": 29,
     "metadata": {},
     "output_type": "execute_result"
    }
   ],
   "source": [
    "pd.DataFrame(data.loc[(data['gender']=='M'),'expire_flag' ].value_counts() )"
   ]
  },
  {
   "cell_type": "code",
   "execution_count": 30,
   "metadata": {
    "collapsed": false,
    "deletable": true,
    "editable": true
   },
   "outputs": [],
   "source": [
    "#m_0 = m_0.rename(columns={'expire_flag':'count'}).reset_index()\n",
    "#m_0.rename(columns={'index':'expire_flag'},inplace=True)"
   ]
  },
  {
   "cell_type": "code",
   "execution_count": 31,
   "metadata": {
    "collapsed": false,
    "deletable": true,
    "editable": true
   },
   "outputs": [
    {
     "name": "stderr",
     "output_type": "stream",
     "text": [
      "/Users/billierolih/anaconda/lib/python2.7/site-packages/pandas/core/computation/check.py:17: UserWarning: The installed version of numexpr 2.4.3 is not supported in pandas and will be not be used\n",
      "The minimum supported version is 2.4.6\n",
      "\n",
      "  ver=ver, min_ver=_MIN_NUMEXPR_VERSION), UserWarning)\n"
     ]
    }
   ],
   "source": [
    "m_0 = pd.DataFrame(data.loc[(data['gender']=='M'),'expire_flag' ].value_counts()) # survived M/F\n",
    "f_0 = pd.DataFrame(data.loc[(data['gender']=='F'),'expire_flag' ].value_counts()) # fatal M/F\n",
    "\n",
    "m_0['gender'] = 'M'\n",
    "f_0['gender'] = 'F'\n",
    "m_0['expire_percent'] = (m_0['expire_flag'].div(m_0.expire_flag.sum())*100).apply(lambda x: round(x,2))\n",
    "f_0['expire_percent'] = (f_0['expire_flag'].div(f_0.expire_flag.sum())*100).apply(lambda x: round(x,2))\n",
    "# expire flag and count columns\n",
    "m_0 = m_0.rename(columns={'expire_flag':'count'}).reset_index()\n",
    "m_0.rename(columns={'index':'expire_flag'},inplace=True)\n",
    "f_0 = f_0.rename(columns={'expire_flag':'count'}).reset_index()\n",
    "f_0.rename(columns={'index':'expire_flag'},inplace=True)\n",
    "\n",
    "gender_frames = pd.concat([m_0,f_0])"
   ]
  },
  {
   "cell_type": "code",
   "execution_count": 32,
   "metadata": {
    "collapsed": true,
    "deletable": true,
    "editable": true
   },
   "outputs": [],
   "source": [
    "expire = [\"survived\", \"fatal\"]\n",
    "n_g = ['0','1']\n",
    "gender_frames['expire_flag'] = gender_frames['expire_flag'].astype(str)\n",
    "gender_frames.expire_flag.replace(n_g,expire, inplace=True)"
   ]
  },
  {
   "cell_type": "code",
   "execution_count": 33,
   "metadata": {
    "collapsed": false,
    "deletable": true,
    "editable": true
   },
   "outputs": [
    {
     "data": {
      "text/html": [
       "<div>\n",
       "<style scoped>\n",
       "    .dataframe tbody tr th:only-of-type {\n",
       "        vertical-align: middle;\n",
       "    }\n",
       "\n",
       "    .dataframe tbody tr th {\n",
       "        vertical-align: top;\n",
       "    }\n",
       "\n",
       "    .dataframe thead th {\n",
       "        text-align: right;\n",
       "    }\n",
       "</style>\n",
       "<table border=\"1\" class=\"dataframe\">\n",
       "  <thead>\n",
       "    <tr style=\"text-align: right;\">\n",
       "      <th></th>\n",
       "      <th>expire_flag</th>\n",
       "      <th>count</th>\n",
       "      <th>gender</th>\n",
       "      <th>expire_percent</th>\n",
       "    </tr>\n",
       "  </thead>\n",
       "  <tbody>\n",
       "    <tr>\n",
       "      <th>0</th>\n",
       "      <td>survived</td>\n",
       "      <td>20600</td>\n",
       "      <td>M</td>\n",
       "      <td>62.52</td>\n",
       "    </tr>\n",
       "    <tr>\n",
       "      <th>1</th>\n",
       "      <td>fatal</td>\n",
       "      <td>12350</td>\n",
       "      <td>M</td>\n",
       "      <td>37.48</td>\n",
       "    </tr>\n",
       "    <tr>\n",
       "      <th>0</th>\n",
       "      <td>survived</td>\n",
       "      <td>15790</td>\n",
       "      <td>F</td>\n",
       "      <td>60.67</td>\n",
       "    </tr>\n",
       "    <tr>\n",
       "      <th>1</th>\n",
       "      <td>fatal</td>\n",
       "      <td>10236</td>\n",
       "      <td>F</td>\n",
       "      <td>39.33</td>\n",
       "    </tr>\n",
       "  </tbody>\n",
       "</table>\n",
       "</div>"
      ],
      "text/plain": [
       "  expire_flag  count gender  expire_percent\n",
       "0    survived  20600      M           62.52\n",
       "1       fatal  12350      M           37.48\n",
       "0    survived  15790      F           60.67\n",
       "1       fatal  10236      F           39.33"
      ]
     },
     "execution_count": 33,
     "metadata": {},
     "output_type": "execute_result"
    }
   ],
   "source": [
    "gender_frames"
   ]
  },
  {
   "cell_type": "markdown",
   "metadata": {
    "deletable": true,
    "editable": true
   },
   "source": [
    "#### Part 2b. :  Hospital admits more men, what is the survival rate by gender? "
   ]
  },
  {
   "cell_type": "code",
   "execution_count": 34,
   "metadata": {
    "collapsed": false,
    "deletable": true,
    "editable": true
   },
   "outputs": [
    {
     "data": {
      "image/png": "[encoded data removed]",
      "text/plain": [
       "<matplotlib.figure.Figure at 0x112c25650>"
      ]
     },
     "metadata": {},
     "output_type": "display_data"
    }
   ],
   "source": [
    "plt.figure(figsize=(7,4))\n",
    "ax = sns.barplot(x=\"expire_percent\", y=\"gender\", hue=\"expire_flag\",data=gender_frames)\n",
    "ax.legend(fontsize=10, loc=4)\n",
    "ax.set_title(\"% Breakdown of survival, by gender \",fontsize = 14 )\n",
    "# ax.text (gender_frames.expire_percent)\n",
    "for p in ax.patches:\n",
    "    width = p.get_width()\n",
    "    ax.text(width - 5, #+p.get_height()/2.,\n",
    "            p.get_y()+p.get_height()/2 +0.1,\n",
    "            '{:1.2f}%'.format(width),#width/total),\n",
    "            ha=\"center\");\n",
    "#show()\n",
    "#plt.savefig('survival_by_gender');"
   ]
  },
  {
   "cell_type": "markdown",
   "metadata": {
    "collapsed": false,
    "deletable": true,
    "editable": true
   },
   "source": []
  },
  {
   "cell_type": "code",
   "execution_count": 35,
   "metadata": {
    "collapsed": false,
    "deletable": true,
    "editable": true
   },
   "outputs": [
    {
     "name": "stdout",
     "output_type": "stream",
     "text": [
      " Number of male admissions  32950\n",
      " Number of female admissions  26026\n",
      " difference 6924\n",
      "% of total 11.74\n"
     ]
    }
   ],
   "source": [
    "ma = gender_frames[gender_frames.gender=='M']['count'].sum() \n",
    "fa =gender_frames[gender_frames.gender=='F']['count'].sum() \n",
    "print(\" Number of male admissions \", ma)\n",
    "print(\" Number of female admissions \",fa )\n",
    "print (\" difference\", ma - fa)\n",
    "print (\"% of total\", round((ma-fa)/(ma+fa)*100, 2))"
   ]
  },
  {
   "cell_type": "markdown",
   "metadata": {
    "deletable": true,
    "editable": true
   },
   "source": [
    "The hospital admits more men (almost 7000, about 12% more) but observes 2% higher fatalities in women.\n",
    "\n",
    "Is this statistically significant? \n",
    "\n",
    "### I think we wanna do a Chi-square test here** .\n",
    "\n",
    "**T-test** \n",
    "A t-test is a statistical test that can help us estimate whether the difference in a numerical measure between two groups is reliable. \n",
    "\n",
    "###### Chi-Test Null hypothesis\n",
    "    there is no difference in fatal cases in the categorical value \"gender\" i.e. that the observed and expected frequencies are the same."
   ]
  },
  {
   "cell_type": "code",
   "execution_count": 36,
   "metadata": {
    "collapsed": true,
    "deletable": true,
    "editable": true
   },
   "outputs": [],
   "source": [
    "from scipy.stats import chi2_contingency\n",
    "from scipy.stats import chi2\n",
    "from scipy.stats import chisquare\n",
    "# interpret test-statistic\n",
    "prob = 0.95"
   ]
  },
  {
   "cell_type": "code",
   "execution_count": 37,
   "metadata": {
    "collapsed": false,
    "deletable": true,
    "editable": true
   },
   "outputs": [
    {
     "data": {
      "text/html": [
       "<div>\n",
       "<style scoped>\n",
       "    .dataframe tbody tr th:only-of-type {\n",
       "        vertical-align: middle;\n",
       "    }\n",
       "\n",
       "    .dataframe tbody tr th {\n",
       "        vertical-align: top;\n",
       "    }\n",
       "\n",
       "    .dataframe thead th {\n",
       "        text-align: right;\n",
       "    }\n",
       "</style>\n",
       "<table border=\"1\" class=\"dataframe\">\n",
       "  <thead>\n",
       "    <tr style=\"text-align: right;\">\n",
       "      <th></th>\n",
       "      <th>expire_flag</th>\n",
       "      <th>count</th>\n",
       "      <th>gender</th>\n",
       "      <th>expire_percent</th>\n",
       "    </tr>\n",
       "  </thead>\n",
       "  <tbody>\n",
       "    <tr>\n",
       "      <th>0</th>\n",
       "      <td>survived</td>\n",
       "      <td>20600</td>\n",
       "      <td>M</td>\n",
       "      <td>62.52</td>\n",
       "    </tr>\n",
       "    <tr>\n",
       "      <th>1</th>\n",
       "      <td>fatal</td>\n",
       "      <td>12350</td>\n",
       "      <td>M</td>\n",
       "      <td>37.48</td>\n",
       "    </tr>\n",
       "    <tr>\n",
       "      <th>0</th>\n",
       "      <td>survived</td>\n",
       "      <td>15790</td>\n",
       "      <td>F</td>\n",
       "      <td>60.67</td>\n",
       "    </tr>\n",
       "    <tr>\n",
       "      <th>1</th>\n",
       "      <td>fatal</td>\n",
       "      <td>10236</td>\n",
       "      <td>F</td>\n",
       "      <td>39.33</td>\n",
       "    </tr>\n",
       "  </tbody>\n",
       "</table>\n",
       "</div>"
      ],
      "text/plain": [
       "  expire_flag  count gender  expire_percent\n",
       "0    survived  20600      M           62.52\n",
       "1       fatal  12350      M           37.48\n",
       "0    survived  15790      F           60.67\n",
       "1       fatal  10236      F           39.33"
      ]
     },
     "execution_count": 37,
     "metadata": {},
     "output_type": "execute_result"
    }
   ],
   "source": [
    "gender_frames"
   ]
  },
  {
   "cell_type": "markdown",
   "metadata": {
    "deletable": true,
    "editable": true
   },
   "source": [
    "To do a one-way chi square test on expire_flag/ Gender?? Do it on a subset of data, which includes gender, and expire flag"
   ]
  },
  {
   "cell_type": "code",
   "execution_count": 38,
   "metadata": {
    "collapsed": false,
    "deletable": true,
    "editable": true
   },
   "outputs": [
    {
     "data": {
      "text/html": [
       "<div>\n",
       "<style scoped>\n",
       "    .dataframe tbody tr th:only-of-type {\n",
       "        vertical-align: middle;\n",
       "    }\n",
       "\n",
       "    .dataframe tbody tr th {\n",
       "        vertical-align: top;\n",
       "    }\n",
       "\n",
       "    .dataframe thead th {\n",
       "        text-align: right;\n",
       "    }\n",
       "</style>\n",
       "<table border=\"1\" class=\"dataframe\">\n",
       "  <thead>\n",
       "    <tr style=\"text-align: right;\">\n",
       "      <th></th>\n",
       "      <th>gender</th>\n",
       "      <th>expire_flag</th>\n",
       "    </tr>\n",
       "  </thead>\n",
       "  <tbody>\n",
       "    <tr>\n",
       "      <th>0</th>\n",
       "      <td>M</td>\n",
       "      <td>0</td>\n",
       "    </tr>\n",
       "    <tr>\n",
       "      <th>1</th>\n",
       "      <td>M</td>\n",
       "      <td>0</td>\n",
       "    </tr>\n",
       "    <tr>\n",
       "      <th>2</th>\n",
       "      <td>M</td>\n",
       "      <td>1</td>\n",
       "    </tr>\n",
       "  </tbody>\n",
       "</table>\n",
       "</div>"
      ],
      "text/plain": [
       "  gender  expire_flag\n",
       "0      M            0\n",
       "1      M            0\n",
       "2      M            1"
      ]
     },
     "execution_count": 38,
     "metadata": {},
     "output_type": "execute_result"
    }
   ],
   "source": [
    "data.loc[:,['gender', 'expire_flag']][:3]"
   ]
  },
  {
   "cell_type": "code",
   "execution_count": 39,
   "metadata": {
    "collapsed": false,
    "deletable": true,
    "editable": true
   },
   "outputs": [
    {
     "data": {
      "text/plain": [
       "M    32950\n",
       "F    26026\n",
       "Name: gender, dtype: int64"
      ]
     },
     "execution_count": 39,
     "metadata": {},
     "output_type": "execute_result"
    }
   ],
   "source": [
    "data.loc[:,'gender'].value_counts()"
   ]
  },
  {
   "cell_type": "code",
   "execution_count": 40,
   "metadata": {
    "collapsed": false,
    "deletable": true,
    "editable": true
   },
   "outputs": [
    {
     "data": {
      "text/plain": [
       "Power_divergenceResult(statistic=812.9031470428649, pvalue=8.447194609871837e-179)"
      ]
     },
     "execution_count": 40,
     "metadata": {},
     "output_type": "execute_result"
    }
   ],
   "source": [
    "# first let's do a one-way chi-squared test for M/F in gender_frame\n",
    "#scipy.stats.\n",
    "chisquare(data.loc[:,'gender'].value_counts())"
   ]
  },
  {
   "cell_type": "markdown",
   "metadata": {
    "deletable": true,
    "editable": true
   },
   "source": [
    "##### Interpretation\n",
    "The larger the statistic (the chi-squared statistic) the more difference there is from a uniform distribution. We can be sure that the genders are not all equally likely to be admitted to the hosptial \n",
    "\n",
    "Now let's find out: is there a relationship between gender and fatality? "
   ]
  },
  {
   "cell_type": "code",
   "execution_count": 41,
   "metadata": {
    "collapsed": false,
    "deletable": true,
    "editable": true
   },
   "outputs": [
    {
     "data": {
      "text/html": [
       "<div>\n",
       "<style scoped>\n",
       "    .dataframe tbody tr th:only-of-type {\n",
       "        vertical-align: middle;\n",
       "    }\n",
       "\n",
       "    .dataframe tbody tr th {\n",
       "        vertical-align: top;\n",
       "    }\n",
       "\n",
       "    .dataframe thead th {\n",
       "        text-align: right;\n",
       "    }\n",
       "</style>\n",
       "<table border=\"1\" class=\"dataframe\">\n",
       "  <thead>\n",
       "    <tr style=\"text-align: right;\">\n",
       "      <th>expire_flag</th>\n",
       "      <th>0</th>\n",
       "      <th>1</th>\n",
       "    </tr>\n",
       "    <tr>\n",
       "      <th>gender</th>\n",
       "      <th></th>\n",
       "      <th></th>\n",
       "    </tr>\n",
       "  </thead>\n",
       "  <tbody>\n",
       "    <tr>\n",
       "      <th>F</th>\n",
       "      <td>15790</td>\n",
       "      <td>10236</td>\n",
       "    </tr>\n",
       "    <tr>\n",
       "      <th>M</th>\n",
       "      <td>20600</td>\n",
       "      <td>12350</td>\n",
       "    </tr>\n",
       "  </tbody>\n",
       "</table>\n",
       "</div>"
      ],
      "text/plain": [
       "expire_flag      0      1\n",
       "gender                   \n",
       "F            15790  10236\n",
       "M            20600  12350"
      ]
     },
     "execution_count": 41,
     "metadata": {},
     "output_type": "execute_result"
    }
   ],
   "source": [
    "contingency_table=pd.crosstab(data['gender'],data['expire_flag'])\n",
    "contingency_table"
   ]
  },
  {
   "cell_type": "code",
   "execution_count": 42,
   "metadata": {
    "collapsed": false,
    "deletable": true,
    "editable": true
   },
   "outputs": [
    {
     "data": {
      "text/plain": [
       "(20.956179870969887,\n",
       " 4.699095218712981e-06,\n",
       " 1,\n",
       " array([[16058.83986706,  9967.16013294],\n",
       "        [20331.16013294, 12618.83986706]]))"
      ]
     },
     "execution_count": 42,
     "metadata": {},
     "output_type": "execute_result"
    }
   ],
   "source": [
    "chi2_contingency(contingency_table)"
   ]
  },
  {
   "cell_type": "markdown",
   "metadata": {
    "deletable": true,
    "editable": true
   },
   "source": [
    "1. Chi-squared value\n",
    "1. p-value, which is very very small here; it seems unlikely there is no connection between gender and the expire flag \n",
    "\n",
    "we ran two different tests with small p value, it seems unlikely this is random variability, and gender seems a good feature to keep "
   ]
  },
  {
   "cell_type": "code",
   "execution_count": 43,
   "metadata": {
    "collapsed": false,
    "deletable": true,
    "editable": true
   },
   "outputs": [
    {
     "name": "stdout",
     "output_type": "stream",
     "text": [
      "['URGENT' 'NEWBORN' 'EMERGENCY' 'ELECTIVE']\n",
      "['NEWBORN', 'URGENT', 'EMERGENCY', 'ELECTIVE']\n"
     ]
    }
   ],
   "source": [
    "# ############ Admission_type into categorical \n",
    "cols_a = ['NEWBORN', 'URGENT', 'EMERGENCY', 'ELECTIVE']\n",
    "nums_a = [0, 1, 2, 3 ]\n",
    "print(data.admission_type.unique())\n",
    "print(cols_a)\n",
    "\n",
    "data.admission_type.replace(cols_a, nums_a, inplace=True)\n",
    "adm_alive = data.loc[(data['expire_flag']==0),'admission_type' ]\n",
    "adm_fatal = data.loc[(data['expire_flag']==1),'admission_type' ]"
   ]
  },
  {
   "cell_type": "code",
   "execution_count": 44,
   "metadata": {
    "collapsed": false,
    "deletable": true,
    "editable": true
   },
   "outputs": [
    {
     "data": {
      "image/png": "[encoded data removed]",
      "text/plain": [
       "<matplotlib.figure.Figure at 0x11451c650>"
      ]
     },
     "metadata": {},
     "output_type": "display_data"
    }
   ],
   "source": [
    "\"\"\"\n",
    "   combined plot \n",
    "\"\"\"\n",
    "fig, ax = plt.subplots(1,3, figsize = (13,4))\n",
    "\n",
    "x = np.arange(0,4)\n",
    "wid = 0.5\n",
    "ax[0].yaxis.set_tick_params(labelsize=10)\n",
    "ax[1].yaxis.set_tick_params(labelsize=10)\n",
    "ax[2].yaxis.set_tick_params(labelsize=10)\n",
    "\n",
    "ax[0].bar(x+0.2, adm_alive.value_counts().sort_index(ascending=False), \n",
    "          wid, alpha=0.6,color='grey', label='survived')\n",
    "#adm_alive.value_counts().sort_index(ascending=False).plot.barh()\n",
    "ax[0].set_xticks(x+0.5)\n",
    "ax[0].set_xticklabels(['URGENT', 'EMERGENCY', 'ELECTIVE','NEWBORN'],fontsize=10)\n",
    "#ax[0].set_yticklabels(fontsize=10)\n",
    "ax[0].bar(x+ 0.4, adm_fatal.value_counts().sort_index(ascending=False), \n",
    "          wid,alpha=0.6, color='coral', label='fatal')\n",
    "ax[0].legend(fontsize=10)\n",
    "ax[0].set_title('Mortality Distribution: Admission Type', fontsize=14, y=1.08)\n",
    "#ax[0].set_yticks([],size=10)\n",
    "#reduce s9ze of y-ticks\n",
    "\n",
    "ax[1].hist(survive_series, bins=20,color='purple', alpha=0.5, label='survived')\n",
    "ax[1].hist(fatal_series, bins=30,alpha=0.5, label = 'fatal')\n",
    "\n",
    "ax[1].set_title('Distribution of age', fontsize=14)\n",
    "ax[1].legend(fontsize=10, loc=2)\n",
    "ax[1].set_xlabel('Age of patient')\n",
    "#ax[1].set_ylabel('Number of cases')\n",
    "\n",
    "x1 = np.arange(0,2)\n",
    "wid1 = 0.4\n",
    "\n",
    "ax[2].bar(x1+0.2, g_0, wid1, alpha=0.4,color='grey', label='Male')\n",
    "ax[2].bar(x1+ 0.3, g_1, wid1,alpha=0.4, label = 'Female', color='forestgreen')\n",
    "ax[2].set_xticks(x1+0.4)\n",
    "ax[2].set_xticklabels(['Survived', 'Fatal'])\n",
    "ax[2].set_title('Mortality Distribution: Gender', fontsize=14)\n",
    "ax[2].legend(fontsize=10);\n",
    "\n",
    "plt.tight_layout() \n",
    "#plt.savefig('ALL_Distributions')\n",
    "\n",
    "#plt.savefig('Age_dist')"
   ]
  },
  {
   "cell_type": "code",
   "execution_count": 45,
   "metadata": {
    "collapsed": false,
    "deletable": true,
    "editable": true
   },
   "outputs": [
    {
     "data": {
      "text/plain": [
       "[<matplotlib.text.Text at 0x1121afed0>, <matplotlib.text.Text at 0x1144f8b50>]"
      ]
     },
     "execution_count": 45,
     "metadata": {},
     "output_type": "execute_result"
    },
    {
     "data": {
      "image/png": "[encoded data removed]",
      "text/plain": [
       "<matplotlib.figure.Figure at 0x11308dc10>"
      ]
     },
     "metadata": {},
     "output_type": "display_data"
    }
   ],
   "source": [
    "ax = sns.barplot(x=m_0.index, y='expire_percent', data=m_0)\n",
    "ax = sns.barplot(x=f_0.index, y='expire_percent', data=f_0)\n",
    "#             estimator= lambda x: sum(x==0)*100.0/len(x) )\n",
    "ax.set(ylabel=\"Percent\", xlabel='Survival')"
   ]
  },
  {
   "cell_type": "code",
   "execution_count": 46,
   "metadata": {
    "collapsed": false,
    "deletable": true,
    "editable": true
   },
   "outputs": [
    {
     "data": {
      "text/plain": [
       "3     2186\n",
       "2    19650\n",
       "1      685\n",
       "0       65\n",
       "Name: admission_type, dtype: int64"
      ]
     },
     "execution_count": 46,
     "metadata": {},
     "output_type": "execute_result"
    }
   ],
   "source": [
    "adm_fatal.value_counts().sort_index(ascending=False)"
   ]
  },
  {
   "cell_type": "markdown",
   "metadata": {
    "deletable": true,
    "editable": true
   },
   "source": [
    "### seperate plot for type of Admission "
   ]
  },
  {
   "cell_type": "code",
   "execution_count": 47,
   "metadata": {
    "collapsed": false,
    "deletable": true,
    "editable": true
   },
   "outputs": [
    {
     "data": {
      "text/plain": [
       "<Container object of 4 artists>"
      ]
     },
     "execution_count": 47,
     "metadata": {},
     "output_type": "execute_result"
    },
    {
     "data": {
      "image/png": "[encoded data removed]",
      "text/plain": [
       "<matplotlib.figure.Figure at 0x113959f50>"
      ]
     },
     "metadata": {},
     "output_type": "display_data"
    }
   ],
   "source": [
    "plt.figure(figsize = (4,4))\n",
    "x = np.arange(0,4)\n",
    "wid = 0.5\n",
    "\n",
    "plt.bar(x+0.2, adm_alive.value_counts().sort_index(ascending=False), wid, alpha=0.6,\n",
    "        color='grey', label='survived')\n",
    "plt.xticks(x+0.5, cols_a,fontsize=10)\n",
    "plt.yticks(fontsize=10)\n",
    "\n",
    "plt.bar(x+ 0.4, adm_fatal.value_counts().sort_index(ascending=False), wid,alpha=0.6,  \n",
    "        color='coral', label='fatal')"
   ]
  },
  {
   "cell_type": "code",
   "execution_count": 48,
   "metadata": {
    "collapsed": false,
    "deletable": true,
    "editable": true
   },
   "outputs": [
    {
     "data": {
      "text/plain": [
       "3     5520\n",
       "2    22421\n",
       "1      651\n",
       "0     7798\n",
       "Name: admission_type, dtype: int64"
      ]
     },
     "execution_count": 48,
     "metadata": {},
     "output_type": "execute_result"
    }
   ],
   "source": [
    "adm_alive.value_counts().sort_index(ascending=False)"
   ]
  },
  {
   "cell_type": "code",
   "execution_count": 49,
   "metadata": {
    "collapsed": true,
    "deletable": true,
    "editable": true
   },
   "outputs": [],
   "source": [
    "########### Gender ##########\n",
    "gen = [\"M\", \"F\"]\n",
    "n_g = [0,1]\n",
    "data.gender.replace(gen, n_g, inplace=True)"
   ]
  },
  {
   "cell_type": "markdown",
   "metadata": {
    "deletable": true,
    "editable": true
   },
   "source": [
    "### Sepearate distribution by age (with rugplot)"
   ]
  },
  {
   "cell_type": "code",
   "execution_count": 50,
   "metadata": {
    "collapsed": false,
    "deletable": true,
    "editable": true
   },
   "outputs": [
    {
     "data": {
      "image/png": "[encoded data removed]",
      "text/plain": [
       "<matplotlib.figure.Figure at 0x11444bdd0>"
      ]
     },
     "metadata": {},
     "output_type": "display_data"
    }
   ],
   "source": [
    "## interrupted, the rugplot takes a while\n",
    "x_0 =data.loc[(data['expire_flag']==0),'age' ]\n",
    "x_1 = data.loc[(data['expire_flag']==1),'age' ]\n",
    "\n",
    "sns.distplot(x_0[x_0>10], label = 'survived', kde=False, rug=True)\n",
    "sns.distplot(x_1[x_1>10], label = 'fatal', kde=False, rug=True)\n",
    "\n",
    "# for distplots remembering order is cruical when writing legends\n",
    "plt.legend(['survived', 'fatal'],fontsize=10,loc=2)\n",
    "plt.title('Surival distribution by age',fontsize = 14);\n",
    "\n",
    "#plt.savefig('Dist_by_age')"
   ]
  },
  {
   "cell_type": "code",
   "execution_count": 51,
   "metadata": {
    "collapsed": false,
    "deletable": true,
    "editable": true
   },
   "outputs": [
    {
     "name": "stdout",
     "output_type": "stream",
     "text": [
      "M    20600\n",
      "F    15790\n",
      "Name: gender, dtype: int64\n",
      "M    12350\n",
      "F    10236\n",
      "Name: gender, dtype: int64\n",
      "men  32950\n",
      "women  26026\n"
     ]
    }
   ],
   "source": [
    "# more men admitted to ICU\n",
    "print(g_0)\n",
    "print(g_1)\n",
    "print (\"men \" ,20600 +  12350)\n",
    "print (\"women \" , 15790 +  10236)"
   ]
  },
  {
   "cell_type": "code",
   "execution_count": null,
   "metadata": {
    "collapsed": true,
    "deletable": true,
    "editable": true
   },
   "outputs": [],
   "source": []
  },
  {
   "cell_type": "code",
   "execution_count": null,
   "metadata": {
    "collapsed": true,
    "deletable": true,
    "editable": true
   },
   "outputs": [],
   "source": []
  },
  {
   "cell_type": "code",
   "execution_count": null,
   "metadata": {
    "collapsed": true,
    "deletable": true,
    "editable": true
   },
   "outputs": [],
   "source": []
  },
  {
   "cell_type": "markdown",
   "metadata": {
    "deletable": true,
    "editable": true
   },
   "source": [
    "## Part 3: Most common icd9 codes fatal/survival; Data Frames\n",
    "\n",
    "### Start with Fatal Cases "
   ]
  },
  {
   "cell_type": "code",
   "execution_count": 11,
   "metadata": {
    "collapsed": false,
    "deletable": true,
    "editable": true
   },
   "outputs": [
    {
     "data": {
      "text/html": [
       "<div>\n",
       "<style scoped>\n",
       "    .dataframe tbody tr th:only-of-type {\n",
       "        vertical-align: middle;\n",
       "    }\n",
       "\n",
       "    .dataframe tbody tr th {\n",
       "        vertical-align: top;\n",
       "    }\n",
       "\n",
       "    .dataframe thead th {\n",
       "        text-align: right;\n",
       "    }\n",
       "</style>\n",
       "<table border=\"1\" class=\"dataframe\">\n",
       "  <thead>\n",
       "    <tr style=\"text-align: right;\">\n",
       "      <th></th>\n",
       "      <th>hadm_id</th>\n",
       "      <th>subject_id</th>\n",
       "      <th>expire_flag</th>\n",
       "      <th>icd9_code</th>\n",
       "    </tr>\n",
       "  </thead>\n",
       "  <tbody>\n",
       "    <tr>\n",
       "      <th>0</th>\n",
       "      <td>121205</td>\n",
       "      <td>91</td>\n",
       "      <td>1</td>\n",
       "      <td>20008</td>\n",
       "    </tr>\n",
       "    <tr>\n",
       "      <th>1</th>\n",
       "      <td>121205</td>\n",
       "      <td>91</td>\n",
       "      <td>1</td>\n",
       "      <td>2765</td>\n",
       "    </tr>\n",
       "    <tr>\n",
       "      <th>2</th>\n",
       "      <td>121205</td>\n",
       "      <td>91</td>\n",
       "      <td>1</td>\n",
       "      <td>5559</td>\n",
       "    </tr>\n",
       "  </tbody>\n",
       "</table>\n",
       "</div>"
      ],
      "text/plain": [
       "   hadm_id  subject_id  expire_flag icd9_code\n",
       "0   121205          91            1     20008\n",
       "1   121205          91            1      2765\n",
       "2   121205          91            1      5559"
      ]
     },
     "execution_count": 11,
     "metadata": {},
     "output_type": "execute_result"
    }
   ],
   "source": [
    "\"\"\"\n",
    "    ONLY fatal cases \n",
    "\"\"\"\n",
    "df_expired[:3]"
   ]
  },
  {
   "cell_type": "code",
   "execution_count": 12,
   "metadata": {
    "collapsed": false,
    "deletable": true,
    "editable": true
   },
   "outputs": [],
   "source": [
    "# sorted by: the most common icd9_codes\n",
    "most_common_icd9 = (df_expired.groupby('icd9_code')\n",
    " .count()\n",
    ".reset_index().sort_values('expire_flag', ascending=False))\n",
    "\n",
    "## how many expired? \n",
    "most_common_icd9.rename(columns={'expire_flag':'num_expire_flags'}, inplace=True)"
   ]
  },
  {
   "cell_type": "code",
   "execution_count": 13,
   "metadata": {
    "collapsed": false,
    "deletable": true,
    "editable": true
   },
   "outputs": [],
   "source": [
    "## 50 most common codes; but what are they? \n",
    "most_common_icd9_smaller = most_common_icd9.iloc[:50,:]\n",
    "#[['icd9_code']][:20]"
   ]
  },
  {
   "cell_type": "markdown",
   "metadata": {
    "deletable": true,
    "editable": true
   },
   "source": [
    "    most_common_icd9 - count expire_flag\n",
    "    most_common_icd9_smaller - 50 most common"
   ]
  },
  {
   "cell_type": "code",
   "execution_count": 14,
   "metadata": {
    "collapsed": false,
    "deletable": true,
    "editable": true
   },
   "outputs": [
    {
     "name": "stderr",
     "output_type": "stream",
     "text": [
      "/Users/billierolih/anaconda/lib/python2.7/site-packages/pandas/core/frame.py:3697: SettingWithCopyWarning: \n",
      "A value is trying to be set on a copy of a slice from a DataFrame\n",
      "\n",
      "See the caveats in the documentation: http://pandas.pydata.org/pandas-docs/stable/indexing.html#indexing-view-versus-copy\n",
      "  errors=errors)\n"
     ]
    }
   ],
   "source": [
    "len(most_common_icd9_smaller)\n",
    "most_common_icd9_smaller[:3]\n",
    "### remove hadm_id and subject_id (these are aggregates anyway)\n",
    "most_common_icd9_smaller.drop(['hadm_id', 'subject_id'], axis=1, inplace=True)"
   ]
  },
  {
   "cell_type": "code",
   "execution_count": 19,
   "metadata": {
    "collapsed": false,
    "deletable": true,
    "editable": true
   },
   "outputs": [
    {
     "data": {
      "text/html": [
       "<div>\n",
       "<style scoped>\n",
       "    .dataframe tbody tr th:only-of-type {\n",
       "        vertical-align: middle;\n",
       "    }\n",
       "\n",
       "    .dataframe tbody tr th {\n",
       "        vertical-align: top;\n",
       "    }\n",
       "\n",
       "    .dataframe thead th {\n",
       "        text-align: right;\n",
       "    }\n",
       "</style>\n",
       "<table border=\"1\" class=\"dataframe\">\n",
       "  <thead>\n",
       "    <tr style=\"text-align: right;\">\n",
       "      <th></th>\n",
       "      <th>icd9_code</th>\n",
       "      <th>num_expire_flags</th>\n",
       "    </tr>\n",
       "  </thead>\n",
       "  <tbody>\n",
       "    <tr>\n",
       "      <th>1627</th>\n",
       "      <td>4280</td>\n",
       "      <td>20339</td>\n",
       "    </tr>\n",
       "    <tr>\n",
       "      <th>1495</th>\n",
       "      <td>4019</td>\n",
       "      <td>16894</td>\n",
       "    </tr>\n",
       "    <tr>\n",
       "      <th>1616</th>\n",
       "      <td>42731</td>\n",
       "      <td>15895</td>\n",
       "    </tr>\n",
       "  </tbody>\n",
       "</table>\n",
       "</div>"
      ],
      "text/plain": [
       "     icd9_code  num_expire_flags\n",
       "1627      4280             20339\n",
       "1495      4019             16894\n",
       "1616     42731             15895"
      ]
     },
     "execution_count": 19,
     "metadata": {},
     "output_type": "execute_result"
    }
   ],
   "source": [
    "most_common_icd9_smaller[:3]"
   ]
  },
  {
   "cell_type": "markdown",
   "metadata": {
    "deletable": true,
    "editable": true
   },
   "source": [
    "### Join common icd9_codes to DIAGNOSES\n",
    "-- find what the 50 most common DIAGNOSES\n",
    "-- do an inner join, keep only rows preset\n",
    "    - merge left on id9 code ( smaller, larger)\n",
    "\n",
    "#### SEQ_NUM is from DIAGNOSES\n",
    "-- SEQ_NUM provides the order in which the ICD diagnoses relate to the patient. ICD diagnoses are ordered by priority - and the order does have an impact on the reimbursement for treatment.\n",
    "\n"
   ]
  },
  {
   "cell_type": "code",
   "execution_count": 15,
   "metadata": {
    "collapsed": false,
    "deletable": true,
    "editable": true
   },
   "outputs": [],
   "source": [
    "# diagnoses.drop(['icd9_code.1', 'row_id.1'], axis=1, inplace=True)\n",
    "# diagnoses.drop(['hadm_id', 'subject_id'], axis=1, inplace=True)\n",
    "diagnoses.drop(['seq_num', 'row_id'], axis=1, inplace=True)"
   ]
  },
  {
   "cell_type": "code",
   "execution_count": 16,
   "metadata": {
    "collapsed": false,
    "deletable": true,
    "editable": true
   },
   "outputs": [
    {
     "data": {
      "text/html": [
       "<div>\n",
       "<style scoped>\n",
       "    .dataframe tbody tr th:only-of-type {\n",
       "        vertical-align: middle;\n",
       "    }\n",
       "\n",
       "    .dataframe tbody tr th {\n",
       "        vertical-align: top;\n",
       "    }\n",
       "\n",
       "    .dataframe thead th {\n",
       "        text-align: right;\n",
       "    }\n",
       "</style>\n",
       "<table border=\"1\" class=\"dataframe\">\n",
       "  <thead>\n",
       "    <tr style=\"text-align: right;\">\n",
       "      <th></th>\n",
       "      <th>subject_id</th>\n",
       "      <th>hadm_id</th>\n",
       "      <th>icd9_code</th>\n",
       "      <th>row_id.1</th>\n",
       "      <th>icd9_code.1</th>\n",
       "      <th>short_title</th>\n",
       "      <th>long_title</th>\n",
       "    </tr>\n",
       "  </thead>\n",
       "  <tbody>\n",
       "    <tr>\n",
       "      <th>0</th>\n",
       "      <td>34</td>\n",
       "      <td>115799</td>\n",
       "      <td>E8790</td>\n",
       "      <td>13429.0</td>\n",
       "      <td>E8790</td>\n",
       "      <td>Abn react-cardiac cath</td>\n",
       "      <td>Cardiac catheterization as the cause of abnorm...</td>\n",
       "    </tr>\n",
       "    <tr>\n",
       "      <th>1</th>\n",
       "      <td>34</td>\n",
       "      <td>144319</td>\n",
       "      <td>42789</td>\n",
       "      <td>4471.0</td>\n",
       "      <td>42789</td>\n",
       "      <td>Cardiac dysrhythmias NEC</td>\n",
       "      <td>Other specified cardiac dysrhythmias</td>\n",
       "    </tr>\n",
       "  </tbody>\n",
       "</table>\n",
       "</div>"
      ],
      "text/plain": [
       "   subject_id  hadm_id icd9_code  row_id.1 icd9_code.1  \\\n",
       "0          34   115799     E8790   13429.0       E8790   \n",
       "1          34   144319     42789    4471.0       42789   \n",
       "\n",
       "                short_title                                         long_title  \n",
       "0    Abn react-cardiac cath  Cardiac catheterization as the cause of abnorm...  \n",
       "1  Cardiac dysrhythmias NEC               Other specified cardiac dysrhythmias  "
      ]
     },
     "execution_count": 16,
     "metadata": {},
     "output_type": "execute_result"
    }
   ],
   "source": [
    "diagnoses[:2]"
   ]
  },
  {
   "cell_type": "code",
   "execution_count": 22,
   "metadata": {
    "collapsed": false,
    "deletable": true,
    "editable": true
   },
   "outputs": [],
   "source": [
    "merged_MOSTCOMMONicd9 = pd.merge(most_common_icd9_smaller, diagnoses, how='left',on='icd9_code')"
   ]
  },
  {
   "cell_type": "code",
   "execution_count": 23,
   "metadata": {
    "collapsed": false,
    "deletable": true,
    "editable": true
   },
   "outputs": [
    {
     "data": {
      "text/html": [
       "<div>\n",
       "<style scoped>\n",
       "    .dataframe tbody tr th:only-of-type {\n",
       "        vertical-align: middle;\n",
       "    }\n",
       "\n",
       "    .dataframe tbody tr th {\n",
       "        vertical-align: top;\n",
       "    }\n",
       "\n",
       "    .dataframe thead th {\n",
       "        text-align: right;\n",
       "    }\n",
       "</style>\n",
       "<table border=\"1\" class=\"dataframe\">\n",
       "  <thead>\n",
       "    <tr style=\"text-align: right;\">\n",
       "      <th></th>\n",
       "      <th>icd9_code</th>\n",
       "      <th>num_expire_flags</th>\n",
       "      <th>subject_id</th>\n",
       "      <th>hadm_id</th>\n",
       "      <th>row_id.1</th>\n",
       "      <th>icd9_code.1</th>\n",
       "      <th>short_title</th>\n",
       "      <th>long_title</th>\n",
       "    </tr>\n",
       "  </thead>\n",
       "  <tbody>\n",
       "    <tr>\n",
       "      <th>0</th>\n",
       "      <td>4280</td>\n",
       "      <td>20339</td>\n",
       "      <td>34</td>\n",
       "      <td>144319</td>\n",
       "      <td>4473.0</td>\n",
       "      <td>4280</td>\n",
       "      <td>CHF NOS</td>\n",
       "      <td>Congestive heart failure, unspecified</td>\n",
       "    </tr>\n",
       "    <tr>\n",
       "      <th>1</th>\n",
       "      <td>4280</td>\n",
       "      <td>20339</td>\n",
       "      <td>37</td>\n",
       "      <td>188670</td>\n",
       "      <td>4473.0</td>\n",
       "      <td>4280</td>\n",
       "      <td>CHF NOS</td>\n",
       "      <td>Congestive heart failure, unspecified</td>\n",
       "    </tr>\n",
       "  </tbody>\n",
       "</table>\n",
       "</div>"
      ],
      "text/plain": [
       "  icd9_code  num_expire_flags  subject_id  hadm_id  row_id.1 icd9_code.1  \\\n",
       "0      4280             20339          34   144319    4473.0        4280   \n",
       "1      4280             20339          37   188670    4473.0        4280   \n",
       "\n",
       "  short_title                             long_title  \n",
       "0     CHF NOS  Congestive heart failure, unspecified  \n",
       "1     CHF NOS  Congestive heart failure, unspecified  "
      ]
     },
     "execution_count": 23,
     "metadata": {},
     "output_type": "execute_result"
    }
   ],
   "source": [
    "\"\"\"\n",
    "    merged DataFrame: for fatal expire_flag=1\n",
    "\"\"\"\n",
    "merged_MOSTCOMMONicd9[:2]"
   ]
  },
  {
   "cell_type": "markdown",
   "metadata": {
    "deletable": true,
    "editable": true
   },
   "source": [
    "## Part 3b:  Table of most common Diagnoses (long-title) ; Fatal + Survived"
   ]
  },
  {
   "cell_type": "code",
   "execution_count": 24,
   "metadata": {
    "collapsed": false,
    "deletable": true,
    "editable": true
   },
   "outputs": [],
   "source": [
    "\"\"\" \n",
    "    tmp_fatal - need a DF of (unique) codes, sorted by NUM most expired flags\n",
    "\"\"\"\n",
    "tmp_fatal = (merged_MOSTCOMMONicd9.\n",
    "groupby('icd9_code')\n",
    " .first()\n",
    " .reset_index().sort_values('num_expire_flags', ascending=False))[:10]"
   ]
  },
  {
   "cell_type": "markdown",
   "metadata": {
    "deletable": true,
    "editable": true
   },
   "source": [
    "##### tmp_fatal"
   ]
  },
  {
   "cell_type": "code",
   "execution_count": 25,
   "metadata": {
    "collapsed": false,
    "deletable": true,
    "editable": true
   },
   "outputs": [],
   "source": [
    "cols1 = ['Congestive heart failure','Hypertension' ,'Atrial fibrillation','Kidney failure', 'Coronary artery disease',\n",
    "       'Respiratory failure', 'Diabetes', 'Urinary tract infection', 'Pneumonia','Airway obstruction']\n",
    "mylist = pd.Series(cols1)\n",
    "mylist.values\n",
    "tmp_fatal['common'] = mylist.values"
   ]
  },
  {
   "cell_type": "markdown",
   "metadata": {
    "deletable": true,
    "editable": true
   },
   "source": [
    "##### tmp_alive"
   ]
  },
  {
   "cell_type": "code",
   "execution_count": 19,
   "metadata": {
    "collapsed": false,
    "deletable": true,
    "editable": true
   },
   "outputs": [],
   "source": [
    "#df_alive\n",
    "new_alive = (df_alive.groupby('icd9_code')\n",
    " .count()\n",
    ".reset_index().sort_values('expire_flag', ascending=False))\n",
    "\n",
    "new_alive.rename(columns={'expire_flag':'num_alive_flags'}, inplace=True)\n",
    "### remove hadm_id and subject_id (these are aggregates anyway)\n",
    "new_alive.drop(['hadm_id', 'subject_id'], axis=1, inplace=True)\n",
    "##\n",
    "new_alive_smaller = new_alive.iloc[:50,:]\n",
    "\n",
    "#new_alive_smaller\n",
    "merged_MOSTCOMMONalive = pd.merge(new_alive_smaller, diagnoses, how='left',on='icd9_code')\n",
    "\n",
    "#group merged acccording to count\n",
    "tmp_alive =(merged_MOSTCOMMONalive\n",
    ".groupby('icd9_code')\n",
    ".first()\n",
    ".reset_index().sort_values('num_alive_flags', ascending=False))[:10]\n",
    "\n",
    "#tmp_alive\n",
    "cols2 = ['Hypertension' , 'Congestive heart failure','Coronary artery disease', 'Hyperlipidemia',\n",
    "         'Atrial fibrillation', 'Kidney failure', 'Acid Reflux', 'Diabetes', 'Anemia', \n",
    "       'Hepatitis vaccine']\n",
    "mylist2 = pd.Series(cols2)\n",
    "mylist2.values\n",
    "tmp_alive['common'] = mylist2.values\n",
    "#tmp_alive[:3]"
   ]
  },
  {
   "cell_type": "markdown",
   "metadata": {
    "deletable": true,
    "editable": true
   },
   "source": [
    "## Plot most fatal/survived diagnoses \n",
    "Number of fatalties x 10 most fatal diagnoses (by short name) \n",
    "\n",
    "    tmp_fatal\n",
    "    tmp_alive"
   ]
  },
  {
   "cell_type": "code",
   "execution_count": 27,
   "metadata": {
    "collapsed": false,
    "deletable": true,
    "editable": true
   },
   "outputs": [
    {
     "data": {
      "text/plain": [
       "<matplotlib.text.Text at 0x102360210>"
      ]
     },
     "execution_count": 27,
     "metadata": {},
     "output_type": "execute_result"
    },
    {
     "data": {
      "image/png": "[encoded data removed]",
      "text/plain": [
       "<matplotlib.figure.Figure at 0x1094c6d50>"
      ]
     },
     "metadata": {},
     "output_type": "display_data"
    }
   ],
   "source": [
    "plt.figure(figsize = (5,6))\n",
    "x = np.arange(10)\n",
    "wid = 0.4\n",
    "\n",
    "plt.barh(0.5+x, tmp_fatal.num_expire_flags, wid, label='fatal admission', color='coral')\n",
    "plt.yticks(x+0.6, cols1, fontsize=14)\n",
    "#plt.legend()\n",
    "#plt.tight_layout()  \n",
    "plt.title(\"Most comon fatal Diagnoses\")\n",
    "#plt.savefig('fatal_diagnoses',DPI=600);"
   ]
  },
  {
   "cell_type": "code",
   "execution_count": 102,
   "metadata": {
    "collapsed": false,
    "deletable": true,
    "editable": true
   },
   "outputs": [
    {
     "data": {
      "text/plain": [
       "' Same as ABOVE ^^^ but horizontal -- not necessary'"
      ]
     },
     "execution_count": 102,
     "metadata": {},
     "output_type": "execute_result"
    }
   ],
   "source": [
    "\"\"\" Same as ABOVE ^^^ but horizontal -- not necessary\"\"\"\n",
    "# plt.figure(figsize = (10,5))\n",
    "# x = np.arange(10)\n",
    "# wid = 0.4\n",
    "\n",
    "# plt.bar(0.5+x, tmp_fatal.num_expire_flags, wid, label='fatal admission')\n",
    "# plt.xticks(x, cols1, rotation=35, fontsize=14)\n",
    "# plt.legend()\n",
    "# plt.tight_layout()  \n",
    "# plt.savefig('fatal_diagnoses',DPI=600);"
   ]
  },
  {
   "cell_type": "code",
   "execution_count": 28,
   "metadata": {
    "collapsed": false,
    "deletable": true,
    "editable": true
   },
   "outputs": [
    {
     "data": {
      "text/plain": [
       "<matplotlib.text.Text at 0x109b4e7d0>"
      ]
     },
     "execution_count": 28,
     "metadata": {},
     "output_type": "execute_result"
    },
    {
     "data": {
      "image/png": "[encoded data removed]",
      "text/plain": [
       "<matplotlib.figure.Figure at 0x1095d3d50>"
      ]
     },
     "metadata": {},
     "output_type": "display_data"
    }
   ],
   "source": [
    "\"\"\"\n",
    "    (when we have tmp_alive)\n",
    "\"\"\"\n",
    "plt.figure(figsize = (10,5))\n",
    "x = np.arange(10)\n",
    "wid = 0.4\n",
    "\n",
    "plt.barh(0.5+x, tmp_alive.num_alive_flags, wid, color='mediumpurple', label='survived admission')\n",
    "plt.yticks(x+0.6, cols2, fontsize=14)\n",
    "plt.legend()\n",
    "#plt.tight_layout() \n",
    "plt.title(\"Most common diagnosis from survived admission \")\n",
    "#plt.savefig('survived_diagnosis');"
   ]
  },
  {
   "cell_type": "markdown",
   "metadata": {
    "collapsed": true,
    "deletable": true,
    "editable": true
   },
   "source": [
    "as can be seen from the plots above Congestive Heart failure is both the second most survived and the most fatal diagnosis. The opposite is true for Hypertension.\n",
    "**So do Hypertension and Congestive Heart failure predict survival or fatality? **\n",
    "\n",
    "It doesn't seem to be a feature with a lot of predictive power and it may not make much sense to include it in the model. Similarly Diabetes is included in both top-10. A different feature selection model is necessary to find the diagnoses that are much more likely to be predictive of a fatal admission when included as a feature. "
   ]
  },
  {
   "cell_type": "code",
   "execution_count": 73,
   "metadata": {
    "collapsed": false,
    "deletable": true,
    "editable": true
   },
   "outputs": [
    {
     "data": {
      "text/plain": [
       "<matplotlib.text.Text at 0x116770210>"
      ]
     },
     "execution_count": 73,
     "metadata": {},
     "output_type": "execute_result"
    },
    {
     "data": {
      "image/png": "[encoded data removed]",
      "text/plain": [
       "<matplotlib.figure.Figure at 0x11c9b0690>"
      ]
     },
     "metadata": {},
     "output_type": "display_data"
    }
   ],
   "source": [
    "\"\"\"combined plot\n",
    "    cols1 = set in part 3b (most common fatal)\n",
    "    cols2 = set in part 3c (most common survived)\n",
    "\"\"\"\n",
    "#plt.figure(figsize = (10,5))\n",
    "fig, ax = plt.subplots(1,2, figsize = (14,6))\n",
    "x = np.arange(10)\n",
    "wid = 0.4\n",
    "ax[0].yaxis.set_tick_params(labelsize=9)\n",
    "ax[0].xaxis.set_tick_params(labelsize=10)\n",
    "ax[1].yaxis.set_tick_params(labelsize=10)\n",
    "ax[1].xaxis.set_tick_params(labelsize=10)\n",
    "\n",
    "\n",
    "ax[0].barh(0.5+x, tmp_fatal.num_expire_flags, wid, label='fatal admission', color='coral')\n",
    "ax[0].set_yticks(x+0.6)\n",
    "ax[0].set_yticklabels(cols1)#, fontsize=14)\n",
    "#ax[0].tight_layout()  \n",
    "ax[0].set_title(\"Most comon fatal Diagnoses\")\n",
    "ax[0].set_xlim(0,23000)\n",
    "\n",
    "\n",
    "ax[1].barh(0.5+x, tmp_alive.num_alive_flags, wid,color='mediumpurple'\n",
    "           ,label='survived admission')\n",
    "ax[1].set_yticks(x+0.6)\n",
    "ax[1].set_yticklabels(cols2)#, fontsize=14)\n",
    "ax[1].yaxis.set_label_position(\"right\")\n",
    "ax[1].set_xlim(0,23000)\n",
    "#plt.tight_layout() \n",
    "plt.title(\"Most common survived Diagnoses \")\n",
    "\n",
    "#plt.savefig('fatal_diagnoses',DPI=600);\n",
    "#plt.savefig('mostcommon_combined' ,DPI=900,bbox_inches=\"tight\")\n"
   ]
  },
  {
   "cell_type": "markdown",
   "metadata": {
    "deletable": true,
    "editable": true
   },
   "source": [
    "#### Compare the most common fatal/alive diagnoses: "
   ]
  },
  {
   "cell_type": "code",
   "execution_count": 74,
   "metadata": {
    "collapsed": false,
    "deletable": true,
    "editable": true
   },
   "outputs": [
    {
     "data": {
      "text/plain": [
       "array(['Congestive heart failure, unspecified',\n",
       "       'Unspecified essential hypertension', 'Atrial fibrillation',\n",
       "       'Acute kidney failure, unspecified',\n",
       "       'Coronary atherosclerosis of native coronary artery',\n",
       "       'Acute respiratory failure',\n",
       "       'Diabetes mellitus without mention of complication, type II or unspecified type, not stated as uncontrolled',\n",
       "       'Urinary tract infection, site not specified',\n",
       "       'Pneumonia, organism unspecified',\n",
       "       'Chronic airway obstruction, not elsewhere classified'],\n",
       "      dtype=object)"
      ]
     },
     "execution_count": 74,
     "metadata": {},
     "output_type": "execute_result"
    }
   ],
   "source": [
    "tmp_fatal.long_title.values"
   ]
  },
  {
   "cell_type": "code",
   "execution_count": 75,
   "metadata": {
    "collapsed": false,
    "deletable": true,
    "editable": true
   },
   "outputs": [
    {
     "data": {
      "text/plain": [
       "array(['Unspecified essential hypertension',\n",
       "       'Congestive heart failure, unspecified',\n",
       "       'Coronary atherosclerosis of native coronary artery',\n",
       "       'Other and unspecified hyperlipidemia', 'Atrial fibrillation',\n",
       "       'Acute kidney failure, unspecified', 'Esophageal reflux',\n",
       "       'Diabetes mellitus without mention of complication, type II or unspecified type, not stated as uncontrolled',\n",
       "       'Anemia, unspecified',\n",
       "       'Need for prophylactic vaccination and inoculation against viral hepatitis'],\n",
       "      dtype=object)"
      ]
     },
     "execution_count": 75,
     "metadata": {},
     "output_type": "execute_result"
    }
   ],
   "source": [
    "tmp_alive.long_title.values"
   ]
  },
  {
   "cell_type": "markdown",
   "metadata": {
    "deletable": true,
    "editable": true
   },
   "source": [
    "## Part 3c: create a mini-table pre_Bayes"
   ]
  },
  {
   "cell_type": "code",
   "execution_count": 185,
   "metadata": {
    "collapsed": true,
    "deletable": true,
    "editable": true
   },
   "outputs": [],
   "source": [
    "\"\"\" \n",
    "    tmp_fatal - need a DF of (unique) codes, sorted by NUM most expired flags\n",
    "\"\"\"\n",
    "tmp_fatal = (merged_MOSTCOMMONicd9.\n",
    "groupby('icd9_code')\n",
    " .first()\n",
    " .reset_index().sort_values('num_expire_flags', ascending=False))[:25]\n",
    "\n",
    "tmp_alive =(merged_MOSTCOMMONalive\n",
    ".groupby('icd9_code')\n",
    ".first()\n",
    ".reset_index().sort_values('num_alive_flags', ascending=False))[:25]\n",
    "\n",
    "tmp_fatal.drop(['hadm_id_y','icd9_code.1', 'subject_id_y','row_id.1'], axis=1, inplace=True)"
   ]
  },
  {
   "cell_type": "code",
   "execution_count": 205,
   "metadata": {
    "collapsed": false,
    "deletable": true,
    "editable": true
   },
   "outputs": [],
   "source": [
    "\"\"\"\n",
    "    Uses df_model (created in part 4.)\n",
    "    rerun part 4 if running from scratch \n",
    "\"\"\"\n",
    "\n",
    "### Choose only rows with these codes\n",
    "fatal_codes = tmp_fatal.icd9_code.unique()\n",
    "alive_codes = tmp_alive.icd9_code.unique()\n",
    "\n",
    "### use df_expired and df_alive to create\n",
    "a = df_expired[df_expired.loc[:,'icd9_code'].isin(fatal_codes)]\n",
    "b = df_alive[df_alive.loc[:,'icd9_code'].isin(alive_codes)]\n",
    "total = pd.concat([a,b])\n",
    "\n",
    "pre_bayes  = pd.merge(total, df_model, how='left', on='hadm_id')"
   ]
  },
  {
   "cell_type": "code",
   "execution_count": 208,
   "metadata": {
    "collapsed": false,
    "deletable": true,
    "editable": true
   },
   "outputs": [],
   "source": [
    "### clean up pre-bayes a little\n",
    "pre_bayes = pre_bayes.drop(['expire_flag_x','subject_id_x', 'icd9_code_y', 'year'], axis=1)\n",
    "pre_bayes.rename(columns={'icd9_code_x': 'icd9_code' },inplace=True)"
   ]
  },
  {
   "cell_type": "code",
   "execution_count": 209,
   "metadata": {
    "collapsed": false,
    "deletable": true,
    "editable": true
   },
   "outputs": [
    {
     "data": {
      "text/html": [
       "<div>\n",
       "<style scoped>\n",
       "    .dataframe tbody tr th:only-of-type {\n",
       "        vertical-align: middle;\n",
       "    }\n",
       "\n",
       "    .dataframe tbody tr th {\n",
       "        vertical-align: top;\n",
       "    }\n",
       "\n",
       "    .dataframe thead th {\n",
       "        text-align: right;\n",
       "    }\n",
       "</style>\n",
       "<table border=\"1\" class=\"dataframe\">\n",
       "  <thead>\n",
       "    <tr style=\"text-align: right;\">\n",
       "      <th></th>\n",
       "      <th>hadm_id</th>\n",
       "      <th>subject_id</th>\n",
       "      <th>expire_flag</th>\n",
       "      <th>icd9_code</th>\n",
       "      <th>gender</th>\n",
       "      <th>admission_type</th>\n",
       "      <th>diagnosis</th>\n",
       "      <th>age</th>\n",
       "      <th>d</th>\n",
       "    </tr>\n",
       "  </thead>\n",
       "  <tbody>\n",
       "    <tr>\n",
       "      <th>0</th>\n",
       "      <td>121205</td>\n",
       "      <td>91</td>\n",
       "      <td>1</td>\n",
       "      <td>51881</td>\n",
       "      <td>1</td>\n",
       "      <td>2</td>\n",
       "      <td>FEVER</td>\n",
       "      <td>81.0</td>\n",
       "      <td>1</td>\n",
       "    </tr>\n",
       "    <tr>\n",
       "      <th>1</th>\n",
       "      <td>121205</td>\n",
       "      <td>91</td>\n",
       "      <td>1</td>\n",
       "      <td>51881</td>\n",
       "      <td>1</td>\n",
       "      <td>2</td>\n",
       "      <td>FEVER</td>\n",
       "      <td>81.0</td>\n",
       "      <td>1</td>\n",
       "    </tr>\n",
       "    <tr>\n",
       "      <th>2</th>\n",
       "      <td>121205</td>\n",
       "      <td>91</td>\n",
       "      <td>1</td>\n",
       "      <td>51881</td>\n",
       "      <td>1</td>\n",
       "      <td>2</td>\n",
       "      <td>FEVER</td>\n",
       "      <td>81.0</td>\n",
       "      <td>1</td>\n",
       "    </tr>\n",
       "  </tbody>\n",
       "</table>\n",
       "</div>"
      ],
      "text/plain": [
       "   hadm_id  subject_id  expire_flag icd9_code  gender  admission_type  \\\n",
       "0   121205          91            1     51881       1               2   \n",
       "1   121205          91            1     51881       1               2   \n",
       "2   121205          91            1     51881       1               2   \n",
       "\n",
       "  diagnosis   age  d  \n",
       "0     FEVER  81.0  1  \n",
       "1     FEVER  81.0  1  \n",
       "2     FEVER  81.0  1  "
      ]
     },
     "execution_count": 209,
     "metadata": {},
     "output_type": "execute_result"
    }
   ],
   "source": [
    "pre_bayes[:3]"
   ]
  },
  {
   "cell_type": "code",
   "execution_count": 218,
   "metadata": {
    "collapsed": false,
    "deletable": true,
    "editable": true
   },
   "outputs": [],
   "source": [
    "\"\"\"to be merged later w/pre_pivot\n",
    "\"\"\"\n",
    "pre_tmp = (pre_bayes\n",
    " .groupby('hadm_id')['hadm_id','subject_id','expire_flag','gender','admission_type','diagnosis','age']\n",
    " .head(1)\n",
    "  )"
   ]
  },
  {
   "cell_type": "code",
   "execution_count": 219,
   "metadata": {
    "collapsed": true,
    "deletable": true,
    "editable": true
   },
   "outputs": [],
   "source": [
    "\"\"\" pre- refers to pre-Bayes\"\"\"\n",
    "pre_pivot = pd.pivot_table(pre_bayes, values='d', index=['hadm_id','subject_id'], columns=['icd9_code'])"
   ]
  },
  {
   "cell_type": "code",
   "execution_count": 224,
   "metadata": {
    "collapsed": true,
    "deletable": true,
    "editable": true
   },
   "outputs": [],
   "source": [
    "### flatten the index, and fill NaN's with 0\n",
    "pre_pivot.reset_index(col_level=0, inplace = True)\n",
    "pre_pivot.fillna(0, inplace=True)"
   ]
  },
  {
   "cell_type": "code",
   "execution_count": 228,
   "metadata": {
    "collapsed": true,
    "deletable": true,
    "editable": true
   },
   "outputs": [],
   "source": [
    "\"\"\"merge on admissio-id and subject id\n",
    "\"\"\"\n",
    "merged_pre_bayes = pd.merge(pre_tmp, pre_pivot, how='left', on=['hadm_id','subject_id'])"
   ]
  },
  {
   "cell_type": "code",
   "execution_count": 229,
   "metadata": {
    "collapsed": false,
    "deletable": true,
    "editable": true
   },
   "outputs": [
    {
     "data": {
      "text/html": [
       "<div>\n",
       "<style scoped>\n",
       "    .dataframe tbody tr th:only-of-type {\n",
       "        vertical-align: middle;\n",
       "    }\n",
       "\n",
       "    .dataframe tbody tr th {\n",
       "        vertical-align: top;\n",
       "    }\n",
       "\n",
       "    .dataframe thead th {\n",
       "        text-align: right;\n",
       "    }\n",
       "</style>\n",
       "<table border=\"1\" class=\"dataframe\">\n",
       "  <thead>\n",
       "    <tr style=\"text-align: right;\">\n",
       "      <th></th>\n",
       "      <th>hadm_id</th>\n",
       "      <th>subject_id</th>\n",
       "      <th>expire_flag</th>\n",
       "      <th>gender</th>\n",
       "      <th>admission_type</th>\n",
       "      <th>diagnosis</th>\n",
       "      <th>age</th>\n",
       "      <th>0389</th>\n",
       "      <th>2449</th>\n",
       "      <th>25000</th>\n",
       "      <th>...</th>\n",
       "      <th>5856</th>\n",
       "      <th>5859</th>\n",
       "      <th>5990</th>\n",
       "      <th>99592</th>\n",
       "      <th>V053</th>\n",
       "      <th>V290</th>\n",
       "      <th>V3000</th>\n",
       "      <th>V4581</th>\n",
       "      <th>V5861</th>\n",
       "      <th>V5867</th>\n",
       "    </tr>\n",
       "  </thead>\n",
       "  <tbody>\n",
       "    <tr>\n",
       "      <th>0</th>\n",
       "      <td>121205</td>\n",
       "      <td>91</td>\n",
       "      <td>1</td>\n",
       "      <td>1</td>\n",
       "      <td>2</td>\n",
       "      <td>FEVER</td>\n",
       "      <td>81.0</td>\n",
       "      <td>0.0</td>\n",
       "      <td>0.0</td>\n",
       "      <td>0.0</td>\n",
       "      <td>...</td>\n",
       "      <td>0.0</td>\n",
       "      <td>0.0</td>\n",
       "      <td>0.0</td>\n",
       "      <td>0.0</td>\n",
       "      <td>0.0</td>\n",
       "      <td>0.0</td>\n",
       "      <td>0.0</td>\n",
       "      <td>0.0</td>\n",
       "      <td>0.0</td>\n",
       "      <td>0.0</td>\n",
       "    </tr>\n",
       "    <tr>\n",
       "      <th>1</th>\n",
       "      <td>183686</td>\n",
       "      <td>94</td>\n",
       "      <td>1</td>\n",
       "      <td>0</td>\n",
       "      <td>2</td>\n",
       "      <td>SEPSIS</td>\n",
       "      <td>74.0</td>\n",
       "      <td>0.0</td>\n",
       "      <td>0.0</td>\n",
       "      <td>0.0</td>\n",
       "      <td>...</td>\n",
       "      <td>0.0</td>\n",
       "      <td>0.0</td>\n",
       "      <td>0.0</td>\n",
       "      <td>0.0</td>\n",
       "      <td>0.0</td>\n",
       "      <td>0.0</td>\n",
       "      <td>0.0</td>\n",
       "      <td>0.0</td>\n",
       "      <td>0.0</td>\n",
       "      <td>0.0</td>\n",
       "    </tr>\n",
       "    <tr>\n",
       "      <th>2</th>\n",
       "      <td>140037</td>\n",
       "      <td>94</td>\n",
       "      <td>1</td>\n",
       "      <td>0</td>\n",
       "      <td>2</td>\n",
       "      <td>PNEUMONIA</td>\n",
       "      <td>74.0</td>\n",
       "      <td>0.0</td>\n",
       "      <td>0.0</td>\n",
       "      <td>0.0</td>\n",
       "      <td>...</td>\n",
       "      <td>0.0</td>\n",
       "      <td>0.0</td>\n",
       "      <td>0.0</td>\n",
       "      <td>0.0</td>\n",
       "      <td>0.0</td>\n",
       "      <td>0.0</td>\n",
       "      <td>0.0</td>\n",
       "      <td>0.0</td>\n",
       "      <td>0.0</td>\n",
       "      <td>0.0</td>\n",
       "    </tr>\n",
       "  </tbody>\n",
       "</table>\n",
       "<p>3 rows × 39 columns</p>\n",
       "</div>"
      ],
      "text/plain": [
       "   hadm_id  subject_id  expire_flag  gender  admission_type  diagnosis   age  \\\n",
       "0   121205          91            1       1               2      FEVER  81.0   \n",
       "1   183686          94            1       0               2     SEPSIS  74.0   \n",
       "2   140037          94            1       0               2  PNEUMONIA  74.0   \n",
       "\n",
       "   0389  2449  25000  ...    5856  5859  5990  99592  V053  V290  V3000  \\\n",
       "0   0.0   0.0    0.0  ...     0.0   0.0   0.0    0.0   0.0   0.0    0.0   \n",
       "1   0.0   0.0    0.0  ...     0.0   0.0   0.0    0.0   0.0   0.0    0.0   \n",
       "2   0.0   0.0    0.0  ...     0.0   0.0   0.0    0.0   0.0   0.0    0.0   \n",
       "\n",
       "   V4581  V5861  V5867  \n",
       "0    0.0    0.0    0.0  \n",
       "1    0.0    0.0    0.0  \n",
       "2    0.0    0.0    0.0  \n",
       "\n",
       "[3 rows x 39 columns]"
      ]
     },
     "execution_count": 229,
     "metadata": {},
     "output_type": "execute_result"
    }
   ],
   "source": [
    "merged_pre_bayes[:3]\n"
   ]
  },
  {
   "cell_type": "code",
   "execution_count": 230,
   "metadata": {
    "collapsed": false,
    "deletable": true,
    "editable": true
   },
   "outputs": [
    {
     "data": {
      "text/plain": [
       "(54381, 39)"
      ]
     },
     "execution_count": 230,
     "metadata": {},
     "output_type": "execute_result"
    }
   ],
   "source": [
    "merged_pre_bayes.shape"
   ]
  },
  {
   "cell_type": "code",
   "execution_count": 232,
   "metadata": {
    "collapsed": true,
    "deletable": true,
    "editable": true
   },
   "outputs": [],
   "source": [
    "\"\"\"\n",
    "    SAVE TO FILE (for mini modeling)\n",
    "\"\"\"\n",
    "#merged_pre_bayes.to_csv('pre_bayes_data_model.csv', index=None)"
   ]
  },
  {
   "cell_type": "markdown",
   "metadata": {
    "deletable": true,
    "editable": true
   },
   "source": [
    "## Part 3d: Create an external test set;\n",
    "- randomly choose 20000 rows \n",
    "- allow for ALL icd9 codes"
   ]
  },
  {
   "cell_type": "code",
   "execution_count": 233,
   "metadata": {
    "collapsed": false,
    "deletable": true,
    "editable": true
   },
   "outputs": [
    {
     "data": {
      "text/html": [
       "<div>\n",
       "<style scoped>\n",
       "    .dataframe tbody tr th:only-of-type {\n",
       "        vertical-align: middle;\n",
       "    }\n",
       "\n",
       "    .dataframe tbody tr th {\n",
       "        vertical-align: top;\n",
       "    }\n",
       "\n",
       "    .dataframe thead th {\n",
       "        text-align: right;\n",
       "    }\n",
       "</style>\n",
       "<table border=\"1\" class=\"dataframe\">\n",
       "  <thead>\n",
       "    <tr style=\"text-align: right;\">\n",
       "      <th></th>\n",
       "      <th>hadm_id</th>\n",
       "      <th>subject_id_x</th>\n",
       "      <th>expire_flag_x</th>\n",
       "      <th>icd9_code</th>\n",
       "      <th>gender</th>\n",
       "      <th>admission_type</th>\n",
       "      <th>diagnosis</th>\n",
       "      <th>age</th>\n",
       "      <th>year</th>\n",
       "      <th>d</th>\n",
       "    </tr>\n",
       "  </thead>\n",
       "  <tbody>\n",
       "    <tr>\n",
       "      <th>0</th>\n",
       "      <td>121205</td>\n",
       "      <td>91</td>\n",
       "      <td>1</td>\n",
       "      <td>20008</td>\n",
       "      <td>1</td>\n",
       "      <td>2</td>\n",
       "      <td>FEVER</td>\n",
       "      <td>81.0</td>\n",
       "      <td>2095</td>\n",
       "      <td>1</td>\n",
       "    </tr>\n",
       "    <tr>\n",
       "      <th>1</th>\n",
       "      <td>121205</td>\n",
       "      <td>91</td>\n",
       "      <td>1</td>\n",
       "      <td>2765</td>\n",
       "      <td>1</td>\n",
       "      <td>2</td>\n",
       "      <td>FEVER</td>\n",
       "      <td>81.0</td>\n",
       "      <td>2095</td>\n",
       "      <td>1</td>\n",
       "    </tr>\n",
       "    <tr>\n",
       "      <th>2</th>\n",
       "      <td>121205</td>\n",
       "      <td>91</td>\n",
       "      <td>1</td>\n",
       "      <td>5559</td>\n",
       "      <td>1</td>\n",
       "      <td>2</td>\n",
       "      <td>FEVER</td>\n",
       "      <td>81.0</td>\n",
       "      <td>2095</td>\n",
       "      <td>1</td>\n",
       "    </tr>\n",
       "  </tbody>\n",
       "</table>\n",
       "</div>"
      ],
      "text/plain": [
       "   hadm_id  subject_id_x  expire_flag_x icd9_code  gender  admission_type  \\\n",
       "0   121205            91              1     20008       1               2   \n",
       "1   121205            91              1      2765       1               2   \n",
       "2   121205            91              1      5559       1               2   \n",
       "\n",
       "  diagnosis   age  year  d  \n",
       "0     FEVER  81.0  2095  1  \n",
       "1     FEVER  81.0  2095  1  \n",
       "2     FEVER  81.0  2095  1  "
      ]
     },
     "execution_count": 233,
     "metadata": {},
     "output_type": "execute_result"
    }
   ],
   "source": [
    "df_model[:3]"
   ]
  },
  {
   "cell_type": "code",
   "execution_count": 249,
   "metadata": {
    "collapsed": false,
    "deletable": true,
    "editable": true
   },
   "outputs": [],
   "source": [
    "## Randomly choose 10,000 rows from alive and 10,000 from expired\n",
    "df_a = df_alive.iloc[np.random.randint(0, len(df_alive), 10000)]\n",
    "df_e = df_expired.iloc[np.random.randint(0, len(df_expired), 10000)]\n",
    "\n",
    "total = pd.concat([df_a,df_e])\n",
    "ext_test  = pd.merge(total, df_model, how='left', on=['hadm_id'])\n",
    "\n",
    "ext_test = ext_test.drop(['expire_flag_x','subject_id_x', 'icd9_code_y', 'year'], axis=1)\n",
    "ext_test.rename(columns={'icd9_code_x': 'icd9_code' },inplace=True)\n",
    "\n",
    "\"\"\"to be merged later w/pre_pivot\n",
    "\"\"\"\n",
    "ext_tmp = (ext_test\n",
    " .groupby('hadm_id')['hadm_id','subject_id','expire_flag','gender','admission_type','diagnosis','age']\n",
    " .head(1)\n",
    "  )"
   ]
  },
  {
   "cell_type": "code",
   "execution_count": 256,
   "metadata": {
    "collapsed": false,
    "deletable": true,
    "editable": true
   },
   "outputs": [],
   "source": [
    "\"\"\" pivot \"\"\"\n",
    "ext_pivot = pd.pivot_table(ext_test, values='d', index=['hadm_id','subject_id'], columns=['icd9_code'])\n",
    "\n",
    "### flatten the index, and fill NaN's with 0\n",
    "ext_pivot.reset_index(col_level=0, inplace = True)\n",
    "ext_pivot.fillna(0, inplace=True)"
   ]
  },
  {
   "cell_type": "code",
   "execution_count": 257,
   "metadata": {
    "collapsed": false,
    "deletable": true,
    "editable": true
   },
   "outputs": [
    {
     "data": {
      "text/html": [
       "<div>\n",
       "<style scoped>\n",
       "    .dataframe tbody tr th:only-of-type {\n",
       "        vertical-align: middle;\n",
       "    }\n",
       "\n",
       "    .dataframe tbody tr th {\n",
       "        vertical-align: top;\n",
       "    }\n",
       "\n",
       "    .dataframe thead th {\n",
       "        text-align: right;\n",
       "    }\n",
       "</style>\n",
       "<table border=\"1\" class=\"dataframe\">\n",
       "  <thead>\n",
       "    <tr style=\"text-align: right;\">\n",
       "      <th>icd9_code</th>\n",
       "      <th>hadm_id</th>\n",
       "      <th>subject_id</th>\n",
       "      <th>00845</th>\n",
       "      <th>0088</th>\n",
       "      <th>0091</th>\n",
       "      <th>0311</th>\n",
       "      <th>0340</th>\n",
       "      <th>0380</th>\n",
       "      <th>03810</th>\n",
       "      <th>03811</th>\n",
       "      <th>...</th>\n",
       "      <th>V8537</th>\n",
       "      <th>V854</th>\n",
       "      <th>V8541</th>\n",
       "      <th>V8542</th>\n",
       "      <th>V8543</th>\n",
       "      <th>V8544</th>\n",
       "      <th>V860</th>\n",
       "      <th>V872</th>\n",
       "      <th>V8741</th>\n",
       "      <th>V8801</th>\n",
       "    </tr>\n",
       "  </thead>\n",
       "  <tbody>\n",
       "    <tr>\n",
       "      <th>0</th>\n",
       "      <td>100003</td>\n",
       "      <td>54610</td>\n",
       "      <td>0.0</td>\n",
       "      <td>0.0</td>\n",
       "      <td>0.0</td>\n",
       "      <td>0.0</td>\n",
       "      <td>0.0</td>\n",
       "      <td>0.0</td>\n",
       "      <td>0.0</td>\n",
       "      <td>0.0</td>\n",
       "      <td>...</td>\n",
       "      <td>0.0</td>\n",
       "      <td>0.0</td>\n",
       "      <td>0.0</td>\n",
       "      <td>0.0</td>\n",
       "      <td>0.0</td>\n",
       "      <td>0.0</td>\n",
       "      <td>0.0</td>\n",
       "      <td>0.0</td>\n",
       "      <td>0.0</td>\n",
       "      <td>0.0</td>\n",
       "    </tr>\n",
       "    <tr>\n",
       "      <th>1</th>\n",
       "      <td>100011</td>\n",
       "      <td>87977</td>\n",
       "      <td>0.0</td>\n",
       "      <td>0.0</td>\n",
       "      <td>0.0</td>\n",
       "      <td>0.0</td>\n",
       "      <td>0.0</td>\n",
       "      <td>0.0</td>\n",
       "      <td>0.0</td>\n",
       "      <td>0.0</td>\n",
       "      <td>...</td>\n",
       "      <td>0.0</td>\n",
       "      <td>0.0</td>\n",
       "      <td>0.0</td>\n",
       "      <td>0.0</td>\n",
       "      <td>0.0</td>\n",
       "      <td>0.0</td>\n",
       "      <td>0.0</td>\n",
       "      <td>0.0</td>\n",
       "      <td>0.0</td>\n",
       "      <td>0.0</td>\n",
       "    </tr>\n",
       "    <tr>\n",
       "      <th>2</th>\n",
       "      <td>100016</td>\n",
       "      <td>68591</td>\n",
       "      <td>0.0</td>\n",
       "      <td>0.0</td>\n",
       "      <td>0.0</td>\n",
       "      <td>0.0</td>\n",
       "      <td>0.0</td>\n",
       "      <td>0.0</td>\n",
       "      <td>0.0</td>\n",
       "      <td>0.0</td>\n",
       "      <td>...</td>\n",
       "      <td>0.0</td>\n",
       "      <td>0.0</td>\n",
       "      <td>0.0</td>\n",
       "      <td>0.0</td>\n",
       "      <td>0.0</td>\n",
       "      <td>0.0</td>\n",
       "      <td>0.0</td>\n",
       "      <td>0.0</td>\n",
       "      <td>0.0</td>\n",
       "      <td>0.0</td>\n",
       "    </tr>\n",
       "  </tbody>\n",
       "</table>\n",
       "<p>3 rows × 2214 columns</p>\n",
       "</div>"
      ],
      "text/plain": [
       "icd9_code  hadm_id  subject_id  00845  0088  0091  0311  0340  0380  03810  \\\n",
       "0           100003       54610    0.0   0.0   0.0   0.0   0.0   0.0    0.0   \n",
       "1           100011       87977    0.0   0.0   0.0   0.0   0.0   0.0    0.0   \n",
       "2           100016       68591    0.0   0.0   0.0   0.0   0.0   0.0    0.0   \n",
       "\n",
       "icd9_code  03811  ...    V8537  V854  V8541  V8542  V8543  V8544  V860  V872  \\\n",
       "0            0.0  ...      0.0   0.0    0.0    0.0    0.0    0.0   0.0   0.0   \n",
       "1            0.0  ...      0.0   0.0    0.0    0.0    0.0    0.0   0.0   0.0   \n",
       "2            0.0  ...      0.0   0.0    0.0    0.0    0.0    0.0   0.0   0.0   \n",
       "\n",
       "icd9_code  V8741  V8801  \n",
       "0            0.0    0.0  \n",
       "1            0.0    0.0  \n",
       "2            0.0    0.0  \n",
       "\n",
       "[3 rows x 2214 columns]"
      ]
     },
     "execution_count": 257,
     "metadata": {},
     "output_type": "execute_result"
    }
   ],
   "source": [
    "ext_pivot[:3]"
   ]
  },
  {
   "cell_type": "code",
   "execution_count": 258,
   "metadata": {
    "collapsed": false,
    "deletable": true,
    "editable": true
   },
   "outputs": [],
   "source": [
    "\"\"\" MERGE \"\"\"\n",
    "merged_external_data= pd.merge(ext_tmp, ext_pivot, how='left', on=['hadm_id','subject_id'])"
   ]
  },
  {
   "cell_type": "code",
   "execution_count": 259,
   "metadata": {
    "collapsed": false,
    "deletable": true,
    "editable": true
   },
   "outputs": [
    {
     "data": {
      "text/html": [
       "<div>\n",
       "<style scoped>\n",
       "    .dataframe tbody tr th:only-of-type {\n",
       "        vertical-align: middle;\n",
       "    }\n",
       "\n",
       "    .dataframe tbody tr th {\n",
       "        vertical-align: top;\n",
       "    }\n",
       "\n",
       "    .dataframe thead th {\n",
       "        text-align: right;\n",
       "    }\n",
       "</style>\n",
       "<table border=\"1\" class=\"dataframe\">\n",
       "  <thead>\n",
       "    <tr style=\"text-align: right;\">\n",
       "      <th></th>\n",
       "      <th>hadm_id</th>\n",
       "      <th>subject_id</th>\n",
       "      <th>expire_flag</th>\n",
       "      <th>gender</th>\n",
       "      <th>admission_type</th>\n",
       "      <th>diagnosis</th>\n",
       "      <th>age</th>\n",
       "      <th>00845</th>\n",
       "      <th>0088</th>\n",
       "      <th>0091</th>\n",
       "      <th>...</th>\n",
       "      <th>V8537</th>\n",
       "      <th>V854</th>\n",
       "      <th>V8541</th>\n",
       "      <th>V8542</th>\n",
       "      <th>V8543</th>\n",
       "      <th>V8544</th>\n",
       "      <th>V860</th>\n",
       "      <th>V872</th>\n",
       "      <th>V8741</th>\n",
       "      <th>V8801</th>\n",
       "    </tr>\n",
       "  </thead>\n",
       "  <tbody>\n",
       "    <tr>\n",
       "      <th>0</th>\n",
       "      <td>145978</td>\n",
       "      <td>30575</td>\n",
       "      <td>0</td>\n",
       "      <td>0</td>\n",
       "      <td>2</td>\n",
       "      <td>CO2 NARCOSIS</td>\n",
       "      <td>50.0</td>\n",
       "      <td>0.0</td>\n",
       "      <td>0.0</td>\n",
       "      <td>0.0</td>\n",
       "      <td>...</td>\n",
       "      <td>0.0</td>\n",
       "      <td>0.0</td>\n",
       "      <td>0.0</td>\n",
       "      <td>0.0</td>\n",
       "      <td>0.0</td>\n",
       "      <td>0.0</td>\n",
       "      <td>0.0</td>\n",
       "      <td>0.0</td>\n",
       "      <td>0.0</td>\n",
       "      <td>0.0</td>\n",
       "    </tr>\n",
       "    <tr>\n",
       "      <th>1</th>\n",
       "      <td>108945</td>\n",
       "      <td>11861</td>\n",
       "      <td>0</td>\n",
       "      <td>1</td>\n",
       "      <td>2</td>\n",
       "      <td>DIABETIC KETOACIDOSIS;TELEMETRY</td>\n",
       "      <td>20.0</td>\n",
       "      <td>0.0</td>\n",
       "      <td>0.0</td>\n",
       "      <td>0.0</td>\n",
       "      <td>...</td>\n",
       "      <td>0.0</td>\n",
       "      <td>0.0</td>\n",
       "      <td>0.0</td>\n",
       "      <td>0.0</td>\n",
       "      <td>0.0</td>\n",
       "      <td>0.0</td>\n",
       "      <td>0.0</td>\n",
       "      <td>0.0</td>\n",
       "      <td>0.0</td>\n",
       "      <td>0.0</td>\n",
       "    </tr>\n",
       "    <tr>\n",
       "      <th>2</th>\n",
       "      <td>137003</td>\n",
       "      <td>49623</td>\n",
       "      <td>0</td>\n",
       "      <td>1</td>\n",
       "      <td>2</td>\n",
       "      <td>SEPSIS</td>\n",
       "      <td>60.0</td>\n",
       "      <td>0.0</td>\n",
       "      <td>0.0</td>\n",
       "      <td>0.0</td>\n",
       "      <td>...</td>\n",
       "      <td>0.0</td>\n",
       "      <td>0.0</td>\n",
       "      <td>0.0</td>\n",
       "      <td>0.0</td>\n",
       "      <td>0.0</td>\n",
       "      <td>0.0</td>\n",
       "      <td>0.0</td>\n",
       "      <td>0.0</td>\n",
       "      <td>0.0</td>\n",
       "      <td>0.0</td>\n",
       "    </tr>\n",
       "  </tbody>\n",
       "</table>\n",
       "<p>3 rows × 2219 columns</p>\n",
       "</div>"
      ],
      "text/plain": [
       "   hadm_id  subject_id  expire_flag  gender  admission_type  \\\n",
       "0   145978       30575            0       0               2   \n",
       "1   108945       11861            0       1               2   \n",
       "2   137003       49623            0       1               2   \n",
       "\n",
       "                         diagnosis   age  00845  0088  0091  ...    V8537  \\\n",
       "0                     CO2 NARCOSIS  50.0    0.0   0.0   0.0  ...      0.0   \n",
       "1  DIABETIC KETOACIDOSIS;TELEMETRY  20.0    0.0   0.0   0.0  ...      0.0   \n",
       "2                           SEPSIS  60.0    0.0   0.0   0.0  ...      0.0   \n",
       "\n",
       "   V854  V8541  V8542  V8543  V8544  V860  V872  V8741  V8801  \n",
       "0   0.0    0.0    0.0    0.0    0.0   0.0   0.0    0.0    0.0  \n",
       "1   0.0    0.0    0.0    0.0    0.0   0.0   0.0    0.0    0.0  \n",
       "2   0.0    0.0    0.0    0.0    0.0   0.0   0.0    0.0    0.0  \n",
       "\n",
       "[3 rows x 2219 columns]"
      ]
     },
     "execution_count": 259,
     "metadata": {},
     "output_type": "execute_result"
    }
   ],
   "source": [
    "merged_external_data[:3]"
   ]
  },
  {
   "cell_type": "code",
   "execution_count": 260,
   "metadata": {
    "collapsed": true,
    "deletable": true,
    "editable": true
   },
   "outputs": [],
   "source": [
    "\"\"\" SAVE \"\"\"\n",
    "#merged_external_data.to_csv(\"external_validate.csv\",  index=None)"
   ]
  },
  {
   "cell_type": "code",
   "execution_count": null,
   "metadata": {
    "collapsed": true,
    "deletable": true,
    "editable": true
   },
   "outputs": [],
   "source": []
  },
  {
   "cell_type": "markdown",
   "metadata": {
    "deletable": true,
    "editable": true
   },
   "source": [
    "# Part 4: Naive bayes;  find good features from Diagnoses using Likelihood model\n",
    "\n",
    "\n",
    "**data tables** : \n",
    "These two data tables are the same; they just are for different expire flags: 1 - fatal, 0- survived. They count up ** AND SORT**  by the most fatal/survived cases\n",
    "\n",
    "                    new_alive, -- long survived \n",
    "            most_common_icd9   -- long fatal \n",
    "\n",
    "\n",
    "\\\\[\\frac{P(death | icd9 =x) }{P(survival | icd9 =x)} = prior* \\frac{ P(icd9 = x | death) }{P(icd9 = x | survival)} \\\\]\n",
    "\n",
    "\\\\[  = prior* \\frac{ \\frac{count Deaths}{All Deaths}} {\\frac{count Survival}{All Survival}} \\\\]\n",
    "\n",
    "\n",
    "+ ** Ratio_Pd_Ps is the Fatality **\n",
    "    + the higher this ratio, the more fatal a particular icd9 code is\n",
    "+ this second fraction I have\n",
    "+ the baseline/prior is just the ratio of total_death/total_survival\n",
    "\n",
    "### Some results: not all icd9-codes seem fatal:  \n",
    "\n",
    "Number of unique icd9 codes for Survival + Fatal admissions:  6422 4823\n",
    "\n",
    "### Create merged_nbayes:\n",
    "Contains "
   ]
  },
  {
   "cell_type": "code",
   "execution_count": 17,
   "metadata": {
    "collapsed": false,
    "deletable": true,
    "editable": true
   },
   "outputs": [],
   "source": [
    "# finish Clean up; don't need hadm_id/subject_id here \n",
    "most_common_icd9.drop(['hadm_id', 'subject_id'], axis=1, inplace=True)\n"
   ]
  },
  {
   "cell_type": "code",
   "execution_count": 20,
   "metadata": {
    "collapsed": false,
    "deletable": true,
    "editable": true
   },
   "outputs": [
    {
     "name": "stdout",
     "output_type": "stream",
     "text": [
      " Number of unique icd9 codes for Survival + Fatal admissions:  6422 4823\n"
     ]
    },
    {
     "data": {
      "text/html": [
       "<div>\n",
       "<style scoped>\n",
       "    .dataframe tbody tr th:only-of-type {\n",
       "        vertical-align: middle;\n",
       "    }\n",
       "\n",
       "    .dataframe tbody tr th {\n",
       "        vertical-align: top;\n",
       "    }\n",
       "\n",
       "    .dataframe thead th {\n",
       "        text-align: right;\n",
       "    }\n",
       "</style>\n",
       "<table border=\"1\" class=\"dataframe\">\n",
       "  <thead>\n",
       "    <tr style=\"text-align: right;\">\n",
       "      <th></th>\n",
       "      <th>icd9_code</th>\n",
       "      <th>num_alive_flags</th>\n",
       "    </tr>\n",
       "  </thead>\n",
       "  <tbody>\n",
       "    <tr>\n",
       "      <th>1704</th>\n",
       "      <td>4019</td>\n",
       "      <td>20032</td>\n",
       "    </tr>\n",
       "    <tr>\n",
       "      <th>1843</th>\n",
       "      <td>4280</td>\n",
       "      <td>11548</td>\n",
       "    </tr>\n",
       "    <tr>\n",
       "      <th>1757</th>\n",
       "      <td>41401</td>\n",
       "      <td>11140</td>\n",
       "    </tr>\n",
       "  </tbody>\n",
       "</table>\n",
       "</div>"
      ],
      "text/plain": [
       "     icd9_code  num_alive_flags\n",
       "1704      4019            20032\n",
       "1843      4280            11548\n",
       "1757     41401            11140"
      ]
     },
     "execution_count": 20,
     "metadata": {},
     "output_type": "execute_result"
    }
   ],
   "source": [
    "### use pre-merged Fatal/Alive Data frames\n",
    "print( \" Number of unique icd9 codes for Survival + Fatal admissions: \", len(new_alive), \n",
    "      len(most_common_icd9))\n",
    "new_alive[:3]"
   ]
  },
  {
   "cell_type": "code",
   "execution_count": 21,
   "metadata": {
    "collapsed": false,
    "deletable": true,
    "editable": true
   },
   "outputs": [
    {
     "data": {
      "text/html": [
       "<div>\n",
       "<style scoped>\n",
       "    .dataframe tbody tr th:only-of-type {\n",
       "        vertical-align: middle;\n",
       "    }\n",
       "\n",
       "    .dataframe tbody tr th {\n",
       "        vertical-align: top;\n",
       "    }\n",
       "\n",
       "    .dataframe thead th {\n",
       "        text-align: right;\n",
       "    }\n",
       "</style>\n",
       "<table border=\"1\" class=\"dataframe\">\n",
       "  <thead>\n",
       "    <tr style=\"text-align: right;\">\n",
       "      <th></th>\n",
       "      <th>icd9_code</th>\n",
       "      <th>num_expire_flags</th>\n",
       "    </tr>\n",
       "  </thead>\n",
       "  <tbody>\n",
       "    <tr>\n",
       "      <th>1627</th>\n",
       "      <td>4280</td>\n",
       "      <td>20339</td>\n",
       "    </tr>\n",
       "    <tr>\n",
       "      <th>1495</th>\n",
       "      <td>4019</td>\n",
       "      <td>16894</td>\n",
       "    </tr>\n",
       "  </tbody>\n",
       "</table>\n",
       "</div>"
      ],
      "text/plain": [
       "     icd9_code  num_expire_flags\n",
       "1627      4280             20339\n",
       "1495      4019             16894"
      ]
     },
     "execution_count": 21,
     "metadata": {},
     "output_type": "execute_result"
    }
   ],
   "source": [
    "most_common_icd9[:2]"
   ]
  },
  {
   "cell_type": "markdown",
   "metadata": {
    "deletable": true,
    "editable": true
   },
   "source": [
    "1. Number of AND type of 1cd9_code which have NO Fatal admission: \n",
    "    + merge, set as N/A for num_expire_flags in most_common_icd9 "
   ]
  },
  {
   "cell_type": "code",
   "execution_count": 32,
   "metadata": {
    "collapsed": true,
    "deletable": true,
    "editable": true
   },
   "outputs": [],
   "source": [
    "# from Part 3 : below \n",
    "total_fatal = 22586\n",
    "total_survival =  36390"
   ]
  },
  {
   "cell_type": "code",
   "execution_count": 22,
   "metadata": {
    "collapsed": false,
    "deletable": true,
    "editable": true
   },
   "outputs": [],
   "source": [
    "# merge left on most_common_icd9, ie. keep all of icd9\n",
    "merged_nbayes = pd.merge(most_common_icd9, new_alive, how='right', on='icd9_code')"
   ]
  },
  {
   "cell_type": "code",
   "execution_count": 24,
   "metadata": {
    "collapsed": false
   },
   "outputs": [
    {
     "data": {
      "text/html": [
       "<div>\n",
       "<style scoped>\n",
       "    .dataframe tbody tr th:only-of-type {\n",
       "        vertical-align: middle;\n",
       "    }\n",
       "\n",
       "    .dataframe tbody tr th {\n",
       "        vertical-align: top;\n",
       "    }\n",
       "\n",
       "    .dataframe thead th {\n",
       "        text-align: right;\n",
       "    }\n",
       "</style>\n",
       "<table border=\"1\" class=\"dataframe\">\n",
       "  <thead>\n",
       "    <tr style=\"text-align: right;\">\n",
       "      <th></th>\n",
       "      <th>icd9_code</th>\n",
       "      <th>num_expire_flags</th>\n",
       "      <th>num_alive_flags</th>\n",
       "    </tr>\n",
       "  </thead>\n",
       "  <tbody>\n",
       "    <tr>\n",
       "      <th>6421</th>\n",
       "      <td>V9103</td>\n",
       "      <td>NaN</td>\n",
       "      <td>1</td>\n",
       "    </tr>\n",
       "    <tr>\n",
       "      <th>3885</th>\n",
       "      <td>78262</td>\n",
       "      <td>1.0</td>\n",
       "      <td>1</td>\n",
       "    </tr>\n",
       "    <tr>\n",
       "      <th>5637</th>\n",
       "      <td>V716</td>\n",
       "      <td>NaN</td>\n",
       "      <td>1</td>\n",
       "    </tr>\n",
       "    <tr>\n",
       "      <th>5638</th>\n",
       "      <td>E8611</td>\n",
       "      <td>NaN</td>\n",
       "      <td>1</td>\n",
       "    </tr>\n",
       "    <tr>\n",
       "      <th>5639</th>\n",
       "      <td>E8178</td>\n",
       "      <td>NaN</td>\n",
       "      <td>1</td>\n",
       "    </tr>\n",
       "    <tr>\n",
       "      <th>5640</th>\n",
       "      <td>E8587</td>\n",
       "      <td>NaN</td>\n",
       "      <td>1</td>\n",
       "    </tr>\n",
       "    <tr>\n",
       "      <th>5641</th>\n",
       "      <td>E856</td>\n",
       "      <td>NaN</td>\n",
       "      <td>1</td>\n",
       "    </tr>\n",
       "    <tr>\n",
       "      <th>5636</th>\n",
       "      <td>E8619</td>\n",
       "      <td>NaN</td>\n",
       "      <td>1</td>\n",
       "    </tr>\n",
       "    <tr>\n",
       "      <th>5642</th>\n",
       "      <td>E8554</td>\n",
       "      <td>NaN</td>\n",
       "      <td>1</td>\n",
       "    </tr>\n",
       "    <tr>\n",
       "      <th>5644</th>\n",
       "      <td>V812</td>\n",
       "      <td>NaN</td>\n",
       "      <td>1</td>\n",
       "    </tr>\n",
       "    <tr>\n",
       "      <th>5645</th>\n",
       "      <td>E8405</td>\n",
       "      <td>NaN</td>\n",
       "      <td>1</td>\n",
       "    </tr>\n",
       "    <tr>\n",
       "      <th>5646</th>\n",
       "      <td>E8189</td>\n",
       "      <td>NaN</td>\n",
       "      <td>1</td>\n",
       "    </tr>\n",
       "    <tr>\n",
       "      <th>5647</th>\n",
       "      <td>E9196</td>\n",
       "      <td>NaN</td>\n",
       "      <td>1</td>\n",
       "    </tr>\n",
       "    <tr>\n",
       "      <th>5648</th>\n",
       "      <td>E9583</td>\n",
       "      <td>NaN</td>\n",
       "      <td>1</td>\n",
       "    </tr>\n",
       "    <tr>\n",
       "      <th>5649</th>\n",
       "      <td>E975</td>\n",
       "      <td>NaN</td>\n",
       "      <td>1</td>\n",
       "    </tr>\n",
       "    <tr>\n",
       "      <th>5643</th>\n",
       "      <td>V789</td>\n",
       "      <td>NaN</td>\n",
       "      <td>1</td>\n",
       "    </tr>\n",
       "    <tr>\n",
       "      <th>5650</th>\n",
       "      <td>E9677</td>\n",
       "      <td>NaN</td>\n",
       "      <td>1</td>\n",
       "    </tr>\n",
       "    <tr>\n",
       "      <th>5635</th>\n",
       "      <td>E8663</td>\n",
       "      <td>NaN</td>\n",
       "      <td>1</td>\n",
       "    </tr>\n",
       "    <tr>\n",
       "      <th>5633</th>\n",
       "      <td>E8381</td>\n",
       "      <td>NaN</td>\n",
       "      <td>1</td>\n",
       "    </tr>\n",
       "    <tr>\n",
       "      <th>5619</th>\n",
       "      <td>E8314</td>\n",
       "      <td>NaN</td>\n",
       "      <td>1</td>\n",
       "    </tr>\n",
       "    <tr>\n",
       "      <th>5620</th>\n",
       "      <td>E8193</td>\n",
       "      <td>NaN</td>\n",
       "      <td>1</td>\n",
       "    </tr>\n",
       "    <tr>\n",
       "      <th>5621</th>\n",
       "      <td>E8278</td>\n",
       "      <td>NaN</td>\n",
       "      <td>1</td>\n",
       "    </tr>\n",
       "    <tr>\n",
       "      <th>5622</th>\n",
       "      <td>E8258</td>\n",
       "      <td>NaN</td>\n",
       "      <td>1</td>\n",
       "    </tr>\n",
       "    <tr>\n",
       "      <th>5623</th>\n",
       "      <td>E8248</td>\n",
       "      <td>NaN</td>\n",
       "      <td>1</td>\n",
       "    </tr>\n",
       "    <tr>\n",
       "      <th>5624</th>\n",
       "      <td>E8740</td>\n",
       "      <td>NaN</td>\n",
       "      <td>1</td>\n",
       "    </tr>\n",
       "    <tr>\n",
       "      <th>5634</th>\n",
       "      <td>E8384</td>\n",
       "      <td>NaN</td>\n",
       "      <td>1</td>\n",
       "    </tr>\n",
       "    <tr>\n",
       "      <th>5625</th>\n",
       "      <td>E8242</td>\n",
       "      <td>NaN</td>\n",
       "      <td>1</td>\n",
       "    </tr>\n",
       "    <tr>\n",
       "      <th>5627</th>\n",
       "      <td>E8228</td>\n",
       "      <td>NaN</td>\n",
       "      <td>1</td>\n",
       "    </tr>\n",
       "    <tr>\n",
       "      <th>5628</th>\n",
       "      <td>E8226</td>\n",
       "      <td>NaN</td>\n",
       "      <td>1</td>\n",
       "    </tr>\n",
       "    <tr>\n",
       "      <th>5629</th>\n",
       "      <td>E8211</td>\n",
       "      <td>NaN</td>\n",
       "      <td>1</td>\n",
       "    </tr>\n",
       "    <tr>\n",
       "      <th>...</th>\n",
       "      <td>...</td>\n",
       "      <td>...</td>\n",
       "      <td>...</td>\n",
       "    </tr>\n",
       "    <tr>\n",
       "      <th>75</th>\n",
       "      <td>49390</td>\n",
       "      <td>1844.0</td>\n",
       "      <td>3133</td>\n",
       "    </tr>\n",
       "    <tr>\n",
       "      <th>24</th>\n",
       "      <td>5859</td>\n",
       "      <td>4395.0</td>\n",
       "      <td>3183</td>\n",
       "    </tr>\n",
       "    <tr>\n",
       "      <th>27</th>\n",
       "      <td>412</td>\n",
       "      <td>4150.0</td>\n",
       "      <td>3395</td>\n",
       "    </tr>\n",
       "    <tr>\n",
       "      <th>26</th>\n",
       "      <td>40390</td>\n",
       "      <td>4158.0</td>\n",
       "      <td>3434</td>\n",
       "    </tr>\n",
       "    <tr>\n",
       "      <th>13</th>\n",
       "      <td>5856</td>\n",
       "      <td>6318.0</td>\n",
       "      <td>3554</td>\n",
       "    </tr>\n",
       "    <tr>\n",
       "      <th>9</th>\n",
       "      <td>496</td>\n",
       "      <td>6450.0</td>\n",
       "      <td>3585</td>\n",
       "    </tr>\n",
       "    <tr>\n",
       "      <th>19</th>\n",
       "      <td>V5861</td>\n",
       "      <td>5387.0</td>\n",
       "      <td>3638</td>\n",
       "    </tr>\n",
       "    <tr>\n",
       "      <th>35</th>\n",
       "      <td>32723</td>\n",
       "      <td>3184.0</td>\n",
       "      <td>3674</td>\n",
       "    </tr>\n",
       "    <tr>\n",
       "      <th>2198</th>\n",
       "      <td>V3000</td>\n",
       "      <td>12.0</td>\n",
       "      <td>3685</td>\n",
       "    </tr>\n",
       "    <tr>\n",
       "      <th>8</th>\n",
       "      <td>486</td>\n",
       "      <td>6802.0</td>\n",
       "      <td>3784</td>\n",
       "    </tr>\n",
       "    <tr>\n",
       "      <th>15</th>\n",
       "      <td>2762</td>\n",
       "      <td>5901.0</td>\n",
       "      <td>4027</td>\n",
       "    </tr>\n",
       "    <tr>\n",
       "      <th>23</th>\n",
       "      <td>2851</td>\n",
       "      <td>4408.0</td>\n",
       "      <td>4217</td>\n",
       "    </tr>\n",
       "    <tr>\n",
       "      <th>68</th>\n",
       "      <td>3051</td>\n",
       "      <td>2029.0</td>\n",
       "      <td>4300</td>\n",
       "    </tr>\n",
       "    <tr>\n",
       "      <th>34</th>\n",
       "      <td>V5867</td>\n",
       "      <td>3207.0</td>\n",
       "      <td>4322</td>\n",
       "    </tr>\n",
       "    <tr>\n",
       "      <th>12</th>\n",
       "      <td>2449</td>\n",
       "      <td>6333.0</td>\n",
       "      <td>4605</td>\n",
       "    </tr>\n",
       "    <tr>\n",
       "      <th>1606</th>\n",
       "      <td>V290</td>\n",
       "      <td>26.0</td>\n",
       "      <td>5618</td>\n",
       "    </tr>\n",
       "    <tr>\n",
       "      <th>5</th>\n",
       "      <td>51881</td>\n",
       "      <td>10397.0</td>\n",
       "      <td>5636</td>\n",
       "    </tr>\n",
       "    <tr>\n",
       "      <th>7</th>\n",
       "      <td>5990</td>\n",
       "      <td>8920.0</td>\n",
       "      <td>5681</td>\n",
       "    </tr>\n",
       "    <tr>\n",
       "      <th>20</th>\n",
       "      <td>2720</td>\n",
       "      <td>4738.0</td>\n",
       "      <td>5701</td>\n",
       "    </tr>\n",
       "    <tr>\n",
       "      <th>32</th>\n",
       "      <td>311</td>\n",
       "      <td>3229.0</td>\n",
       "      <td>5781</td>\n",
       "    </tr>\n",
       "    <tr>\n",
       "      <th>3545</th>\n",
       "      <td>V053</td>\n",
       "      <td>2.0</td>\n",
       "      <td>5959</td>\n",
       "    </tr>\n",
       "    <tr>\n",
       "      <th>17</th>\n",
       "      <td>2859</td>\n",
       "      <td>5697.0</td>\n",
       "      <td>5998</td>\n",
       "    </tr>\n",
       "    <tr>\n",
       "      <th>6</th>\n",
       "      <td>25000</td>\n",
       "      <td>9906.0</td>\n",
       "      <td>7883</td>\n",
       "    </tr>\n",
       "    <tr>\n",
       "      <th>16</th>\n",
       "      <td>53081</td>\n",
       "      <td>5803.0</td>\n",
       "      <td>8054</td>\n",
       "    </tr>\n",
       "    <tr>\n",
       "      <th>3</th>\n",
       "      <td>5849</td>\n",
       "      <td>12690.0</td>\n",
       "      <td>8721</td>\n",
       "    </tr>\n",
       "    <tr>\n",
       "      <th>2</th>\n",
       "      <td>42731</td>\n",
       "      <td>15895.0</td>\n",
       "      <td>9396</td>\n",
       "    </tr>\n",
       "    <tr>\n",
       "      <th>11</th>\n",
       "      <td>2724</td>\n",
       "      <td>6338.0</td>\n",
       "      <td>10602</td>\n",
       "    </tr>\n",
       "    <tr>\n",
       "      <th>4</th>\n",
       "      <td>41401</td>\n",
       "      <td>12325.0</td>\n",
       "      <td>11140</td>\n",
       "    </tr>\n",
       "    <tr>\n",
       "      <th>0</th>\n",
       "      <td>4280</td>\n",
       "      <td>20339.0</td>\n",
       "      <td>11548</td>\n",
       "    </tr>\n",
       "    <tr>\n",
       "      <th>1</th>\n",
       "      <td>4019</td>\n",
       "      <td>16894.0</td>\n",
       "      <td>20032</td>\n",
       "    </tr>\n",
       "  </tbody>\n",
       "</table>\n",
       "<p>6422 rows × 3 columns</p>\n",
       "</div>"
      ],
      "text/plain": [
       "     icd9_code  num_expire_flags  num_alive_flags\n",
       "6421     V9103               NaN                1\n",
       "3885     78262               1.0                1\n",
       "5637      V716               NaN                1\n",
       "5638     E8611               NaN                1\n",
       "5639     E8178               NaN                1\n",
       "5640     E8587               NaN                1\n",
       "5641      E856               NaN                1\n",
       "5636     E8619               NaN                1\n",
       "5642     E8554               NaN                1\n",
       "5644      V812               NaN                1\n",
       "5645     E8405               NaN                1\n",
       "5646     E8189               NaN                1\n",
       "5647     E9196               NaN                1\n",
       "5648     E9583               NaN                1\n",
       "5649      E975               NaN                1\n",
       "5643      V789               NaN                1\n",
       "5650     E9677               NaN                1\n",
       "5635     E8663               NaN                1\n",
       "5633     E8381               NaN                1\n",
       "5619     E8314               NaN                1\n",
       "5620     E8193               NaN                1\n",
       "5621     E8278               NaN                1\n",
       "5622     E8258               NaN                1\n",
       "5623     E8248               NaN                1\n",
       "5624     E8740               NaN                1\n",
       "5634     E8384               NaN                1\n",
       "5625     E8242               NaN                1\n",
       "5627     E8228               NaN                1\n",
       "5628     E8226               NaN                1\n",
       "5629     E8211               NaN                1\n",
       "...        ...               ...              ...\n",
       "75       49390            1844.0             3133\n",
       "24        5859            4395.0             3183\n",
       "27         412            4150.0             3395\n",
       "26       40390            4158.0             3434\n",
       "13        5856            6318.0             3554\n",
       "9          496            6450.0             3585\n",
       "19       V5861            5387.0             3638\n",
       "35       32723            3184.0             3674\n",
       "2198     V3000              12.0             3685\n",
       "8          486            6802.0             3784\n",
       "15        2762            5901.0             4027\n",
       "23        2851            4408.0             4217\n",
       "68        3051            2029.0             4300\n",
       "34       V5867            3207.0             4322\n",
       "12        2449            6333.0             4605\n",
       "1606      V290              26.0             5618\n",
       "5        51881           10397.0             5636\n",
       "7         5990            8920.0             5681\n",
       "20        2720            4738.0             5701\n",
       "32         311            3229.0             5781\n",
       "3545      V053               2.0             5959\n",
       "17        2859            5697.0             5998\n",
       "6        25000            9906.0             7883\n",
       "16       53081            5803.0             8054\n",
       "3         5849           12690.0             8721\n",
       "2        42731           15895.0             9396\n",
       "11        2724            6338.0            10602\n",
       "4        41401           12325.0            11140\n",
       "0         4280           20339.0            11548\n",
       "1         4019           16894.0            20032\n",
       "\n",
       "[6422 rows x 3 columns]"
      ]
     },
     "execution_count": 24,
     "metadata": {},
     "output_type": "execute_result"
    }
   ],
   "source": [
    "merged_nbayes.sort_values('num_alive_flags')"
   ]
  },
  {
   "cell_type": "code",
   "execution_count": 34,
   "metadata": {
    "collapsed": false,
    "deletable": true,
    "editable": true
   },
   "outputs": [
    {
     "name": "stderr",
     "output_type": "stream",
     "text": [
      "/Users/billierolih/anaconda/lib/python2.7/site-packages/pandas/core/computation/check.py:17: UserWarning: The installed version of numexpr 2.4.3 is not supported in pandas and will be not be used\n",
      "The minimum supported version is 2.4.6\n",
      "\n",
      "  ver=ver, min_ver=_MIN_NUMEXPR_VERSION), UserWarning)\n"
     ]
    }
   ],
   "source": [
    "#P_icd9_Death\n",
    "merged_nbayes['P_icd9_Survival']= merged_nbayes.num_alive_flags/total_survival\n",
    "#P_icd9_Survival\n",
    "merged_nbayes['P_icd9_Death']=merged_nbayes.num_expire_flags/total_fatal"
   ]
  },
  {
   "cell_type": "code",
   "execution_count": 35,
   "metadata": {
    "collapsed": false,
    "deletable": true,
    "editable": true
   },
   "outputs": [
    {
     "data": {
      "text/html": [
       "<div>\n",
       "<style scoped>\n",
       "    .dataframe tbody tr th:only-of-type {\n",
       "        vertical-align: middle;\n",
       "    }\n",
       "\n",
       "    .dataframe tbody tr th {\n",
       "        vertical-align: top;\n",
       "    }\n",
       "\n",
       "    .dataframe thead th {\n",
       "        text-align: right;\n",
       "    }\n",
       "</style>\n",
       "<table border=\"1\" class=\"dataframe\">\n",
       "  <thead>\n",
       "    <tr style=\"text-align: right;\">\n",
       "      <th></th>\n",
       "      <th>icd9_code</th>\n",
       "      <th>num_expire_flags</th>\n",
       "      <th>num_alive_flags</th>\n",
       "      <th>P_icd9_Survival</th>\n",
       "      <th>P_icd9_Death</th>\n",
       "    </tr>\n",
       "  </thead>\n",
       "  <tbody>\n",
       "    <tr>\n",
       "      <th>0</th>\n",
       "      <td>4280</td>\n",
       "      <td>20339.0</td>\n",
       "      <td>11548</td>\n",
       "      <td>0.317340</td>\n",
       "      <td>0.900514</td>\n",
       "    </tr>\n",
       "    <tr>\n",
       "      <th>1</th>\n",
       "      <td>4019</td>\n",
       "      <td>16894.0</td>\n",
       "      <td>20032</td>\n",
       "      <td>0.550481</td>\n",
       "      <td>0.747985</td>\n",
       "    </tr>\n",
       "    <tr>\n",
       "      <th>2</th>\n",
       "      <td>42731</td>\n",
       "      <td>15895.0</td>\n",
       "      <td>9396</td>\n",
       "      <td>0.258203</td>\n",
       "      <td>0.703755</td>\n",
       "    </tr>\n",
       "  </tbody>\n",
       "</table>\n",
       "</div>"
      ],
      "text/plain": [
       "  icd9_code  num_expire_flags  num_alive_flags  P_icd9_Survival  P_icd9_Death\n",
       "0      4280           20339.0            11548         0.317340      0.900514\n",
       "1      4019           16894.0            20032         0.550481      0.747985\n",
       "2     42731           15895.0             9396         0.258203      0.703755"
      ]
     },
     "execution_count": 35,
     "metadata": {},
     "output_type": "execute_result"
    }
   ],
   "source": [
    "merged_nbayes[:3]"
   ]
  },
  {
   "cell_type": "markdown",
   "metadata": {
    "deletable": true,
    "editable": true
   },
   "source": [
    "#### make sure icd9_codes for which there are no fatalities return P_icd9_death = 0\n",
    "* basically remove NaN"
   ]
  },
  {
   "cell_type": "code",
   "execution_count": 36,
   "metadata": {
    "collapsed": false,
    "deletable": true,
    "editable": true
   },
   "outputs": [
    {
     "data": {
      "text/plain": [
       "icd9_code           2161\n",
       "num_expire_flags       0\n",
       "num_alive_flags     2161\n",
       "P_icd9_Survival     2161\n",
       "P_icd9_Death           0\n",
       "dtype: int64"
      ]
     },
     "execution_count": 36,
     "metadata": {},
     "output_type": "execute_result"
    }
   ],
   "source": [
    "#merged_nbayes.sort_values('num_expire_flags')\n",
    "\n",
    "merged_nbayes.loc[merged_nbayes.num_expire_flags.isnull()].count()"
   ]
  },
  {
   "cell_type": "code",
   "execution_count": 37,
   "metadata": {
    "collapsed": false,
    "deletable": true,
    "editable": true
   },
   "outputs": [
    {
     "data": {
      "text/plain": [
       "(6422, 5)"
      ]
     },
     "execution_count": 37,
     "metadata": {},
     "output_type": "execute_result"
    }
   ],
   "source": [
    "merged_nbayes.shape"
   ]
  },
  {
   "cell_type": "code",
   "execution_count": 87,
   "metadata": {
    "collapsed": false,
    "deletable": true,
    "editable": true
   },
   "outputs": [],
   "source": [
    "# P(survival | icd9)\n",
    "# baseline* (0.317340)`"
   ]
  },
  {
   "cell_type": "code",
   "execution_count": null,
   "metadata": {
    "collapsed": false,
    "deletable": true,
    "editable": true
   },
   "outputs": [],
   "source": [
    "# P(death | icd9)\n",
    "baseline*(0.900514)"
   ]
  },
  {
   "cell_type": "markdown",
   "metadata": {
    "deletable": true,
    "editable": true
   },
   "source": [
    "## part 4a: What is Ratio_Pd_Ps? + Add  Diagnoses Dictionary\n",
    "\n",
    "**Ratio_Pd_Ps ** -- is the Fatality\n",
    "The exact question we are answering here: give icd9 = x, what are the odds of Death over Survival? \n",
    "\n",
    "dataframes: \n",
    "                    + most_Survival\n",
    "                    + most_Death (or zed) \n",
    "            \n",
    "these just counts the same icd9 codes and sorts by Ratio_Pd_Ps (Fatality Ratio)  "
   ]
  },
  {
   "cell_type": "code",
   "execution_count": 38,
   "metadata": {
    "collapsed": false,
    "deletable": true,
    "editable": true
   },
   "outputs": [],
   "source": [
    "# Calculate Ratio_Pd_Ps: ratio of Death to Survival\n",
    "baseline = total_fatal/total_survival\n",
    "\n",
    "#Ratio_Pd_Ps\n",
    "merged_nbayes['Ratio_Pd_Ps']= baseline*merged_nbayes.P_icd9_Death/merged_nbayes.P_icd9_Survival"
   ]
  },
  {
   "cell_type": "code",
   "execution_count": 39,
   "metadata": {
    "collapsed": false,
    "deletable": true,
    "editable": true
   },
   "outputs": [
    {
     "data": {
      "text/plain": [
       "0.62066501786205"
      ]
     },
     "execution_count": 39,
     "metadata": {},
     "output_type": "execute_result"
    }
   ],
   "source": [
    "baseline"
   ]
  },
  {
   "cell_type": "code",
   "execution_count": 40,
   "metadata": {
    "collapsed": false,
    "deletable": true,
    "editable": true
   },
   "outputs": [
    {
     "data": {
      "text/html": [
       "<div>\n",
       "<style scoped>\n",
       "    .dataframe tbody tr th:only-of-type {\n",
       "        vertical-align: middle;\n",
       "    }\n",
       "\n",
       "    .dataframe tbody tr th {\n",
       "        vertical-align: top;\n",
       "    }\n",
       "\n",
       "    .dataframe thead th {\n",
       "        text-align: right;\n",
       "    }\n",
       "</style>\n",
       "<table border=\"1\" class=\"dataframe\">\n",
       "  <thead>\n",
       "    <tr style=\"text-align: right;\">\n",
       "      <th></th>\n",
       "      <th>icd9_code</th>\n",
       "      <th>num_expire_flags</th>\n",
       "      <th>num_alive_flags</th>\n",
       "      <th>P_icd9_Survival</th>\n",
       "      <th>P_icd9_Death</th>\n",
       "      <th>Ratio_Pd_Ps</th>\n",
       "    </tr>\n",
       "  </thead>\n",
       "  <tbody>\n",
       "    <tr>\n",
       "      <th>0</th>\n",
       "      <td>4280</td>\n",
       "      <td>20339.0</td>\n",
       "      <td>11548</td>\n",
       "      <td>0.317340</td>\n",
       "      <td>0.900514</td>\n",
       "      <td>1.761257</td>\n",
       "    </tr>\n",
       "    <tr>\n",
       "      <th>1</th>\n",
       "      <td>4019</td>\n",
       "      <td>16894.0</td>\n",
       "      <td>20032</td>\n",
       "      <td>0.550481</td>\n",
       "      <td>0.747985</td>\n",
       "      <td>0.843351</td>\n",
       "    </tr>\n",
       "    <tr>\n",
       "      <th>2</th>\n",
       "      <td>42731</td>\n",
       "      <td>15895.0</td>\n",
       "      <td>9396</td>\n",
       "      <td>0.258203</td>\n",
       "      <td>0.703755</td>\n",
       "      <td>1.691677</td>\n",
       "    </tr>\n",
       "  </tbody>\n",
       "</table>\n",
       "</div>"
      ],
      "text/plain": [
       "  icd9_code  num_expire_flags  num_alive_flags  P_icd9_Survival  P_icd9_Death  \\\n",
       "0      4280           20339.0            11548         0.317340      0.900514   \n",
       "1      4019           16894.0            20032         0.550481      0.747985   \n",
       "2     42731           15895.0             9396         0.258203      0.703755   \n",
       "\n",
       "   Ratio_Pd_Ps  \n",
       "0     1.761257  \n",
       "1     0.843351  \n",
       "2     1.691677  "
      ]
     },
     "execution_count": 40,
     "metadata": {},
     "output_type": "execute_result"
    }
   ],
   "source": [
    "merged_nbayes[:3]"
   ]
  },
  {
   "cell_type": "code",
   "execution_count": 41,
   "metadata": {
    "collapsed": false
   },
   "outputs": [
    {
     "data": {
      "text/html": [
       "<div>\n",
       "<style scoped>\n",
       "    .dataframe tbody tr th:only-of-type {\n",
       "        vertical-align: middle;\n",
       "    }\n",
       "\n",
       "    .dataframe tbody tr th {\n",
       "        vertical-align: top;\n",
       "    }\n",
       "\n",
       "    .dataframe thead th {\n",
       "        text-align: right;\n",
       "    }\n",
       "</style>\n",
       "<table border=\"1\" class=\"dataframe\">\n",
       "  <thead>\n",
       "    <tr style=\"text-align: right;\">\n",
       "      <th></th>\n",
       "      <th>icd9_code</th>\n",
       "      <th>num_expire_flags</th>\n",
       "      <th>num_alive_flags</th>\n",
       "      <th>P_icd9_Survival</th>\n",
       "      <th>P_icd9_Death</th>\n",
       "      <th>Ratio_Pd_Ps</th>\n",
       "    </tr>\n",
       "  </thead>\n",
       "  <tbody>\n",
       "    <tr>\n",
       "      <th>0</th>\n",
       "      <td>4280</td>\n",
       "      <td>20339.0</td>\n",
       "      <td>11548</td>\n",
       "      <td>0.317340</td>\n",
       "      <td>0.900514</td>\n",
       "      <td>1.761257</td>\n",
       "    </tr>\n",
       "    <tr>\n",
       "      <th>1</th>\n",
       "      <td>4019</td>\n",
       "      <td>16894.0</td>\n",
       "      <td>20032</td>\n",
       "      <td>0.550481</td>\n",
       "      <td>0.747985</td>\n",
       "      <td>0.843351</td>\n",
       "    </tr>\n",
       "    <tr>\n",
       "      <th>2</th>\n",
       "      <td>42731</td>\n",
       "      <td>15895.0</td>\n",
       "      <td>9396</td>\n",
       "      <td>0.258203</td>\n",
       "      <td>0.703755</td>\n",
       "      <td>1.691677</td>\n",
       "    </tr>\n",
       "    <tr>\n",
       "      <th>3</th>\n",
       "      <td>5849</td>\n",
       "      <td>12690.0</td>\n",
       "      <td>8721</td>\n",
       "      <td>0.239654</td>\n",
       "      <td>0.561852</td>\n",
       "      <td>1.455108</td>\n",
       "    </tr>\n",
       "    <tr>\n",
       "      <th>4</th>\n",
       "      <td>41401</td>\n",
       "      <td>12325.0</td>\n",
       "      <td>11140</td>\n",
       "      <td>0.306128</td>\n",
       "      <td>0.545692</td>\n",
       "      <td>1.106373</td>\n",
       "    </tr>\n",
       "    <tr>\n",
       "      <th>5</th>\n",
       "      <td>51881</td>\n",
       "      <td>10397.0</td>\n",
       "      <td>5636</td>\n",
       "      <td>0.154878</td>\n",
       "      <td>0.460329</td>\n",
       "      <td>1.844748</td>\n",
       "    </tr>\n",
       "    <tr>\n",
       "      <th>6</th>\n",
       "      <td>25000</td>\n",
       "      <td>9906.0</td>\n",
       "      <td>7883</td>\n",
       "      <td>0.216625</td>\n",
       "      <td>0.438590</td>\n",
       "      <td>1.256628</td>\n",
       "    </tr>\n",
       "    <tr>\n",
       "      <th>7</th>\n",
       "      <td>5990</td>\n",
       "      <td>8920.0</td>\n",
       "      <td>5681</td>\n",
       "      <td>0.156114</td>\n",
       "      <td>0.394935</td>\n",
       "      <td>1.570146</td>\n",
       "    </tr>\n",
       "    <tr>\n",
       "      <th>8</th>\n",
       "      <td>486</td>\n",
       "      <td>6802.0</td>\n",
       "      <td>3784</td>\n",
       "      <td>0.103985</td>\n",
       "      <td>0.301160</td>\n",
       "      <td>1.797569</td>\n",
       "    </tr>\n",
       "    <tr>\n",
       "      <th>9</th>\n",
       "      <td>496</td>\n",
       "      <td>6450.0</td>\n",
       "      <td>3585</td>\n",
       "      <td>0.098516</td>\n",
       "      <td>0.285575</td>\n",
       "      <td>1.799163</td>\n",
       "    </tr>\n",
       "    <tr>\n",
       "      <th>10</th>\n",
       "      <td>40391</td>\n",
       "      <td>6435.0</td>\n",
       "      <td>3095</td>\n",
       "      <td>0.085051</td>\n",
       "      <td>0.284911</td>\n",
       "      <td>2.079160</td>\n",
       "    </tr>\n",
       "    <tr>\n",
       "      <th>11</th>\n",
       "      <td>2724</td>\n",
       "      <td>6338.0</td>\n",
       "      <td>10602</td>\n",
       "      <td>0.291344</td>\n",
       "      <td>0.280616</td>\n",
       "      <td>0.597812</td>\n",
       "    </tr>\n",
       "    <tr>\n",
       "      <th>12</th>\n",
       "      <td>2449</td>\n",
       "      <td>6333.0</td>\n",
       "      <td>4605</td>\n",
       "      <td>0.126546</td>\n",
       "      <td>0.280395</td>\n",
       "      <td>1.375244</td>\n",
       "    </tr>\n",
       "    <tr>\n",
       "      <th>13</th>\n",
       "      <td>5856</td>\n",
       "      <td>6318.0</td>\n",
       "      <td>3554</td>\n",
       "      <td>0.097664</td>\n",
       "      <td>0.279731</td>\n",
       "      <td>1.777715</td>\n",
       "    </tr>\n",
       "    <tr>\n",
       "      <th>14</th>\n",
       "      <td>99592</td>\n",
       "      <td>6000.0</td>\n",
       "      <td>2673</td>\n",
       "      <td>0.073454</td>\n",
       "      <td>0.265651</td>\n",
       "      <td>2.244669</td>\n",
       "    </tr>\n",
       "    <tr>\n",
       "      <th>15</th>\n",
       "      <td>2762</td>\n",
       "      <td>5901.0</td>\n",
       "      <td>4027</td>\n",
       "      <td>0.110662</td>\n",
       "      <td>0.261268</td>\n",
       "      <td>1.465359</td>\n",
       "    </tr>\n",
       "    <tr>\n",
       "      <th>16</th>\n",
       "      <td>53081</td>\n",
       "      <td>5803.0</td>\n",
       "      <td>8054</td>\n",
       "      <td>0.221325</td>\n",
       "      <td>0.256929</td>\n",
       "      <td>0.720512</td>\n",
       "    </tr>\n",
       "    <tr>\n",
       "      <th>17</th>\n",
       "      <td>2859</td>\n",
       "      <td>5697.0</td>\n",
       "      <td>5998</td>\n",
       "      <td>0.164826</td>\n",
       "      <td>0.252236</td>\n",
       "      <td>0.949817</td>\n",
       "    </tr>\n",
       "    <tr>\n",
       "      <th>18</th>\n",
       "      <td>0389</td>\n",
       "      <td>5524.0</td>\n",
       "      <td>2338</td>\n",
       "      <td>0.064248</td>\n",
       "      <td>0.244576</td>\n",
       "      <td>2.362703</td>\n",
       "    </tr>\n",
       "    <tr>\n",
       "      <th>19</th>\n",
       "      <td>V5861</td>\n",
       "      <td>5387.0</td>\n",
       "      <td>3638</td>\n",
       "      <td>0.099973</td>\n",
       "      <td>0.238511</td>\n",
       "      <td>1.480759</td>\n",
       "    </tr>\n",
       "    <tr>\n",
       "      <th>20</th>\n",
       "      <td>2720</td>\n",
       "      <td>4738.0</td>\n",
       "      <td>5701</td>\n",
       "      <td>0.156664</td>\n",
       "      <td>0.209776</td>\n",
       "      <td>0.831082</td>\n",
       "    </tr>\n",
       "    <tr>\n",
       "      <th>21</th>\n",
       "      <td>5070</td>\n",
       "      <td>4723.0</td>\n",
       "      <td>2482</td>\n",
       "      <td>0.068206</td>\n",
       "      <td>0.209112</td>\n",
       "      <td>1.902901</td>\n",
       "    </tr>\n",
       "    <tr>\n",
       "      <th>22</th>\n",
       "      <td>V4581</td>\n",
       "      <td>4671.0</td>\n",
       "      <td>2598</td>\n",
       "      <td>0.071393</td>\n",
       "      <td>0.206810</td>\n",
       "      <td>1.797921</td>\n",
       "    </tr>\n",
       "    <tr>\n",
       "      <th>23</th>\n",
       "      <td>2851</td>\n",
       "      <td>4408.0</td>\n",
       "      <td>4217</td>\n",
       "      <td>0.115883</td>\n",
       "      <td>0.195165</td>\n",
       "      <td>1.045293</td>\n",
       "    </tr>\n",
       "    <tr>\n",
       "      <th>24</th>\n",
       "      <td>5859</td>\n",
       "      <td>4395.0</td>\n",
       "      <td>3183</td>\n",
       "      <td>0.087469</td>\n",
       "      <td>0.194590</td>\n",
       "      <td>1.380773</td>\n",
       "    </tr>\n",
       "    <tr>\n",
       "      <th>25</th>\n",
       "      <td>2875</td>\n",
       "      <td>4196.0</td>\n",
       "      <td>2548</td>\n",
       "      <td>0.070019</td>\n",
       "      <td>0.185779</td>\n",
       "      <td>1.646782</td>\n",
       "    </tr>\n",
       "    <tr>\n",
       "      <th>26</th>\n",
       "      <td>40390</td>\n",
       "      <td>4158.0</td>\n",
       "      <td>3434</td>\n",
       "      <td>0.094367</td>\n",
       "      <td>0.184096</td>\n",
       "      <td>1.210833</td>\n",
       "    </tr>\n",
       "    <tr>\n",
       "      <th>27</th>\n",
       "      <td>412</td>\n",
       "      <td>4150.0</td>\n",
       "      <td>3395</td>\n",
       "      <td>0.093295</td>\n",
       "      <td>0.183742</td>\n",
       "      <td>1.222386</td>\n",
       "    </tr>\n",
       "    <tr>\n",
       "      <th>28</th>\n",
       "      <td>28521</td>\n",
       "      <td>3925.0</td>\n",
       "      <td>2035</td>\n",
       "      <td>0.055922</td>\n",
       "      <td>0.173780</td>\n",
       "      <td>1.928747</td>\n",
       "    </tr>\n",
       "    <tr>\n",
       "      <th>29</th>\n",
       "      <td>78552</td>\n",
       "      <td>3906.0</td>\n",
       "      <td>1754</td>\n",
       "      <td>0.048200</td>\n",
       "      <td>0.172939</td>\n",
       "      <td>2.226910</td>\n",
       "    </tr>\n",
       "    <tr>\n",
       "      <th>...</th>\n",
       "      <td>...</td>\n",
       "      <td>...</td>\n",
       "      <td>...</td>\n",
       "      <td>...</td>\n",
       "      <td>...</td>\n",
       "      <td>...</td>\n",
       "    </tr>\n",
       "    <tr>\n",
       "      <th>6392</th>\n",
       "      <td>75433</td>\n",
       "      <td>NaN</td>\n",
       "      <td>1</td>\n",
       "      <td>0.000027</td>\n",
       "      <td>NaN</td>\n",
       "      <td>NaN</td>\n",
       "    </tr>\n",
       "    <tr>\n",
       "      <th>6393</th>\n",
       "      <td>7601</td>\n",
       "      <td>NaN</td>\n",
       "      <td>1</td>\n",
       "      <td>0.000027</td>\n",
       "      <td>NaN</td>\n",
       "      <td>NaN</td>\n",
       "    </tr>\n",
       "    <tr>\n",
       "      <th>6394</th>\n",
       "      <td>76070</td>\n",
       "      <td>NaN</td>\n",
       "      <td>1</td>\n",
       "      <td>0.000027</td>\n",
       "      <td>NaN</td>\n",
       "      <td>NaN</td>\n",
       "    </tr>\n",
       "    <tr>\n",
       "      <th>6395</th>\n",
       "      <td>7723</td>\n",
       "      <td>NaN</td>\n",
       "      <td>1</td>\n",
       "      <td>0.000027</td>\n",
       "      <td>NaN</td>\n",
       "      <td>NaN</td>\n",
       "    </tr>\n",
       "    <tr>\n",
       "      <th>6396</th>\n",
       "      <td>7796</td>\n",
       "      <td>NaN</td>\n",
       "      <td>1</td>\n",
       "      <td>0.000027</td>\n",
       "      <td>NaN</td>\n",
       "      <td>NaN</td>\n",
       "    </tr>\n",
       "    <tr>\n",
       "      <th>6397</th>\n",
       "      <td>7791</td>\n",
       "      <td>NaN</td>\n",
       "      <td>1</td>\n",
       "      <td>0.000027</td>\n",
       "      <td>NaN</td>\n",
       "      <td>NaN</td>\n",
       "    </tr>\n",
       "    <tr>\n",
       "      <th>6398</th>\n",
       "      <td>7789</td>\n",
       "      <td>NaN</td>\n",
       "      <td>1</td>\n",
       "      <td>0.000027</td>\n",
       "      <td>NaN</td>\n",
       "      <td>NaN</td>\n",
       "    </tr>\n",
       "    <tr>\n",
       "      <th>6399</th>\n",
       "      <td>7782</td>\n",
       "      <td>NaN</td>\n",
       "      <td>1</td>\n",
       "      <td>0.000027</td>\n",
       "      <td>NaN</td>\n",
       "      <td>NaN</td>\n",
       "    </tr>\n",
       "    <tr>\n",
       "      <th>6400</th>\n",
       "      <td>7779</td>\n",
       "      <td>NaN</td>\n",
       "      <td>1</td>\n",
       "      <td>0.000027</td>\n",
       "      <td>NaN</td>\n",
       "      <td>NaN</td>\n",
       "    </tr>\n",
       "    <tr>\n",
       "      <th>6401</th>\n",
       "      <td>7768</td>\n",
       "      <td>NaN</td>\n",
       "      <td>1</td>\n",
       "      <td>0.000027</td>\n",
       "      <td>NaN</td>\n",
       "      <td>NaN</td>\n",
       "    </tr>\n",
       "    <tr>\n",
       "      <th>6402</th>\n",
       "      <td>7760</td>\n",
       "      <td>NaN</td>\n",
       "      <td>1</td>\n",
       "      <td>0.000027</td>\n",
       "      <td>NaN</td>\n",
       "      <td>NaN</td>\n",
       "    </tr>\n",
       "    <tr>\n",
       "      <th>6403</th>\n",
       "      <td>7753</td>\n",
       "      <td>NaN</td>\n",
       "      <td>1</td>\n",
       "      <td>0.000027</td>\n",
       "      <td>NaN</td>\n",
       "      <td>NaN</td>\n",
       "    </tr>\n",
       "    <tr>\n",
       "      <th>6404</th>\n",
       "      <td>7751</td>\n",
       "      <td>NaN</td>\n",
       "      <td>1</td>\n",
       "      <td>0.000027</td>\n",
       "      <td>NaN</td>\n",
       "      <td>NaN</td>\n",
       "    </tr>\n",
       "    <tr>\n",
       "      <th>6405</th>\n",
       "      <td>7744</td>\n",
       "      <td>NaN</td>\n",
       "      <td>1</td>\n",
       "      <td>0.000027</td>\n",
       "      <td>NaN</td>\n",
       "      <td>NaN</td>\n",
       "    </tr>\n",
       "    <tr>\n",
       "      <th>6406</th>\n",
       "      <td>77430</td>\n",
       "      <td>NaN</td>\n",
       "      <td>1</td>\n",
       "      <td>0.000027</td>\n",
       "      <td>NaN</td>\n",
       "      <td>NaN</td>\n",
       "    </tr>\n",
       "    <tr>\n",
       "      <th>6407</th>\n",
       "      <td>7741</td>\n",
       "      <td>NaN</td>\n",
       "      <td>1</td>\n",
       "      <td>0.000027</td>\n",
       "      <td>NaN</td>\n",
       "      <td>NaN</td>\n",
       "    </tr>\n",
       "    <tr>\n",
       "      <th>6408</th>\n",
       "      <td>7721</td>\n",
       "      <td>NaN</td>\n",
       "      <td>1</td>\n",
       "      <td>0.000027</td>\n",
       "      <td>NaN</td>\n",
       "      <td>NaN</td>\n",
       "    </tr>\n",
       "    <tr>\n",
       "      <th>6409</th>\n",
       "      <td>76076</td>\n",
       "      <td>NaN</td>\n",
       "      <td>1</td>\n",
       "      <td>0.000027</td>\n",
       "      <td>NaN</td>\n",
       "      <td>NaN</td>\n",
       "    </tr>\n",
       "    <tr>\n",
       "      <th>6410</th>\n",
       "      <td>7686</td>\n",
       "      <td>NaN</td>\n",
       "      <td>1</td>\n",
       "      <td>0.000027</td>\n",
       "      <td>NaN</td>\n",
       "      <td>NaN</td>\n",
       "    </tr>\n",
       "    <tr>\n",
       "      <th>6411</th>\n",
       "      <td>7675</td>\n",
       "      <td>NaN</td>\n",
       "      <td>1</td>\n",
       "      <td>0.000027</td>\n",
       "      <td>NaN</td>\n",
       "      <td>NaN</td>\n",
       "    </tr>\n",
       "    <tr>\n",
       "      <th>6412</th>\n",
       "      <td>76511</td>\n",
       "      <td>NaN</td>\n",
       "      <td>1</td>\n",
       "      <td>0.000027</td>\n",
       "      <td>NaN</td>\n",
       "      <td>NaN</td>\n",
       "    </tr>\n",
       "    <tr>\n",
       "      <th>6413</th>\n",
       "      <td>76510</td>\n",
       "      <td>NaN</td>\n",
       "      <td>1</td>\n",
       "      <td>0.000027</td>\n",
       "      <td>NaN</td>\n",
       "      <td>NaN</td>\n",
       "    </tr>\n",
       "    <tr>\n",
       "      <th>6414</th>\n",
       "      <td>76508</td>\n",
       "      <td>NaN</td>\n",
       "      <td>1</td>\n",
       "      <td>0.000027</td>\n",
       "      <td>NaN</td>\n",
       "      <td>NaN</td>\n",
       "    </tr>\n",
       "    <tr>\n",
       "      <th>6415</th>\n",
       "      <td>76506</td>\n",
       "      <td>NaN</td>\n",
       "      <td>1</td>\n",
       "      <td>0.000027</td>\n",
       "      <td>NaN</td>\n",
       "      <td>NaN</td>\n",
       "    </tr>\n",
       "    <tr>\n",
       "      <th>6416</th>\n",
       "      <td>76418</td>\n",
       "      <td>NaN</td>\n",
       "      <td>1</td>\n",
       "      <td>0.000027</td>\n",
       "      <td>NaN</td>\n",
       "      <td>NaN</td>\n",
       "    </tr>\n",
       "    <tr>\n",
       "      <th>6417</th>\n",
       "      <td>76381</td>\n",
       "      <td>NaN</td>\n",
       "      <td>1</td>\n",
       "      <td>0.000027</td>\n",
       "      <td>NaN</td>\n",
       "      <td>NaN</td>\n",
       "    </tr>\n",
       "    <tr>\n",
       "      <th>6418</th>\n",
       "      <td>7611</td>\n",
       "      <td>NaN</td>\n",
       "      <td>1</td>\n",
       "      <td>0.000027</td>\n",
       "      <td>NaN</td>\n",
       "      <td>NaN</td>\n",
       "    </tr>\n",
       "    <tr>\n",
       "      <th>6419</th>\n",
       "      <td>7610</td>\n",
       "      <td>NaN</td>\n",
       "      <td>1</td>\n",
       "      <td>0.000027</td>\n",
       "      <td>NaN</td>\n",
       "      <td>NaN</td>\n",
       "    </tr>\n",
       "    <tr>\n",
       "      <th>6420</th>\n",
       "      <td>76077</td>\n",
       "      <td>NaN</td>\n",
       "      <td>1</td>\n",
       "      <td>0.000027</td>\n",
       "      <td>NaN</td>\n",
       "      <td>NaN</td>\n",
       "    </tr>\n",
       "    <tr>\n",
       "      <th>6421</th>\n",
       "      <td>V9103</td>\n",
       "      <td>NaN</td>\n",
       "      <td>1</td>\n",
       "      <td>0.000027</td>\n",
       "      <td>NaN</td>\n",
       "      <td>NaN</td>\n",
       "    </tr>\n",
       "  </tbody>\n",
       "</table>\n",
       "<p>6422 rows × 6 columns</p>\n",
       "</div>"
      ],
      "text/plain": [
       "     icd9_code  num_expire_flags  num_alive_flags  P_icd9_Survival  \\\n",
       "0         4280           20339.0            11548         0.317340   \n",
       "1         4019           16894.0            20032         0.550481   \n",
       "2        42731           15895.0             9396         0.258203   \n",
       "3         5849           12690.0             8721         0.239654   \n",
       "4        41401           12325.0            11140         0.306128   \n",
       "5        51881           10397.0             5636         0.154878   \n",
       "6        25000            9906.0             7883         0.216625   \n",
       "7         5990            8920.0             5681         0.156114   \n",
       "8          486            6802.0             3784         0.103985   \n",
       "9          496            6450.0             3585         0.098516   \n",
       "10       40391            6435.0             3095         0.085051   \n",
       "11        2724            6338.0            10602         0.291344   \n",
       "12        2449            6333.0             4605         0.126546   \n",
       "13        5856            6318.0             3554         0.097664   \n",
       "14       99592            6000.0             2673         0.073454   \n",
       "15        2762            5901.0             4027         0.110662   \n",
       "16       53081            5803.0             8054         0.221325   \n",
       "17        2859            5697.0             5998         0.164826   \n",
       "18        0389            5524.0             2338         0.064248   \n",
       "19       V5861            5387.0             3638         0.099973   \n",
       "20        2720            4738.0             5701         0.156664   \n",
       "21        5070            4723.0             2482         0.068206   \n",
       "22       V4581            4671.0             2598         0.071393   \n",
       "23        2851            4408.0             4217         0.115883   \n",
       "24        5859            4395.0             3183         0.087469   \n",
       "25        2875            4196.0             2548         0.070019   \n",
       "26       40390            4158.0             3434         0.094367   \n",
       "27         412            4150.0             3395         0.093295   \n",
       "28       28521            3925.0             2035         0.055922   \n",
       "29       78552            3906.0             1754         0.048200   \n",
       "...        ...               ...              ...              ...   \n",
       "6392     75433               NaN                1         0.000027   \n",
       "6393      7601               NaN                1         0.000027   \n",
       "6394     76070               NaN                1         0.000027   \n",
       "6395      7723               NaN                1         0.000027   \n",
       "6396      7796               NaN                1         0.000027   \n",
       "6397      7791               NaN                1         0.000027   \n",
       "6398      7789               NaN                1         0.000027   \n",
       "6399      7782               NaN                1         0.000027   \n",
       "6400      7779               NaN                1         0.000027   \n",
       "6401      7768               NaN                1         0.000027   \n",
       "6402      7760               NaN                1         0.000027   \n",
       "6403      7753               NaN                1         0.000027   \n",
       "6404      7751               NaN                1         0.000027   \n",
       "6405      7744               NaN                1         0.000027   \n",
       "6406     77430               NaN                1         0.000027   \n",
       "6407      7741               NaN                1         0.000027   \n",
       "6408      7721               NaN                1         0.000027   \n",
       "6409     76076               NaN                1         0.000027   \n",
       "6410      7686               NaN                1         0.000027   \n",
       "6411      7675               NaN                1         0.000027   \n",
       "6412     76511               NaN                1         0.000027   \n",
       "6413     76510               NaN                1         0.000027   \n",
       "6414     76508               NaN                1         0.000027   \n",
       "6415     76506               NaN                1         0.000027   \n",
       "6416     76418               NaN                1         0.000027   \n",
       "6417     76381               NaN                1         0.000027   \n",
       "6418      7611               NaN                1         0.000027   \n",
       "6419      7610               NaN                1         0.000027   \n",
       "6420     76077               NaN                1         0.000027   \n",
       "6421     V9103               NaN                1         0.000027   \n",
       "\n",
       "      P_icd9_Death  Ratio_Pd_Ps  \n",
       "0         0.900514     1.761257  \n",
       "1         0.747985     0.843351  \n",
       "2         0.703755     1.691677  \n",
       "3         0.561852     1.455108  \n",
       "4         0.545692     1.106373  \n",
       "5         0.460329     1.844748  \n",
       "6         0.438590     1.256628  \n",
       "7         0.394935     1.570146  \n",
       "8         0.301160     1.797569  \n",
       "9         0.285575     1.799163  \n",
       "10        0.284911     2.079160  \n",
       "11        0.280616     0.597812  \n",
       "12        0.280395     1.375244  \n",
       "13        0.279731     1.777715  \n",
       "14        0.265651     2.244669  \n",
       "15        0.261268     1.465359  \n",
       "16        0.256929     0.720512  \n",
       "17        0.252236     0.949817  \n",
       "18        0.244576     2.362703  \n",
       "19        0.238511     1.480759  \n",
       "20        0.209776     0.831082  \n",
       "21        0.209112     1.902901  \n",
       "22        0.206810     1.797921  \n",
       "23        0.195165     1.045293  \n",
       "24        0.194590     1.380773  \n",
       "25        0.185779     1.646782  \n",
       "26        0.184096     1.210833  \n",
       "27        0.183742     1.222386  \n",
       "28        0.173780     1.928747  \n",
       "29        0.172939     2.226910  \n",
       "...            ...          ...  \n",
       "6392           NaN          NaN  \n",
       "6393           NaN          NaN  \n",
       "6394           NaN          NaN  \n",
       "6395           NaN          NaN  \n",
       "6396           NaN          NaN  \n",
       "6397           NaN          NaN  \n",
       "6398           NaN          NaN  \n",
       "6399           NaN          NaN  \n",
       "6400           NaN          NaN  \n",
       "6401           NaN          NaN  \n",
       "6402           NaN          NaN  \n",
       "6403           NaN          NaN  \n",
       "6404           NaN          NaN  \n",
       "6405           NaN          NaN  \n",
       "6406           NaN          NaN  \n",
       "6407           NaN          NaN  \n",
       "6408           NaN          NaN  \n",
       "6409           NaN          NaN  \n",
       "6410           NaN          NaN  \n",
       "6411           NaN          NaN  \n",
       "6412           NaN          NaN  \n",
       "6413           NaN          NaN  \n",
       "6414           NaN          NaN  \n",
       "6415           NaN          NaN  \n",
       "6416           NaN          NaN  \n",
       "6417           NaN          NaN  \n",
       "6418           NaN          NaN  \n",
       "6419           NaN          NaN  \n",
       "6420           NaN          NaN  \n",
       "6421           NaN          NaN  \n",
       "\n",
       "[6422 rows x 6 columns]"
      ]
     },
     "execution_count": 41,
     "metadata": {},
     "output_type": "execute_result"
    }
   ],
   "source": [
    "merged_nbayes"
   ]
  },
  {
   "cell_type": "code",
   "execution_count": 102,
   "metadata": {
    "collapsed": false,
    "deletable": true,
    "editable": true
   },
   "outputs": [
    {
     "data": {
      "text/html": [
       "<div>\n",
       "<style scoped>\n",
       "    .dataframe tbody tr th:only-of-type {\n",
       "        vertical-align: middle;\n",
       "    }\n",
       "\n",
       "    .dataframe tbody tr th {\n",
       "        vertical-align: top;\n",
       "    }\n",
       "\n",
       "    .dataframe thead th {\n",
       "        text-align: right;\n",
       "    }\n",
       "</style>\n",
       "<table border=\"1\" class=\"dataframe\">\n",
       "  <thead>\n",
       "    <tr style=\"text-align: right;\">\n",
       "      <th></th>\n",
       "      <th>icd9_code</th>\n",
       "      <th>num_expire_flags</th>\n",
       "      <th>num_alive_flags</th>\n",
       "      <th>P_icd9_Survival</th>\n",
       "      <th>P_icd9_Death</th>\n",
       "      <th>Ratio_Pd_Ps</th>\n",
       "    </tr>\n",
       "  </thead>\n",
       "  <tbody>\n",
       "    <tr>\n",
       "      <th>3545</th>\n",
       "      <td>V053</td>\n",
       "      <td>2.0</td>\n",
       "      <td>5959</td>\n",
       "      <td>0.163754</td>\n",
       "      <td>0.000089</td>\n",
       "      <td>0.000336</td>\n",
       "    </tr>\n",
       "    <tr>\n",
       "      <th>3849</th>\n",
       "      <td>76527</td>\n",
       "      <td>1.0</td>\n",
       "      <td>910</td>\n",
       "      <td>0.025007</td>\n",
       "      <td>0.000044</td>\n",
       "      <td>0.001099</td>\n",
       "    </tr>\n",
       "    <tr>\n",
       "      <th>3679</th>\n",
       "      <td>77081</td>\n",
       "      <td>2.0</td>\n",
       "      <td>1089</td>\n",
       "      <td>0.029926</td>\n",
       "      <td>0.000089</td>\n",
       "      <td>0.001837</td>\n",
       "    </tr>\n",
       "    <tr>\n",
       "      <th>3691</th>\n",
       "      <td>76518</td>\n",
       "      <td>2.0</td>\n",
       "      <td>955</td>\n",
       "      <td>0.026243</td>\n",
       "      <td>0.000089</td>\n",
       "      <td>0.002094</td>\n",
       "    </tr>\n",
       "    <tr>\n",
       "      <th>3681</th>\n",
       "      <td>7706</td>\n",
       "      <td>2.0</td>\n",
       "      <td>765</td>\n",
       "      <td>0.021022</td>\n",
       "      <td>0.000089</td>\n",
       "      <td>0.002614</td>\n",
       "    </tr>\n",
       "    <tr>\n",
       "      <th>2198</th>\n",
       "      <td>V3000</td>\n",
       "      <td>12.0</td>\n",
       "      <td>3685</td>\n",
       "      <td>0.101264</td>\n",
       "      <td>0.000531</td>\n",
       "      <td>0.003256</td>\n",
       "    </tr>\n",
       "    <tr>\n",
       "      <th>3139</th>\n",
       "      <td>7793</td>\n",
       "      <td>4.0</td>\n",
       "      <td>1133</td>\n",
       "      <td>0.031135</td>\n",
       "      <td>0.000177</td>\n",
       "      <td>0.003530</td>\n",
       "    </tr>\n",
       "    <tr>\n",
       "      <th>3304</th>\n",
       "      <td>7746</td>\n",
       "      <td>3.0</td>\n",
       "      <td>797</td>\n",
       "      <td>0.021902</td>\n",
       "      <td>0.000133</td>\n",
       "      <td>0.003764</td>\n",
       "    </tr>\n",
       "    <tr>\n",
       "      <th>3693</th>\n",
       "      <td>76517</td>\n",
       "      <td>2.0</td>\n",
       "      <td>488</td>\n",
       "      <td>0.013410</td>\n",
       "      <td>0.000089</td>\n",
       "      <td>0.004098</td>\n",
       "    </tr>\n",
       "    <tr>\n",
       "      <th>1606</th>\n",
       "      <td>V290</td>\n",
       "      <td>26.0</td>\n",
       "      <td>5618</td>\n",
       "      <td>0.154383</td>\n",
       "      <td>0.001151</td>\n",
       "      <td>0.004628</td>\n",
       "    </tr>\n",
       "  </tbody>\n",
       "</table>\n",
       "</div>"
      ],
      "text/plain": [
       "     icd9_code  num_expire_flags  num_alive_flags  P_icd9_Survival  \\\n",
       "3545      V053               2.0             5959         0.163754   \n",
       "3849     76527               1.0              910         0.025007   \n",
       "3679     77081               2.0             1089         0.029926   \n",
       "3691     76518               2.0              955         0.026243   \n",
       "3681      7706               2.0              765         0.021022   \n",
       "2198     V3000              12.0             3685         0.101264   \n",
       "3139      7793               4.0             1133         0.031135   \n",
       "3304      7746               3.0              797         0.021902   \n",
       "3693     76517               2.0              488         0.013410   \n",
       "1606      V290              26.0             5618         0.154383   \n",
       "\n",
       "      P_icd9_Death  Ratio_Pd_Ps  \n",
       "3545      0.000089     0.000336  \n",
       "3849      0.000044     0.001099  \n",
       "3679      0.000089     0.001837  \n",
       "3691      0.000089     0.002094  \n",
       "3681      0.000089     0.002614  \n",
       "2198      0.000531     0.003256  \n",
       "3139      0.000177     0.003530  \n",
       "3304      0.000133     0.003764  \n",
       "3693      0.000089     0.004098  \n",
       "1606      0.001151     0.004628  "
      ]
     },
     "execution_count": 102,
     "metadata": {},
     "output_type": "execute_result"
    }
   ],
   "source": [
    "# some of the Lowest values (these icd9 Codes suggest that )\n",
    "merged_nbayes.sort_values('Ratio_Pd_Ps')[:10]"
   ]
  },
  {
   "cell_type": "code",
   "execution_count": 103,
   "metadata": {
    "collapsed": false,
    "deletable": true,
    "editable": true
   },
   "outputs": [],
   "source": [
    "#pd.merge(new_alive_smaller, diagnoses, how='left',on='icd9_code')\n",
    "\n",
    "merged_FIN = (pd.merge(merged_nbayes, diagnoses, how='left', on='icd9_code'))"
   ]
  },
  {
   "cell_type": "code",
   "execution_count": 203,
   "metadata": {
    "collapsed": false,
    "deletable": true,
    "editable": true
   },
   "outputs": [],
   "source": [
    "#merged_FIN[:5]\n"
   ]
  },
  {
   "cell_type": "code",
   "execution_count": 105,
   "metadata": {
    "collapsed": false,
    "deletable": true,
    "editable": true
   },
   "outputs": [],
   "source": [
    "# 20 most common icd9 numbers for observed POSITIVE Survival Odds\n",
    "most_Survival = (merged_FIN\n",
    ".groupby('icd9_code')\n",
    ".first()\n",
    ".reset_index().sort_values('Ratio_Pd_Ps'))[['icd9_code','num_expire_flags','num_alive_flags','Ratio_Pd_Ps','short_title','long_title']][:15]"
   ]
  },
  {
   "cell_type": "code",
   "execution_count": 106,
   "metadata": {
    "collapsed": false,
    "deletable": true,
    "editable": true
   },
   "outputs": [
    {
     "data": {
      "text/html": [
       "<div>\n",
       "<style scoped>\n",
       "    .dataframe tbody tr th:only-of-type {\n",
       "        vertical-align: middle;\n",
       "    }\n",
       "\n",
       "    .dataframe tbody tr th {\n",
       "        vertical-align: top;\n",
       "    }\n",
       "\n",
       "    .dataframe thead th {\n",
       "        text-align: right;\n",
       "    }\n",
       "</style>\n",
       "<table border=\"1\" class=\"dataframe\">\n",
       "  <thead>\n",
       "    <tr style=\"text-align: right;\">\n",
       "      <th></th>\n",
       "      <th>icd9_code</th>\n",
       "      <th>num_expire_flags</th>\n",
       "      <th>num_alive_flags</th>\n",
       "      <th>Ratio_Pd_Ps</th>\n",
       "      <th>short_title</th>\n",
       "      <th>long_title</th>\n",
       "    </tr>\n",
       "  </thead>\n",
       "  <tbody>\n",
       "    <tr>\n",
       "      <th>5997</th>\n",
       "      <td>V053</td>\n",
       "      <td>2.0</td>\n",
       "      <td>5959</td>\n",
       "      <td>0.000336</td>\n",
       "      <td>Need prphyl vc vrl hepat</td>\n",
       "      <td>Need for prophylactic vaccination and inoculat...</td>\n",
       "    </tr>\n",
       "    <tr>\n",
       "      <th>3847</th>\n",
       "      <td>76527</td>\n",
       "      <td>1.0</td>\n",
       "      <td>910</td>\n",
       "      <td>0.001099</td>\n",
       "      <td>33-34 comp wks gestation</td>\n",
       "      <td>33-34 completed weeks of gestation</td>\n",
       "    </tr>\n",
       "    <tr>\n",
       "      <th>3881</th>\n",
       "      <td>77081</td>\n",
       "      <td>2.0</td>\n",
       "      <td>1089</td>\n",
       "      <td>0.001837</td>\n",
       "      <td>Primary apnea of newborn</td>\n",
       "      <td>Primary apnea of newborn</td>\n",
       "    </tr>\n",
       "    <tr>\n",
       "      <th>3839</th>\n",
       "      <td>76518</td>\n",
       "      <td>2.0</td>\n",
       "      <td>955</td>\n",
       "      <td>0.002094</td>\n",
       "      <td>Preterm NEC 2000-2499g</td>\n",
       "      <td>Other preterm infants, 2,000-2,499 grams</td>\n",
       "    </tr>\n",
       "    <tr>\n",
       "      <th>3878</th>\n",
       "      <td>7706</td>\n",
       "      <td>2.0</td>\n",
       "      <td>765</td>\n",
       "      <td>0.002614</td>\n",
       "      <td>NB transitory tachypnea</td>\n",
       "      <td>Transitory tachypnea of newborn</td>\n",
       "    </tr>\n",
       "    <tr>\n",
       "      <th>6177</th>\n",
       "      <td>V3000</td>\n",
       "      <td>12.0</td>\n",
       "      <td>3685</td>\n",
       "      <td>0.003256</td>\n",
       "      <td>Single lb in-hosp w/o cs</td>\n",
       "      <td>Single liveborn, born in hospital, delivered w...</td>\n",
       "    </tr>\n",
       "    <tr>\n",
       "      <th>3959</th>\n",
       "      <td>7793</td>\n",
       "      <td>4.0</td>\n",
       "      <td>1133</td>\n",
       "      <td>0.003530</td>\n",
       "      <td>NaN</td>\n",
       "      <td>NaN</td>\n",
       "    </tr>\n",
       "    <tr>\n",
       "      <th>3920</th>\n",
       "      <td>7746</td>\n",
       "      <td>3.0</td>\n",
       "      <td>797</td>\n",
       "      <td>0.003764</td>\n",
       "      <td>Fetal/neonatal jaund NOS</td>\n",
       "      <td>Unspecified fetal and neonatal jaundice</td>\n",
       "    </tr>\n",
       "    <tr>\n",
       "      <th>3838</th>\n",
       "      <td>76517</td>\n",
       "      <td>2.0</td>\n",
       "      <td>488</td>\n",
       "      <td>0.004098</td>\n",
       "      <td>Preterm NEC 1750-1999g</td>\n",
       "      <td>Other preterm infants, 1,750-1,999 grams</td>\n",
       "    </tr>\n",
       "    <tr>\n",
       "      <th>6172</th>\n",
       "      <td>V290</td>\n",
       "      <td>26.0</td>\n",
       "      <td>5618</td>\n",
       "      <td>0.004628</td>\n",
       "      <td>NB obsrv suspct infect</td>\n",
       "      <td>Observation for suspected infectious condition</td>\n",
       "    </tr>\n",
       "    <tr>\n",
       "      <th>1474</th>\n",
       "      <td>36221</td>\n",
       "      <td>1.0</td>\n",
       "      <td>204</td>\n",
       "      <td>0.004902</td>\n",
       "      <td>Retrolental fibroplasia</td>\n",
       "      <td>Retrolental fibroplasia</td>\n",
       "    </tr>\n",
       "    <tr>\n",
       "      <th>3848</th>\n",
       "      <td>76528</td>\n",
       "      <td>5.0</td>\n",
       "      <td>904</td>\n",
       "      <td>0.005531</td>\n",
       "      <td>35-36 comp wks gestation</td>\n",
       "      <td>35-36 completed weeks of gestation</td>\n",
       "    </tr>\n",
       "    <tr>\n",
       "      <th>3846</th>\n",
       "      <td>76526</td>\n",
       "      <td>3.0</td>\n",
       "      <td>502</td>\n",
       "      <td>0.005976</td>\n",
       "      <td>31-32 comp wks gestation</td>\n",
       "      <td>31-32 completed weeks of gestation</td>\n",
       "    </tr>\n",
       "    <tr>\n",
       "      <th>3964</th>\n",
       "      <td>77981</td>\n",
       "      <td>4.0</td>\n",
       "      <td>626</td>\n",
       "      <td>0.006390</td>\n",
       "      <td>Neonatal bradycardia</td>\n",
       "      <td>Neonatal bradycardia</td>\n",
       "    </tr>\n",
       "    <tr>\n",
       "      <th>3887</th>\n",
       "      <td>77089</td>\n",
       "      <td>4.0</td>\n",
       "      <td>599</td>\n",
       "      <td>0.006678</td>\n",
       "      <td>Resp prob after brth NEC</td>\n",
       "      <td>Other respiratory problems after birth</td>\n",
       "    </tr>\n",
       "  </tbody>\n",
       "</table>\n",
       "</div>"
      ],
      "text/plain": [
       "     icd9_code  num_expire_flags  num_alive_flags  Ratio_Pd_Ps  \\\n",
       "5997      V053               2.0             5959     0.000336   \n",
       "3847     76527               1.0              910     0.001099   \n",
       "3881     77081               2.0             1089     0.001837   \n",
       "3839     76518               2.0              955     0.002094   \n",
       "3878      7706               2.0              765     0.002614   \n",
       "6177     V3000              12.0             3685     0.003256   \n",
       "3959      7793               4.0             1133     0.003530   \n",
       "3920      7746               3.0              797     0.003764   \n",
       "3838     76517               2.0              488     0.004098   \n",
       "6172      V290              26.0             5618     0.004628   \n",
       "1474     36221               1.0              204     0.004902   \n",
       "3848     76528               5.0              904     0.005531   \n",
       "3846     76526               3.0              502     0.005976   \n",
       "3964     77981               4.0              626     0.006390   \n",
       "3887     77089               4.0              599     0.006678   \n",
       "\n",
       "                   short_title  \\\n",
       "5997  Need prphyl vc vrl hepat   \n",
       "3847  33-34 comp wks gestation   \n",
       "3881  Primary apnea of newborn   \n",
       "3839    Preterm NEC 2000-2499g   \n",
       "3878   NB transitory tachypnea   \n",
       "6177  Single lb in-hosp w/o cs   \n",
       "3959                       NaN   \n",
       "3920  Fetal/neonatal jaund NOS   \n",
       "3838    Preterm NEC 1750-1999g   \n",
       "6172    NB obsrv suspct infect   \n",
       "1474   Retrolental fibroplasia   \n",
       "3848  35-36 comp wks gestation   \n",
       "3846  31-32 comp wks gestation   \n",
       "3964      Neonatal bradycardia   \n",
       "3887  Resp prob after brth NEC   \n",
       "\n",
       "                                             long_title  \n",
       "5997  Need for prophylactic vaccination and inoculat...  \n",
       "3847                 33-34 completed weeks of gestation  \n",
       "3881                           Primary apnea of newborn  \n",
       "3839           Other preterm infants, 2,000-2,499 grams  \n",
       "3878                    Transitory tachypnea of newborn  \n",
       "6177  Single liveborn, born in hospital, delivered w...  \n",
       "3959                                                NaN  \n",
       "3920            Unspecified fetal and neonatal jaundice  \n",
       "3838           Other preterm infants, 1,750-1,999 grams  \n",
       "6172     Observation for suspected infectious condition  \n",
       "1474                            Retrolental fibroplasia  \n",
       "3848                 35-36 completed weeks of gestation  \n",
       "3846                 31-32 completed weeks of gestation  \n",
       "3964                               Neonatal bradycardia  \n",
       "3887             Other respiratory problems after birth  "
      ]
     },
     "execution_count": 106,
     "metadata": {},
     "output_type": "execute_result"
    }
   ],
   "source": [
    "most_Survival"
   ]
  },
  {
   "cell_type": "code",
   "execution_count": 109,
   "metadata": {
    "collapsed": false,
    "deletable": true,
    "editable": true
   },
   "outputs": [],
   "source": [
    "most_Death = (merged_FIN\n",
    ".groupby('icd9_code')\n",
    ".first()\n",
    ".reset_index().sort_values('Ratio_Pd_Ps', ascending=False))[['icd9_code','num_expire_flags','num_alive_flags','Ratio_Pd_Ps',\n",
    "                                                             'short_title','long_title']][:50]"
   ]
  },
  {
   "cell_type": "code",
   "execution_count": 111,
   "metadata": {
    "collapsed": false,
    "deletable": true,
    "editable": true
   },
   "outputs": [],
   "source": [
    "zed = most_Death[['icd9_code','num_expire_flags', 'num_alive_flags', 'Ratio_Pd_Ps', 'long_title']]\n",
    "\n",
    "#zed.loc[ze866,:]"
   ]
  },
  {
   "cell_type": "code",
   "execution_count": 112,
   "metadata": {
    "collapsed": false,
    "deletable": true,
    "editable": true
   },
   "outputs": [
    {
     "data": {
      "text/html": [
       "<div>\n",
       "<style scoped>\n",
       "    .dataframe tbody tr th:only-of-type {\n",
       "        vertical-align: middle;\n",
       "    }\n",
       "\n",
       "    .dataframe tbody tr th {\n",
       "        vertical-align: top;\n",
       "    }\n",
       "\n",
       "    .dataframe thead th {\n",
       "        text-align: right;\n",
       "    }\n",
       "</style>\n",
       "<table border=\"1\" class=\"dataframe\">\n",
       "  <thead>\n",
       "    <tr style=\"text-align: right;\">\n",
       "      <th></th>\n",
       "      <th>icd9_code</th>\n",
       "      <th>num_expire_flags</th>\n",
       "      <th>num_alive_flags</th>\n",
       "      <th>Ratio_Pd_Ps</th>\n",
       "      <th>long_title</th>\n",
       "    </tr>\n",
       "  </thead>\n",
       "  <tbody>\n",
       "    <tr>\n",
       "      <th>143</th>\n",
       "      <td>07041</td>\n",
       "      <td>31.0</td>\n",
       "      <td>2</td>\n",
       "      <td>15.5</td>\n",
       "      <td>Acute hepatitis C with hepatic coma</td>\n",
       "    </tr>\n",
       "  </tbody>\n",
       "</table>\n",
       "</div>"
      ],
      "text/plain": [
       "    icd9_code  num_expire_flags  num_alive_flags  Ratio_Pd_Ps  \\\n",
       "143     07041              31.0                2         15.5   \n",
       "\n",
       "                              long_title  \n",
       "143  Acute hepatitis C with hepatic coma  "
      ]
     },
     "execution_count": 112,
     "metadata": {},
     "output_type": "execute_result"
    }
   ],
   "source": [
    "zed.loc[zed['icd9_code']=='1972',:]\n",
    "zed.loc[zed['icd9_code']=='1984',:].long_title.values\n",
    "\n",
    "zed.loc[zed['icd9_code']=='99685',:]\n",
    "zed.loc[zed['icd9_code']=='51181',:]# 485\n",
    "zed.loc[zed['icd9_code']=='07041',:]"
   ]
  },
  {
   "cell_type": "markdown",
   "metadata": {
    "collapsed": false,
    "deletable": true,
    "editable": true
   },
   "source": [
    "zed"
   ]
  },
  {
   "cell_type": "code",
   "execution_count": null,
   "metadata": {
    "collapsed": false,
    "deletable": true,
    "editable": true
   },
   "outputs": [],
   "source": [
    "zed.loc[485,:]"
   ]
  },
  {
   "cell_type": "code",
   "execution_count": null,
   "metadata": {
    "collapsed": false,
    "deletable": true,
    "editable": true
   },
   "outputs": [],
   "source": [
    "## Number of NAN flags in expire_flags\n",
    "merged_nbayes[merged_nbayes.num_expire_flags.isnull()].count()"
   ]
  },
  {
   "cell_type": "code",
   "execution_count": null,
   "metadata": {
    "collapsed": false,
    "deletable": true,
    "editable": true
   },
   "outputs": [],
   "source": [
    "# there are no icd9_codes that are automatic surivval!!\n",
    "merged_nbayes[merged_nbayes.num_alive_flags.isnull()].count()"
   ]
  },
  {
   "cell_type": "markdown",
   "metadata": {
    "deletable": true,
    "editable": true
   },
   "source": [
    "#  Part 5: DataFrame with icd9 - as features\n",
    "start with Admission-Patient data called \"data\n",
    "uses \n",
    "    + most_Death - (47,6) the top 47  icd9 codes\n",
    "    + icd9_features - array of all the icd9 codes\n",
    "\n",
    "** Contains Pivot table **"
   ]
  },
  {
   "cell_type": "code",
   "execution_count": 113,
   "metadata": {
    "collapsed": false,
    "deletable": true,
    "editable": true
   },
   "outputs": [],
   "source": [
    "# drop NAN values\n",
    "most_Death = most_Death.dropna()"
   ]
  },
  {
   "cell_type": "code",
   "execution_count": 114,
   "metadata": {
    "collapsed": false,
    "deletable": true,
    "editable": true
   },
   "outputs": [
    {
     "data": {
      "text/html": [
       "<div>\n",
       "<style scoped>\n",
       "    .dataframe tbody tr th:only-of-type {\n",
       "        vertical-align: middle;\n",
       "    }\n",
       "\n",
       "    .dataframe tbody tr th {\n",
       "        vertical-align: top;\n",
       "    }\n",
       "\n",
       "    .dataframe thead th {\n",
       "        text-align: right;\n",
       "    }\n",
       "</style>\n",
       "<table border=\"1\" class=\"dataframe\">\n",
       "  <thead>\n",
       "    <tr style=\"text-align: right;\">\n",
       "      <th></th>\n",
       "      <th>icd9_code</th>\n",
       "      <th>num_expire_flags</th>\n",
       "      <th>num_alive_flags</th>\n",
       "      <th>Ratio_Pd_Ps</th>\n",
       "      <th>short_title</th>\n",
       "      <th>long_title</th>\n",
       "    </tr>\n",
       "  </thead>\n",
       "  <tbody>\n",
       "    <tr>\n",
       "      <th>866</th>\n",
       "      <td>27953</td>\n",
       "      <td>53.0</td>\n",
       "      <td>1</td>\n",
       "      <td>53.0</td>\n",
       "      <td>Ac on chrn grft-vs-host</td>\n",
       "      <td>Acute on chronic graft-versus-host disease</td>\n",
       "    </tr>\n",
       "    <tr>\n",
       "      <th>307</th>\n",
       "      <td>1560</td>\n",
       "      <td>43.0</td>\n",
       "      <td>1</td>\n",
       "      <td>43.0</td>\n",
       "      <td>Malig neo gallbladder</td>\n",
       "      <td>Malignant neoplasm of gallbladder</td>\n",
       "    </tr>\n",
       "    <tr>\n",
       "      <th>1494</th>\n",
       "      <td>36400</td>\n",
       "      <td>34.0</td>\n",
       "      <td>1</td>\n",
       "      <td>34.0</td>\n",
       "      <td>Acute iridocyclitis NOS</td>\n",
       "      <td>Acute and subacute iridocyclitis, unspecified</td>\n",
       "    </tr>\n",
       "  </tbody>\n",
       "</table>\n",
       "</div>"
      ],
      "text/plain": [
       "     icd9_code  num_expire_flags  num_alive_flags  Ratio_Pd_Ps  \\\n",
       "866      27953              53.0                1         53.0   \n",
       "307       1560              43.0                1         43.0   \n",
       "1494     36400              34.0                1         34.0   \n",
       "\n",
       "                  short_title                                     long_title  \n",
       "866   Ac on chrn grft-vs-host     Acute on chronic graft-versus-host disease  \n",
       "307     Malig neo gallbladder              Malignant neoplasm of gallbladder  \n",
       "1494  Acute iridocyclitis NOS  Acute and subacute iridocyclitis, unspecified  "
      ]
     },
     "execution_count": 114,
     "metadata": {},
     "output_type": "execute_result"
    }
   ],
   "source": [
    "#list(most_Death.icd9_codae)\n",
    "most_Death[:3]"
   ]
  },
  {
   "cell_type": "code",
   "execution_count": 116,
   "metadata": {
    "collapsed": false,
    "deletable": true,
    "editable": true
   },
   "outputs": [],
   "source": [
    "icd9_features = most_Death.icd9_code.values"
   ]
  },
  {
   "cell_type": "code",
   "execution_count": 117,
   "metadata": {
    "collapsed": false,
    "deletable": true,
    "editable": true
   },
   "outputs": [
    {
     "data": {
      "text/plain": [
       "array(['27953', '1560', '36400', '36019', '3643', '1715', '37239',\n",
       "       '85225', 'V1062', '20030', '1972', 'V4578', '46611', '99688',\n",
       "       '1971', '07031', '1530', '1965', '1481', '78939', '20510', '07041',\n",
       "       '72290', '3581', '73004', '1984', '485', '3693', '85205', '1910',\n",
       "       '4449', '9878', '5581', '48801', 'V143', '2468', 'V568', '37900',\n",
       "       '99685', '6829', '25023', 'E9278', '36001', '58281', '1519',\n",
       "       '29389', '51181'], dtype=object)"
      ]
     },
     "execution_count": 117,
     "metadata": {},
     "output_type": "execute_result"
    }
   ],
   "source": [
    "icd9_features"
   ]
  },
  {
   "cell_type": "code",
   "execution_count": 121,
   "metadata": {
    "collapsed": false,
    "deletable": true,
    "editable": true
   },
   "outputs": [
    {
     "data": {
      "text/plain": [
       "(58976, 8)"
      ]
     },
     "execution_count": 121,
     "metadata": {},
     "output_type": "execute_result"
    }
   ],
   "source": [
    "\"\"\"#########  RUN ONCE \n",
    "Cleaning data \"\"\"\n",
    "\n",
    "# df_model = data.drop( ['hospital_expire_flag', 'has_ioevents_data', 'has_chartevents_data', u'edregtime',\n",
    "#            u'edouttime' ], axis = 1)\n",
    "# df_model = df_model.drop( [ u'insurance', u'language', u'religion', u'marital_status', u'ethnicity' ], axis = 1)\n",
    "# df_model = df_model.drop( [u'admission_location', u'discharge_location',u'admittime', u'dischtime', u'deathtime',u'row_id',], axis = 1)\n",
    "\n",
    "# df_model = df_model.drop( [ u'dob', u'dod', u'subject_id.1' ], axis = 1)\n",
    "\n",
    "df_model.shape"
   ]
  },
  {
   "cell_type": "code",
   "execution_count": 122,
   "metadata": {
    "collapsed": false,
    "deletable": true,
    "editable": true
   },
   "outputs": [
    {
     "data": {
      "text/html": [
       "<div>\n",
       "<style scoped>\n",
       "    .dataframe tbody tr th:only-of-type {\n",
       "        vertical-align: middle;\n",
       "    }\n",
       "\n",
       "    .dataframe tbody tr th {\n",
       "        vertical-align: top;\n",
       "    }\n",
       "\n",
       "    .dataframe thead th {\n",
       "        text-align: right;\n",
       "    }\n",
       "</style>\n",
       "<table border=\"1\" class=\"dataframe\">\n",
       "  <thead>\n",
       "    <tr style=\"text-align: right;\">\n",
       "      <th></th>\n",
       "      <th>subject_id</th>\n",
       "      <th>gender</th>\n",
       "      <th>expire_flag</th>\n",
       "      <th>hadm_id</th>\n",
       "      <th>admission_type</th>\n",
       "      <th>diagnosis</th>\n",
       "      <th>age</th>\n",
       "      <th>year</th>\n",
       "    </tr>\n",
       "  </thead>\n",
       "  <tbody>\n",
       "    <tr>\n",
       "      <th>0</th>\n",
       "      <td>30</td>\n",
       "      <td>0</td>\n",
       "      <td>0</td>\n",
       "      <td>104557</td>\n",
       "      <td>1</td>\n",
       "      <td>UNSTABLE ANGINA\\CATH</td>\n",
       "      <td>90.0</td>\n",
       "      <td>1872</td>\n",
       "    </tr>\n",
       "    <tr>\n",
       "      <th>1</th>\n",
       "      <td>8402</td>\n",
       "      <td>0</td>\n",
       "      <td>0</td>\n",
       "      <td>177676</td>\n",
       "      <td>1</td>\n",
       "      <td>CHEST PAIN\\CATH</td>\n",
       "      <td>62.0</td>\n",
       "      <td>2105</td>\n",
       "    </tr>\n",
       "    <tr>\n",
       "      <th>2</th>\n",
       "      <td>146</td>\n",
       "      <td>0</td>\n",
       "      <td>1</td>\n",
       "      <td>190707</td>\n",
       "      <td>1</td>\n",
       "      <td>CONGESTIVE HEART FAILURE\\CATH</td>\n",
       "      <td>85.0</td>\n",
       "      <td>2034</td>\n",
       "    </tr>\n",
       "  </tbody>\n",
       "</table>\n",
       "</div>"
      ],
      "text/plain": [
       "   subject_id  gender  expire_flag  hadm_id  admission_type  \\\n",
       "0          30       0            0   104557               1   \n",
       "1        8402       0            0   177676               1   \n",
       "2         146       0            1   190707               1   \n",
       "\n",
       "                       diagnosis   age  year  \n",
       "0           UNSTABLE ANGINA\\CATH  90.0  1872  \n",
       "1                CHEST PAIN\\CATH  62.0  2105  \n",
       "2  CONGESTIVE HEART FAILURE\\CATH  85.0  2034  "
      ]
     },
     "execution_count": 122,
     "metadata": {},
     "output_type": "execute_result"
    }
   ],
   "source": [
    "df_model[:3]"
   ]
  },
  {
   "cell_type": "markdown",
   "metadata": {
    "deletable": true,
    "editable": true
   },
   "source": [
    "##### ADD ICD-9 to df_model \n",
    "+ merge df_expired onto df_model (for expire_flag=1) \n",
    "+ merge df_alive"
   ]
  },
  {
   "cell_type": "code",
   "execution_count": 123,
   "metadata": {
    "collapsed": false,
    "deletable": true,
    "editable": true
   },
   "outputs": [
    {
     "name": "stdout",
     "output_type": "stream",
     "text": [
      "719641\n",
      "655338\n"
     ]
    }
   ],
   "source": [
    "##### Concatinate fatal + alive icd9-code Data Frames\n",
    "print (len(df_expired))\n",
    "print ( len(df_alive))\n",
    "\n",
    "frames = [df_expired, df_alive]\n",
    "result = pd.concat(frames)\n",
    "\n",
    "### Retain all rows in result : left merge \n",
    "    ## there shouldn't be any hadm_id's in df_model NOT in result\n",
    "    ## if there are, not interesting, because we need icd9_codes\n",
    "    \n",
    "df_model  = pd.merge(result, df_model, how='left', on='hadm_id')\n",
    "df_model = df_model.drop(['expire_flag_y','subject_id_y'], axis=1)"
   ]
  },
  {
   "cell_type": "code",
   "execution_count": 124,
   "metadata": {
    "collapsed": false,
    "deletable": true,
    "editable": true
   },
   "outputs": [
    {
     "data": {
      "text/html": [
       "<div>\n",
       "<style scoped>\n",
       "    .dataframe tbody tr th:only-of-type {\n",
       "        vertical-align: middle;\n",
       "    }\n",
       "\n",
       "    .dataframe tbody tr th {\n",
       "        vertical-align: top;\n",
       "    }\n",
       "\n",
       "    .dataframe thead th {\n",
       "        text-align: right;\n",
       "    }\n",
       "</style>\n",
       "<table border=\"1\" class=\"dataframe\">\n",
       "  <thead>\n",
       "    <tr style=\"text-align: right;\">\n",
       "      <th></th>\n",
       "      <th>hadm_id</th>\n",
       "      <th>subject_id_x</th>\n",
       "      <th>expire_flag_x</th>\n",
       "      <th>icd9_code</th>\n",
       "      <th>gender</th>\n",
       "      <th>admission_type</th>\n",
       "      <th>diagnosis</th>\n",
       "      <th>age</th>\n",
       "      <th>year</th>\n",
       "    </tr>\n",
       "  </thead>\n",
       "  <tbody>\n",
       "    <tr>\n",
       "      <th>0</th>\n",
       "      <td>121205</td>\n",
       "      <td>91</td>\n",
       "      <td>1</td>\n",
       "      <td>20008</td>\n",
       "      <td>1</td>\n",
       "      <td>2</td>\n",
       "      <td>FEVER</td>\n",
       "      <td>81.0</td>\n",
       "      <td>2095</td>\n",
       "    </tr>\n",
       "    <tr>\n",
       "      <th>1</th>\n",
       "      <td>121205</td>\n",
       "      <td>91</td>\n",
       "      <td>1</td>\n",
       "      <td>2765</td>\n",
       "      <td>1</td>\n",
       "      <td>2</td>\n",
       "      <td>FEVER</td>\n",
       "      <td>81.0</td>\n",
       "      <td>2095</td>\n",
       "    </tr>\n",
       "    <tr>\n",
       "      <th>2</th>\n",
       "      <td>121205</td>\n",
       "      <td>91</td>\n",
       "      <td>1</td>\n",
       "      <td>5559</td>\n",
       "      <td>1</td>\n",
       "      <td>2</td>\n",
       "      <td>FEVER</td>\n",
       "      <td>81.0</td>\n",
       "      <td>2095</td>\n",
       "    </tr>\n",
       "    <tr>\n",
       "      <th>3</th>\n",
       "      <td>121205</td>\n",
       "      <td>91</td>\n",
       "      <td>1</td>\n",
       "      <td>99812</td>\n",
       "      <td>1</td>\n",
       "      <td>2</td>\n",
       "      <td>FEVER</td>\n",
       "      <td>81.0</td>\n",
       "      <td>2095</td>\n",
       "    </tr>\n",
       "    <tr>\n",
       "      <th>4</th>\n",
       "      <td>121205</td>\n",
       "      <td>91</td>\n",
       "      <td>1</td>\n",
       "      <td>51881</td>\n",
       "      <td>1</td>\n",
       "      <td>2</td>\n",
       "      <td>FEVER</td>\n",
       "      <td>81.0</td>\n",
       "      <td>2095</td>\n",
       "    </tr>\n",
       "  </tbody>\n",
       "</table>\n",
       "</div>"
      ],
      "text/plain": [
       "   hadm_id  subject_id_x  expire_flag_x icd9_code  gender  admission_type  \\\n",
       "0   121205            91              1     20008       1               2   \n",
       "1   121205            91              1      2765       1               2   \n",
       "2   121205            91              1      5559       1               2   \n",
       "3   121205            91              1     99812       1               2   \n",
       "4   121205            91              1     51881       1               2   \n",
       "\n",
       "  diagnosis   age  year  \n",
       "0     FEVER  81.0  2095  \n",
       "1     FEVER  81.0  2095  \n",
       "2     FEVER  81.0  2095  \n",
       "3     FEVER  81.0  2095  \n",
       "4     FEVER  81.0  2095  "
      ]
     },
     "execution_count": 124,
     "metadata": {},
     "output_type": "execute_result"
    }
   ],
   "source": [
    "df_model.head()"
   ]
  },
  {
   "cell_type": "code",
   "execution_count": 179,
   "metadata": {
    "collapsed": false,
    "deletable": true,
    "editable": true
   },
   "outputs": [
    {
     "data": {
      "text/plain": [
       "(1374979, 10)"
      ]
     },
     "execution_count": 179,
     "metadata": {},
     "output_type": "execute_result"
    }
   ],
   "source": [
    "df_model.shape"
   ]
  },
  {
   "cell_type": "code",
   "execution_count": 125,
   "metadata": {
    "collapsed": false,
    "deletable": true,
    "editable": true
   },
   "outputs": [
    {
     "data": {
      "text/plain": [
       "array(['27953', '1560', '36400', '36019', '3643', '1715', '37239',\n",
       "       '85225', 'V1062', '20030', '1972', 'V4578', '46611', '99688',\n",
       "       '1971', '07031', '1530', '1965', '1481', '78939', '20510', '07041',\n",
       "       '72290', '3581', '73004', '1984', '485', '3693', '85205', '1910',\n",
       "       '4449', '9878', '5581', '48801', 'V143', '2468', 'V568', '37900',\n",
       "       '99685', '6829', '25023', 'E9278', '36001', '58281', '1519',\n",
       "       '29389', '51181'], dtype=object)"
      ]
     },
     "execution_count": 125,
     "metadata": {},
     "output_type": "execute_result"
    }
   ],
   "source": [
    "icd9_features"
   ]
  },
  {
   "cell_type": "code",
   "execution_count": 145,
   "metadata": {
    "collapsed": true,
    "deletable": true,
    "editable": true
   },
   "outputs": [],
   "source": [
    "keep = icd9_features\n"
   ]
  },
  {
   "cell_type": "code",
   "execution_count": null,
   "metadata": {
    "collapsed": false,
    "deletable": true,
    "editable": true
   },
   "outputs": [],
   "source": [
    "############ add columns \n",
    "# for var in icd9_features:\n",
    "#     df_model[var] = 0"
   ]
  },
  {
   "cell_type": "code",
   "execution_count": 127,
   "metadata": {
    "collapsed": false,
    "deletable": true,
    "editable": true
   },
   "outputs": [],
   "source": [
    "\"\"\" test a few individaul  admissions IDs \"\"\"\n",
    "df_model[df_model.hadm_id==100018]\n",
    "\n",
    "df_model[df_model.hadm_id==121205]"
   ]
  },
  {
   "cell_type": "code",
   "execution_count": 129,
   "metadata": {
    "collapsed": false,
    "deletable": true,
    "editable": true
   },
   "outputs": [],
   "source": [
    "\"\"\"\n",
    "    FOR THE PIVOT\n",
    "    create a column of values 1 \n",
    "\"\"\"\n",
    "df_model['d']=1\n",
    "df_model"
   ]
  },
  {
   "cell_type": "markdown",
   "metadata": {
    "deletable": true,
    "editable": true
   },
   "source": [
    "##### df_tmp\n",
    "** df_model WITHOUT icd9 **\n",
    "group_by hospital stay return the first value\n",
    "- hospital stay\n",
    "- subject \n",
    "- expire ?\n",
    "- gender \n",
    "- diagnosis\n",
    "- age"
   ]
  },
  {
   "cell_type": "code",
   "execution_count": 131,
   "metadata": {
    "collapsed": false,
    "deletable": true,
    "editable": true
   },
   "outputs": [],
   "source": [
    "df_tmp = (df_model.\n",
    " groupby('hadm_id')['hadm_id','subject_id_x','expire_flag_x','gender','admission_type','diagnosis','age']\n",
    " .head(1)\n",
    "  )"
   ]
  },
  {
   "cell_type": "code",
   "execution_count": 133,
   "metadata": {
    "collapsed": false,
    "deletable": true,
    "editable": true
   },
   "outputs": [
    {
     "data": {
      "text/html": [
       "<div>\n",
       "<style scoped>\n",
       "    .dataframe tbody tr th:only-of-type {\n",
       "        vertical-align: middle;\n",
       "    }\n",
       "\n",
       "    .dataframe tbody tr th {\n",
       "        vertical-align: top;\n",
       "    }\n",
       "\n",
       "    .dataframe thead th {\n",
       "        text-align: right;\n",
       "    }\n",
       "</style>\n",
       "<table border=\"1\" class=\"dataframe\">\n",
       "  <thead>\n",
       "    <tr style=\"text-align: right;\">\n",
       "      <th></th>\n",
       "      <th>hadm_id</th>\n",
       "      <th>subject_id_x</th>\n",
       "      <th>expire_flag_x</th>\n",
       "      <th>gender</th>\n",
       "      <th>admission_type</th>\n",
       "      <th>diagnosis</th>\n",
       "      <th>age</th>\n",
       "    </tr>\n",
       "  </thead>\n",
       "  <tbody>\n",
       "    <tr>\n",
       "      <th>0</th>\n",
       "      <td>121205</td>\n",
       "      <td>91</td>\n",
       "      <td>1</td>\n",
       "      <td>1</td>\n",
       "      <td>2</td>\n",
       "      <td>FEVER</td>\n",
       "      <td>81.0</td>\n",
       "    </tr>\n",
       "    <tr>\n",
       "      <th>9</th>\n",
       "      <td>183686</td>\n",
       "      <td>94</td>\n",
       "      <td>1</td>\n",
       "      <td>0</td>\n",
       "      <td>2</td>\n",
       "      <td>SEPSIS</td>\n",
       "      <td>74.0</td>\n",
       "    </tr>\n",
       "    <tr>\n",
       "      <th>25</th>\n",
       "      <td>140037</td>\n",
       "      <td>94</td>\n",
       "      <td>1</td>\n",
       "      <td>0</td>\n",
       "      <td>2</td>\n",
       "      <td>PNEUMONIA</td>\n",
       "      <td>74.0</td>\n",
       "    </tr>\n",
       "  </tbody>\n",
       "</table>\n",
       "</div>"
      ],
      "text/plain": [
       "    hadm_id  subject_id_x  expire_flag_x  gender  admission_type  diagnosis  \\\n",
       "0    121205            91              1       1               2      FEVER   \n",
       "9    183686            94              1       0               2     SEPSIS   \n",
       "25   140037            94              1       0               2  PNEUMONIA   \n",
       "\n",
       "     age  \n",
       "0   81.0  \n",
       "9   74.0  \n",
       "25  74.0  "
      ]
     },
     "execution_count": 133,
     "metadata": {},
     "output_type": "execute_result"
    }
   ],
   "source": [
    "df_tmp[:3]"
   ]
  },
  {
   "cell_type": "code",
   "execution_count": 159,
   "metadata": {
    "collapsed": false,
    "deletable": true,
    "editable": true
   },
   "outputs": [],
   "source": [
    "#keep = keep +\n",
    "#[np.append(keep, a) for a in df_tmp.columns.values]\n",
    "keep = list(df_tmp.columns.values) + list(keep)"
   ]
  },
  {
   "cell_type": "code",
   "execution_count": 136,
   "metadata": {
    "collapsed": false,
    "deletable": true,
    "editable": true
   },
   "outputs": [
    {
     "data": {
      "text/html": [
       "<div>\n",
       "<style scoped>\n",
       "    .dataframe tbody tr th:only-of-type {\n",
       "        vertical-align: middle;\n",
       "    }\n",
       "\n",
       "    .dataframe tbody tr th {\n",
       "        vertical-align: top;\n",
       "    }\n",
       "\n",
       "    .dataframe thead th {\n",
       "        text-align: right;\n",
       "    }\n",
       "</style>\n",
       "<table border=\"1\" class=\"dataframe\">\n",
       "  <thead>\n",
       "    <tr style=\"text-align: right;\">\n",
       "      <th></th>\n",
       "      <th>hadm_id</th>\n",
       "      <th>subject_id_x</th>\n",
       "      <th>expire_flag_x</th>\n",
       "      <th>icd9_code</th>\n",
       "      <th>gender</th>\n",
       "      <th>admission_type</th>\n",
       "      <th>diagnosis</th>\n",
       "      <th>age</th>\n",
       "      <th>year</th>\n",
       "      <th>d</th>\n",
       "    </tr>\n",
       "  </thead>\n",
       "  <tbody>\n",
       "    <tr>\n",
       "      <th>0</th>\n",
       "      <td>121205</td>\n",
       "      <td>91</td>\n",
       "      <td>1</td>\n",
       "      <td>20008</td>\n",
       "      <td>1</td>\n",
       "      <td>2</td>\n",
       "      <td>FEVER</td>\n",
       "      <td>81.0</td>\n",
       "      <td>2095</td>\n",
       "      <td>1</td>\n",
       "    </tr>\n",
       "    <tr>\n",
       "      <th>1</th>\n",
       "      <td>121205</td>\n",
       "      <td>91</td>\n",
       "      <td>1</td>\n",
       "      <td>2765</td>\n",
       "      <td>1</td>\n",
       "      <td>2</td>\n",
       "      <td>FEVER</td>\n",
       "      <td>81.0</td>\n",
       "      <td>2095</td>\n",
       "      <td>1</td>\n",
       "    </tr>\n",
       "  </tbody>\n",
       "</table>\n",
       "</div>"
      ],
      "text/plain": [
       "   hadm_id  subject_id_x  expire_flag_x icd9_code  gender  admission_type  \\\n",
       "0   121205            91              1     20008       1               2   \n",
       "1   121205            91              1      2765       1               2   \n",
       "\n",
       "  diagnosis   age  year  d  \n",
       "0     FEVER  81.0  2095  1  \n",
       "1     FEVER  81.0  2095  1  "
      ]
     },
     "execution_count": 136,
     "metadata": {},
     "output_type": "execute_result"
    }
   ],
   "source": [
    "df_model[:2]"
   ]
  },
  {
   "cell_type": "markdown",
   "metadata": {
    "deletable": true,
    "editable": true
   },
   "source": [
    "#### Part 5a: Pivot table \n",
    "- pivot on icd9_codes\n",
    "- pass a value of = 1\n"
   ]
  },
  {
   "cell_type": "code",
   "execution_count": 137,
   "metadata": {
    "collapsed": false,
    "deletable": true,
    "editable": true
   },
   "outputs": [],
   "source": [
    "tmp = pd.pivot_table(df_model, values='d', index=['hadm_id','subject_id_x'], columns=['icd9_code'])"
   ]
  },
  {
   "cell_type": "code",
   "execution_count": 138,
   "metadata": {
    "collapsed": false,
    "deletable": true,
    "editable": true
   },
   "outputs": [
    {
     "data": {
      "text/plain": [
       "Index([u'0030', u'0031', u'0038', u'0039', u'0041', u'0048', u'0049', u'0051',\n",
       "       u'00581', u'0059',\n",
       "       ...\n",
       "       u'V8801', u'V8811', u'V8812', u'V8821', u'V9010', u'V902', u'V9039',\n",
       "       u'V9081', u'V9089', u'V9103'],\n",
       "      dtype='object', name=u'icd9_code', length=6984)"
      ]
     },
     "execution_count": 138,
     "metadata": {},
     "output_type": "execute_result"
    }
   ],
   "source": [
    "tmp.columns"
   ]
  },
  {
   "cell_type": "code",
   "execution_count": 139,
   "metadata": {
    "collapsed": true,
    "deletable": true,
    "editable": true
   },
   "outputs": [],
   "source": [
    "tmp.columns.name = ''"
   ]
  },
  {
   "cell_type": "code",
   "execution_count": 140,
   "metadata": {
    "collapsed": false,
    "deletable": true,
    "editable": true
   },
   "outputs": [],
   "source": [
    "tmp.reset_index(col_level=0, inplace = True)"
   ]
  },
  {
   "cell_type": "code",
   "execution_count": 143,
   "metadata": {
    "collapsed": false,
    "deletable": true,
    "editable": true
   },
   "outputs": [
    {
     "data": {
      "text/html": [
       "<div>\n",
       "<style scoped>\n",
       "    .dataframe tbody tr th:only-of-type {\n",
       "        vertical-align: middle;\n",
       "    }\n",
       "\n",
       "    .dataframe tbody tr th {\n",
       "        vertical-align: top;\n",
       "    }\n",
       "\n",
       "    .dataframe thead th {\n",
       "        text-align: right;\n",
       "    }\n",
       "</style>\n",
       "<table border=\"1\" class=\"dataframe\">\n",
       "  <thead>\n",
       "    <tr style=\"text-align: right;\">\n",
       "      <th></th>\n",
       "      <th>hadm_id</th>\n",
       "      <th>subject_id_x</th>\n",
       "      <th>0030</th>\n",
       "      <th>0031</th>\n",
       "      <th>0038</th>\n",
       "      <th>0039</th>\n",
       "      <th>0041</th>\n",
       "      <th>0048</th>\n",
       "      <th>0049</th>\n",
       "      <th>0051</th>\n",
       "      <th>...</th>\n",
       "      <th>V8801</th>\n",
       "      <th>V8811</th>\n",
       "      <th>V8812</th>\n",
       "      <th>V8821</th>\n",
       "      <th>V9010</th>\n",
       "      <th>V902</th>\n",
       "      <th>V9039</th>\n",
       "      <th>V9081</th>\n",
       "      <th>V9089</th>\n",
       "      <th>V9103</th>\n",
       "    </tr>\n",
       "  </thead>\n",
       "  <tbody>\n",
       "    <tr>\n",
       "      <th>0</th>\n",
       "      <td>100001</td>\n",
       "      <td>58526</td>\n",
       "      <td>NaN</td>\n",
       "      <td>NaN</td>\n",
       "      <td>NaN</td>\n",
       "      <td>NaN</td>\n",
       "      <td>NaN</td>\n",
       "      <td>NaN</td>\n",
       "      <td>NaN</td>\n",
       "      <td>NaN</td>\n",
       "      <td>...</td>\n",
       "      <td>NaN</td>\n",
       "      <td>NaN</td>\n",
       "      <td>NaN</td>\n",
       "      <td>NaN</td>\n",
       "      <td>NaN</td>\n",
       "      <td>NaN</td>\n",
       "      <td>NaN</td>\n",
       "      <td>NaN</td>\n",
       "      <td>NaN</td>\n",
       "      <td>NaN</td>\n",
       "    </tr>\n",
       "    <tr>\n",
       "      <th>1</th>\n",
       "      <td>100003</td>\n",
       "      <td>54610</td>\n",
       "      <td>NaN</td>\n",
       "      <td>NaN</td>\n",
       "      <td>NaN</td>\n",
       "      <td>NaN</td>\n",
       "      <td>NaN</td>\n",
       "      <td>NaN</td>\n",
       "      <td>NaN</td>\n",
       "      <td>NaN</td>\n",
       "      <td>...</td>\n",
       "      <td>NaN</td>\n",
       "      <td>NaN</td>\n",
       "      <td>NaN</td>\n",
       "      <td>NaN</td>\n",
       "      <td>NaN</td>\n",
       "      <td>NaN</td>\n",
       "      <td>NaN</td>\n",
       "      <td>NaN</td>\n",
       "      <td>NaN</td>\n",
       "      <td>NaN</td>\n",
       "    </tr>\n",
       "    <tr>\n",
       "      <th>2</th>\n",
       "      <td>100006</td>\n",
       "      <td>9895</td>\n",
       "      <td>NaN</td>\n",
       "      <td>NaN</td>\n",
       "      <td>NaN</td>\n",
       "      <td>NaN</td>\n",
       "      <td>NaN</td>\n",
       "      <td>NaN</td>\n",
       "      <td>NaN</td>\n",
       "      <td>NaN</td>\n",
       "      <td>...</td>\n",
       "      <td>NaN</td>\n",
       "      <td>NaN</td>\n",
       "      <td>NaN</td>\n",
       "      <td>NaN</td>\n",
       "      <td>NaN</td>\n",
       "      <td>NaN</td>\n",
       "      <td>NaN</td>\n",
       "      <td>NaN</td>\n",
       "      <td>NaN</td>\n",
       "      <td>NaN</td>\n",
       "    </tr>\n",
       "    <tr>\n",
       "      <th>3</th>\n",
       "      <td>100007</td>\n",
       "      <td>23018</td>\n",
       "      <td>NaN</td>\n",
       "      <td>NaN</td>\n",
       "      <td>NaN</td>\n",
       "      <td>NaN</td>\n",
       "      <td>NaN</td>\n",
       "      <td>NaN</td>\n",
       "      <td>NaN</td>\n",
       "      <td>NaN</td>\n",
       "      <td>...</td>\n",
       "      <td>NaN</td>\n",
       "      <td>NaN</td>\n",
       "      <td>NaN</td>\n",
       "      <td>NaN</td>\n",
       "      <td>NaN</td>\n",
       "      <td>NaN</td>\n",
       "      <td>NaN</td>\n",
       "      <td>NaN</td>\n",
       "      <td>NaN</td>\n",
       "      <td>NaN</td>\n",
       "    </tr>\n",
       "    <tr>\n",
       "      <th>4</th>\n",
       "      <td>100009</td>\n",
       "      <td>533</td>\n",
       "      <td>NaN</td>\n",
       "      <td>NaN</td>\n",
       "      <td>NaN</td>\n",
       "      <td>NaN</td>\n",
       "      <td>NaN</td>\n",
       "      <td>NaN</td>\n",
       "      <td>NaN</td>\n",
       "      <td>NaN</td>\n",
       "      <td>...</td>\n",
       "      <td>NaN</td>\n",
       "      <td>NaN</td>\n",
       "      <td>NaN</td>\n",
       "      <td>NaN</td>\n",
       "      <td>NaN</td>\n",
       "      <td>NaN</td>\n",
       "      <td>NaN</td>\n",
       "      <td>NaN</td>\n",
       "      <td>NaN</td>\n",
       "      <td>NaN</td>\n",
       "    </tr>\n",
       "  </tbody>\n",
       "</table>\n",
       "<p>5 rows × 6986 columns</p>\n",
       "</div>"
      ],
      "text/plain": [
       "   hadm_id  subject_id_x  0030  0031  0038  0039  0041  0048  0049  0051  \\\n",
       "0   100001         58526   NaN   NaN   NaN   NaN   NaN   NaN   NaN   NaN   \n",
       "1   100003         54610   NaN   NaN   NaN   NaN   NaN   NaN   NaN   NaN   \n",
       "2   100006          9895   NaN   NaN   NaN   NaN   NaN   NaN   NaN   NaN   \n",
       "3   100007         23018   NaN   NaN   NaN   NaN   NaN   NaN   NaN   NaN   \n",
       "4   100009           533   NaN   NaN   NaN   NaN   NaN   NaN   NaN   NaN   \n",
       "\n",
       "   ...    V8801  V8811  V8812  V8821  V9010  V902  V9039  V9081  V9089  V9103  \n",
       "0  ...      NaN    NaN    NaN    NaN    NaN   NaN    NaN    NaN    NaN    NaN  \n",
       "1  ...      NaN    NaN    NaN    NaN    NaN   NaN    NaN    NaN    NaN    NaN  \n",
       "2  ...      NaN    NaN    NaN    NaN    NaN   NaN    NaN    NaN    NaN    NaN  \n",
       "3  ...      NaN    NaN    NaN    NaN    NaN   NaN    NaN    NaN    NaN    NaN  \n",
       "4  ...      NaN    NaN    NaN    NaN    NaN   NaN    NaN    NaN    NaN    NaN  \n",
       "\n",
       "[5 rows x 6986 columns]"
      ]
     },
     "execution_count": 143,
     "metadata": {},
     "output_type": "execute_result"
    }
   ],
   "source": [
    "tmp.head()"
   ]
  },
  {
   "cell_type": "code",
   "execution_count": 146,
   "metadata": {
    "collapsed": false,
    "deletable": true,
    "editable": true
   },
   "outputs": [
    {
     "data": {
      "text/plain": [
       "array(['27953', '1560', '36400', '36019', '3643', '1715', '37239',\n",
       "       '85225', 'V1062', '20030', '1972', 'V4578', '46611', '99688',\n",
       "       '1971', '07031', '1530', '1965', '1481', '78939', '20510', '07041',\n",
       "       '72290', '3581', '73004', '1984', '485', '3693', '85205', '1910',\n",
       "       '4449', '9878', '5581', '48801', 'V143', '2468', 'V568', '37900',\n",
       "       '99685', '6829', '25023', 'E9278', '36001', '58281', '1519',\n",
       "       '29389', '51181'], dtype=object)"
      ]
     },
     "execution_count": 146,
     "metadata": {},
     "output_type": "execute_result"
    }
   ],
   "source": [
    "### We made this into a LIST not an array anymore\n",
    "keep"
   ]
  },
  {
   "cell_type": "code",
   "execution_count": 162,
   "metadata": {
    "collapsed": false,
    "deletable": true,
    "editable": true
   },
   "outputs": [
    {
     "data": {
      "text/plain": [
       "['hadm_id', 'subject_id_x']"
      ]
     },
     "execution_count": 162,
     "metadata": {},
     "output_type": "execute_result"
    }
   ],
   "source": [
    "keep[0:2]"
   ]
  },
  {
   "cell_type": "code",
   "execution_count": 167,
   "metadata": {
    "collapsed": false,
    "deletable": true,
    "editable": true
   },
   "outputs": [],
   "source": [
    "new_keep = keep[0:2] + keep[8:]\n",
    "#keep[0:2].union(keep[8:]keep[0:2])"
   ]
  },
  {
   "cell_type": "code",
   "execution_count": 169,
   "metadata": {
    "collapsed": false,
    "deletable": true,
    "editable": true
   },
   "outputs": [
    {
     "data": {
      "text/plain": [
       "['hadm_id', 'subject_id_x', '1560', '36400']"
      ]
     },
     "execution_count": 169,
     "metadata": {},
     "output_type": "execute_result"
    }
   ],
   "source": [
    "\"\"\"\n",
    "list of values to be kept : admission id, subject id + 50 CODES\n",
    "\"\"\"\n",
    "new_keep[:4]"
   ]
  },
  {
   "cell_type": "code",
   "execution_count": 170,
   "metadata": {
    "collapsed": false,
    "deletable": true,
    "editable": true
   },
   "outputs": [
    {
     "name": "stdout",
     "output_type": "stream",
     "text": [
      "<class 'pandas.core.frame.DataFrame'>\n",
      "RangeIndex: 58973 entries, 0 to 58972\n",
      "Columns: 6986 entries, hadm_id to V9103\n",
      "dtypes: float64(6984), int64(2)\n",
      "memory usage: 3.1 GB\n"
     ]
    }
   ],
   "source": [
    "tmp.info()"
   ]
  },
  {
   "cell_type": "markdown",
   "metadata": {
    "deletable": true,
    "editable": true
   },
   "source": [
    "#### KEY: keep only 50 icd9 codes of the pivoted table"
   ]
  },
  {
   "cell_type": "code",
   "execution_count": 171,
   "metadata": {
    "collapsed": false,
    "deletable": true,
    "editable": true
   },
   "outputs": [],
   "source": [
    "\"\"\"\n",
    "    THIS IS KEY: KEEP ONLY 50 ICD9 CODES\n",
    "\"\"\"\n",
    "tmp = tmp.loc[:,new_keep]"
   ]
  },
  {
   "cell_type": "code",
   "execution_count": 172,
   "metadata": {
    "collapsed": false,
    "deletable": true,
    "editable": true
   },
   "outputs": [],
   "source": [
    "tmp.fillna(0, inplace=True)"
   ]
  },
  {
   "cell_type": "code",
   "execution_count": 175,
   "metadata": {
    "collapsed": false,
    "deletable": true,
    "editable": true
   },
   "outputs": [
    {
     "data": {
      "text/html": [
       "<div>\n",
       "<style scoped>\n",
       "    .dataframe tbody tr th:only-of-type {\n",
       "        vertical-align: middle;\n",
       "    }\n",
       "\n",
       "    .dataframe tbody tr th {\n",
       "        vertical-align: top;\n",
       "    }\n",
       "\n",
       "    .dataframe thead th {\n",
       "        text-align: right;\n",
       "    }\n",
       "</style>\n",
       "<table border=\"1\" class=\"dataframe\">\n",
       "  <thead>\n",
       "    <tr style=\"text-align: right;\">\n",
       "      <th></th>\n",
       "      <th>hadm_id</th>\n",
       "      <th>subject_id_x</th>\n",
       "      <th>1560</th>\n",
       "      <th>36400</th>\n",
       "      <th>36019</th>\n",
       "      <th>3643</th>\n",
       "      <th>1715</th>\n",
       "      <th>37239</th>\n",
       "      <th>85225</th>\n",
       "      <th>V1062</th>\n",
       "      <th>...</th>\n",
       "      <th>37900</th>\n",
       "      <th>99685</th>\n",
       "      <th>6829</th>\n",
       "      <th>25023</th>\n",
       "      <th>E9278</th>\n",
       "      <th>36001</th>\n",
       "      <th>58281</th>\n",
       "      <th>1519</th>\n",
       "      <th>29389</th>\n",
       "      <th>51181</th>\n",
       "    </tr>\n",
       "  </thead>\n",
       "  <tbody>\n",
       "    <tr>\n",
       "      <th>425</th>\n",
       "      <td>100711</td>\n",
       "      <td>21202</td>\n",
       "      <td>0.0</td>\n",
       "      <td>0.0</td>\n",
       "      <td>0.0</td>\n",
       "      <td>0.0</td>\n",
       "      <td>0.0</td>\n",
       "      <td>0.0</td>\n",
       "      <td>0.0</td>\n",
       "      <td>1.0</td>\n",
       "      <td>...</td>\n",
       "      <td>0.0</td>\n",
       "      <td>1.0</td>\n",
       "      <td>0.0</td>\n",
       "      <td>0.0</td>\n",
       "      <td>0.0</td>\n",
       "      <td>0.0</td>\n",
       "      <td>0.0</td>\n",
       "      <td>0.0</td>\n",
       "      <td>0.0</td>\n",
       "      <td>0.0</td>\n",
       "    </tr>\n",
       "    <tr>\n",
       "      <th>1447</th>\n",
       "      <td>102435</td>\n",
       "      <td>23849</td>\n",
       "      <td>0.0</td>\n",
       "      <td>0.0</td>\n",
       "      <td>0.0</td>\n",
       "      <td>0.0</td>\n",
       "      <td>0.0</td>\n",
       "      <td>0.0</td>\n",
       "      <td>0.0</td>\n",
       "      <td>1.0</td>\n",
       "      <td>...</td>\n",
       "      <td>0.0</td>\n",
       "      <td>0.0</td>\n",
       "      <td>0.0</td>\n",
       "      <td>0.0</td>\n",
       "      <td>0.0</td>\n",
       "      <td>0.0</td>\n",
       "      <td>0.0</td>\n",
       "      <td>0.0</td>\n",
       "      <td>0.0</td>\n",
       "      <td>0.0</td>\n",
       "    </tr>\n",
       "    <tr>\n",
       "      <th>2059</th>\n",
       "      <td>103434</td>\n",
       "      <td>25258</td>\n",
       "      <td>0.0</td>\n",
       "      <td>0.0</td>\n",
       "      <td>0.0</td>\n",
       "      <td>0.0</td>\n",
       "      <td>0.0</td>\n",
       "      <td>0.0</td>\n",
       "      <td>0.0</td>\n",
       "      <td>1.0</td>\n",
       "      <td>...</td>\n",
       "      <td>0.0</td>\n",
       "      <td>0.0</td>\n",
       "      <td>0.0</td>\n",
       "      <td>0.0</td>\n",
       "      <td>0.0</td>\n",
       "      <td>0.0</td>\n",
       "      <td>0.0</td>\n",
       "      <td>0.0</td>\n",
       "      <td>0.0</td>\n",
       "      <td>0.0</td>\n",
       "    </tr>\n",
       "    <tr>\n",
       "      <th>2425</th>\n",
       "      <td>104041</td>\n",
       "      <td>21202</td>\n",
       "      <td>0.0</td>\n",
       "      <td>0.0</td>\n",
       "      <td>0.0</td>\n",
       "      <td>0.0</td>\n",
       "      <td>0.0</td>\n",
       "      <td>0.0</td>\n",
       "      <td>0.0</td>\n",
       "      <td>1.0</td>\n",
       "      <td>...</td>\n",
       "      <td>0.0</td>\n",
       "      <td>1.0</td>\n",
       "      <td>0.0</td>\n",
       "      <td>0.0</td>\n",
       "      <td>0.0</td>\n",
       "      <td>0.0</td>\n",
       "      <td>0.0</td>\n",
       "      <td>0.0</td>\n",
       "      <td>0.0</td>\n",
       "      <td>0.0</td>\n",
       "    </tr>\n",
       "    <tr>\n",
       "      <th>3767</th>\n",
       "      <td>106349</td>\n",
       "      <td>21202</td>\n",
       "      <td>0.0</td>\n",
       "      <td>0.0</td>\n",
       "      <td>0.0</td>\n",
       "      <td>0.0</td>\n",
       "      <td>0.0</td>\n",
       "      <td>0.0</td>\n",
       "      <td>0.0</td>\n",
       "      <td>1.0</td>\n",
       "      <td>...</td>\n",
       "      <td>0.0</td>\n",
       "      <td>1.0</td>\n",
       "      <td>0.0</td>\n",
       "      <td>0.0</td>\n",
       "      <td>0.0</td>\n",
       "      <td>0.0</td>\n",
       "      <td>0.0</td>\n",
       "      <td>0.0</td>\n",
       "      <td>0.0</td>\n",
       "      <td>0.0</td>\n",
       "    </tr>\n",
       "    <tr>\n",
       "      <th>3843</th>\n",
       "      <td>106481</td>\n",
       "      <td>21202</td>\n",
       "      <td>0.0</td>\n",
       "      <td>0.0</td>\n",
       "      <td>0.0</td>\n",
       "      <td>0.0</td>\n",
       "      <td>0.0</td>\n",
       "      <td>0.0</td>\n",
       "      <td>0.0</td>\n",
       "      <td>1.0</td>\n",
       "      <td>...</td>\n",
       "      <td>0.0</td>\n",
       "      <td>1.0</td>\n",
       "      <td>0.0</td>\n",
       "      <td>0.0</td>\n",
       "      <td>0.0</td>\n",
       "      <td>0.0</td>\n",
       "      <td>0.0</td>\n",
       "      <td>0.0</td>\n",
       "      <td>0.0</td>\n",
       "      <td>0.0</td>\n",
       "    </tr>\n",
       "    <tr>\n",
       "      <th>5249</th>\n",
       "      <td>108881</td>\n",
       "      <td>6196</td>\n",
       "      <td>0.0</td>\n",
       "      <td>0.0</td>\n",
       "      <td>0.0</td>\n",
       "      <td>0.0</td>\n",
       "      <td>0.0</td>\n",
       "      <td>0.0</td>\n",
       "      <td>0.0</td>\n",
       "      <td>1.0</td>\n",
       "      <td>...</td>\n",
       "      <td>0.0</td>\n",
       "      <td>0.0</td>\n",
       "      <td>0.0</td>\n",
       "      <td>0.0</td>\n",
       "      <td>0.0</td>\n",
       "      <td>0.0</td>\n",
       "      <td>0.0</td>\n",
       "      <td>0.0</td>\n",
       "      <td>0.0</td>\n",
       "      <td>0.0</td>\n",
       "    </tr>\n",
       "    <tr>\n",
       "      <th>14128</th>\n",
       "      <td>123892</td>\n",
       "      <td>27472</td>\n",
       "      <td>0.0</td>\n",
       "      <td>0.0</td>\n",
       "      <td>0.0</td>\n",
       "      <td>0.0</td>\n",
       "      <td>0.0</td>\n",
       "      <td>0.0</td>\n",
       "      <td>0.0</td>\n",
       "      <td>1.0</td>\n",
       "      <td>...</td>\n",
       "      <td>0.0</td>\n",
       "      <td>1.0</td>\n",
       "      <td>0.0</td>\n",
       "      <td>0.0</td>\n",
       "      <td>0.0</td>\n",
       "      <td>0.0</td>\n",
       "      <td>0.0</td>\n",
       "      <td>0.0</td>\n",
       "      <td>0.0</td>\n",
       "      <td>0.0</td>\n",
       "    </tr>\n",
       "    <tr>\n",
       "      <th>15452</th>\n",
       "      <td>126167</td>\n",
       "      <td>25258</td>\n",
       "      <td>0.0</td>\n",
       "      <td>0.0</td>\n",
       "      <td>0.0</td>\n",
       "      <td>0.0</td>\n",
       "      <td>0.0</td>\n",
       "      <td>0.0</td>\n",
       "      <td>0.0</td>\n",
       "      <td>1.0</td>\n",
       "      <td>...</td>\n",
       "      <td>0.0</td>\n",
       "      <td>0.0</td>\n",
       "      <td>0.0</td>\n",
       "      <td>0.0</td>\n",
       "      <td>0.0</td>\n",
       "      <td>0.0</td>\n",
       "      <td>0.0</td>\n",
       "      <td>0.0</td>\n",
       "      <td>0.0</td>\n",
       "      <td>0.0</td>\n",
       "    </tr>\n",
       "    <tr>\n",
       "      <th>17959</th>\n",
       "      <td>130371</td>\n",
       "      <td>27472</td>\n",
       "      <td>0.0</td>\n",
       "      <td>0.0</td>\n",
       "      <td>0.0</td>\n",
       "      <td>0.0</td>\n",
       "      <td>0.0</td>\n",
       "      <td>0.0</td>\n",
       "      <td>0.0</td>\n",
       "      <td>1.0</td>\n",
       "      <td>...</td>\n",
       "      <td>0.0</td>\n",
       "      <td>1.0</td>\n",
       "      <td>0.0</td>\n",
       "      <td>0.0</td>\n",
       "      <td>0.0</td>\n",
       "      <td>0.0</td>\n",
       "      <td>0.0</td>\n",
       "      <td>0.0</td>\n",
       "      <td>0.0</td>\n",
       "      <td>0.0</td>\n",
       "    </tr>\n",
       "    <tr>\n",
       "      <th>21539</th>\n",
       "      <td>136496</td>\n",
       "      <td>27472</td>\n",
       "      <td>0.0</td>\n",
       "      <td>0.0</td>\n",
       "      <td>0.0</td>\n",
       "      <td>0.0</td>\n",
       "      <td>0.0</td>\n",
       "      <td>0.0</td>\n",
       "      <td>0.0</td>\n",
       "      <td>1.0</td>\n",
       "      <td>...</td>\n",
       "      <td>0.0</td>\n",
       "      <td>1.0</td>\n",
       "      <td>0.0</td>\n",
       "      <td>0.0</td>\n",
       "      <td>0.0</td>\n",
       "      <td>0.0</td>\n",
       "      <td>0.0</td>\n",
       "      <td>0.0</td>\n",
       "      <td>0.0</td>\n",
       "      <td>0.0</td>\n",
       "    </tr>\n",
       "    <tr>\n",
       "      <th>23942</th>\n",
       "      <td>140527</td>\n",
       "      <td>23849</td>\n",
       "      <td>0.0</td>\n",
       "      <td>0.0</td>\n",
       "      <td>0.0</td>\n",
       "      <td>0.0</td>\n",
       "      <td>0.0</td>\n",
       "      <td>0.0</td>\n",
       "      <td>0.0</td>\n",
       "      <td>1.0</td>\n",
       "      <td>...</td>\n",
       "      <td>0.0</td>\n",
       "      <td>0.0</td>\n",
       "      <td>0.0</td>\n",
       "      <td>0.0</td>\n",
       "      <td>0.0</td>\n",
       "      <td>0.0</td>\n",
       "      <td>0.0</td>\n",
       "      <td>0.0</td>\n",
       "      <td>0.0</td>\n",
       "      <td>0.0</td>\n",
       "    </tr>\n",
       "    <tr>\n",
       "      <th>32522</th>\n",
       "      <td>155154</td>\n",
       "      <td>21202</td>\n",
       "      <td>0.0</td>\n",
       "      <td>0.0</td>\n",
       "      <td>0.0</td>\n",
       "      <td>0.0</td>\n",
       "      <td>0.0</td>\n",
       "      <td>0.0</td>\n",
       "      <td>0.0</td>\n",
       "      <td>1.0</td>\n",
       "      <td>...</td>\n",
       "      <td>0.0</td>\n",
       "      <td>1.0</td>\n",
       "      <td>0.0</td>\n",
       "      <td>0.0</td>\n",
       "      <td>0.0</td>\n",
       "      <td>0.0</td>\n",
       "      <td>0.0</td>\n",
       "      <td>0.0</td>\n",
       "      <td>0.0</td>\n",
       "      <td>0.0</td>\n",
       "    </tr>\n",
       "    <tr>\n",
       "      <th>37656</th>\n",
       "      <td>163951</td>\n",
       "      <td>27472</td>\n",
       "      <td>0.0</td>\n",
       "      <td>0.0</td>\n",
       "      <td>0.0</td>\n",
       "      <td>0.0</td>\n",
       "      <td>0.0</td>\n",
       "      <td>0.0</td>\n",
       "      <td>0.0</td>\n",
       "      <td>1.0</td>\n",
       "      <td>...</td>\n",
       "      <td>0.0</td>\n",
       "      <td>1.0</td>\n",
       "      <td>0.0</td>\n",
       "      <td>0.0</td>\n",
       "      <td>0.0</td>\n",
       "      <td>0.0</td>\n",
       "      <td>0.0</td>\n",
       "      <td>0.0</td>\n",
       "      <td>0.0</td>\n",
       "      <td>0.0</td>\n",
       "    </tr>\n",
       "    <tr>\n",
       "      <th>38260</th>\n",
       "      <td>164976</td>\n",
       "      <td>21202</td>\n",
       "      <td>0.0</td>\n",
       "      <td>0.0</td>\n",
       "      <td>0.0</td>\n",
       "      <td>0.0</td>\n",
       "      <td>0.0</td>\n",
       "      <td>0.0</td>\n",
       "      <td>0.0</td>\n",
       "      <td>1.0</td>\n",
       "      <td>...</td>\n",
       "      <td>0.0</td>\n",
       "      <td>1.0</td>\n",
       "      <td>0.0</td>\n",
       "      <td>0.0</td>\n",
       "      <td>0.0</td>\n",
       "      <td>0.0</td>\n",
       "      <td>0.0</td>\n",
       "      <td>0.0</td>\n",
       "      <td>0.0</td>\n",
       "      <td>0.0</td>\n",
       "    </tr>\n",
       "    <tr>\n",
       "      <th>44134</th>\n",
       "      <td>174806</td>\n",
       "      <td>27472</td>\n",
       "      <td>0.0</td>\n",
       "      <td>0.0</td>\n",
       "      <td>0.0</td>\n",
       "      <td>0.0</td>\n",
       "      <td>0.0</td>\n",
       "      <td>0.0</td>\n",
       "      <td>0.0</td>\n",
       "      <td>1.0</td>\n",
       "      <td>...</td>\n",
       "      <td>0.0</td>\n",
       "      <td>1.0</td>\n",
       "      <td>0.0</td>\n",
       "      <td>0.0</td>\n",
       "      <td>0.0</td>\n",
       "      <td>0.0</td>\n",
       "      <td>0.0</td>\n",
       "      <td>0.0</td>\n",
       "      <td>0.0</td>\n",
       "      <td>0.0</td>\n",
       "    </tr>\n",
       "    <tr>\n",
       "      <th>53438</th>\n",
       "      <td>190599</td>\n",
       "      <td>21202</td>\n",
       "      <td>0.0</td>\n",
       "      <td>0.0</td>\n",
       "      <td>0.0</td>\n",
       "      <td>0.0</td>\n",
       "      <td>0.0</td>\n",
       "      <td>0.0</td>\n",
       "      <td>0.0</td>\n",
       "      <td>1.0</td>\n",
       "      <td>...</td>\n",
       "      <td>0.0</td>\n",
       "      <td>1.0</td>\n",
       "      <td>0.0</td>\n",
       "      <td>0.0</td>\n",
       "      <td>0.0</td>\n",
       "      <td>0.0</td>\n",
       "      <td>0.0</td>\n",
       "      <td>0.0</td>\n",
       "      <td>0.0</td>\n",
       "      <td>0.0</td>\n",
       "    </tr>\n",
       "    <tr>\n",
       "      <th>55498</th>\n",
       "      <td>194067</td>\n",
       "      <td>21202</td>\n",
       "      <td>0.0</td>\n",
       "      <td>0.0</td>\n",
       "      <td>0.0</td>\n",
       "      <td>0.0</td>\n",
       "      <td>0.0</td>\n",
       "      <td>0.0</td>\n",
       "      <td>0.0</td>\n",
       "      <td>1.0</td>\n",
       "      <td>...</td>\n",
       "      <td>0.0</td>\n",
       "      <td>1.0</td>\n",
       "      <td>0.0</td>\n",
       "      <td>0.0</td>\n",
       "      <td>0.0</td>\n",
       "      <td>0.0</td>\n",
       "      <td>0.0</td>\n",
       "      <td>0.0</td>\n",
       "      <td>0.0</td>\n",
       "      <td>0.0</td>\n",
       "    </tr>\n",
       "    <tr>\n",
       "      <th>57261</th>\n",
       "      <td>197051</td>\n",
       "      <td>27472</td>\n",
       "      <td>0.0</td>\n",
       "      <td>0.0</td>\n",
       "      <td>0.0</td>\n",
       "      <td>0.0</td>\n",
       "      <td>0.0</td>\n",
       "      <td>0.0</td>\n",
       "      <td>0.0</td>\n",
       "      <td>1.0</td>\n",
       "      <td>...</td>\n",
       "      <td>0.0</td>\n",
       "      <td>1.0</td>\n",
       "      <td>0.0</td>\n",
       "      <td>0.0</td>\n",
       "      <td>0.0</td>\n",
       "      <td>0.0</td>\n",
       "      <td>0.0</td>\n",
       "      <td>0.0</td>\n",
       "      <td>0.0</td>\n",
       "      <td>0.0</td>\n",
       "    </tr>\n",
       "  </tbody>\n",
       "</table>\n",
       "<p>19 rows × 48 columns</p>\n",
       "</div>"
      ],
      "text/plain": [
       "       hadm_id  subject_id_x  1560  36400  36019  3643  1715  37239  85225  \\\n",
       "425     100711         21202   0.0    0.0    0.0   0.0   0.0    0.0    0.0   \n",
       "1447    102435         23849   0.0    0.0    0.0   0.0   0.0    0.0    0.0   \n",
       "2059    103434         25258   0.0    0.0    0.0   0.0   0.0    0.0    0.0   \n",
       "2425    104041         21202   0.0    0.0    0.0   0.0   0.0    0.0    0.0   \n",
       "3767    106349         21202   0.0    0.0    0.0   0.0   0.0    0.0    0.0   \n",
       "3843    106481         21202   0.0    0.0    0.0   0.0   0.0    0.0    0.0   \n",
       "5249    108881          6196   0.0    0.0    0.0   0.0   0.0    0.0    0.0   \n",
       "14128   123892         27472   0.0    0.0    0.0   0.0   0.0    0.0    0.0   \n",
       "15452   126167         25258   0.0    0.0    0.0   0.0   0.0    0.0    0.0   \n",
       "17959   130371         27472   0.0    0.0    0.0   0.0   0.0    0.0    0.0   \n",
       "21539   136496         27472   0.0    0.0    0.0   0.0   0.0    0.0    0.0   \n",
       "23942   140527         23849   0.0    0.0    0.0   0.0   0.0    0.0    0.0   \n",
       "32522   155154         21202   0.0    0.0    0.0   0.0   0.0    0.0    0.0   \n",
       "37656   163951         27472   0.0    0.0    0.0   0.0   0.0    0.0    0.0   \n",
       "38260   164976         21202   0.0    0.0    0.0   0.0   0.0    0.0    0.0   \n",
       "44134   174806         27472   0.0    0.0    0.0   0.0   0.0    0.0    0.0   \n",
       "53438   190599         21202   0.0    0.0    0.0   0.0   0.0    0.0    0.0   \n",
       "55498   194067         21202   0.0    0.0    0.0   0.0   0.0    0.0    0.0   \n",
       "57261   197051         27472   0.0    0.0    0.0   0.0   0.0    0.0    0.0   \n",
       "\n",
       "       V1062  ...    37900  99685  6829  25023  E9278  36001  58281  1519  \\\n",
       "425      1.0  ...      0.0    1.0   0.0    0.0    0.0    0.0    0.0   0.0   \n",
       "1447     1.0  ...      0.0    0.0   0.0    0.0    0.0    0.0    0.0   0.0   \n",
       "2059     1.0  ...      0.0    0.0   0.0    0.0    0.0    0.0    0.0   0.0   \n",
       "2425     1.0  ...      0.0    1.0   0.0    0.0    0.0    0.0    0.0   0.0   \n",
       "3767     1.0  ...      0.0    1.0   0.0    0.0    0.0    0.0    0.0   0.0   \n",
       "3843     1.0  ...      0.0    1.0   0.0    0.0    0.0    0.0    0.0   0.0   \n",
       "5249     1.0  ...      0.0    0.0   0.0    0.0    0.0    0.0    0.0   0.0   \n",
       "14128    1.0  ...      0.0    1.0   0.0    0.0    0.0    0.0    0.0   0.0   \n",
       "15452    1.0  ...      0.0    0.0   0.0    0.0    0.0    0.0    0.0   0.0   \n",
       "17959    1.0  ...      0.0    1.0   0.0    0.0    0.0    0.0    0.0   0.0   \n",
       "21539    1.0  ...      0.0    1.0   0.0    0.0    0.0    0.0    0.0   0.0   \n",
       "23942    1.0  ...      0.0    0.0   0.0    0.0    0.0    0.0    0.0   0.0   \n",
       "32522    1.0  ...      0.0    1.0   0.0    0.0    0.0    0.0    0.0   0.0   \n",
       "37656    1.0  ...      0.0    1.0   0.0    0.0    0.0    0.0    0.0   0.0   \n",
       "38260    1.0  ...      0.0    1.0   0.0    0.0    0.0    0.0    0.0   0.0   \n",
       "44134    1.0  ...      0.0    1.0   0.0    0.0    0.0    0.0    0.0   0.0   \n",
       "53438    1.0  ...      0.0    1.0   0.0    0.0    0.0    0.0    0.0   0.0   \n",
       "55498    1.0  ...      0.0    1.0   0.0    0.0    0.0    0.0    0.0   0.0   \n",
       "57261    1.0  ...      0.0    1.0   0.0    0.0    0.0    0.0    0.0   0.0   \n",
       "\n",
       "       29389  51181  \n",
       "425      0.0    0.0  \n",
       "1447     0.0    0.0  \n",
       "2059     0.0    0.0  \n",
       "2425     0.0    0.0  \n",
       "3767     0.0    0.0  \n",
       "3843     0.0    0.0  \n",
       "5249     0.0    0.0  \n",
       "14128    0.0    0.0  \n",
       "15452    0.0    0.0  \n",
       "17959    0.0    0.0  \n",
       "21539    0.0    0.0  \n",
       "23942    0.0    0.0  \n",
       "32522    0.0    0.0  \n",
       "37656    0.0    0.0  \n",
       "38260    0.0    0.0  \n",
       "44134    0.0    0.0  \n",
       "53438    0.0    0.0  \n",
       "55498    0.0    0.0  \n",
       "57261    0.0    0.0  \n",
       "\n",
       "[19 rows x 48 columns]"
      ]
     },
     "execution_count": 175,
     "metadata": {},
     "output_type": "execute_result"
    }
   ],
   "source": [
    "# testing tmp\n",
    "tmp[tmp['V1062']==1]"
   ]
  },
  {
   "cell_type": "markdown",
   "metadata": {
    "deletable": true,
    "editable": true
   },
   "source": [
    "#### Merge on hospital stay \n",
    "\n",
    "How to create a pivot table ready for modeling, ie. how to encode Diagnosis Codes \n",
    "** Logistic regression takes in only numeric values, so diagnosis codes have to be encoded in [0,1] format **\n",
    "\n",
    "\n",
    "1. **df_model** should be a DF containing: \n",
    "    1. \thadm_id\tsubject_id_x\texpire_flag_x\ticd9_code\tgender\tadmission_type\tdiagnosis\tage\n",
    "    1. ** every Row of df_model ** contains a unique icd9-code, per hospital stay\n",
    "    1. that's why it has so many rows\n",
    "    1. ** num Rows** = hospital-stays x icd9-code \n",
    "1. create a column of =1 in **df_model**\n",
    "    1. for the merge, to pass as values\n",
    "1. pivot **tmp**\n",
    "        1. tmp = pd.pivot_table(df_model, values='d', index=['hadm_id','subject_id_x'], columns=['icd9_code'])\n",
    "1. ** reset index level ** at tmp\n",
    "        1. tmp.reset_index(col_level=0, inplace = True)\n",
    "1. Merge **df_tmp** (DF with gender, admission_type, diagnosis, age, expire_flag, AND hamd_id, subject_id,) and ** tmp ** (pivot DF with hamd_id, subject_id, AND encoded icd9 codes) \n",
    "    1. on hamd_id (HOSPITAL stay)\n",
    "    1. how = left\n",
    "1. drop the extra columns \n",
    "        1. .drop('subject_id_x_y', axis=1, inplace=True)\n",
    "    \n",
    "\n"
   ]
  },
  {
   "cell_type": "code",
   "execution_count": 178,
   "metadata": {
    "collapsed": false,
    "deletable": true,
    "editable": true
   },
   "outputs": [
    {
     "data": {
      "text/html": [
       "<div>\n",
       "<style scoped>\n",
       "    .dataframe tbody tr th:only-of-type {\n",
       "        vertical-align: middle;\n",
       "    }\n",
       "\n",
       "    .dataframe tbody tr th {\n",
       "        vertical-align: top;\n",
       "    }\n",
       "\n",
       "    .dataframe thead th {\n",
       "        text-align: right;\n",
       "    }\n",
       "</style>\n",
       "<table border=\"1\" class=\"dataframe\">\n",
       "  <thead>\n",
       "    <tr style=\"text-align: right;\">\n",
       "      <th></th>\n",
       "      <th>hadm_id</th>\n",
       "      <th>subject_id_x</th>\n",
       "      <th>expire_flag_x</th>\n",
       "      <th>gender</th>\n",
       "      <th>admission_type</th>\n",
       "      <th>diagnosis</th>\n",
       "      <th>age</th>\n",
       "    </tr>\n",
       "  </thead>\n",
       "  <tbody>\n",
       "    <tr>\n",
       "      <th>0</th>\n",
       "      <td>121205</td>\n",
       "      <td>91</td>\n",
       "      <td>1</td>\n",
       "      <td>1</td>\n",
       "      <td>2</td>\n",
       "      <td>FEVER</td>\n",
       "      <td>81.0</td>\n",
       "    </tr>\n",
       "    <tr>\n",
       "      <th>9</th>\n",
       "      <td>183686</td>\n",
       "      <td>94</td>\n",
       "      <td>1</td>\n",
       "      <td>0</td>\n",
       "      <td>2</td>\n",
       "      <td>SEPSIS</td>\n",
       "      <td>74.0</td>\n",
       "    </tr>\n",
       "    <tr>\n",
       "      <th>25</th>\n",
       "      <td>140037</td>\n",
       "      <td>94</td>\n",
       "      <td>1</td>\n",
       "      <td>0</td>\n",
       "      <td>2</td>\n",
       "      <td>PNEUMONIA</td>\n",
       "      <td>74.0</td>\n",
       "    </tr>\n",
       "  </tbody>\n",
       "</table>\n",
       "</div>"
      ],
      "text/plain": [
       "    hadm_id  subject_id_x  expire_flag_x  gender  admission_type  diagnosis  \\\n",
       "0    121205            91              1       1               2      FEVER   \n",
       "9    183686            94              1       0               2     SEPSIS   \n",
       "25   140037            94              1       0               2  PNEUMONIA   \n",
       "\n",
       "     age  \n",
       "0   81.0  \n",
       "9   74.0  \n",
       "25  74.0  "
      ]
     },
     "execution_count": 178,
     "metadata": {},
     "output_type": "execute_result"
    }
   ],
   "source": [
    "df_tmp[:3]"
   ]
  },
  {
   "cell_type": "code",
   "execution_count": null,
   "metadata": {
    "collapsed": false,
    "deletable": true,
    "editable": true
   },
   "outputs": [],
   "source": [
    "print(len(df_tmp))\n",
    "print(len(tmp))\n",
    "#(pd.merge(merged_nbayes, diagnoses, how='left', on='icd9_code'))"
   ]
  },
  {
   "cell_type": "code",
   "execution_count": null,
   "metadata": {
    "collapsed": false,
    "deletable": true,
    "editable": true
   },
   "outputs": [],
   "source": [
    "merged_FINAL = pd.merge(df_tmp, tmp, how='left', on='hadm_id')"
   ]
  },
  {
   "cell_type": "code",
   "execution_count": null,
   "metadata": {
    "collapsed": true,
    "deletable": true,
    "editable": true
   },
   "outputs": [],
   "source": [
    "merged_FINAL.drop('subject_id_x_y', axis=1, inplace=True) "
   ]
  },
  {
   "cell_type": "code",
   "execution_count": null,
   "metadata": {
    "collapsed": false,
    "deletable": true,
    "editable": true
   },
   "outputs": [],
   "source": [
    "merged_FINAL.rename(columns={'subject_id_x_x': 'subject_id','expire_flag_x':'expire_flag' },inplace=True)"
   ]
  },
  {
   "cell_type": "code",
   "execution_count": null,
   "metadata": {
    "collapsed": false,
    "deletable": true,
    "editable": true
   },
   "outputs": [],
   "source": [
    "merged_FINAL[:3]"
   ]
  },
  {
   "cell_type": "markdown",
   "metadata": {
    "deletable": true,
    "editable": true
   },
   "source": [
    "# FINAL DATAFRAME TO BE SAVED"
   ]
  },
  {
   "cell_type": "code",
   "execution_count": null,
   "metadata": {
    "collapsed": true,
    "deletable": true,
    "editable": true
   },
   "outputs": [],
   "source": [
    "\"\"\"\n",
    "    TO-CSV\n",
    "    DO NOT RUN AGAIN \n",
    "\"\"\"\n",
    "\n",
    "##merged_FINAL.to_csv('data_model1.csv', index=None)"
   ]
  },
  {
   "cell_type": "code",
   "execution_count": null,
   "metadata": {
    "collapsed": false,
    "deletable": true,
    "editable": true
   },
   "outputs": [],
   "source": [
    "tmp.info()"
   ]
  },
  {
   "cell_type": "code",
   "execution_count": null,
   "metadata": {
    "collapsed": false,
    "deletable": true,
    "editable": true
   },
   "outputs": [],
   "source": [
    "tmp"
   ]
  },
  {
   "cell_type": "code",
   "execution_count": null,
   "metadata": {
    "collapsed": false,
    "deletable": true,
    "editable": true
   },
   "outputs": [],
   "source": [
    "###### NOT USED \n",
    "# mydict={}\n",
    "# #tmp = grouped['icd9_code'].apply(lambda x: [x] )\n",
    "# #{k: g[\"value\"].tolist() for k,g in ptest.groupby(\"id\")}\n",
    "\n",
    "# mydict = {k: g[\"icd9_code\"].tolist() for k,g in df_model.groupby('hadm_id')}"
   ]
  },
  {
   "cell_type": "code",
   "execution_count": null,
   "metadata": {
    "collapsed": false,
    "deletable": true,
    "editable": true
   },
   "outputs": [],
   "source": [
    "###### NOT USED \n",
    "# #first2pairs = {k: mydict[k] for k in sorted(mydict.keys())[:1]}\n",
    "# ### Key = hadm_id\n",
    "#     # vals: icd9_code\n",
    "# first2pairs = {k: mydict[k] for k in mydict.keys()[:1]}\n",
    "# first2pairs"
   ]
  },
  {
   "cell_type": "code",
   "execution_count": null,
   "metadata": {
    "collapsed": true,
    "deletable": true,
    "editable": true
   },
   "outputs": [],
   "source": [
    "#################### remove 'icd9_code' column and group by \thadm_id get smaller dataFrame (back to 59,000)"
   ]
  },
  {
   "cell_type": "code",
   "execution_count": null,
   "metadata": {
    "collapsed": false,
    "deletable": true,
    "editable": true
   },
   "outputs": [],
   "source": [
    "# df_model = (df_model.groupby('hadm_id')\n",
    "#  .first()\n",
    "#  .reset_index())"
   ]
  },
  {
   "cell_type": "markdown",
   "metadata": {
    "deletable": true,
    "editable": true
   },
   "source": [
    "#### NOW YOU CAN DROP THE  icd9_code"
   ]
  },
  {
   "cell_type": "code",
   "execution_count": null,
   "metadata": {
    "collapsed": false,
    "deletable": true,
    "editable": true
   },
   "outputs": [],
   "source": [
    "# #### NOW YOU CAN DROP THE \n",
    "# df_model = df_model.drop(['icd9_code'], axis=1)"
   ]
  },
  {
   "cell_type": "code",
   "execution_count": null,
   "metadata": {
    "collapsed": false,
    "deletable": true,
    "editable": true
   },
   "outputs": [],
   "source": [
    "df_model.head(4)"
   ]
  },
  {
   "cell_type": "code",
   "execution_count": null,
   "metadata": {
    "collapsed": false,
    "deletable": true,
    "editable": true
   },
   "outputs": [],
   "source": [
    "#columns to keep\n",
    "keep = df_model.columns\n",
    "keep "
   ]
  },
  {
   "cell_type": "code",
   "execution_count": null,
   "metadata": {
    "collapsed": false,
    "deletable": true,
    "editable": true
   },
   "outputs": [],
   "source": [
    "# # for a in mydict[100001]:\n",
    "# #     print (a)\n",
    "# len(mydict[100018])"
   ]
  },
  {
   "cell_type": "code",
   "execution_count": null,
   "metadata": {
    "collapsed": false,
    "deletable": true,
    "editable": true
   },
   "outputs": [],
   "source": [
    "###### NOT USED \n",
    "# #key is hadm_id\n",
    "# # traverse df_model.hadm_id use key-value\n",
    "\n",
    "# for ix in range(len(df_model)):\n",
    "   \n",
    "#     key= df_model.loc[ix, 'hadm_id']\n",
    "    \n",
    "#     # traverse the array in mydict[key]\n",
    "#     for a in mydict[key]: \n",
    "#         if a in icd9_features:\n",
    "#             print(key, a)\n",
    "#             #df_model.loc[ix,a] = 1  \n",
    "    "
   ]
  },
  {
   "cell_type": "code",
   "execution_count": null,
   "metadata": {
    "collapsed": false,
    "deletable": true,
    "editable": true
   },
   "outputs": [],
   "source": [
    "df_model.info()"
   ]
  },
  {
   "cell_type": "code",
   "execution_count": null,
   "metadata": {
    "collapsed": false,
    "deletable": true,
    "editable": true
   },
   "outputs": [],
   "source": [
    "#result.loc[(result.hadm_id ==111199 )& (result.icd9_code=='485')]['expire_flag']"
   ]
  },
  {
   "cell_type": "code",
   "execution_count": null,
   "metadata": {
    "collapsed": true,
    "deletable": true,
    "editable": true
   },
   "outputs": [],
   "source": []
  },
  {
   "cell_type": "code",
   "execution_count": null,
   "metadata": {
    "collapsed": true,
    "deletable": true,
    "editable": true
   },
   "outputs": [],
   "source": []
  },
  {
   "cell_type": "code",
   "execution_count": null,
   "metadata": {
    "collapsed": false,
    "deletable": true,
    "editable": true
   },
   "outputs": [],
   "source": [
    "# 4th \n",
    "procedures.loc[procedures['icd9_code']== \t5849]"
   ]
  },
  {
   "cell_type": "code",
   "execution_count": null,
   "metadata": {
    "collapsed": false,
    "deletable": true,
    "editable": true
   },
   "outputs": [],
   "source": [
    "pd.merge(most_common_icd9_smaller, procedures, how='left',on='icd9_code');"
   ]
  },
  {
   "cell_type": "code",
   "execution_count": null,
   "metadata": {
    "collapsed": true,
    "deletable": true,
    "editable": true
   },
   "outputs": [],
   "source": []
  },
  {
   "cell_type": "code",
   "execution_count": null,
   "metadata": {
    "collapsed": true,
    "deletable": true,
    "editable": true
   },
   "outputs": [],
   "source": []
  },
  {
   "cell_type": "markdown",
   "metadata": {
    "deletable": true,
    "editable": true
   },
   "source": [
    "# 3. Combination of Patients and Admissions table\n",
    "+ admissions have a: unique HADM_ID\n",
    "+ \n",
    "goals\n",
    "+ get the age of the subject at admit-time\n",
    "\n",
    "## First: get total number of Deaths and Survivals"
   ]
  },
  {
   "cell_type": "code",
   "execution_count": null,
   "metadata": {
    "collapsed": false,
    "deletable": true,
    "editable": true
   },
   "outputs": [],
   "source": [
    "## How many subject_ids? (PATIENTS total) = 46520\n",
    "print ( \"total number unique patients:  \", len(data.subject_id.unique()) )\n",
    "print ( \"total number unique admissions:  \", len(data.hadm_id.unique()) ), '\\n'\n",
    "\n",
    "\n",
    "######################## How many fatal visits? ####################################\n",
    "print ( \"total fatal hospital visits: \" , data[data.expire_flag==1]['expire_flag'].count())\n",
    "print ( \"total surviving hospital visits: \" , data[data.expire_flag==0]['expire_flag'].count()), '\\n'\n",
    "\n",
    "### How many of each Admission type fatal"
   ]
  },
  {
   "cell_type": "code",
   "execution_count": null,
   "metadata": {
    "collapsed": false,
    "deletable": true,
    "editable": true
   },
   "outputs": [],
   "source": [
    "data[data.gender.isnull()]['gender'].count()"
   ]
  },
  {
   "cell_type": "code",
   "execution_count": null,
   "metadata": {
    "collapsed": false,
    "deletable": true,
    "editable": true
   },
   "outputs": [],
   "source": [
    "data.admission_type.value_counts()"
   ]
  },
  {
   "cell_type": "code",
   "execution_count": null,
   "metadata": {
    "collapsed": false,
    "deletable": true,
    "editable": true
   },
   "outputs": [],
   "source": [
    "data[:3].expire_flag"
   ]
  },
  {
   "cell_type": "code",
   "execution_count": null,
   "metadata": {
    "collapsed": false,
    "deletable": true,
    "editable": true
   },
   "outputs": [],
   "source": [
    "admit_survival = (data.groupby(['admission_type','expire_flag'])\n",
    "['gender'].count().rename('Count')\n",
    ".reset_index())"
   ]
  },
  {
   "cell_type": "code",
   "execution_count": null,
   "metadata": {
    "collapsed": false,
    "deletable": true,
    "editable": true
   },
   "outputs": [],
   "source": [
    "admit_survival"
   ]
  },
  {
   "cell_type": "markdown",
   "metadata": {
    "deletable": true,
    "editable": true
   },
   "source": [
    "Emergency and urgent have the highest percentages of fatalities, followed by elective surgery\n",
    "Newborns are surprisingly resilient\n"
   ]
  },
  {
   "cell_type": "code",
   "execution_count": null,
   "metadata": {
    "collapsed": false,
    "deletable": true,
    "editable": true
   },
   "outputs": [],
   "source": [
    "\n",
    "print (\" elective \", 2186./(5520+2186)*100)\n",
    "print (\" emergency \", 19650./(19650+22421)*100)\n",
    "print (\" newborn \", 65./(65+7798)*100)\n",
    "print (\" urgent \", 685./(685+651)*100)"
   ]
  },
  {
   "cell_type": "markdown",
   "metadata": {
    "deletable": true,
    "editable": true
   },
   "source": [
    "Time related: \"u'edregtime', u'edouttime'\" what is this shit?\n",
    "\n",
    "Time that the patient was registered and discharged from the emergency department.\n",
    "\n",
    "##### pick the right admission time\n",
    "1. One way of doing it: Count from **when they were admitted to the emergency department ** ('edregtime', u'edouttime')\n",
    "1. OR  **when they were admitted to the hospital **  u'admittime',\n",
    "    - choose 2. right now, and come back to later if relevant"
   ]
  },
  {
   "cell_type": "code",
   "execution_count": null,
   "metadata": {
    "collapsed": false,
    "deletable": true,
    "editable": true
   },
   "outputs": [],
   "source": [
    "data.columns\n"
   ]
  },
  {
   "cell_type": "code",
   "execution_count": null,
   "metadata": {
    "collapsed": false,
    "deletable": true,
    "editable": true
   },
   "outputs": [],
   "source": [
    "df_smaller=data.loc[:, [ 'hadm_id','dob','admittime' ]]\n",
    "                    #['subject_id', u'gender', u'dob', u'dod', u'expire_flag']]"
   ]
  },
  {
   "cell_type": "code",
   "execution_count": null,
   "metadata": {
    "collapsed": false,
    "deletable": true,
    "editable": true
   },
   "outputs": [],
   "source": [
    "df_smaller[:3]"
   ]
  },
  {
   "cell_type": "code",
   "execution_count": null,
   "metadata": {
    "collapsed": false,
    "deletable": true,
    "editable": true
   },
   "outputs": [],
   "source": [
    "isinstance(df_smaller.dob,pd.DatetimeIndex)"
   ]
  },
  {
   "cell_type": "code",
   "execution_count": null,
   "metadata": {
    "collapsed": false,
    "deletable": true,
    "editable": true
   },
   "outputs": [],
   "source": [
    "isinstance(df_smaller.dob,pd.Timestamp)"
   ]
  },
  {
   "cell_type": "markdown",
   "metadata": {
    "deletable": true,
    "editable": true
   },
   "source": [
    "#it's not a timestamp, convert it to Timestamp"
   ]
  },
  {
   "cell_type": "code",
   "execution_count": null,
   "metadata": {
    "collapsed": false,
    "deletable": true,
    "editable": true
   },
   "outputs": [],
   "source": [
    "# Age, the -285 is over 90\n",
    "# ('<m8[Y]') is a dtype, that rounds up the years\n",
    "\n",
    "data['age'] = (pd.to_datetime(df_smaller.admittime) - pd.to_datetime(df_smaller.dob )\n",
    "              ).astype('<m8[Y]')"
   ]
  },
  {
   "cell_type": "code",
   "execution_count": null,
   "metadata": {
    "collapsed": false,
    "deletable": true,
    "editable": true
   },
   "outputs": [],
   "source": [
    "data['age'][:3]"
   ]
  },
  {
   "cell_type": "code",
   "execution_count": null,
   "metadata": {
    "collapsed": false,
    "deletable": true,
    "editable": true
   },
   "outputs": [],
   "source": [
    "data.age.describe()"
   ]
  },
  {
   "cell_type": "markdown",
   "metadata": {
    "deletable": true,
    "editable": true
   },
   "source": [
    "DOB is the date of birth of the given patient. Patients who are older than 89 years old at any time in the database have had their date of birth shifted to obscure their age and comply with HIPAA. \n",
    "** change all ages <0 to  90 **"
   ]
  },
  {
   "cell_type": "code",
   "execution_count": null,
   "metadata": {
    "collapsed": false,
    "deletable": true,
    "editable": true
   },
   "outputs": [],
   "source": [
    "# number o\n",
    "data.age.where(data['age']< 0).count()"
   ]
  },
  {
   "cell_type": "code",
   "execution_count": null,
   "metadata": {
    "collapsed": false,
    "deletable": true,
    "editable": true
   },
   "outputs": [],
   "source": [
    "#### SET ALL GREATER THAN 90 AGES TO 90\n",
    "data.loc[ (data.age < 0),'age']  = 90.0"
   ]
  },
  {
   "cell_type": "code",
   "execution_count": null,
   "metadata": {
    "collapsed": false,
    "deletable": true,
    "editable": true
   },
   "outputs": [],
   "source": [
    "data.age[:3]"
   ]
  },
  {
   "cell_type": "code",
   "execution_count": null,
   "metadata": {
    "collapsed": false,
    "deletable": true,
    "editable": true
   },
   "outputs": [],
   "source": [
    "#data['age'].where(data['age'] > 80 and data['age']< 90)\n",
    "\n",
    "## use .query method, it's nice\n",
    "print (\" number of people who have a DOD, of age b/w 80, and 90 \"\n",
    "       , data.query(' 80 < age <90 ' )['dod'].count())\n",
    "print (\" number of people who have a DOD, of age b/w 80, and 90 \", \n",
    "    data.query(' 80 < age <90 ' )['subject_id'].count() )"
   ]
  },
  {
   "cell_type": "code",
   "execution_count": null,
   "metadata": {
    "collapsed": true,
    "deletable": true,
    "editable": true
   },
   "outputs": [],
   "source": [
    "pd.to_datetime()"
   ]
  },
  {
   "cell_type": "markdown",
   "metadata": {
    "deletable": true,
    "editable": true
   },
   "source": [
    "## Other ideas \n",
    "+ convert all times to datetime\n",
    "+ can certain time of day classify death? \n"
   ]
  },
  {
   "cell_type": "code",
   "execution_count": null,
   "metadata": {
    "collapsed": false,
    "deletable": true,
    "editable": true
   },
   "outputs": [],
   "source": [
    "data.admission_location.unique()"
   ]
  },
  {
   "cell_type": "code",
   "execution_count": null,
   "metadata": {
    "collapsed": false,
    "deletable": true,
    "editable": true
   },
   "outputs": [],
   "source": [
    "data.columns"
   ]
  },
  {
   "cell_type": "code",
   "execution_count": null,
   "metadata": {
    "collapsed": true,
    "deletable": true,
    "editable": true
   },
   "outputs": [],
   "source": [
    "df_fit = data.loc[:, ['subject_id','gender','age','admission_type', 'expire_flag']]"
   ]
  },
  {
   "cell_type": "code",
   "execution_count": null,
   "metadata": {
    "collapsed": false,
    "deletable": true,
    "editable": true
   },
   "outputs": [],
   "source": [
    "# ############ Admission_type into categorical \n",
    "cols = ['NEWBORN', 'URGENT', 'EMERGENCY', 'ELECTIVE']\n",
    "nums = [0, 1, 2, 3 ]\n",
    "print(df_fit.admission_type.unique())\n",
    "\n",
    "df_fit.admission_type.replace(cols, nums, inplace=True)"
   ]
  },
  {
   "cell_type": "code",
   "execution_count": null,
   "metadata": {
    "collapsed": false,
    "deletable": true,
    "editable": true
   },
   "outputs": [],
   "source": [
    "########### Gender ##########\n",
    "gen = [\"M\", \"F\"]\n",
    "n_g = [0,1]\n",
    "df_fit.gender.replace(gen, n_g, inplace=True)"
   ]
  },
  {
   "cell_type": "code",
   "execution_count": null,
   "metadata": {
    "collapsed": false,
    "deletable": true,
    "editable": true
   },
   "outputs": [],
   "source": [
    "df_fit[:4]\n"
   ]
  },
  {
   "cell_type": "markdown",
   "metadata": {
    "deletable": true,
    "editable": true
   },
   "source": [
    "# First Logistic Model: Gender, Age, Admission type"
   ]
  },
  {
   "cell_type": "code",
   "execution_count": null,
   "metadata": {
    "collapsed": true,
    "deletable": true,
    "editable": true
   },
   "outputs": [],
   "source": [
    "X = df_fit.loc[:,['gender', 'age', 'admission_type']]\n",
    "\n",
    "y = df_fit.loc[:, 'expire_flag']"
   ]
  },
  {
   "cell_type": "code",
   "execution_count": null,
   "metadata": {
    "collapsed": true,
    "deletable": true,
    "editable": true
   },
   "outputs": [],
   "source": [
    "X_train, X_test, y_train, y_test = train_test_split(X,y,test_size=0.3, random_state=4444 )"
   ]
  },
  {
   "cell_type": "code",
   "execution_count": null,
   "metadata": {
    "collapsed": false,
    "deletable": true,
    "editable": true
   },
   "outputs": [],
   "source": [
    "lr_model = LogisticRegression()\n",
    "lr_model.fit(X_train, y_train)"
   ]
  },
  {
   "cell_type": "code",
   "execution_count": null,
   "metadata": {
    "collapsed": false,
    "deletable": true,
    "editable": true
   },
   "outputs": [],
   "source": [
    "\n",
    "##y_pred_1 = lr_model.predict_proba(X_test)"
   ]
  },
  {
   "cell_type": "code",
   "execution_count": null,
   "metadata": {
    "collapsed": false,
    "deletable": true,
    "editable": true
   },
   "outputs": [],
   "source": [
    " \n",
    "\n",
    "for col in X_train.columns:\n",
    "    print (col)\n",
    "    X_tr = X_train.loc[:, col].values.reshape(-1,1)\n",
    "    X_te = X_test.loc[:,col].values.reshape(-1,1)\n",
    "    lr_model = LogisticRegression()\n",
    "    lr_model.fit(X_tr, y_train)\n",
    "    y_prob_pred = lr_model.predict_proba(X_te)[:,1]\n",
    "    print( \"log-loss\",log_loss(y_test, y_prob_pred)) "
   ]
  },
  {
   "cell_type": "code",
   "execution_count": null,
   "metadata": {
    "collapsed": false,
    "deletable": true,
    "editable": true
   },
   "outputs": [],
   "source": [
    "## this is for .predict() method\n",
    "# print (\" accuracy\" , accuracy_score(y_test, y_pred_1, normalize=True))\n",
    "# print (\"precision\",precision_score(y_test, y_pred_1))\n",
    "# print (\"recall\",recall_score(y_test, y_pred_1))"
   ]
  },
  {
   "cell_type": "markdown",
   "metadata": {
    "deletable": true,
    "editable": true
   },
   "source": [
    "## Look at Admission Type"
   ]
  },
  {
   "cell_type": "code",
   "execution_count": null,
   "metadata": {
    "collapsed": true,
    "deletable": true,
    "editable": true
   },
   "outputs": [],
   "source": [
    "X_train, X_test, y_train, y_test = train_test_split(X.loc[:,'admission_type'],y,test_size=0.3, random_state=4444 )"
   ]
  },
  {
   "cell_type": "code",
   "execution_count": null,
   "metadata": {
    "collapsed": true,
    "deletable": true,
    "editable": true
   },
   "outputs": [],
   "source": [
    "lr_model_a = LogisticRegression()\n",
    "lr_model_a.fit(X_train, y_train)\n",
    "y_pred_a = lr_model_a.predict(X_test)"
   ]
  },
  {
   "cell_type": "code",
   "execution_count": null,
   "metadata": {
    "collapsed": false,
    "deletable": true,
    "editable": true
   },
   "outputs": [],
   "source": [
    "X.loc[:,'admission_type']"
   ]
  },
  {
   "cell_type": "code",
   "execution_count": null,
   "metadata": {
    "collapsed": false,
    "deletable": true,
    "editable": true
   },
   "outputs": [],
   "source": [
    "print (\" accuracy\" , accuracy_score(y_test, y_pred_a, normalize=True))\n",
    "print (\"precision\",precision_score(y_test, y_pred_a))\n",
    "print (\"recall\",recall_score(y_test, y_pred_a))"
   ]
  },
  {
   "cell_type": "code",
   "execution_count": null,
   "metadata": {
    "collapsed": true,
    "deletable": true,
    "editable": true
   },
   "outputs": [],
   "source": []
  },
  {
   "cell_type": "code",
   "execution_count": null,
   "metadata": {
    "collapsed": true,
    "deletable": true,
    "editable": true
   },
   "outputs": [],
   "source": []
  },
  {
   "cell_type": "code",
   "execution_count": null,
   "metadata": {
    "collapsed": true,
    "deletable": true,
    "editable": true
   },
   "outputs": [],
   "source": []
  },
  {
   "cell_type": "code",
   "execution_count": null,
   "metadata": {
    "collapsed": false,
    "deletable": true,
    "editable": true
   },
   "outputs": [],
   "source": [
    "X_train, X_test, y_train, y_test = train_test_split(X.loc[:,['gender']],y,test_size=0.3, random_state=4444 )"
   ]
  },
  {
   "cell_type": "code",
   "execution_count": null,
   "metadata": {
    "collapsed": false,
    "deletable": true,
    "editable": true
   },
   "outputs": [],
   "source": [
    "X_train.shape"
   ]
  },
  {
   "cell_type": "code",
   "execution_count": null,
   "metadata": {
    "collapsed": false,
    "deletable": true,
    "editable": true
   },
   "outputs": [],
   "source": [
    "y_train.shape"
   ]
  },
  {
   "cell_type": "code",
   "execution_count": null,
   "metadata": {
    "collapsed": false,
    "deletable": true,
    "editable": true
   },
   "outputs": [],
   "source": [
    "lr_modelGender = LogisticRegression()\n",
    "lr_modelGender.fit(X_train, y_train)\n",
    "y_pred_Gender = lr_modelGender.predict(X_test)"
   ]
  },
  {
   "cell_type": "code",
   "execution_count": null,
   "metadata": {
    "collapsed": false,
    "deletable": true,
    "editable": true
   },
   "outputs": [],
   "source": [
    "print (\" accuracy\" , accuracy_score(y_test,y_pred_Gender , normalize=True))\n",
    "print (\"precision\",precision_score(y_test, y_pred_Gender))\n",
    "print (\"recall\",recall_score(y_test, y_pred_Gender))"
   ]
  },
  {
   "cell_type": "markdown",
   "metadata": {
    "deletable": true,
    "editable": true
   },
   "source": [
    "Gender itself is a terrible predictor "
   ]
  },
  {
   "cell_type": "code",
   "execution_count": null,
   "metadata": {
    "collapsed": true,
    "deletable": true,
    "editable": true
   },
   "outputs": [],
   "source": []
  },
  {
   "cell_type": "markdown",
   "metadata": {
    "deletable": true,
    "editable": true
   },
   "source": [
    "### IF you wanna deal with ethnicity"
   ]
  },
  {
   "cell_type": "code",
   "execution_count": null,
   "metadata": {
    "collapsed": false,
    "deletable": true,
    "editable": true
   },
   "outputs": [],
   "source": [
    "eth = list(data.ethnicity.unique())"
   ]
  },
  {
   "cell_type": "code",
   "execution_count": null,
   "metadata": {
    "collapsed": false,
    "deletable": true,
    "editable": true
   },
   "outputs": [],
   "source": [
    "eth.sort()"
   ]
  },
  {
   "cell_type": "code",
   "execution_count": null,
   "metadata": {
    "collapsed": false,
    "deletable": true,
    "editable": true
   },
   "outputs": [],
   "source": [
    "print (len(eth))\n",
    "eth\n"
   ]
  },
  {
   "cell_type": "code",
   "execution_count": null,
   "metadata": {
    "collapsed": false,
    "deletable": true,
    "editable": true
   },
   "outputs": [],
   "source": [
    "print (data[data.ethnicity=='UNKNOWN/NOT SPECIFIED']['subject_id'].count())\n",
    "print (data[data.ethnicity=='OTHER']['subject_id'].count())\n",
    "print (data[data.ethnicity=='PATIENT DECLINED TO ANSWER']['subject_id'].count())\n"
   ]
  },
  {
   "cell_type": "code",
   "execution_count": null,
   "metadata": {
    "collapsed": true,
    "deletable": true,
    "editable": true
   },
   "outputs": [],
   "source": [
    "''' Ethnicty Dictionary\n",
    "    White (any) +Portugese = 0\n",
    "    Black (any) = 1\n",
    "    Hispanic/South American (any) + Carribbean = 2\n",
    "    Asian (any) + hawaiian (pac islander) = 3\n",
    "    Native American  = 4\n",
    "    Multi Race = 5 \n",
    "    \n",
    "'''"
   ]
  },
  {
   "cell_type": "code",
   "execution_count": null,
   "metadata": {
    "collapsed": false,
    "deletable": true,
    "editable": true
   },
   "outputs": [],
   "source": [
    "data.columns"
   ]
  },
  {
   "cell_type": "code",
   "execution_count": null,
   "metadata": {
    "collapsed": true,
    "deletable": true,
    "editable": true
   },
   "outputs": [],
   "source": []
  },
  {
   "cell_type": "code",
   "execution_count": null,
   "metadata": {
    "collapsed": false,
    "deletable": true,
    "editable": true
   },
   "outputs": [],
   "source": [
    "df_fit = data.loc[:, ['subject_id','gender','age', 'ethnicity', 'expire_flag']]"
   ]
  },
  {
   "cell_type": "code",
   "execution_count": null,
   "metadata": {
    "collapsed": false,
    "deletable": true,
    "editable": true
   },
   "outputs": [],
   "source": [
    "print(df_fit[df_fit.ethnicity.str.contains('WHITE')]['ethnicity'].unique())\n",
    "len(df_fit[df_fit.ethnicity.str.contains('WHITE')]['ethnicity'].unique())"
   ]
  },
  {
   "cell_type": "code",
   "execution_count": null,
   "metadata": {
    "collapsed": false,
    "deletable": true,
    "editable": true
   },
   "outputs": [],
   "source": [
    "(df_fit[df_fit.ethnicity.str.contains('ASIAN')]['ethnicity'].unique())\n",
    "len(df_fit[df_fit.ethnicity.str.contains('ASIAN')]['ethnicity'].unique())"
   ]
  },
  {
   "cell_type": "code",
   "execution_count": null,
   "metadata": {
    "collapsed": false,
    "deletable": true,
    "editable": true
   },
   "outputs": [],
   "source": [
    "(df_fit[df_fit.ethnicity.str.contains('HISPANIC')]['ethnicity'].unique())\n",
    "print (len((df_fit[df_fit.ethnicity.str.contains('HISPANIC')]['ethnicity'].unique())\n",
    ")) # Hispanic\n",
    "print (len((df_fit[df_fit.ethnicity.str.contains('BLACK')]['ethnicity'].unique())\n",
    ")) # Black"
   ]
  },
  {
   "cell_type": "code",
   "execution_count": null,
   "metadata": {
    "collapsed": false,
    "deletable": true,
    "editable": true
   },
   "outputs": [],
   "source": [
    "print ((df_fit[df_fit.ethnicity.str.contains('INDIAN')]['ethnicity'].unique() ))"
   ]
  },
  {
   "cell_type": "code",
   "execution_count": null,
   "metadata": {
    "collapsed": false,
    "deletable": true,
    "editable": true
   },
   "outputs": [],
   "source": [
    "print ((df_fit[df_fit.ethnicity.str.contains('AMERICAN INDIAN')]['ethnicity'].unique() ))"
   ]
  },
  {
   "cell_type": "code",
   "execution_count": null,
   "metadata": {
    "collapsed": true,
    "deletable": true,
    "editable": true
   },
   "outputs": [],
   "source": [
    "def convert_eth():\n",
    "    "
   ]
  },
  {
   "cell_type": "code",
   "execution_count": null,
   "metadata": {
    "collapsed": true,
    "deletable": true,
    "editable": true
   },
   "outputs": [],
   "source": []
  },
  {
   "cell_type": "code",
   "execution_count": null,
   "metadata": {
    "collapsed": true,
    "deletable": true,
    "editable": true
   },
   "outputs": [],
   "source": []
  },
  {
   "cell_type": "code",
   "execution_count": null,
   "metadata": {
    "collapsed": true,
    "deletable": true,
    "editable": true
   },
   "outputs": [],
   "source": []
  },
  {
   "cell_type": "code",
   "execution_count": null,
   "metadata": {
    "collapsed": true,
    "deletable": true,
    "editable": true
   },
   "outputs": [],
   "source": []
  },
  {
   "cell_type": "code",
   "execution_count": null,
   "metadata": {
    "collapsed": true,
    "deletable": true,
    "editable": true
   },
   "outputs": [],
   "source": []
  }
 ],
 "metadata": {
  "kernelspec": {
   "display_name": "Python 2",
   "language": "python",
   "name": "python2"
  },
  "language_info": {
   "codemirror_mode": {
    "name": "ipython",
    "version": 2
   },
   "file_extension": ".py",
   "mimetype": "text/x-python",
   "name": "python",
   "nbconvert_exporter": "python",
   "pygments_lexer": "ipython2",
   "version": "2.7.13"
  }
 },
 "nbformat": 4,
 "nbformat_minor": 2
}
